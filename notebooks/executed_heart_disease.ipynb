{
 "cells": [
  {
   "cell_type": "markdown",
   "metadata": {},
   "source": [
    "# 1. Preparing the tools"
   ]
  },
  {
   "cell_type": "code",
   "execution_count": 3,
   "metadata": {
    "execution": {
     "iopub.execute_input": "2025-01-07T15:21:05.351128Z",
     "iopub.status.busy": "2025-01-07T15:21:05.350817Z",
     "iopub.status.idle": "2025-01-07T15:21:06.038168Z",
     "shell.execute_reply": "2025-01-07T15:21:06.037838Z"
    }
   },
   "outputs": [
    {
     "name": "stdout",
     "output_type": "stream",
     "text": [
      "Notebook last updated: 2025-01-07 21:52:56.039080\n",
      "\n",
      "NumPy version: 2.2.1\n",
      "pandas version: 2.2.3\n",
      "matplotlib version: 3.10.0\n",
      "Scikit-Learn version: 1.6.0\n"
     ]
    }
   ],
   "source": [
    "import sys\n",
    "import os\n",
    "\n",
    "# Regular EDA and plotting libraries\n",
    "import numpy as np\n",
    "import pandas as pd\n",
    "import matplotlib\n",
    "import matplotlib.pyplot as plt\n",
    "import seaborn as sns\n",
    "from matplotlib.ticker import FuncFormatter\n",
    "\n",
    "## Models\n",
    "import sklearn \n",
    "from sklearn.linear_model import LogisticRegression\n",
    "from sklearn.neighbors import KNeighborsClassifier\n",
    "from sklearn.ensemble import RandomForestClassifier\n",
    "from sklearn.tree import DecisionTreeClassifier\n",
    "from sklearn.neural_network import MLPClassifier # For ANN\n",
    "from sklearn.svm import SVC  # For SVM (Support Vector Machine)\n",
    "from sklearn.naive_bayes import GaussianNB  # For Naive Bayes\n",
    "from sklearn.naive_bayes import BernoulliNB  # For binary classification\n",
    "\n",
    "\n",
    "## Model evaluators\n",
    "from sklearn.model_selection import train_test_split, cross_val_score\n",
    "from sklearn.model_selection import RandomizedSearchCV, GridSearchCV\n",
    "from sklearn.metrics import confusion_matrix, classification_report, ConfusionMatrixDisplay\n",
    "from sklearn.metrics import make_scorer, precision_score, recall_score, accuracy_score, f1_score\n",
    "from sklearn.model_selection import cross_validate\n",
    "from sklearn.ensemble import VotingClassifier\n",
    "from sklearn.metrics import RocCurveDisplay, roc_auc_score\n",
    "\n",
    "import datetime\n",
    "print(f\"Notebook last updated: {datetime.datetime.now()}\\n\")\n",
    "print(f\"NumPy version: {np.__version__}\")\n",
    "print(f\"pandas version: {pd.__version__}\")\n",
    "print(f\"matplotlib version: {matplotlib.__version__}\")\n",
    "print(f\"Scikit-Learn version: {sklearn.__version__}\")"
   ]
  },
  {
   "cell_type": "markdown",
   "metadata": {},
   "source": [
    "# 2. Loading Data"
   ]
  },
  {
   "cell_type": "code",
   "execution_count": 4,
   "metadata": {
    "execution": {
     "iopub.execute_input": "2025-01-07T15:21:06.055809Z",
     "iopub.status.busy": "2025-01-07T15:21:06.055655Z",
     "iopub.status.idle": "2025-01-07T15:21:06.063645Z",
     "shell.execute_reply": "2025-01-07T15:21:06.063430Z"
    }
   },
   "outputs": [
    {
     "data": {
      "text/plain": [
       "(297, 14)"
      ]
     },
     "execution_count": 4,
     "metadata": {},
     "output_type": "execute_result"
    }
   ],
   "source": [
    "# Get project root directory\n",
    "project_dir = os.path.abspath(\"..\")\n",
    "sys.path.append(project_dir)\n",
    "\n",
    "from src import config\n",
    "\n",
    "# Use absolute path instead of relative\n",
    "df = pd.read_csv(os.path.join(project_dir, config.HEART_DATA_PATH))\n",
    "\n",
    "df.shape"
   ]
  },
  {
   "cell_type": "code",
   "execution_count": 3,
   "metadata": {
    "execution": {
     "iopub.execute_input": "2025-01-07T15:21:06.064677Z",
     "iopub.status.busy": "2025-01-07T15:21:06.064585Z",
     "iopub.status.idle": "2025-01-07T15:21:06.069505Z",
     "shell.execute_reply": "2025-01-07T15:21:06.069320Z"
    }
   },
   "outputs": [
    {
     "data": {
      "text/html": [
       "<div>\n",
       "<style scoped>\n",
       "    .dataframe tbody tr th:only-of-type {\n",
       "        vertical-align: middle;\n",
       "    }\n",
       "\n",
       "    .dataframe tbody tr th {\n",
       "        vertical-align: top;\n",
       "    }\n",
       "\n",
       "    .dataframe thead th {\n",
       "        text-align: right;\n",
       "    }\n",
       "</style>\n",
       "<table border=\"1\" class=\"dataframe\">\n",
       "  <thead>\n",
       "    <tr style=\"text-align: right;\">\n",
       "      <th></th>\n",
       "      <th>age</th>\n",
       "      <th>sex</th>\n",
       "      <th>cp</th>\n",
       "      <th>trestbps</th>\n",
       "      <th>chol</th>\n",
       "      <th>fbs</th>\n",
       "      <th>restecg</th>\n",
       "      <th>thalach</th>\n",
       "      <th>exang</th>\n",
       "      <th>oldpeak</th>\n",
       "      <th>slope</th>\n",
       "      <th>ca</th>\n",
       "      <th>thal</th>\n",
       "      <th>target</th>\n",
       "    </tr>\n",
       "  </thead>\n",
       "  <tbody>\n",
       "    <tr>\n",
       "      <th>0</th>\n",
       "      <td>69</td>\n",
       "      <td>1</td>\n",
       "      <td>0</td>\n",
       "      <td>160</td>\n",
       "      <td>234</td>\n",
       "      <td>1</td>\n",
       "      <td>2</td>\n",
       "      <td>131</td>\n",
       "      <td>0</td>\n",
       "      <td>0.1</td>\n",
       "      <td>1</td>\n",
       "      <td>1</td>\n",
       "      <td>0</td>\n",
       "      <td>0</td>\n",
       "    </tr>\n",
       "    <tr>\n",
       "      <th>1</th>\n",
       "      <td>69</td>\n",
       "      <td>0</td>\n",
       "      <td>0</td>\n",
       "      <td>140</td>\n",
       "      <td>239</td>\n",
       "      <td>0</td>\n",
       "      <td>0</td>\n",
       "      <td>151</td>\n",
       "      <td>0</td>\n",
       "      <td>1.8</td>\n",
       "      <td>0</td>\n",
       "      <td>2</td>\n",
       "      <td>0</td>\n",
       "      <td>0</td>\n",
       "    </tr>\n",
       "    <tr>\n",
       "      <th>2</th>\n",
       "      <td>66</td>\n",
       "      <td>0</td>\n",
       "      <td>0</td>\n",
       "      <td>150</td>\n",
       "      <td>226</td>\n",
       "      <td>0</td>\n",
       "      <td>0</td>\n",
       "      <td>114</td>\n",
       "      <td>0</td>\n",
       "      <td>2.6</td>\n",
       "      <td>2</td>\n",
       "      <td>0</td>\n",
       "      <td>0</td>\n",
       "      <td>0</td>\n",
       "    </tr>\n",
       "    <tr>\n",
       "      <th>3</th>\n",
       "      <td>65</td>\n",
       "      <td>1</td>\n",
       "      <td>0</td>\n",
       "      <td>138</td>\n",
       "      <td>282</td>\n",
       "      <td>1</td>\n",
       "      <td>2</td>\n",
       "      <td>174</td>\n",
       "      <td>0</td>\n",
       "      <td>1.4</td>\n",
       "      <td>1</td>\n",
       "      <td>1</td>\n",
       "      <td>0</td>\n",
       "      <td>1</td>\n",
       "    </tr>\n",
       "    <tr>\n",
       "      <th>4</th>\n",
       "      <td>64</td>\n",
       "      <td>1</td>\n",
       "      <td>0</td>\n",
       "      <td>110</td>\n",
       "      <td>211</td>\n",
       "      <td>0</td>\n",
       "      <td>2</td>\n",
       "      <td>144</td>\n",
       "      <td>1</td>\n",
       "      <td>1.8</td>\n",
       "      <td>1</td>\n",
       "      <td>0</td>\n",
       "      <td>0</td>\n",
       "      <td>0</td>\n",
       "    </tr>\n",
       "  </tbody>\n",
       "</table>\n",
       "</div>"
      ],
      "text/plain": [
       "   age  sex  cp  trestbps  chol  fbs  restecg  thalach  exang  oldpeak  slope  \\\n",
       "0   69    1   0       160   234    1        2      131      0      0.1      1   \n",
       "1   69    0   0       140   239    0        0      151      0      1.8      0   \n",
       "2   66    0   0       150   226    0        0      114      0      2.6      2   \n",
       "3   65    1   0       138   282    1        2      174      0      1.4      1   \n",
       "4   64    1   0       110   211    0        2      144      1      1.8      1   \n",
       "\n",
       "   ca  thal  target  \n",
       "0   1     0       0  \n",
       "1   2     0       0  \n",
       "2   0     0       0  \n",
       "3   1     0       1  \n",
       "4   0     0       0  "
      ]
     },
     "execution_count": 3,
     "metadata": {},
     "output_type": "execute_result"
    }
   ],
   "source": [
    "df.head()"
   ]
  },
  {
   "cell_type": "code",
   "execution_count": 4,
   "metadata": {
    "execution": {
     "iopub.execute_input": "2025-01-07T15:21:06.070498Z",
     "iopub.status.busy": "2025-01-07T15:21:06.070395Z",
     "iopub.status.idle": "2025-01-07T15:21:06.072773Z",
     "shell.execute_reply": "2025-01-07T15:21:06.072561Z"
    }
   },
   "outputs": [
    {
     "data": {
      "text/plain": [
       "age         0\n",
       "sex         0\n",
       "cp          0\n",
       "trestbps    0\n",
       "chol        0\n",
       "fbs         0\n",
       "restecg     0\n",
       "thalach     0\n",
       "exang       0\n",
       "oldpeak     0\n",
       "slope       0\n",
       "ca          0\n",
       "thal        0\n",
       "target      0\n",
       "dtype: int64"
      ]
     },
     "execution_count": 4,
     "metadata": {},
     "output_type": "execute_result"
    }
   ],
   "source": [
    "# Count the number of missing values in each column\n",
    "df.isnull().sum()"
   ]
  },
  {
   "cell_type": "code",
   "execution_count": 5,
   "metadata": {
    "execution": {
     "iopub.execute_input": "2025-01-07T15:21:06.073686Z",
     "iopub.status.busy": "2025-01-07T15:21:06.073600Z",
     "iopub.status.idle": "2025-01-07T15:21:06.076825Z",
     "shell.execute_reply": "2025-01-07T15:21:06.076623Z"
    }
   },
   "outputs": [
    {
     "name": "stdout",
     "output_type": "stream",
     "text": [
      "<class 'pandas.core.frame.DataFrame'>\n",
      "RangeIndex: 297 entries, 0 to 296\n",
      "Data columns (total 14 columns):\n",
      " #   Column    Non-Null Count  Dtype  \n",
      "---  ------    --------------  -----  \n",
      " 0   age       297 non-null    int64  \n",
      " 1   sex       297 non-null    int64  \n",
      " 2   cp        297 non-null    int64  \n",
      " 3   trestbps  297 non-null    int64  \n",
      " 4   chol      297 non-null    int64  \n",
      " 5   fbs       297 non-null    int64  \n",
      " 6   restecg   297 non-null    int64  \n",
      " 7   thalach   297 non-null    int64  \n",
      " 8   exang     297 non-null    int64  \n",
      " 9   oldpeak   297 non-null    float64\n",
      " 10  slope     297 non-null    int64  \n",
      " 11  ca        297 non-null    int64  \n",
      " 12  thal      297 non-null    int64  \n",
      " 13  target    297 non-null    int64  \n",
      "dtypes: float64(1), int64(13)\n",
      "memory usage: 32.6 KB\n"
     ]
    }
   ],
   "source": [
    "df.info()"
   ]
  },
  {
   "cell_type": "code",
   "execution_count": 6,
   "metadata": {
    "execution": {
     "iopub.execute_input": "2025-01-07T15:21:06.077793Z",
     "iopub.status.busy": "2025-01-07T15:21:06.077714Z",
     "iopub.status.idle": "2025-01-07T15:21:06.089222Z",
     "shell.execute_reply": "2025-01-07T15:21:06.089014Z"
    }
   },
   "outputs": [
    {
     "data": {
      "text/html": [
       "<div>\n",
       "<style scoped>\n",
       "    .dataframe tbody tr th:only-of-type {\n",
       "        vertical-align: middle;\n",
       "    }\n",
       "\n",
       "    .dataframe tbody tr th {\n",
       "        vertical-align: top;\n",
       "    }\n",
       "\n",
       "    .dataframe thead th {\n",
       "        text-align: right;\n",
       "    }\n",
       "</style>\n",
       "<table border=\"1\" class=\"dataframe\">\n",
       "  <thead>\n",
       "    <tr style=\"text-align: right;\">\n",
       "      <th></th>\n",
       "      <th>age</th>\n",
       "      <th>sex</th>\n",
       "      <th>cp</th>\n",
       "      <th>trestbps</th>\n",
       "      <th>chol</th>\n",
       "      <th>fbs</th>\n",
       "      <th>restecg</th>\n",
       "      <th>thalach</th>\n",
       "      <th>exang</th>\n",
       "      <th>oldpeak</th>\n",
       "      <th>slope</th>\n",
       "      <th>ca</th>\n",
       "      <th>thal</th>\n",
       "      <th>target</th>\n",
       "    </tr>\n",
       "  </thead>\n",
       "  <tbody>\n",
       "    <tr>\n",
       "      <th>count</th>\n",
       "      <td>297.000000</td>\n",
       "      <td>297.000000</td>\n",
       "      <td>297.000000</td>\n",
       "      <td>297.000000</td>\n",
       "      <td>297.000000</td>\n",
       "      <td>297.000000</td>\n",
       "      <td>297.000000</td>\n",
       "      <td>297.000000</td>\n",
       "      <td>297.000000</td>\n",
       "      <td>297.000000</td>\n",
       "      <td>297.000000</td>\n",
       "      <td>297.000000</td>\n",
       "      <td>297.000000</td>\n",
       "      <td>297.000000</td>\n",
       "    </tr>\n",
       "    <tr>\n",
       "      <th>mean</th>\n",
       "      <td>54.542088</td>\n",
       "      <td>0.676768</td>\n",
       "      <td>2.158249</td>\n",
       "      <td>131.693603</td>\n",
       "      <td>247.350168</td>\n",
       "      <td>0.144781</td>\n",
       "      <td>0.996633</td>\n",
       "      <td>149.599327</td>\n",
       "      <td>0.326599</td>\n",
       "      <td>1.055556</td>\n",
       "      <td>0.602694</td>\n",
       "      <td>0.676768</td>\n",
       "      <td>0.835017</td>\n",
       "      <td>0.461279</td>\n",
       "    </tr>\n",
       "    <tr>\n",
       "      <th>std</th>\n",
       "      <td>9.049736</td>\n",
       "      <td>0.468500</td>\n",
       "      <td>0.964859</td>\n",
       "      <td>17.762806</td>\n",
       "      <td>51.997583</td>\n",
       "      <td>0.352474</td>\n",
       "      <td>0.994914</td>\n",
       "      <td>22.941562</td>\n",
       "      <td>0.469761</td>\n",
       "      <td>1.166123</td>\n",
       "      <td>0.618187</td>\n",
       "      <td>0.938965</td>\n",
       "      <td>0.956690</td>\n",
       "      <td>0.499340</td>\n",
       "    </tr>\n",
       "    <tr>\n",
       "      <th>min</th>\n",
       "      <td>29.000000</td>\n",
       "      <td>0.000000</td>\n",
       "      <td>0.000000</td>\n",
       "      <td>94.000000</td>\n",
       "      <td>126.000000</td>\n",
       "      <td>0.000000</td>\n",
       "      <td>0.000000</td>\n",
       "      <td>71.000000</td>\n",
       "      <td>0.000000</td>\n",
       "      <td>0.000000</td>\n",
       "      <td>0.000000</td>\n",
       "      <td>0.000000</td>\n",
       "      <td>0.000000</td>\n",
       "      <td>0.000000</td>\n",
       "    </tr>\n",
       "    <tr>\n",
       "      <th>25%</th>\n",
       "      <td>48.000000</td>\n",
       "      <td>0.000000</td>\n",
       "      <td>2.000000</td>\n",
       "      <td>120.000000</td>\n",
       "      <td>211.000000</td>\n",
       "      <td>0.000000</td>\n",
       "      <td>0.000000</td>\n",
       "      <td>133.000000</td>\n",
       "      <td>0.000000</td>\n",
       "      <td>0.000000</td>\n",
       "      <td>0.000000</td>\n",
       "      <td>0.000000</td>\n",
       "      <td>0.000000</td>\n",
       "      <td>0.000000</td>\n",
       "    </tr>\n",
       "    <tr>\n",
       "      <th>50%</th>\n",
       "      <td>56.000000</td>\n",
       "      <td>1.000000</td>\n",
       "      <td>2.000000</td>\n",
       "      <td>130.000000</td>\n",
       "      <td>243.000000</td>\n",
       "      <td>0.000000</td>\n",
       "      <td>1.000000</td>\n",
       "      <td>153.000000</td>\n",
       "      <td>0.000000</td>\n",
       "      <td>0.800000</td>\n",
       "      <td>1.000000</td>\n",
       "      <td>0.000000</td>\n",
       "      <td>0.000000</td>\n",
       "      <td>0.000000</td>\n",
       "    </tr>\n",
       "    <tr>\n",
       "      <th>75%</th>\n",
       "      <td>61.000000</td>\n",
       "      <td>1.000000</td>\n",
       "      <td>3.000000</td>\n",
       "      <td>140.000000</td>\n",
       "      <td>276.000000</td>\n",
       "      <td>0.000000</td>\n",
       "      <td>2.000000</td>\n",
       "      <td>166.000000</td>\n",
       "      <td>1.000000</td>\n",
       "      <td>1.600000</td>\n",
       "      <td>1.000000</td>\n",
       "      <td>1.000000</td>\n",
       "      <td>2.000000</td>\n",
       "      <td>1.000000</td>\n",
       "    </tr>\n",
       "    <tr>\n",
       "      <th>max</th>\n",
       "      <td>77.000000</td>\n",
       "      <td>1.000000</td>\n",
       "      <td>3.000000</td>\n",
       "      <td>200.000000</td>\n",
       "      <td>564.000000</td>\n",
       "      <td>1.000000</td>\n",
       "      <td>2.000000</td>\n",
       "      <td>202.000000</td>\n",
       "      <td>1.000000</td>\n",
       "      <td>6.200000</td>\n",
       "      <td>2.000000</td>\n",
       "      <td>3.000000</td>\n",
       "      <td>2.000000</td>\n",
       "      <td>1.000000</td>\n",
       "    </tr>\n",
       "  </tbody>\n",
       "</table>\n",
       "</div>"
      ],
      "text/plain": [
       "              age         sex          cp    trestbps        chol         fbs  \\\n",
       "count  297.000000  297.000000  297.000000  297.000000  297.000000  297.000000   \n",
       "mean    54.542088    0.676768    2.158249  131.693603  247.350168    0.144781   \n",
       "std      9.049736    0.468500    0.964859   17.762806   51.997583    0.352474   \n",
       "min     29.000000    0.000000    0.000000   94.000000  126.000000    0.000000   \n",
       "25%     48.000000    0.000000    2.000000  120.000000  211.000000    0.000000   \n",
       "50%     56.000000    1.000000    2.000000  130.000000  243.000000    0.000000   \n",
       "75%     61.000000    1.000000    3.000000  140.000000  276.000000    0.000000   \n",
       "max     77.000000    1.000000    3.000000  200.000000  564.000000    1.000000   \n",
       "\n",
       "          restecg     thalach       exang     oldpeak       slope          ca  \\\n",
       "count  297.000000  297.000000  297.000000  297.000000  297.000000  297.000000   \n",
       "mean     0.996633  149.599327    0.326599    1.055556    0.602694    0.676768   \n",
       "std      0.994914   22.941562    0.469761    1.166123    0.618187    0.938965   \n",
       "min      0.000000   71.000000    0.000000    0.000000    0.000000    0.000000   \n",
       "25%      0.000000  133.000000    0.000000    0.000000    0.000000    0.000000   \n",
       "50%      1.000000  153.000000    0.000000    0.800000    1.000000    0.000000   \n",
       "75%      2.000000  166.000000    1.000000    1.600000    1.000000    1.000000   \n",
       "max      2.000000  202.000000    1.000000    6.200000    2.000000    3.000000   \n",
       "\n",
       "             thal      target  \n",
       "count  297.000000  297.000000  \n",
       "mean     0.835017    0.461279  \n",
       "std      0.956690    0.499340  \n",
       "min      0.000000    0.000000  \n",
       "25%      0.000000    0.000000  \n",
       "50%      0.000000    0.000000  \n",
       "75%      2.000000    1.000000  \n",
       "max      2.000000    1.000000  "
      ]
     },
     "execution_count": 6,
     "metadata": {},
     "output_type": "execute_result"
    }
   ],
   "source": [
    "df.describe()"
   ]
  },
  {
   "cell_type": "code",
   "execution_count": 7,
   "metadata": {
    "execution": {
     "iopub.execute_input": "2025-01-07T15:21:06.090257Z",
     "iopub.status.busy": "2025-01-07T15:21:06.090173Z",
     "iopub.status.idle": "2025-01-07T15:21:06.092444Z",
     "shell.execute_reply": "2025-01-07T15:21:06.092166Z"
    }
   },
   "outputs": [
    {
     "data": {
      "text/plain": [
       "target\n",
       "0    160\n",
       "1    137\n",
       "Name: count, dtype: int64"
      ]
     },
     "execution_count": 7,
     "metadata": {},
     "output_type": "execute_result"
    }
   ],
   "source": [
    "#Number of positive(1) and negative(0) samples in our dataframe\n",
    "df.target.value_counts()"
   ]
  },
  {
   "cell_type": "code",
   "execution_count": 8,
   "metadata": {
    "execution": {
     "iopub.execute_input": "2025-01-07T15:21:06.093520Z",
     "iopub.status.busy": "2025-01-07T15:21:06.093447Z",
     "iopub.status.idle": "2025-01-07T15:21:06.095770Z",
     "shell.execute_reply": "2025-01-07T15:21:06.095538Z"
    }
   },
   "outputs": [
    {
     "data": {
      "text/plain": [
       "target\n",
       "0    0.538721\n",
       "1    0.461279\n",
       "Name: proportion, dtype: float64"
      ]
     },
     "execution_count": 8,
     "metadata": {},
     "output_type": "execute_result"
    }
   ],
   "source": [
    "# Normalized value counts\n",
    "df.target.value_counts(normalize=True)"
   ]
  },
  {
   "cell_type": "code",
   "execution_count": 9,
   "metadata": {
    "execution": {
     "iopub.execute_input": "2025-01-07T15:21:06.096797Z",
     "iopub.status.busy": "2025-01-07T15:21:06.096724Z",
     "iopub.status.idle": "2025-01-07T15:21:06.161393Z",
     "shell.execute_reply": "2025-01-07T15:21:06.161166Z"
    }
   },
   "outputs": [
    {
     "data": {
      "image/png": "[encoded data removed]",
      "text/plain": [
       "<Figure size 640x480 with 1 Axes>"
      ]
     },
     "metadata": {},
     "output_type": "display_data"
    }
   ],
   "source": [
    "df.target.value_counts().plot(kind=\"bar\", color=[\"salmon\", \"lightblue\"])\n",
    "plt.title(\"Heart Disease Frequency\")\n",
    "plt.xticks(rotation=0)\n",
    "plt.tight_layout()"
   ]
  },
  {
   "cell_type": "markdown",
   "metadata": {},
   "source": [
    "### 3.1 Comparing one feature to another"
   ]
  },
  {
   "cell_type": "code",
   "execution_count": 10,
   "metadata": {
    "execution": {
     "iopub.execute_input": "2025-01-07T15:21:06.162472Z",
     "iopub.status.busy": "2025-01-07T15:21:06.162394Z",
     "iopub.status.idle": "2025-01-07T15:21:06.169321Z",
     "shell.execute_reply": "2025-01-07T15:21:06.169077Z"
    }
   },
   "outputs": [
    {
     "data": {
      "text/html": [
       "<div>\n",
       "<style scoped>\n",
       "    .dataframe tbody tr th:only-of-type {\n",
       "        vertical-align: middle;\n",
       "    }\n",
       "\n",
       "    .dataframe tbody tr th {\n",
       "        vertical-align: top;\n",
       "    }\n",
       "\n",
       "    .dataframe thead th {\n",
       "        text-align: right;\n",
       "    }\n",
       "</style>\n",
       "<table border=\"1\" class=\"dataframe\">\n",
       "  <thead>\n",
       "    <tr style=\"text-align: right;\">\n",
       "      <th>age</th>\n",
       "      <th>20-40</th>\n",
       "      <th>40-60</th>\n",
       "      <th>60-80</th>\n",
       "    </tr>\n",
       "    <tr>\n",
       "      <th>target</th>\n",
       "      <th></th>\n",
       "      <th></th>\n",
       "      <th></th>\n",
       "    </tr>\n",
       "  </thead>\n",
       "  <tbody>\n",
       "    <tr>\n",
       "      <th>0</th>\n",
       "      <td>10</td>\n",
       "      <td>112</td>\n",
       "      <td>38</td>\n",
       "    </tr>\n",
       "    <tr>\n",
       "      <th>1</th>\n",
       "      <td>4</td>\n",
       "      <td>80</td>\n",
       "      <td>53</td>\n",
       "    </tr>\n",
       "  </tbody>\n",
       "</table>\n",
       "</div>"
      ],
      "text/plain": [
       "age     20-40  40-60  60-80\n",
       "target                     \n",
       "0          10    112     38\n",
       "1           4     80     53"
      ]
     },
     "execution_count": 10,
     "metadata": {},
     "output_type": "execute_result"
    }
   ],
   "source": [
    "# Define age bins and labels\n",
    "age_bins = [0, 20, 40, 60, 80, 100]\n",
    "age_labels = ['0-20', '20-40', '40-60', '60-80', '80-100']\n",
    "\n",
    "pd.crosstab(\n",
    "    df['target'], \n",
    "    pd.cut(df['age'], bins=age_bins, labels=age_labels, right=False)\n",
    ")"
   ]
  },
  {
   "cell_type": "code",
   "execution_count": 11,
   "metadata": {
    "execution": {
     "iopub.execute_input": "2025-01-07T15:21:06.170386Z",
     "iopub.status.busy": "2025-01-07T15:21:06.170298Z",
     "iopub.status.idle": "2025-01-07T15:21:06.231868Z",
     "shell.execute_reply": "2025-01-07T15:21:06.231606Z"
    }
   },
   "outputs": [
    {
     "name": "stdout",
     "output_type": "stream",
     "text": [
      "sex      0    1\n",
      "target         \n",
      "0       71   89\n",
      "1       25  112\n"
     ]
    },
    {
     "data": {
      "image/png": "[encoded data removed]",
      "text/plain": [
       "<Figure size 1000x600 with 1 Axes>"
      ]
     },
     "metadata": {},
     "output_type": "display_data"
    }
   ],
   "source": [
    "# Compare target column with sex column | For sex, 1=male, 0=female \n",
    "print(pd.crosstab(index=df.target, columns=df.sex))\n",
    "\n",
    "pd.crosstab(df.target, df.sex).plot(kind=\"bar\", figsize=(10,6), color=[\"salmon\", \"lightblue\"])\n",
    "\n",
    "plt.title(\"Heart Disease Frequency vs Sex\")\n",
    "plt.xlabel(\"0 = No Disease, 1 = Disease\")\n",
    "plt.ylabel(\"Frequency\")\n",
    "plt.legend([\"Female\", \"Male\"])\n",
    "plt.xticks(rotation=0)\n",
    "\n",
    "plt.tight_layout()"
   ]
  },
  {
   "cell_type": "code",
   "execution_count": 12,
   "metadata": {
    "execution": {
     "iopub.execute_input": "2025-01-07T15:21:06.233066Z",
     "iopub.status.busy": "2025-01-07T15:21:06.232984Z",
     "iopub.status.idle": "2025-01-07T15:21:06.289983Z",
     "shell.execute_reply": "2025-01-07T15:21:06.289749Z"
    }
   },
   "outputs": [
    {
     "data": {
      "image/png": "[encoded data removed]",
      "text/plain": [
       "<Figure size 640x480 with 1 Axes>"
      ]
     },
     "metadata": {},
     "output_type": "display_data"
    }
   ],
   "source": [
    "# Create crosstab and plot\n",
    "pd.crosstab(df.cp, df.target).plot(\n",
    "    kind=\"bar\",\n",
    "    color=[\"#1f77b4\", \"#ff7f0e\"],  # CUD Blue and CUD Orange\n",
    "    alpha=0.8\n",
    ")\n",
    "\n",
    "plt.title(\"Heart Disease Frequency Per Chest Pain Type\", fontsize=12)\n",
    "plt.xlabel(\"Chest Pain Type\", fontsize=10)\n",
    "plt.ylabel(\"Frequency\", fontsize=10)\n",
    "plt.legend([\"No Disease\", \"Disease\"], fontsize=9)\n",
    "plt.xticks(fontsize=8, rotation=0)\n",
    "plt.yticks(fontsize=8)\n",
    "plt.grid(visible=True, linestyle=\"--\", linewidth=0.5, alpha=0.7)\n",
    "\n",
    "plt.tight_layout()\n",
    "\n",
    "plt.show()"
   ]
  },
  {
   "cell_type": "code",
   "execution_count": 13,
   "metadata": {
    "execution": {
     "iopub.execute_input": "2025-01-07T15:21:06.291111Z",
     "iopub.status.busy": "2025-01-07T15:21:06.291029Z",
     "iopub.status.idle": "2025-01-07T15:21:06.355957Z",
     "shell.execute_reply": "2025-01-07T15:21:06.355710Z"
    }
   },
   "outputs": [
    {
     "data": {
      "image/png": "[encoded data removed]",
      "text/plain": [
       "<Figure size 640x480 with 1 Axes>"
      ]
     },
     "metadata": {},
     "output_type": "display_data"
    }
   ],
   "source": [
    "\n",
    "# Scatter plot for \"Disease\"\n",
    "plt.scatter(\n",
    "    df.age[df.target == 1],\n",
    "    df.thalach[df.target == 1],\n",
    "    c=\"#ff7f0e\",  # CUD Orange\n",
    "    alpha=0.8,\n",
    "    edgecolor=\"black\",\n",
    "    linewidth=0.5\n",
    ")\n",
    "\n",
    "# Scatter plot for \"No Disease\"\n",
    "plt.scatter(\n",
    "    df.age[df.target == 0],\n",
    "    df.thalach[df.target == 0],\n",
    "    c=\"#1f77b4\",  # CUD Blue\n",
    "    alpha=0.8,\n",
    "    edgecolor=\"black\",\n",
    "    linewidth=0.5\n",
    ")\n",
    "\n",
    "plt.title(\"Heart Disease by Age and Max Heart Rate\", fontsize=12)\n",
    "plt.xlabel(\"Age\", fontsize=10)\n",
    "plt.ylabel(\"Max Heart Rate\", fontsize=10)\n",
    "\n",
    "plt.legend([\"Disease\", \"No Disease\"], fontsize=9)\n",
    "plt.xticks(fontsize=8)\n",
    "plt.yticks(fontsize=8)\n",
    "plt.grid(visible=True, linestyle=\"--\", linewidth=0.5, alpha=0.7)\n",
    "\n",
    "plt.tight_layout()\n",
    "\n",
    "plt.show()\n"
   ]
  },
  {
   "cell_type": "markdown",
   "metadata": {},
   "source": [
    "### 3.2 Histogram to check the distribution of the variables"
   ]
  },
  {
   "cell_type": "code",
   "execution_count": 14,
   "metadata": {
    "execution": {
     "iopub.execute_input": "2025-01-07T15:21:06.357169Z",
     "iopub.status.busy": "2025-01-07T15:21:06.357088Z",
     "iopub.status.idle": "2025-01-07T15:21:07.190425Z",
     "shell.execute_reply": "2025-01-07T15:21:07.190081Z"
    }
   },
   "outputs": [],
   "source": [
    "def save_histograms(df, columns, output_dir, bins=15, color='#1f77b4', figsize=(3, 2)):\n",
    "    \"\"\"    \n",
    "    Args:\n",
    "    - df (pd.DataFrame): DataFrame containing the data.\n",
    "    - columns (list): List of column names to plot.\n",
    "    - output_dir (str): Directory to save the images.\n",
    "    - bins (int): Number of bins for the histograms.\n",
    "    - color (str): Color of the histograms (color-blind friendly).\n",
    "    - figsize (tuple): Size of each figure (width, height).\n",
    "    \"\"\"\n",
    "    for col in columns:\n",
    "        plt.figure(figsize=figsize)\n",
    "        sns.histplot(\n",
    "            df[col],\n",
    "            bins=bins,\n",
    "            kde=False,\n",
    "            color=color,\n",
    "            edgecolor='black'\n",
    "        )\n",
    "        \n",
    "        # Remove axis labels\n",
    "        plt.xlabel(\"\")  # Remove x-axis label text\n",
    "        plt.ylabel(\"\")  # Remove y-axis label text\n",
    "        \n",
    "        # Add title\n",
    "        plt.title(col, fontsize=12)\n",
    "        \n",
    "        # Enable grid\n",
    "        plt.grid(visible=True, linestyle='--', linewidth=0.5, alpha=0.7)\n",
    "        \n",
    "        # Format layout\n",
    "        plt.tight_layout()\n",
    "        \n",
    "        # Save the figure\n",
    "        plt.savefig(f\"{output_dir}/{col}_histogram.png\", dpi=300, bbox_inches='tight')\n",
    "        plt.close()\n",
    "\n",
    "columns_to_plot = ['age', 'sex', 'cp', 'trestbps', 'chol', 'fbs', 'restecg', \n",
    "                   'thalach', 'exang', 'oldpeak', 'slope', 'ca', 'thal']\n",
    "\n",
    "output_directory = os.path.join(project_dir, \"reports\", \"figures\", \"histograms\", \"heart_disease\")\n",
    "os.makedirs(output_directory, exist_ok=True)\n",
    "\n",
    "save_histograms(df, columns_to_plot, output_directory, bins=15, color='#1f77b4', figsize=(3.5, 2.5))\n"
   ]
  },
  {
   "cell_type": "markdown",
   "metadata": {},
   "source": [
    "### 3.3 Correlation between independent variables"
   ]
  },
  {
   "cell_type": "code",
   "execution_count": 15,
   "metadata": {
    "execution": {
     "iopub.execute_input": "2025-01-07T15:21:07.191809Z",
     "iopub.status.busy": "2025-01-07T15:21:07.191714Z",
     "iopub.status.idle": "2025-01-07T15:21:07.197790Z",
     "shell.execute_reply": "2025-01-07T15:21:07.197563Z"
    }
   },
   "outputs": [
    {
     "data": {
      "text/html": [
       "<div>\n",
       "<style scoped>\n",
       "    .dataframe tbody tr th:only-of-type {\n",
       "        vertical-align: middle;\n",
       "    }\n",
       "\n",
       "    .dataframe tbody tr th {\n",
       "        vertical-align: top;\n",
       "    }\n",
       "\n",
       "    .dataframe thead th {\n",
       "        text-align: right;\n",
       "    }\n",
       "</style>\n",
       "<table border=\"1\" class=\"dataframe\">\n",
       "  <thead>\n",
       "    <tr style=\"text-align: right;\">\n",
       "      <th></th>\n",
       "      <th>age</th>\n",
       "      <th>sex</th>\n",
       "      <th>cp</th>\n",
       "      <th>trestbps</th>\n",
       "      <th>chol</th>\n",
       "      <th>fbs</th>\n",
       "      <th>restecg</th>\n",
       "      <th>thalach</th>\n",
       "      <th>exang</th>\n",
       "      <th>oldpeak</th>\n",
       "      <th>slope</th>\n",
       "      <th>ca</th>\n",
       "      <th>thal</th>\n",
       "    </tr>\n",
       "  </thead>\n",
       "  <tbody>\n",
       "    <tr>\n",
       "      <th>age</th>\n",
       "      <td>1.000000</td>\n",
       "      <td>-0.092399</td>\n",
       "      <td>0.110471</td>\n",
       "      <td>0.290476</td>\n",
       "      <td>0.202644</td>\n",
       "      <td>0.132062</td>\n",
       "      <td>0.149917</td>\n",
       "      <td>-0.394563</td>\n",
       "      <td>0.096489</td>\n",
       "      <td>0.197123</td>\n",
       "      <td>0.159405</td>\n",
       "      <td>0.362210</td>\n",
       "      <td>0.120795</td>\n",
       "    </tr>\n",
       "    <tr>\n",
       "      <th>sex</th>\n",
       "      <td>-0.092399</td>\n",
       "      <td>1.000000</td>\n",
       "      <td>0.008908</td>\n",
       "      <td>-0.066340</td>\n",
       "      <td>-0.198089</td>\n",
       "      <td>0.038850</td>\n",
       "      <td>0.033897</td>\n",
       "      <td>-0.060496</td>\n",
       "      <td>0.143581</td>\n",
       "      <td>0.106567</td>\n",
       "      <td>0.033345</td>\n",
       "      <td>0.091925</td>\n",
       "      <td>0.370556</td>\n",
       "    </tr>\n",
       "    <tr>\n",
       "      <th>cp</th>\n",
       "      <td>0.110471</td>\n",
       "      <td>0.008908</td>\n",
       "      <td>1.000000</td>\n",
       "      <td>-0.036980</td>\n",
       "      <td>0.072088</td>\n",
       "      <td>-0.057663</td>\n",
       "      <td>0.063905</td>\n",
       "      <td>-0.339308</td>\n",
       "      <td>0.377525</td>\n",
       "      <td>0.203244</td>\n",
       "      <td>0.151079</td>\n",
       "      <td>0.235644</td>\n",
       "      <td>0.266275</td>\n",
       "    </tr>\n",
       "    <tr>\n",
       "      <th>trestbps</th>\n",
       "      <td>0.290476</td>\n",
       "      <td>-0.066340</td>\n",
       "      <td>-0.036980</td>\n",
       "      <td>1.000000</td>\n",
       "      <td>0.131536</td>\n",
       "      <td>0.180860</td>\n",
       "      <td>0.149242</td>\n",
       "      <td>-0.049108</td>\n",
       "      <td>0.066691</td>\n",
       "      <td>0.191243</td>\n",
       "      <td>0.121172</td>\n",
       "      <td>0.097954</td>\n",
       "      <td>0.130612</td>\n",
       "    </tr>\n",
       "    <tr>\n",
       "      <th>chol</th>\n",
       "      <td>0.202644</td>\n",
       "      <td>-0.198089</td>\n",
       "      <td>0.072088</td>\n",
       "      <td>0.131536</td>\n",
       "      <td>1.000000</td>\n",
       "      <td>0.012708</td>\n",
       "      <td>0.165046</td>\n",
       "      <td>-0.000075</td>\n",
       "      <td>0.059339</td>\n",
       "      <td>0.038596</td>\n",
       "      <td>-0.009215</td>\n",
       "      <td>0.115945</td>\n",
       "      <td>0.023441</td>\n",
       "    </tr>\n",
       "    <tr>\n",
       "      <th>fbs</th>\n",
       "      <td>0.132062</td>\n",
       "      <td>0.038850</td>\n",
       "      <td>-0.057663</td>\n",
       "      <td>0.180860</td>\n",
       "      <td>0.012708</td>\n",
       "      <td>1.000000</td>\n",
       "      <td>0.068831</td>\n",
       "      <td>-0.007842</td>\n",
       "      <td>-0.000893</td>\n",
       "      <td>0.008311</td>\n",
       "      <td>0.047819</td>\n",
       "      <td>0.152086</td>\n",
       "      <td>0.051038</td>\n",
       "    </tr>\n",
       "    <tr>\n",
       "      <th>restecg</th>\n",
       "      <td>0.149917</td>\n",
       "      <td>0.033897</td>\n",
       "      <td>0.063905</td>\n",
       "      <td>0.149242</td>\n",
       "      <td>0.165046</td>\n",
       "      <td>0.068831</td>\n",
       "      <td>1.000000</td>\n",
       "      <td>-0.072290</td>\n",
       "      <td>0.081874</td>\n",
       "      <td>0.113726</td>\n",
       "      <td>0.135141</td>\n",
       "      <td>0.129021</td>\n",
       "      <td>0.013612</td>\n",
       "    </tr>\n",
       "    <tr>\n",
       "      <th>thalach</th>\n",
       "      <td>-0.394563</td>\n",
       "      <td>-0.060496</td>\n",
       "      <td>-0.339308</td>\n",
       "      <td>-0.049108</td>\n",
       "      <td>-0.000075</td>\n",
       "      <td>-0.007842</td>\n",
       "      <td>-0.072290</td>\n",
       "      <td>1.000000</td>\n",
       "      <td>-0.384368</td>\n",
       "      <td>-0.347640</td>\n",
       "      <td>-0.389307</td>\n",
       "      <td>-0.268727</td>\n",
       "      <td>-0.258386</td>\n",
       "    </tr>\n",
       "    <tr>\n",
       "      <th>exang</th>\n",
       "      <td>0.096489</td>\n",
       "      <td>0.143581</td>\n",
       "      <td>0.377525</td>\n",
       "      <td>0.066691</td>\n",
       "      <td>0.059339</td>\n",
       "      <td>-0.000893</td>\n",
       "      <td>0.081874</td>\n",
       "      <td>-0.384368</td>\n",
       "      <td>1.000000</td>\n",
       "      <td>0.289310</td>\n",
       "      <td>0.250572</td>\n",
       "      <td>0.148232</td>\n",
       "      <td>0.323268</td>\n",
       "    </tr>\n",
       "    <tr>\n",
       "      <th>oldpeak</th>\n",
       "      <td>0.197123</td>\n",
       "      <td>0.106567</td>\n",
       "      <td>0.203244</td>\n",
       "      <td>0.191243</td>\n",
       "      <td>0.038596</td>\n",
       "      <td>0.008311</td>\n",
       "      <td>0.113726</td>\n",
       "      <td>-0.347640</td>\n",
       "      <td>0.289310</td>\n",
       "      <td>1.000000</td>\n",
       "      <td>0.579037</td>\n",
       "      <td>0.294452</td>\n",
       "      <td>0.336809</td>\n",
       "    </tr>\n",
       "    <tr>\n",
       "      <th>slope</th>\n",
       "      <td>0.159405</td>\n",
       "      <td>0.033345</td>\n",
       "      <td>0.151079</td>\n",
       "      <td>0.121172</td>\n",
       "      <td>-0.009215</td>\n",
       "      <td>0.047819</td>\n",
       "      <td>0.135141</td>\n",
       "      <td>-0.389307</td>\n",
       "      <td>0.250572</td>\n",
       "      <td>0.579037</td>\n",
       "      <td>1.000000</td>\n",
       "      <td>0.109761</td>\n",
       "      <td>0.260096</td>\n",
       "    </tr>\n",
       "    <tr>\n",
       "      <th>ca</th>\n",
       "      <td>0.362210</td>\n",
       "      <td>0.091925</td>\n",
       "      <td>0.235644</td>\n",
       "      <td>0.097954</td>\n",
       "      <td>0.115945</td>\n",
       "      <td>0.152086</td>\n",
       "      <td>0.129021</td>\n",
       "      <td>-0.268727</td>\n",
       "      <td>0.148232</td>\n",
       "      <td>0.294452</td>\n",
       "      <td>0.109761</td>\n",
       "      <td>1.000000</td>\n",
       "      <td>0.248825</td>\n",
       "    </tr>\n",
       "    <tr>\n",
       "      <th>thal</th>\n",
       "      <td>0.120795</td>\n",
       "      <td>0.370556</td>\n",
       "      <td>0.266275</td>\n",
       "      <td>0.130612</td>\n",
       "      <td>0.023441</td>\n",
       "      <td>0.051038</td>\n",
       "      <td>0.013612</td>\n",
       "      <td>-0.258386</td>\n",
       "      <td>0.323268</td>\n",
       "      <td>0.336809</td>\n",
       "      <td>0.260096</td>\n",
       "      <td>0.248825</td>\n",
       "      <td>1.000000</td>\n",
       "    </tr>\n",
       "  </tbody>\n",
       "</table>\n",
       "</div>"
      ],
      "text/plain": [
       "               age       sex        cp  trestbps      chol       fbs  \\\n",
       "age       1.000000 -0.092399  0.110471  0.290476  0.202644  0.132062   \n",
       "sex      -0.092399  1.000000  0.008908 -0.066340 -0.198089  0.038850   \n",
       "cp        0.110471  0.008908  1.000000 -0.036980  0.072088 -0.057663   \n",
       "trestbps  0.290476 -0.066340 -0.036980  1.000000  0.131536  0.180860   \n",
       "chol      0.202644 -0.198089  0.072088  0.131536  1.000000  0.012708   \n",
       "fbs       0.132062  0.038850 -0.057663  0.180860  0.012708  1.000000   \n",
       "restecg   0.149917  0.033897  0.063905  0.149242  0.165046  0.068831   \n",
       "thalach  -0.394563 -0.060496 -0.339308 -0.049108 -0.000075 -0.007842   \n",
       "exang     0.096489  0.143581  0.377525  0.066691  0.059339 -0.000893   \n",
       "oldpeak   0.197123  0.106567  0.203244  0.191243  0.038596  0.008311   \n",
       "slope     0.159405  0.033345  0.151079  0.121172 -0.009215  0.047819   \n",
       "ca        0.362210  0.091925  0.235644  0.097954  0.115945  0.152086   \n",
       "thal      0.120795  0.370556  0.266275  0.130612  0.023441  0.051038   \n",
       "\n",
       "           restecg   thalach     exang   oldpeak     slope        ca      thal  \n",
       "age       0.149917 -0.394563  0.096489  0.197123  0.159405  0.362210  0.120795  \n",
       "sex       0.033897 -0.060496  0.143581  0.106567  0.033345  0.091925  0.370556  \n",
       "cp        0.063905 -0.339308  0.377525  0.203244  0.151079  0.235644  0.266275  \n",
       "trestbps  0.149242 -0.049108  0.066691  0.191243  0.121172  0.097954  0.130612  \n",
       "chol      0.165046 -0.000075  0.059339  0.038596 -0.009215  0.115945  0.023441  \n",
       "fbs       0.068831 -0.007842 -0.000893  0.008311  0.047819  0.152086  0.051038  \n",
       "restecg   1.000000 -0.072290  0.081874  0.113726  0.135141  0.129021  0.013612  \n",
       "thalach  -0.072290  1.000000 -0.384368 -0.347640 -0.389307 -0.268727 -0.258386  \n",
       "exang     0.081874 -0.384368  1.000000  0.289310  0.250572  0.148232  0.323268  \n",
       "oldpeak   0.113726 -0.347640  0.289310  1.000000  0.579037  0.294452  0.336809  \n",
       "slope     0.135141 -0.389307  0.250572  0.579037  1.000000  0.109761  0.260096  \n",
       "ca        0.129021 -0.268727  0.148232  0.294452  0.109761  1.000000  0.248825  \n",
       "thal      0.013612 -0.258386  0.323268  0.336809  0.260096  0.248825  1.000000  "
      ]
     },
     "execution_count": 15,
     "metadata": {},
     "output_type": "execute_result"
    }
   ],
   "source": [
    "#correlation between our independent variables | Prepare the features and target variables.\n",
    "X = df.drop(columns=['target'])\n",
    "y = df['target'].values\n",
    "\n",
    "corr_matrix = X.corr()\n",
    "corr_matrix "
   ]
  },
  {
   "cell_type": "code",
   "execution_count": 16,
   "metadata": {
    "execution": {
     "iopub.execute_input": "2025-01-07T15:21:07.198946Z",
     "iopub.status.busy": "2025-01-07T15:21:07.198869Z",
     "iopub.status.idle": "2025-01-07T15:21:07.344460Z",
     "shell.execute_reply": "2025-01-07T15:21:07.344212Z"
    }
   },
   "outputs": [
    {
     "data": {
      "image/png": "[encoded data removed]",
      "text/plain": [
       "<Figure size 800x600 with 2 Axes>"
      ]
     },
     "metadata": {},
     "output_type": "display_data"
    }
   ],
   "source": [
    "# correlation matrix heatmap\n",
    "plt.figure(figsize=(8, 6))\n",
    "sns.set(font_scale=1.2)\n",
    "sns.heatmap(\n",
    "    corr_matrix,\n",
    "    annot=True,\n",
    "    linewidths=0.5,\n",
    "    fmt=\".2f\",\n",
    "    cmap=\"coolwarm\",  # Use a colorblind-friendly palett\n",
    "    annot_kws={\"size\": 10.5},\n",
    ")\n",
    "\n",
    "\n",
    "plt.xticks(rotation=45, ha=\"right\")\n",
    "plt.yticks(rotation=0)\n",
    "plt.tight_layout()\n",
    "plt.show()"
   ]
  },
  {
   "cell_type": "markdown",
   "metadata": {},
   "source": [
    "# 4. Modeling"
   ]
  },
  {
   "cell_type": "code",
   "execution_count": 5,
   "metadata": {
    "execution": {
     "iopub.execute_input": "2025-01-07T15:21:07.345795Z",
     "iopub.status.busy": "2025-01-07T15:21:07.345679Z",
     "iopub.status.idle": "2025-01-07T15:21:07.347720Z",
     "shell.execute_reply": "2025-01-07T15:21:07.347479Z"
    }
   },
   "outputs": [],
   "source": [
    "# Prepare the features and target variables.\n",
    "\n",
    "X = df.drop(labels=\"target\", axis=1)\n",
    "\n",
    "# Target variable (in the form of a NumPy array)\n",
    "y = df.target.to_numpy() "
   ]
  },
  {
   "cell_type": "markdown",
   "metadata": {},
   "source": [
    "### 4.1 Creating a training and test split"
   ]
  },
  {
   "cell_type": "code",
   "execution_count": 6,
   "metadata": {
    "execution": {
     "iopub.execute_input": "2025-01-07T15:21:07.348825Z",
     "iopub.status.busy": "2025-01-07T15:21:07.348721Z",
     "iopub.status.idle": "2025-01-07T15:21:07.351918Z",
     "shell.execute_reply": "2025-01-07T15:21:07.351640Z"
    }
   },
   "outputs": [],
   "source": [
    "# Split into train & test set\n",
    "# Random seed for reproducible results\n",
    "np.random.seed(42)\n",
    "X_train, X_test, y_train, y_test = train_test_split(X, # independent variables \n",
    "                                                    y, # dependent variable\n",
    "                                                    test_size = 0.2, # percentage of data to use for test set\n",
    "                                                    stratify=y) # keep the same proportion of target as the original dataset instead of random\n",
    "\n",
    "X_train_final, X_val, y_train_final, y_val = train_test_split(X_train, y_train, test_size=0.2, stratify=y_train)\n"
   ]
  },
  {
   "cell_type": "code",
   "execution_count": 19,
   "metadata": {
    "execution": {
     "iopub.execute_input": "2025-01-07T15:21:07.352990Z",
     "iopub.status.busy": "2025-01-07T15:21:07.352914Z",
     "iopub.status.idle": "2025-01-07T15:21:07.356698Z",
     "shell.execute_reply": "2025-01-07T15:21:07.356469Z"
    }
   },
   "outputs": [
    {
     "name": "stdout",
     "output_type": "stream",
     "text": [
      "(237, 13)\n"
     ]
    },
    {
     "data": {
      "text/html": [
       "<div>\n",
       "<style scoped>\n",
       "    .dataframe tbody tr th:only-of-type {\n",
       "        vertical-align: middle;\n",
       "    }\n",
       "\n",
       "    .dataframe tbody tr th {\n",
       "        vertical-align: top;\n",
       "    }\n",
       "\n",
       "    .dataframe thead th {\n",
       "        text-align: right;\n",
       "    }\n",
       "</style>\n",
       "<table border=\"1\" class=\"dataframe\">\n",
       "  <thead>\n",
       "    <tr style=\"text-align: right;\">\n",
       "      <th></th>\n",
       "      <th>age</th>\n",
       "      <th>sex</th>\n",
       "      <th>cp</th>\n",
       "      <th>trestbps</th>\n",
       "      <th>chol</th>\n",
       "      <th>fbs</th>\n",
       "      <th>restecg</th>\n",
       "      <th>thalach</th>\n",
       "      <th>exang</th>\n",
       "      <th>oldpeak</th>\n",
       "      <th>slope</th>\n",
       "      <th>ca</th>\n",
       "      <th>thal</th>\n",
       "    </tr>\n",
       "  </thead>\n",
       "  <tbody>\n",
       "    <tr>\n",
       "      <th>91</th>\n",
       "      <td>62</td>\n",
       "      <td>0</td>\n",
       "      <td>2</td>\n",
       "      <td>130</td>\n",
       "      <td>263</td>\n",
       "      <td>0</td>\n",
       "      <td>0</td>\n",
       "      <td>97</td>\n",
       "      <td>0</td>\n",
       "      <td>1.2</td>\n",
       "      <td>1</td>\n",
       "      <td>1</td>\n",
       "      <td>2</td>\n",
       "    </tr>\n",
       "    <tr>\n",
       "      <th>115</th>\n",
       "      <td>53</td>\n",
       "      <td>1</td>\n",
       "      <td>2</td>\n",
       "      <td>130</td>\n",
       "      <td>246</td>\n",
       "      <td>1</td>\n",
       "      <td>2</td>\n",
       "      <td>173</td>\n",
       "      <td>0</td>\n",
       "      <td>0.0</td>\n",
       "      <td>0</td>\n",
       "      <td>3</td>\n",
       "      <td>0</td>\n",
       "    </tr>\n",
       "    <tr>\n",
       "      <th>125</th>\n",
       "      <td>50</td>\n",
       "      <td>0</td>\n",
       "      <td>2</td>\n",
       "      <td>120</td>\n",
       "      <td>219</td>\n",
       "      <td>0</td>\n",
       "      <td>0</td>\n",
       "      <td>158</td>\n",
       "      <td>0</td>\n",
       "      <td>1.6</td>\n",
       "      <td>1</td>\n",
       "      <td>0</td>\n",
       "      <td>0</td>\n",
       "    </tr>\n",
       "    <tr>\n",
       "      <th>63</th>\n",
       "      <td>41</td>\n",
       "      <td>1</td>\n",
       "      <td>1</td>\n",
       "      <td>135</td>\n",
       "      <td>203</td>\n",
       "      <td>0</td>\n",
       "      <td>0</td>\n",
       "      <td>132</td>\n",
       "      <td>0</td>\n",
       "      <td>0.0</td>\n",
       "      <td>1</td>\n",
       "      <td>0</td>\n",
       "      <td>1</td>\n",
       "    </tr>\n",
       "    <tr>\n",
       "      <th>159</th>\n",
       "      <td>68</td>\n",
       "      <td>1</td>\n",
       "      <td>3</td>\n",
       "      <td>144</td>\n",
       "      <td>193</td>\n",
       "      <td>1</td>\n",
       "      <td>0</td>\n",
       "      <td>141</td>\n",
       "      <td>0</td>\n",
       "      <td>3.4</td>\n",
       "      <td>1</td>\n",
       "      <td>2</td>\n",
       "      <td>2</td>\n",
       "    </tr>\n",
       "  </tbody>\n",
       "</table>\n",
       "</div>"
      ],
      "text/plain": [
       "     age  sex  cp  trestbps  chol  fbs  restecg  thalach  exang  oldpeak  \\\n",
       "91    62    0   2       130   263    0        0       97      0      1.2   \n",
       "115   53    1   2       130   246    1        2      173      0      0.0   \n",
       "125   50    0   2       120   219    0        0      158      0      1.6   \n",
       "63    41    1   1       135   203    0        0      132      0      0.0   \n",
       "159   68    1   3       144   193    1        0      141      0      3.4   \n",
       "\n",
       "     slope  ca  thal  \n",
       "91       1   1     2  \n",
       "115      0   3     0  \n",
       "125      1   0     0  \n",
       "63       1   0     1  \n",
       "159      1   2     2  "
      ]
     },
     "execution_count": 19,
     "metadata": {},
     "output_type": "execute_result"
    }
   ],
   "source": [
    "# Training data of independent variable\n",
    "print(X_train.shape)\n",
    "X_train.head()"
   ]
  },
  {
   "cell_type": "code",
   "execution_count": 20,
   "metadata": {
    "execution": {
     "iopub.execute_input": "2025-01-07T15:21:07.357718Z",
     "iopub.status.busy": "2025-01-07T15:21:07.357641Z",
     "iopub.status.idle": "2025-01-07T15:21:07.359803Z",
     "shell.execute_reply": "2025-01-07T15:21:07.359598Z"
    }
   },
   "outputs": [
    {
     "data": {
      "text/plain": [
       "(array([1, 0, 0, 0, 1, 0, 1, 0, 0, 1, 0, 1, 0, 0, 1, 1, 0, 0, 0, 0, 0, 1,\n",
       "        1, 1, 1, 0, 0, 1, 0, 1, 0, 0, 0, 0, 1, 1, 1, 1, 1, 0, 1, 1, 1, 1,\n",
       "        0, 1, 0, 1, 0, 0, 0, 0, 0, 0, 1, 1, 0, 0, 1, 0, 1, 1, 1, 1, 0, 0,\n",
       "        0, 0, 0, 1, 1, 0, 1, 1, 1, 0, 0, 0, 1, 0, 0, 1, 0, 1, 1, 0, 0, 0,\n",
       "        0, 0, 1, 0, 0, 1, 1, 0, 1, 1, 0, 1, 1, 0, 1, 0, 0, 1, 0, 0, 0, 1,\n",
       "        1, 1, 0, 0, 1, 0, 0, 0, 1, 1, 0, 1, 0, 1, 0, 0, 0, 0, 1, 1, 1, 1,\n",
       "        0, 0, 1, 1, 1, 0, 0, 0, 1, 1, 0, 0, 0, 0, 1, 0, 0, 0, 1, 0, 0, 0,\n",
       "        1, 1, 1, 1, 1, 0, 1, 0, 0, 0, 1, 0, 1, 0, 0, 0, 0, 1, 0, 1, 1, 0,\n",
       "        1, 0, 1, 0, 0, 0, 0, 0, 0, 0, 0, 1, 1, 0, 0, 1, 0, 0, 1, 1, 0, 1,\n",
       "        1, 0, 0, 0, 0, 1, 1, 0, 0, 1, 0, 0, 0, 1, 0, 0, 1, 0, 1, 1, 1, 1,\n",
       "        1, 1, 1, 1, 1, 0, 1, 0, 0, 1, 0, 0, 1, 1, 1, 1, 1]),\n",
       " 237)"
      ]
     },
     "execution_count": 20,
     "metadata": {},
     "output_type": "execute_result"
    }
   ],
   "source": [
    "# Training data of dependent variable\n",
    "y_train, len(y_train)"
   ]
  },
  {
   "cell_type": "code",
   "execution_count": 21,
   "metadata": {
    "execution": {
     "iopub.execute_input": "2025-01-07T15:21:07.360778Z",
     "iopub.status.busy": "2025-01-07T15:21:07.360702Z",
     "iopub.status.idle": "2025-01-07T15:21:07.364366Z",
     "shell.execute_reply": "2025-01-07T15:21:07.364144Z"
    }
   },
   "outputs": [
    {
     "name": "stdout",
     "output_type": "stream",
     "text": [
      "(60, 13)\n"
     ]
    },
    {
     "data": {
      "text/html": [
       "<div>\n",
       "<style scoped>\n",
       "    .dataframe tbody tr th:only-of-type {\n",
       "        vertical-align: middle;\n",
       "    }\n",
       "\n",
       "    .dataframe tbody tr th {\n",
       "        vertical-align: top;\n",
       "    }\n",
       "\n",
       "    .dataframe thead th {\n",
       "        text-align: right;\n",
       "    }\n",
       "</style>\n",
       "<table border=\"1\" class=\"dataframe\">\n",
       "  <thead>\n",
       "    <tr style=\"text-align: right;\">\n",
       "      <th></th>\n",
       "      <th>age</th>\n",
       "      <th>sex</th>\n",
       "      <th>cp</th>\n",
       "      <th>trestbps</th>\n",
       "      <th>chol</th>\n",
       "      <th>fbs</th>\n",
       "      <th>restecg</th>\n",
       "      <th>thalach</th>\n",
       "      <th>exang</th>\n",
       "      <th>oldpeak</th>\n",
       "      <th>slope</th>\n",
       "      <th>ca</th>\n",
       "      <th>thal</th>\n",
       "    </tr>\n",
       "  </thead>\n",
       "  <tbody>\n",
       "    <tr>\n",
       "      <th>295</th>\n",
       "      <td>35</td>\n",
       "      <td>0</td>\n",
       "      <td>3</td>\n",
       "      <td>138</td>\n",
       "      <td>183</td>\n",
       "      <td>0</td>\n",
       "      <td>0</td>\n",
       "      <td>182</td>\n",
       "      <td>0</td>\n",
       "      <td>1.4</td>\n",
       "      <td>0</td>\n",
       "      <td>0</td>\n",
       "      <td>0</td>\n",
       "    </tr>\n",
       "    <tr>\n",
       "      <th>215</th>\n",
       "      <td>58</td>\n",
       "      <td>0</td>\n",
       "      <td>3</td>\n",
       "      <td>100</td>\n",
       "      <td>248</td>\n",
       "      <td>0</td>\n",
       "      <td>2</td>\n",
       "      <td>122</td>\n",
       "      <td>0</td>\n",
       "      <td>1.0</td>\n",
       "      <td>1</td>\n",
       "      <td>0</td>\n",
       "      <td>0</td>\n",
       "    </tr>\n",
       "    <tr>\n",
       "      <th>66</th>\n",
       "      <td>41</td>\n",
       "      <td>1</td>\n",
       "      <td>1</td>\n",
       "      <td>110</td>\n",
       "      <td>235</td>\n",
       "      <td>0</td>\n",
       "      <td>0</td>\n",
       "      <td>153</td>\n",
       "      <td>0</td>\n",
       "      <td>0.0</td>\n",
       "      <td>0</td>\n",
       "      <td>0</td>\n",
       "      <td>0</td>\n",
       "    </tr>\n",
       "    <tr>\n",
       "      <th>77</th>\n",
       "      <td>68</td>\n",
       "      <td>0</td>\n",
       "      <td>2</td>\n",
       "      <td>120</td>\n",
       "      <td>211</td>\n",
       "      <td>0</td>\n",
       "      <td>2</td>\n",
       "      <td>115</td>\n",
       "      <td>0</td>\n",
       "      <td>1.5</td>\n",
       "      <td>1</td>\n",
       "      <td>0</td>\n",
       "      <td>0</td>\n",
       "    </tr>\n",
       "    <tr>\n",
       "      <th>53</th>\n",
       "      <td>48</td>\n",
       "      <td>1</td>\n",
       "      <td>1</td>\n",
       "      <td>130</td>\n",
       "      <td>245</td>\n",
       "      <td>0</td>\n",
       "      <td>2</td>\n",
       "      <td>180</td>\n",
       "      <td>0</td>\n",
       "      <td>0.2</td>\n",
       "      <td>1</td>\n",
       "      <td>0</td>\n",
       "      <td>0</td>\n",
       "    </tr>\n",
       "  </tbody>\n",
       "</table>\n",
       "</div>"
      ],
      "text/plain": [
       "     age  sex  cp  trestbps  chol  fbs  restecg  thalach  exang  oldpeak  \\\n",
       "295   35    0   3       138   183    0        0      182      0      1.4   \n",
       "215   58    0   3       100   248    0        2      122      0      1.0   \n",
       "66    41    1   1       110   235    0        0      153      0      0.0   \n",
       "77    68    0   2       120   211    0        2      115      0      1.5   \n",
       "53    48    1   1       130   245    0        2      180      0      0.2   \n",
       "\n",
       "     slope  ca  thal  \n",
       "295      0   0     0  \n",
       "215      1   0     0  \n",
       "66       0   0     0  \n",
       "77       1   0     0  \n",
       "53       1   0     0  "
      ]
     },
     "execution_count": 21,
     "metadata": {},
     "output_type": "execute_result"
    }
   ],
   "source": [
    "# Testing data of independent variable\n",
    "print(X_test.shape)\n",
    "X_test.head()"
   ]
  },
  {
   "cell_type": "code",
   "execution_count": 22,
   "metadata": {
    "execution": {
     "iopub.execute_input": "2025-01-07T15:21:07.365478Z",
     "iopub.status.busy": "2025-01-07T15:21:07.365405Z",
     "iopub.status.idle": "2025-01-07T15:21:07.367370Z",
     "shell.execute_reply": "2025-01-07T15:21:07.367156Z"
    }
   },
   "outputs": [
    {
     "data": {
      "text/plain": [
       "(array([0, 0, 0, 0, 0, 0, 1, 0, 1, 0, 1, 0, 0, 1, 1, 1, 1, 0, 1, 1, 0, 0,\n",
       "        1, 0, 1, 0, 0, 1, 0, 1, 0, 1, 1, 0, 0, 1, 0, 1, 0, 1, 0, 1, 1, 1,\n",
       "        0, 0, 1, 0, 1, 0, 0, 1, 0, 0, 1, 1, 1, 0, 0, 1]),\n",
       " 60)"
      ]
     },
     "execution_count": 22,
     "metadata": {},
     "output_type": "execute_result"
    }
   ],
   "source": [
    "# Testing data of dependent variable\n",
    "y_test, len(y_test)"
   ]
  },
  {
   "cell_type": "markdown",
   "metadata": {},
   "source": [
    "### 4.2 Choosing a model"
   ]
  },
  {
   "cell_type": "markdown",
   "metadata": {},
   "source": [
    "We'll start by trying the following models and comparing their results.\n",
    "\n",
    "1. K-Nearest Neighbors - sklearn.neighbors.KNeighboursClassifier()\n",
    "2. Logistic Regression - sklearn.linear_model.LogisticRegression()\n",
    "3. RandomForest - sklearn.ensemble.RandomForestClassifier()\n",
    "4. Decision Tree: sklearn.tree.DecisionTreeClassifier()\n",
    "5. SVC: sklearn.svm.SVC()\n",
    "6. ANN: MLPClassifier()\n",
    "7. Naive Bayes (Gaussian): sklearn.naive_bayes.GaussianNB()\n",
    "8. Naive Bayes (Bernoulli): sklearn.naive_bayes.BernoulliNB()"
   ]
  },
  {
   "cell_type": "code",
   "execution_count": 23,
   "metadata": {
    "execution": {
     "iopub.execute_input": "2025-01-07T15:21:07.368454Z",
     "iopub.status.busy": "2025-01-07T15:21:07.368381Z",
     "iopub.status.idle": "2025-01-07T15:21:07.370637Z",
     "shell.execute_reply": "2025-01-07T15:21:07.370429Z"
    }
   },
   "outputs": [],
   "source": [
    "# Choosen models in a dictionary\n",
    "models = {\"KNN\": KNeighborsClassifier(),\n",
    "          \"Logistic Regression\": LogisticRegression(max_iter=2000, C= 1.0),\n",
    "          \"Random Forest\": RandomForestClassifier(),\n",
    "          \"Decision Tree\": DecisionTreeClassifier(),\n",
    "          \"SVC\": SVC(),\n",
    "          \"ANN\": MLPClassifier(max_iter=1000),\n",
    "          \"Naive Bayes (Gaussian)\": GaussianNB(),\n",
    "          \"Naive Bayes (Bernoulli)\": BernoulliNB()}\n",
    "\n",
    "# Create function to fit and score models\n",
    "def fit_and_score(models, X_train, X_test, y_train, y_test):\n",
    "    \n",
    "    # Fits and evaluates given machine learning models.\n",
    "    # models : a dict of different Scikit-Learn machine learning models\n",
    "    # X_train : training data\n",
    "    # X_test : testing data\n",
    "    # y_train : labels assosciated with training data\n",
    "    # y_test : labels assosciated with test data\n",
    "    # Random seed for reproducible results\n",
    "    np.random.seed(42)\n",
    "    # Make a list to keep model scores\n",
    "    model_scores = {}\n",
    "    # Loop through models\n",
    "    for name, model in models.items():\n",
    "        # Fit the model to the data\n",
    "        model.fit(X_train, y_train)\n",
    "        # Evaluate the model and append its score to model_scores\n",
    "        model_scores[name] = model.score(X_test, y_test)\n",
    "    return model_scores\n"
   ]
  },
  {
   "cell_type": "code",
   "execution_count": 24,
   "metadata": {
    "execution": {
     "iopub.execute_input": "2025-01-07T15:21:07.371700Z",
     "iopub.status.busy": "2025-01-07T15:21:07.371625Z",
     "iopub.status.idle": "2025-01-07T15:21:07.493309Z",
     "shell.execute_reply": "2025-01-07T15:21:07.493062Z"
    }
   },
   "outputs": [
    {
     "data": {
      "text/plain": [
       "{'KNN': 0.5833333333333334,\n",
       " 'Logistic Regression': 0.9166666666666666,\n",
       " 'Random Forest': 0.8833333333333333,\n",
       " 'Decision Tree': 0.7833333333333333,\n",
       " 'SVC': 0.55,\n",
       " 'ANN': 0.7333333333333333,\n",
       " 'Naive Bayes (Gaussian)': 0.8666666666666667,\n",
       " 'Naive Bayes (Bernoulli)': 0.9}"
      ]
     },
     "execution_count": 24,
     "metadata": {},
     "output_type": "execute_result"
    }
   ],
   "source": [
    "model_scores = fit_and_score(models=models, \n",
    "                             X_train=X_train, \n",
    "                             X_test=X_test, \n",
    "                             y_train=y_train, \n",
    "                             y_test=y_test)\n",
    "model_scores"
   ]
  },
  {
   "cell_type": "code",
   "execution_count": 25,
   "metadata": {
    "execution": {
     "iopub.execute_input": "2025-01-07T15:21:07.494459Z",
     "iopub.status.busy": "2025-01-07T15:21:07.494382Z",
     "iopub.status.idle": "2025-01-07T15:21:07.508209Z",
     "shell.execute_reply": "2025-01-07T15:21:07.507978Z"
    }
   },
   "outputs": [
    {
     "data": {
      "text/plain": [
       "{'KNN': 0.5833333333333334,\n",
       " 'Logistic Regression': 0.9166666666666666,\n",
       " 'Random Forest': 0.8833333333333333,\n",
       " 'Decision Tree': 0.7833333333333333,\n",
       " 'SVC': 0.55,\n",
       " 'ANN': 0.7333333333333333,\n",
       " 'Naive Bayes (Gaussian)': 0.8666666666666667,\n",
       " 'Naive Bayes (Bernoulli)': 0.9}"
      ]
     },
     "execution_count": 25,
     "metadata": {},
     "output_type": "execute_result"
    }
   ],
   "source": [
    "recall_scores = {\n",
    "    name: recall_score(y_test, model.predict(X_test), average='weighted')\n",
    "    for name, model in models.items()\n",
    "}\n",
    "\n",
    "recall_scores"
   ]
  },
  {
   "cell_type": "code",
   "execution_count": 26,
   "metadata": {
    "execution": {
     "iopub.execute_input": "2025-01-07T15:21:07.509331Z",
     "iopub.status.busy": "2025-01-07T15:21:07.509254Z",
     "iopub.status.idle": "2025-01-07T15:21:07.522447Z",
     "shell.execute_reply": "2025-01-07T15:21:07.522210Z"
    }
   },
   "outputs": [
    {
     "data": {
      "text/plain": [
       "{'KNN': 0.5843529847979236,\n",
       " 'Logistic Regression': 0.927927927927928,\n",
       " 'Random Forest': 0.8932236584410498,\n",
       " 'Decision Tree': 0.7891108499804153,\n",
       " 'SVC': 0.544801026957638,\n",
       " 'ANN': 0.7676236044657098,\n",
       " 'Naive Bayes (Gaussian)': 0.8933333333333333,\n",
       " 'Naive Bayes (Bernoulli)': 0.9013574660633484}"
      ]
     },
     "execution_count": 26,
     "metadata": {},
     "output_type": "execute_result"
    }
   ],
   "source": [
    "precision_scores = {\n",
    "    name: precision_score(y_test, model.predict(X_test), average='weighted')\n",
    "    for name, model in models.items()\n",
    "}\n",
    "precision_scores"
   ]
  },
  {
   "cell_type": "markdown",
   "metadata": {},
   "source": [
    "### 4.3 Comparing the results of several models"
   ]
  },
  {
   "cell_type": "code",
   "execution_count": 27,
   "metadata": {
    "execution": {
     "iopub.execute_input": "2025-01-07T15:21:07.523612Z",
     "iopub.status.busy": "2025-01-07T15:21:07.523531Z",
     "iopub.status.idle": "2025-01-07T15:21:07.569671Z",
     "shell.execute_reply": "2025-01-07T15:21:07.569440Z"
    }
   },
   "outputs": [
    {
     "data": {
      "image/png": "[encoded data removed]",
      "text/plain": [
       "<Figure size 640x480 with 1 Axes>"
      ]
     },
     "metadata": {},
     "output_type": "display_data"
    }
   ],
   "source": [
    "\n",
    "model_compare = pd.DataFrame(model_scores, index=['accuracy'])\n",
    "model_compare.T.plot.bar()\n",
    "\n",
    "plt.xticks(rotation=90, ha='center')\n",
    "\n",
    "# Set y-axis limits and format to percentage\n",
    "plt.ylim(0, 1)\n",
    "plt.gca().yaxis.set_major_formatter(FuncFormatter(lambda y, _: f'{y*100:.0f}%'))\n",
    "\n",
    "plt.gca().get_legend().remove()\n"
   ]
  },
  {
   "cell_type": "markdown",
   "metadata": {},
   "source": [
    "#### 4.3.1 Some more exaluations"
   ]
  },
  {
   "cell_type": "code",
   "execution_count": 28,
   "metadata": {
    "execution": {
     "iopub.execute_input": "2025-01-07T15:21:07.570799Z",
     "iopub.status.busy": "2025-01-07T15:21:07.570720Z",
     "iopub.status.idle": "2025-01-07T15:21:07.583827Z",
     "shell.execute_reply": "2025-01-07T15:21:07.583603Z"
    }
   },
   "outputs": [],
   "source": [
    "# Calculate precision\n",
    "precision_scores = {\n",
    "    name: precision_score(y_test, model.predict(X_test), average='weighted')\n",
    "    for name, model in models.items()\n",
    "}"
   ]
  },
  {
   "cell_type": "code",
   "execution_count": 29,
   "metadata": {
    "execution": {
     "iopub.execute_input": "2025-01-07T15:21:07.584868Z",
     "iopub.status.busy": "2025-01-07T15:21:07.584791Z",
     "iopub.status.idle": "2025-01-07T15:21:07.596856Z",
     "shell.execute_reply": "2025-01-07T15:21:07.596513Z"
    }
   },
   "outputs": [],
   "source": [
    "f1_scores = {\n",
    "    name: f1_score(y_test, model.predict(X_test), average='weighted')\n",
    "    for name, model in models.items()\n",
    "}"
   ]
  },
  {
   "cell_type": "code",
   "execution_count": 30,
   "metadata": {
    "execution": {
     "iopub.execute_input": "2025-01-07T15:21:07.597953Z",
     "iopub.status.busy": "2025-01-07T15:21:07.597878Z",
     "iopub.status.idle": "2025-01-07T15:21:07.608794Z",
     "shell.execute_reply": "2025-01-07T15:21:07.608573Z"
    }
   },
   "outputs": [],
   "source": [
    "specificity_scores = {}\n",
    "for name, model in models.items():\n",
    "    cm = confusion_matrix(y_test, model.predict(X_test))\n",
    "    tn = cm[0][0]\n",
    "    fp = cm[0][1]\n",
    "    specificity = tn / (tn + fp) if (tn + fp) > 0 else 0\n",
    "    specificity_scores[name] = specificity"
   ]
  },
  {
   "cell_type": "code",
   "execution_count": 31,
   "metadata": {
    "execution": {
     "iopub.execute_input": "2025-01-07T15:21:07.609867Z",
     "iopub.status.busy": "2025-01-07T15:21:07.609792Z",
     "iopub.status.idle": "2025-01-07T15:21:07.611305Z",
     "shell.execute_reply": "2025-01-07T15:21:07.611093Z"
    }
   },
   "outputs": [],
   "source": [
    "classification_error_scores = {\n",
    "    name: 1 - accuracy\n",
    "    for name, accuracy in model_scores.items()\n",
    "}"
   ]
  },
  {
   "cell_type": "code",
   "execution_count": 32,
   "metadata": {
    "execution": {
     "iopub.execute_input": "2025-01-07T15:21:07.612354Z",
     "iopub.status.busy": "2025-01-07T15:21:07.612276Z",
     "iopub.status.idle": "2025-01-07T15:21:07.639792Z",
     "shell.execute_reply": "2025-01-07T15:21:07.639583Z"
    }
   },
   "outputs": [
    {
     "data": {
      "text/html": [
       "<style type=\"text/css\">\n",
       "</style>\n",
       "<table id=\"T_48150\">\n",
       "  <thead>\n",
       "    <tr>\n",
       "      <th class=\"blank level0\" >&nbsp;</th>\n",
       "      <th id=\"T_48150_level0_col0\" class=\"col_heading level0 col0\" >Accuracy (%)</th>\n",
       "      <th id=\"T_48150_level0_col1\" class=\"col_heading level0 col1\" >Recall (%)</th>\n",
       "      <th id=\"T_48150_level0_col2\" class=\"col_heading level0 col2\" >Precision (%)</th>\n",
       "      <th id=\"T_48150_level0_col3\" class=\"col_heading level0 col3\" >F1 Score (%)</th>\n",
       "      <th id=\"T_48150_level0_col4\" class=\"col_heading level0 col4\" >Specificity (%)</th>\n",
       "      <th id=\"T_48150_level0_col5\" class=\"col_heading level0 col5\" >Classification Error (%)</th>\n",
       "    </tr>\n",
       "  </thead>\n",
       "  <tbody>\n",
       "    <tr>\n",
       "      <th id=\"T_48150_level0_row0\" class=\"row_heading level0 row0\" >KNN</th>\n",
       "      <td id=\"T_48150_row0_col0\" class=\"data row0 col0\" >58.33</td>\n",
       "      <td id=\"T_48150_row0_col1\" class=\"data row0 col1\" >58.33</td>\n",
       "      <td id=\"T_48150_row0_col2\" class=\"data row0 col2\" >58.44</td>\n",
       "      <td id=\"T_48150_row0_col3\" class=\"data row0 col3\" >58.37</td>\n",
       "      <td id=\"T_48150_row0_col4\" class=\"data row0 col4\" >59.38</td>\n",
       "      <td id=\"T_48150_row0_col5\" class=\"data row0 col5\" >41.67</td>\n",
       "    </tr>\n",
       "    <tr>\n",
       "      <th id=\"T_48150_level0_row1\" class=\"row_heading level0 row1\" >Logistic Regression</th>\n",
       "      <td id=\"T_48150_row1_col0\" class=\"data row1 col0\" >91.67</td>\n",
       "      <td id=\"T_48150_row1_col1\" class=\"data row1 col1\" >91.67</td>\n",
       "      <td id=\"T_48150_row1_col2\" class=\"data row1 col2\" >92.79</td>\n",
       "      <td id=\"T_48150_row1_col3\" class=\"data row1 col3\" >91.56</td>\n",
       "      <td id=\"T_48150_row1_col4\" class=\"data row1 col4\" >100.00</td>\n",
       "      <td id=\"T_48150_row1_col5\" class=\"data row1 col5\" >8.33</td>\n",
       "    </tr>\n",
       "    <tr>\n",
       "      <th id=\"T_48150_level0_row2\" class=\"row_heading level0 row2\" >Random Forest</th>\n",
       "      <td id=\"T_48150_row2_col0\" class=\"data row2 col0\" >88.33</td>\n",
       "      <td id=\"T_48150_row2_col1\" class=\"data row2 col1\" >88.33</td>\n",
       "      <td id=\"T_48150_row2_col2\" class=\"data row2 col2\" >89.32</td>\n",
       "      <td id=\"T_48150_row2_col3\" class=\"data row2 col3\" >88.18</td>\n",
       "      <td id=\"T_48150_row2_col4\" class=\"data row2 col4\" >96.88</td>\n",
       "      <td id=\"T_48150_row2_col5\" class=\"data row2 col5\" >11.67</td>\n",
       "    </tr>\n",
       "    <tr>\n",
       "      <th id=\"T_48150_level0_row3\" class=\"row_heading level0 row3\" >Decision Tree</th>\n",
       "      <td id=\"T_48150_row3_col0\" class=\"data row3 col0\" >78.33</td>\n",
       "      <td id=\"T_48150_row3_col1\" class=\"data row3 col1\" >78.33</td>\n",
       "      <td id=\"T_48150_row3_col2\" class=\"data row3 col2\" >78.91</td>\n",
       "      <td id=\"T_48150_row3_col3\" class=\"data row3 col3\" >78.06</td>\n",
       "      <td id=\"T_48150_row3_col4\" class=\"data row3 col4\" >87.50</td>\n",
       "      <td id=\"T_48150_row3_col5\" class=\"data row3 col5\" >21.67</td>\n",
       "    </tr>\n",
       "    <tr>\n",
       "      <th id=\"T_48150_level0_row4\" class=\"row_heading level0 row4\" >SVC</th>\n",
       "      <td id=\"T_48150_row4_col0\" class=\"data row4 col0\" >55.00</td>\n",
       "      <td id=\"T_48150_row4_col1\" class=\"data row4 col1\" >55.00</td>\n",
       "      <td id=\"T_48150_row4_col2\" class=\"data row4 col2\" >54.48</td>\n",
       "      <td id=\"T_48150_row4_col3\" class=\"data row4 col3\" >53.47</td>\n",
       "      <td id=\"T_48150_row4_col4\" class=\"data row4 col4\" >71.88</td>\n",
       "      <td id=\"T_48150_row4_col5\" class=\"data row4 col5\" >45.00</td>\n",
       "    </tr>\n",
       "    <tr>\n",
       "      <th id=\"T_48150_level0_row5\" class=\"row_heading level0 row5\" >ANN</th>\n",
       "      <td id=\"T_48150_row5_col0\" class=\"data row5 col0\" >73.33</td>\n",
       "      <td id=\"T_48150_row5_col1\" class=\"data row5 col1\" >73.33</td>\n",
       "      <td id=\"T_48150_row5_col2\" class=\"data row5 col2\" >76.76</td>\n",
       "      <td id=\"T_48150_row5_col3\" class=\"data row5 col3\" >72.88</td>\n",
       "      <td id=\"T_48150_row5_col4\" class=\"data row5 col4\" >59.38</td>\n",
       "      <td id=\"T_48150_row5_col5\" class=\"data row5 col5\" >26.67</td>\n",
       "    </tr>\n",
       "    <tr>\n",
       "      <th id=\"T_48150_level0_row6\" class=\"row_heading level0 row6\" >Naive Bayes (Gaussian)</th>\n",
       "      <td id=\"T_48150_row6_col0\" class=\"data row6 col0\" >86.67</td>\n",
       "      <td id=\"T_48150_row6_col1\" class=\"data row6 col1\" >86.67</td>\n",
       "      <td id=\"T_48150_row6_col2\" class=\"data row6 col2\" >89.33</td>\n",
       "      <td id=\"T_48150_row6_col3\" class=\"data row6 col3\" >86.30</td>\n",
       "      <td id=\"T_48150_row6_col4\" class=\"data row6 col4\" >100.00</td>\n",
       "      <td id=\"T_48150_row6_col5\" class=\"data row6 col5\" >13.33</td>\n",
       "    </tr>\n",
       "    <tr>\n",
       "      <th id=\"T_48150_level0_row7\" class=\"row_heading level0 row7\" >Naive Bayes (Bernoulli)</th>\n",
       "      <td id=\"T_48150_row7_col0\" class=\"data row7 col0\" >90.00</td>\n",
       "      <td id=\"T_48150_row7_col1\" class=\"data row7 col1\" >90.00</td>\n",
       "      <td id=\"T_48150_row7_col2\" class=\"data row7 col2\" >90.14</td>\n",
       "      <td id=\"T_48150_row7_col3\" class=\"data row7 col3\" >89.97</td>\n",
       "      <td id=\"T_48150_row7_col4\" class=\"data row7 col4\" >93.75</td>\n",
       "      <td id=\"T_48150_row7_col5\" class=\"data row7 col5\" >10.00</td>\n",
       "    </tr>\n",
       "  </tbody>\n",
       "</table>\n"
      ],
      "text/plain": [
       "<pandas.io.formats.style.Styler at 0x13fc0cec0>"
      ]
     },
     "execution_count": 32,
     "metadata": {},
     "output_type": "execute_result"
    }
   ],
   "source": [
    "model_comparison = pd.DataFrame({\n",
    "    \"Accuracy (%)\": [score * 100 for score in model_scores.values()],\n",
    "    \"Recall (%)\": [score * 100 for score in recall_scores.values()],\n",
    "    \"Precision (%)\": [score * 100 for score in precision_scores.values()],\n",
    "    \"F1 Score (%)\": [score * 100 for score in f1_scores.values()],\n",
    "    \"Specificity (%)\": [score * 100 for score in specificity_scores.values()],\n",
    "    \"Classification Error (%)\": [error * 100 for error in classification_error_scores.values()]\n",
    "    \n",
    "}, index=model_scores.keys())\n",
    "\n",
    "\n",
    "model_comparison.style.format({\"Accuracy (%)\": \"{:.2f}\", \n",
    "                               \"Recall (%)\": \"{:.2f}\",\n",
    "                               \"Precision (%)\": \"{:.2f}\", \n",
    "                               \"F1 Score (%)\": \"{:.2f}\", \n",
    "                               \"Specificity (%)\": \"{:.2f}\", \n",
    "                               \"Classification Error (%)\": \"{:.2f}\"})"
   ]
  },
  {
   "cell_type": "markdown",
   "metadata": {},
   "source": [
    "### 4.4 Ensemble Method: Max Voting (Hard & Soft)"
   ]
  },
  {
   "cell_type": "code",
   "execution_count": 33,
   "metadata": {
    "execution": {
     "iopub.execute_input": "2025-01-07T15:21:07.640897Z",
     "iopub.status.busy": "2025-01-07T15:21:07.640788Z",
     "iopub.status.idle": "2025-01-07T15:21:07.841356Z",
     "shell.execute_reply": "2025-01-07T15:21:07.841110Z"
    }
   },
   "outputs": [
    {
     "name": "stdout",
     "output_type": "stream",
     "text": [
      "VotingClassifier with hard voting model test score: 0.8333333333333334\n",
      "VotingClassifier with hard voting model test recall score: 0.8333333333333334\n",
      "VotingClassifier with hard voting model test precision score: 0.8566666666666667\n",
      "VotingClassifier with soft voting model test score: 0.8666666666666667\n",
      "VotingClassifier with soft voting model test recall score: 0.8666666666666667\n",
      "VotingClassifier with soft voting model test precision score: 0.8933333333333333\n"
     ]
    }
   ],
   "source": [
    "# Define other classifiers for VotingClassifier\n",
    "log_reg = LogisticRegression(max_iter=1500)\n",
    "rf = RandomForestClassifier(n_estimators=100)\n",
    "svc = SVC(probability=True)\n",
    "naive_bayes = GaussianNB()\n",
    "knn = KNeighborsClassifier()\n",
    "\n",
    "# Setup VotingClassifier with hard voting\n",
    "voting_hard = VotingClassifier(estimators=[('log_reg', log_reg), ('rf', rf), ('svc', svc), ('naive_bayes', naive_bayes), ('knn', knn)], voting='hard')\n",
    "\n",
    "voting_hard.fit(X_train, y_train)\n",
    "\n",
    "print(f\"VotingClassifier with hard voting model test score: {voting_hard.score(X_test, y_test)}\")\n",
    "print(f\"VotingClassifier with hard voting model test recall score: {recall_score(y_test, voting_hard.predict(X_test), average='weighted')}\")\n",
    "print(f\"VotingClassifier with hard voting model test precision score: {precision_score(y_test, voting_hard.predict(X_test), average='weighted')}\")\n",
    "\n",
    "# Setup VotingClassifier with soft voting\n",
    "voting_soft = VotingClassifier(estimators=[('log_reg', log_reg), ('rf', rf), ('svc', svc), ('naive_bayes', naive_bayes), ('knn', knn)], voting='soft')\n",
    "\n",
    "voting_soft.fit(X_train, y_train)\n",
    "\n",
    "print(f\"VotingClassifier with soft voting model test score: {voting_soft.score(X_test, y_test)}\")\n",
    "print(f\"VotingClassifier with soft voting model test recall score: {recall_score(y_test, voting_soft.predict(X_test), average='weighted')}\")\n",
    "print(f\"VotingClassifier with soft voting model test precision score: {precision_score(y_test, voting_soft.predict(X_test), average='weighted')}\")"
   ]
  },
  {
   "cell_type": "markdown",
   "metadata": {},
   "source": [
    "# 5. Hyperparameter Tuning"
   ]
  },
  {
   "cell_type": "code",
   "execution_count": 7,
   "metadata": {
    "execution": {
     "iopub.execute_input": "2025-01-07T15:21:07.842570Z",
     "iopub.status.busy": "2025-01-07T15:21:07.842491Z",
     "iopub.status.idle": "2025-01-07T15:21:07.846147Z",
     "shell.execute_reply": "2025-01-07T15:21:07.845906Z"
    }
   },
   "outputs": [],
   "source": [
    "# Define KNN hyperparameters\n",
    "knn_grid = {\n",
    "    \"n_neighbors\": np.arange(1, 21),\n",
    "    \"weights\": [\"uniform\", \"distance\"],\n",
    "    \"algorithm\": [\"auto\", \"ball_tree\", \"kd_tree\", \"brute\"],\n",
    "    \"leaf_size\": np.arange(20, 60, 5),\n",
    "    \"p\": [1, 2]\n",
    "}\n",
    "\n",
    "# Define LogisticRegression hyperparameters\n",
    "log_reg_grid = {\"C\": np.logspace(-4, 4, 20),\n",
    "                \"solver\": [\"liblinear\"]}\n",
    "\n",
    "# Define RandomForestClassifier hyperparameters\n",
    "rf_grid = {\n",
    "    \"n_estimators\": np.arange(50, 500, 50),  \n",
    "    \"max_depth\": [None, 5, 10],              \n",
    "    \"min_samples_split\": np.arange(2, 10, 2),\n",
    "    \"min_samples_leaf\": np.arange(1, 10, 2)\n",
    "}\n",
    "\n",
    "# Define DecisionTreeClassifier hyperparameter\n",
    "dt_grid = {\n",
    "    \"max_depth\": [None, 3, 5, 10, 20],\n",
    "    \"min_samples_split\": np.arange(2, 20, 2),\n",
    "    \"min_samples_leaf\": np.arange(1, 20, 2),\n",
    "    \"max_features\": [None, \"sqrt\", \"log2\"]\n",
    "}\n",
    "\n",
    "# Define SVC linear hyperparameters\n",
    "svc_grid_linear = {\n",
    "    \"C\": np.logspace(-2, 2, 5),\n",
    "    \"kernel\": [\"linear\"],\n",
    "    \"gamma\": [\"scale\"]\n",
    "}\n",
    "\n",
    "# Define SVC RBF hyperparameters\n",
    "svc_grid_rbf = {\n",
    "    \"C\": np.logspace(-4, 4, 20),\n",
    "    \"kernel\": [\"rbf\"],\n",
    "    \"gamma\": [\"scale\", \"auto\"]\n",
    "}\n",
    "\n",
    "# Define SVC poly hyperparameters\n",
    "svc_grid_poly = {\n",
    "    \"C\": np.logspace(-2, 2, 5),\n",
    "    \"kernel\": [\"poly\"],\n",
    "    \"degree\": [2, 3],  # Fewer degrees\n",
    "    \"gamma\": [\"scale\"]\n",
    "}\n",
    "\n",
    "# Define SVC sigmoid hyperparameters\n",
    "svc_grid_sigmoid = {\n",
    "    \"C\": np.logspace(-2, 2, 5),\n",
    "    \"kernel\": [\"sigmoid\"],\n",
    "    \"gamma\": [\"scale\", \"auto\"]\n",
    "}\n",
    "\n",
    "# Define ANN hyperparameters\n",
    "ann_grid = {\n",
    "    \"hidden_layer_sizes\": [(50,), (100,), (50, 50)],\n",
    "    \"activation\": [\"tanh\", \"relu\"], # Activation function\n",
    "    \"solver\": [\"adam\", \"sgd\"],\n",
    "    \"alpha\": np.logspace(-4, 4, 10),\n",
    "    \"learning_rate\": [\"constant\", \"adaptive\"]\n",
    "}\n",
    "\n",
    "# Define Naive Bayes (Gaussian) hyperparameters\n",
    "nb_gaussian_grid = {\n",
    "    \"var_smoothing\": np.logspace(-9, 0, 10)  # Smoothing parameter\n",
    "}\n",
    "\n",
    "# Define Naive Bayes (Bernoulli) hyperparameters\n",
    "nb_bernoulli_grid = {\n",
    "    \"alpha\": np.logspace(-4, 4, 20),  # Additive smoothing parameter\n",
    "    \"binarize\": [0.0, 0.1, 0.2, 0.3],  # Threshold for binarizing input\n",
    "}\n",
    "\n",
    "# Define VortingClassifier hyperparameters\n",
    "voting_grid = {\n",
    "    'voting': ['hard', 'soft'],  # Hard and soft voting\n",
    "    'weights': [[1, 1, 1, 1], [2, 1, 1, 1], [1, 2, 1, 1], [1, 1, 2, 1]],  # Weighted voting\n",
    "    'flatten_transform': [True, False]\n",
    "}"
   ]
  },
  {
   "cell_type": "markdown",
   "metadata": {},
   "source": [
    "### 5.1 Tune KNeighborsClassifier (KNN) by hand"
   ]
  },
  {
   "cell_type": "code",
   "execution_count": 35,
   "metadata": {
    "execution": {
     "iopub.execute_input": "2025-01-07T15:21:07.847211Z",
     "iopub.status.busy": "2025-01-07T15:21:07.847133Z",
     "iopub.status.idle": "2025-01-07T15:21:07.989824Z",
     "shell.execute_reply": "2025-01-07T15:21:07.989458Z"
    }
   },
   "outputs": [],
   "source": [
    "# Create a list of train scores\n",
    "train_scores = []\n",
    "\n",
    "# Create a list of test scores\n",
    "test_scores = []\n",
    "\n",
    "# Create a list of different values for n_neighbors\n",
    "neighbors = range(1, 21) # 1 to 20\n",
    "\n",
    "# Setup algorithm\n",
    "knn = KNeighborsClassifier()\n",
    "\n",
    "# Loop through different neighbors values\n",
    "for i in neighbors:\n",
    "    knn.set_params(n_neighbors = i) # set neighbors value\n",
    "    \n",
    "    # Fit the algorithm\n",
    "    knn.fit(X_train, y_train)\n",
    "    \n",
    "    # Update the training scores\n",
    "    train_scores.append(knn.score(X_train, y_train))\n",
    "    \n",
    "    # Update the test scores\n",
    "    test_scores.append(knn.score(X_test, y_test))"
   ]
  },
  {
   "cell_type": "code",
   "execution_count": 36,
   "metadata": {
    "execution": {
     "iopub.execute_input": "2025-01-07T15:21:07.992374Z",
     "iopub.status.busy": "2025-01-07T15:21:07.991756Z",
     "iopub.status.idle": "2025-01-07T15:21:07.995888Z",
     "shell.execute_reply": "2025-01-07T15:21:07.995290Z"
    }
   },
   "outputs": [
    {
     "data": {
      "text/plain": [
       "[1.0,\n",
       " 0.7974683544303798,\n",
       " 0.7763713080168776,\n",
       " 0.7763713080168776,\n",
       " 0.759493670886076,\n",
       " 0.7426160337552743,\n",
       " 0.7679324894514767,\n",
       " 0.7468354430379747,\n",
       " 0.7468354430379747,\n",
       " 0.7172995780590717,\n",
       " 0.729957805907173,\n",
       " 0.7215189873417721,\n",
       " 0.729957805907173,\n",
       " 0.7130801687763713,\n",
       " 0.7130801687763713,\n",
       " 0.7130801687763713,\n",
       " 0.7130801687763713,\n",
       " 0.7088607594936709,\n",
       " 0.7130801687763713,\n",
       " 0.7130801687763713]"
      ]
     },
     "execution_count": 36,
     "metadata": {},
     "output_type": "execute_result"
    }
   ],
   "source": [
    "# KNN's train scores\n",
    "train_scores"
   ]
  },
  {
   "cell_type": "code",
   "execution_count": 37,
   "metadata": {
    "execution": {
     "iopub.execute_input": "2025-01-07T15:21:07.997486Z",
     "iopub.status.busy": "2025-01-07T15:21:07.997381Z",
     "iopub.status.idle": "2025-01-07T15:21:08.069432Z",
     "shell.execute_reply": "2025-01-07T15:21:08.069141Z"
    }
   },
   "outputs": [
    {
     "name": "stdout",
     "output_type": "stream",
     "text": [
      "Maximum KNN score on the test data: 66.67%\n"
     ]
    },
    {
     "data": {
      "image/png": "[encoded data removed]",
      "text/plain": [
       "<Figure size 640x480 with 1 Axes>"
      ]
     },
     "metadata": {},
     "output_type": "display_data"
    }
   ],
   "source": [
    "#Let's visualize KNN score test and train data\n",
    "plt.plot(neighbors, train_scores, label=\"Train score\")\n",
    "plt.plot(neighbors, test_scores, label=\"Test score\")\n",
    "plt.xticks(np.arange(1, 21, 1))\n",
    "plt.xlabel(\"Number of neighbors\")\n",
    "plt.ylabel(\"Model score\")\n",
    "plt.legend()\n",
    "\n",
    "print(f\"Maximum KNN score on the test data: {max(test_scores)*100:.2f}%\")"
   ]
  },
  {
   "cell_type": "markdown",
   "metadata": {},
   "source": [
    "### 5.2 Tuning models with with RandomizedSearchCV"
   ]
  },
  {
   "cell_type": "code",
   "execution_count": 38,
   "metadata": {
    "execution": {
     "iopub.execute_input": "2025-01-07T15:21:08.070811Z",
     "iopub.status.busy": "2025-01-07T15:21:08.070696Z",
     "iopub.status.idle": "2025-01-07T15:21:08.386590Z",
     "shell.execute_reply": "2025-01-07T15:21:08.386241Z"
    }
   },
   "outputs": [
    {
     "name": "stdout",
     "output_type": "stream",
     "text": [
      "Fitting 5 folds for each of 20 candidates, totalling 100 fits\n"
     ]
    },
    {
     "name": "stdout",
     "output_type": "stream",
     "text": [
      "Best parameters for KNN with RandomizedSearchCV: {'weights': 'uniform', 'p': 1, 'n_neighbors': np.int64(6), 'leaf_size': np.int64(35), 'algorithm': 'auto'}\n",
      "RandomizedSearchCV (KNN) model test score: 0.6666666666666666\n"
     ]
    }
   ],
   "source": [
    "# KNeighborsClassifier with RandomizedSearchCV\n",
    "\n",
    "# Setup random hyperparameter search for KNN\n",
    "rs_knn = RandomizedSearchCV(KNeighborsClassifier(),\n",
    "                            param_distributions=knn_grid,\n",
    "                            cv=5,\n",
    "                            n_iter=20,\n",
    "                            verbose=True)\n",
    "\n",
    "# Fit random hyperparameter search model\n",
    "rs_knn.fit(X_train, y_train)\n",
    "\n",
    "print(\"Best parameters for KNN with RandomizedSearchCV:\", rs_knn.best_params_)\n",
    "\n",
    "print(\"RandomizedSearchCV (KNN) model test score:\", rs_knn.score(X_test, y_test))"
   ]
  },
  {
   "cell_type": "code",
   "execution_count": 8,
   "metadata": {
    "execution": {
     "iopub.execute_input": "2025-01-07T15:21:08.387903Z",
     "iopub.status.busy": "2025-01-07T15:21:08.387793Z",
     "iopub.status.idle": "2025-01-07T15:21:08.620360Z",
     "shell.execute_reply": "2025-01-07T15:21:08.620023Z"
    }
   },
   "outputs": [
    {
     "name": "stdout",
     "output_type": "stream",
     "text": [
      "Fitting 5 folds for each of 20 candidates, totalling 100 fits\n",
      "Best parameters for Logistic Regression with RandomizedSearchCV: {'solver': 'liblinear', 'C': np.float64(0.08858667904100823)}\n",
      "RandomizedSearchCV (Logistic Regression) model test score: 0.9\n"
     ]
    }
   ],
   "source": [
    "# Logistic Regression with RandomizedSearchCV\n",
    "\n",
    "# Setup random hyperparameter search for LogisticRegression\n",
    "rs_log_reg = RandomizedSearchCV(LogisticRegression(),\n",
    "                                param_distributions=log_reg_grid,\n",
    "                                cv=5,\n",
    "                                n_iter=20,\n",
    "                                verbose=True)\n",
    "\n",
    "# Fit random hyperparameter search model\n",
    "rs_log_reg.fit(X_train, y_train)\n",
    "\n",
    "print(\"Best parameters for Logistic Regression with RandomizedSearchCV:\", rs_log_reg.best_params_)\n",
    "\n",
    "print(\"RandomizedSearchCV (Logistic Regression) model test score:\", rs_log_reg.score(X_test, y_test))"
   ]
  },
  {
   "cell_type": "code",
   "execution_count": 40,
   "metadata": {
    "execution": {
     "iopub.execute_input": "2025-01-07T15:21:08.621672Z",
     "iopub.status.busy": "2025-01-07T15:21:08.621577Z",
     "iopub.status.idle": "2025-01-07T15:21:22.339271Z",
     "shell.execute_reply": "2025-01-07T15:21:22.338949Z"
    }
   },
   "outputs": [
    {
     "name": "stdout",
     "output_type": "stream",
     "text": [
      "Fitting 5 folds for each of 20 candidates, totalling 100 fits\n"
     ]
    },
    {
     "name": "stdout",
     "output_type": "stream",
     "text": [
      "Best parameters for Random Forest with RandomizedSearchCV: {'n_estimators': np.int64(100), 'min_samples_split': np.int64(2), 'min_samples_leaf': np.int64(3), 'max_depth': 5}\n",
      "RandomizedSearchCV (Random Forest) model test score: 0.8333333333333334\n"
     ]
    }
   ],
   "source": [
    "# RandomForestClassifier with RandomizedSearchCV\n",
    "\n",
    "# Setup random hyperparameter search for RandomForestClassifier\n",
    "rs_rf = RandomizedSearchCV(RandomForestClassifier(),\n",
    "                           param_distributions=rf_grid,\n",
    "                           cv=5,\n",
    "                           n_iter=20,\n",
    "                           verbose=True)\n",
    "\n",
    "# Fit random hyperparameter search model\n",
    "rs_rf.fit(X_train, y_train)\n",
    "\n",
    "print('Best parameters for Random Forest with RandomizedSearchCV:', rs_rf.best_params_)\n",
    "\n",
    "print('RandomizedSearchCV (Random Forest) model test score:', rs_rf.score(X_test, y_test))"
   ]
  },
  {
   "cell_type": "code",
   "execution_count": 41,
   "metadata": {
    "execution": {
     "iopub.execute_input": "2025-01-07T15:21:22.340560Z",
     "iopub.status.busy": "2025-01-07T15:21:22.340464Z",
     "iopub.status.idle": "2025-01-07T15:21:22.463463Z",
     "shell.execute_reply": "2025-01-07T15:21:22.463192Z"
    }
   },
   "outputs": [
    {
     "name": "stdout",
     "output_type": "stream",
     "text": [
      "Fitting 5 folds for each of 20 candidates, totalling 100 fits\n",
      "Best parameters for Decision Tree with RandomizedSearchCV: {'min_samples_split': np.int64(14), 'min_samples_leaf': np.int64(7), 'max_features': None, 'max_depth': 3}\n",
      "RandomizedSearchCV (Decision Tree) model test score: 0.7666666666666667\n"
     ]
    }
   ],
   "source": [
    "# DecisionTreeClassifier with RandomizedSearchCV\n",
    "\n",
    "# Setup random hyperparameter search for DecisionTreeClassifier\n",
    "rs_dt = RandomizedSearchCV(\n",
    "    DecisionTreeClassifier(),\n",
    "    param_distributions=dt_grid,\n",
    "    cv=5,\n",
    "    n_iter=20,\n",
    "    verbose=True,\n",
    "    random_state=42\n",
    ")\n",
    "\n",
    "# Fit the random hyperparameter search model\n",
    "rs_dt.fit(X_train, y_train)\n",
    "\n",
    "print(\"Best parameters for Decision Tree with RandomizedSearchCV:\", rs_dt.best_params_)\n",
    "\n",
    "print(\"RandomizedSearchCV (Decision Tree) model test score:\", rs_dt.score(X_test, y_test))"
   ]
  },
  {
   "cell_type": "code",
   "execution_count": 42,
   "metadata": {
    "execution": {
     "iopub.execute_input": "2025-01-07T15:21:22.464682Z",
     "iopub.status.busy": "2025-01-07T15:21:22.464600Z",
     "iopub.status.idle": "2025-01-07T15:21:35.666993Z",
     "shell.execute_reply": "2025-01-07T15:21:35.666731Z"
    }
   },
   "outputs": [
    {
     "name": "stdout",
     "output_type": "stream",
     "text": [
      "Fitting 3 folds for each of 5 candidates, totalling 15 fits\n"
     ]
    },
    {
     "name": "stderr",
     "output_type": "stream",
     "text": [
      "/opt/miniconda3/envs/data_mining/lib/python3.13/site-packages/sklearn/model_selection/_search.py:317: UserWarning: The total space of parameters 5 is smaller than n_iter=10. Running 5 iterations. For exhaustive searches, use GridSearchCV.\n",
      "  warnings.warn(\n"
     ]
    },
    {
     "name": "stdout",
     "output_type": "stream",
     "text": [
      "Best parameters for SVC (linear) with RandomizedSearchCV: {'kernel': 'linear', 'gamma': 'scale', 'C': np.float64(0.01)}\n",
      "RandomizedSearchCV (SVC linear) model test score: 0.8666666666666667\n"
     ]
    }
   ],
   "source": [
    "# SVC with linear kernel and RandomizedSearchCV\n",
    "\n",
    "# Setup random hyperparameter search for SVC\n",
    "rs_svc_linear = RandomizedSearchCV(SVC(),\n",
    "                            param_distributions=svc_grid_linear,\n",
    "                            cv=3,\n",
    "                            n_iter=10,\n",
    "                            verbose=True)\n",
    "\n",
    "# Fit random hyperparameter search model\n",
    "rs_svc_linear.fit(X_train, y_train)\n",
    "\n",
    "print(\"Best parameters for SVC (linear) with RandomizedSearchCV:\", rs_svc_linear.best_params_)\n",
    "\n",
    "print(\"RandomizedSearchCV (SVC linear) model test score:\", rs_svc_linear.score(X_test, y_test))"
   ]
  },
  {
   "cell_type": "code",
   "execution_count": 43,
   "metadata": {
    "execution": {
     "iopub.execute_input": "2025-01-07T15:21:35.668269Z",
     "iopub.status.busy": "2025-01-07T15:21:35.668166Z",
     "iopub.status.idle": "2025-01-07T15:21:35.768311Z",
     "shell.execute_reply": "2025-01-07T15:21:35.768062Z"
    }
   },
   "outputs": [
    {
     "name": "stdout",
     "output_type": "stream",
     "text": [
      "Fitting 3 folds for each of 10 candidates, totalling 30 fits\n",
      "Best parameters for SVC (RBF) with RandomizedSearchCV: {'kernel': 'rbf', 'gamma': 'scale', 'C': np.float64(10000.0)}\n",
      "RandomizedSearchCV (SVC RBF) model test score: 0.8833333333333333\n"
     ]
    }
   ],
   "source": [
    "# SVC with RBF kernel and RandomizedSearchCV\n",
    "\n",
    "# Setup random hyperparameter search for SVC\n",
    "rs_svc_rbf = RandomizedSearchCV(SVC(),\n",
    "                                param_distributions=svc_grid_rbf,\n",
    "                                cv=3,\n",
    "                                n_iter=10,\n",
    "                                verbose=True)\n",
    "\n",
    "# Fit random hyperparameter search model\n",
    "rs_svc_rbf.fit(X_train, y_train)\n",
    "\n",
    "print(\"Best parameters for SVC (RBF) with RandomizedSearchCV:\", rs_svc_rbf.best_params_)\n",
    "\n",
    "print(\"RandomizedSearchCV (SVC RBF) model test score:\", rs_svc_rbf.score(X_test, y_test))"
   ]
  },
  {
   "cell_type": "code",
   "execution_count": 44,
   "metadata": {
    "execution": {
     "iopub.execute_input": "2025-01-07T15:21:35.769468Z",
     "iopub.status.busy": "2025-01-07T15:21:35.769390Z",
     "iopub.status.idle": "2025-01-07T15:21:35.830764Z",
     "shell.execute_reply": "2025-01-07T15:21:35.830524Z"
    }
   },
   "outputs": [
    {
     "name": "stdout",
     "output_type": "stream",
     "text": [
      "Fitting 3 folds for each of 10 candidates, totalling 30 fits\n",
      "Best parameters for SVC (poly) with RandomizedSearchCV: {'kernel': 'poly', 'gamma': 'scale', 'degree': 3, 'C': np.float64(100.0)}\n",
      "RandomizedSearchCV (SVC poly) model test score: 0.7833333333333333\n"
     ]
    }
   ],
   "source": [
    "\n",
    "# SVC with poly kernel and RandomizedSearchCV\n",
    "\n",
    "# Setup random hyperparameter search for SVC\n",
    "rs_svc_poly = RandomizedSearchCV(SVC(),\n",
    "                                param_distributions=svc_grid_poly,\n",
    "                                cv=3,\n",
    "                                n_iter=10,\n",
    "                                verbose=True)\n",
    "\n",
    "# Fit random hyperparameter search model\n",
    "rs_svc_poly.fit(X_train, y_train)\n",
    "\n",
    "print(\"Best parameters for SVC (poly) with RandomizedSearchCV:\", rs_svc_poly.best_params_)\n",
    "\n",
    "print(\"RandomizedSearchCV (SVC poly) model test score:\", rs_svc_poly.score(X_test, y_test))\n"
   ]
  },
  {
   "cell_type": "code",
   "execution_count": 45,
   "metadata": {
    "execution": {
     "iopub.execute_input": "2025-01-07T15:21:35.831894Z",
     "iopub.status.busy": "2025-01-07T15:21:35.831812Z",
     "iopub.status.idle": "2025-01-07T15:21:35.885582Z",
     "shell.execute_reply": "2025-01-07T15:21:35.885352Z"
    }
   },
   "outputs": [
    {
     "name": "stdout",
     "output_type": "stream",
     "text": [
      "Fitting 3 folds for each of 10 candidates, totalling 30 fits\n"
     ]
    },
    {
     "name": "stdout",
     "output_type": "stream",
     "text": [
      "Best parameters for SVC (sigmoid) with RandomizedSearchCV: {'kernel': 'sigmoid', 'gamma': 'scale', 'C': np.float64(10.0)}\n",
      "RandomizedSearchCV (SVC sigmoid) model test score: 0.5666666666666667\n"
     ]
    }
   ],
   "source": [
    "# SVC with sigmoid kernel and RandomizedSearchCV\n",
    "\n",
    "# Setup random hyperparameter search for SVC\n",
    "rs_svc_sigmoid = RandomizedSearchCV(SVC(),\n",
    "                                param_distributions=svc_grid_sigmoid,\n",
    "                                cv=3,\n",
    "                                n_iter=10,\n",
    "                                verbose=True)\n",
    "\n",
    "# Fit random hyperparameter search model\n",
    "rs_svc_sigmoid.fit(X_train, y_train)\n",
    "\n",
    "print(\"Best parameters for SVC (sigmoid) with RandomizedSearchCV:\", rs_svc_sigmoid.best_params_)\n",
    "\n",
    "print(\"RandomizedSearchCV (SVC sigmoid) model test score:\", rs_svc_sigmoid.score(X_test, y_test))"
   ]
  },
  {
   "cell_type": "code",
   "execution_count": 46,
   "metadata": {
    "execution": {
     "iopub.execute_input": "2025-01-07T15:21:35.886667Z",
     "iopub.status.busy": "2025-01-07T15:21:35.886582Z",
     "iopub.status.idle": "2025-01-07T15:21:50.896026Z",
     "shell.execute_reply": "2025-01-07T15:21:50.895753Z"
    }
   },
   "outputs": [
    {
     "name": "stdout",
     "output_type": "stream",
     "text": [
      "Fitting 5 folds for each of 20 candidates, totalling 100 fits\n"
     ]
    },
    {
     "name": "stderr",
     "output_type": "stream",
     "text": [
      "/opt/miniconda3/envs/data_mining/lib/python3.13/site-packages/sklearn/neural_network/_multilayer_perceptron.py:691: ConvergenceWarning: Stochastic Optimizer: Maximum iterations (3000) reached and the optimization hasn't converged yet.\n",
      "  warnings.warn(\n"
     ]
    },
    {
     "name": "stderr",
     "output_type": "stream",
     "text": [
      "/opt/miniconda3/envs/data_mining/lib/python3.13/site-packages/sklearn/neural_network/_multilayer_perceptron.py:691: ConvergenceWarning: Stochastic Optimizer: Maximum iterations (3000) reached and the optimization hasn't converged yet.\n",
      "  warnings.warn(\n"
     ]
    },
    {
     "name": "stderr",
     "output_type": "stream",
     "text": [
      "/opt/miniconda3/envs/data_mining/lib/python3.13/site-packages/sklearn/neural_network/_multilayer_perceptron.py:691: ConvergenceWarning: Stochastic Optimizer: Maximum iterations (3000) reached and the optimization hasn't converged yet.\n",
      "  warnings.warn(\n"
     ]
    },
    {
     "name": "stdout",
     "output_type": "stream",
     "text": [
      "Best parameters for ANN with RandomizedSearchCV: {'solver': 'adam', 'learning_rate': 'constant', 'hidden_layer_sizes': (100,), 'alpha': np.float64(21.54434690031882), 'activation': 'relu'}\n",
      "RandomizedSearchCV (ANN) model test score: 0.7333333333333333\n"
     ]
    }
   ],
   "source": [
    "# ANN with RandomizedSearchCV\n",
    "\n",
    "# Setup random hyperparameter search for ANN\n",
    "rs_ann = RandomizedSearchCV(MLPClassifier(max_iter=3000),\n",
    "                            param_distributions=ann_grid,\n",
    "                            cv=5,\n",
    "                            n_iter=20,\n",
    "                            verbose=True)\n",
    "\n",
    "# Fit random hyperparameter search model\n",
    "rs_ann.fit(X_train, y_train)\n",
    "\n",
    "print(\"Best parameters for ANN with RandomizedSearchCV:\", rs_ann.best_params_)\n",
    "\n",
    "print(\"RandomizedSearchCV (ANN) model test score:\", rs_ann.score(X_test, y_test))"
   ]
  },
  {
   "cell_type": "code",
   "execution_count": 47,
   "metadata": {
    "execution": {
     "iopub.execute_input": "2025-01-07T15:21:50.897401Z",
     "iopub.status.busy": "2025-01-07T15:21:50.897293Z",
     "iopub.status.idle": "2025-01-07T15:21:50.950981Z",
     "shell.execute_reply": "2025-01-07T15:21:50.950736Z"
    }
   },
   "outputs": [
    {
     "name": "stdout",
     "output_type": "stream",
     "text": [
      "Fitting 5 folds for each of 10 candidates, totalling 50 fits\n",
      "Best parameters for Gaussian Naive Bayes with RandomizedSearchCV: {'var_smoothing': np.float64(0.0001)}\n",
      "RandomizedSearchCV (Gaussian Naive Bayes) model test score: 0.8333333333333334\n"
     ]
    }
   ],
   "source": [
    "# Gaussian Naive Bayes with RandomizedSearchCV\n",
    "\n",
    "# Setup random hyperparameter search for GaussianNB\n",
    "rs_nb_gaussian = RandomizedSearchCV(GaussianNB(), \n",
    "                                    param_distributions=nb_gaussian_grid, \n",
    "                                    cv=5, \n",
    "                                    n_iter=10, \n",
    "                                    verbose=True, \n",
    "                                    random_state=42)\n",
    "\n",
    "# Fit random hyperparameter search model\n",
    "rs_nb_gaussian.fit(X_train, y_train)\n",
    "\n",
    "print(\"Best parameters for Gaussian Naive Bayes with RandomizedSearchCV:\", rs_nb_gaussian.best_params_)\n",
    "\n",
    "print(\"RandomizedSearchCV (Gaussian Naive Bayes) model test score:\", rs_nb_gaussian.score(X_test, y_test))"
   ]
  },
  {
   "cell_type": "code",
   "execution_count": 48,
   "metadata": {
    "execution": {
     "iopub.execute_input": "2025-01-07T15:21:50.952135Z",
     "iopub.status.busy": "2025-01-07T15:21:50.952054Z",
     "iopub.status.idle": "2025-01-07T15:21:51.072319Z",
     "shell.execute_reply": "2025-01-07T15:21:51.072091Z"
    }
   },
   "outputs": [
    {
     "name": "stdout",
     "output_type": "stream",
     "text": [
      "Fitting 5 folds for each of 20 candidates, totalling 100 fits\n",
      "Best parameters for Bernoulli Naive Bayes with RandomizedSearchCV: {'binarize': 0.1, 'alpha': np.float64(206.913808111479)}\n",
      "RandomizedSearchCV (Bernoulli Naive Bayes) model test score: 0.8833333333333333\n"
     ]
    }
   ],
   "source": [
    "# Bernoulli Naive Bayes with RandomizedSearchCV\n",
    "\n",
    "# Setup random hyperparameter search for BernoulliNB\n",
    "rs_nb_bernoulli = RandomizedSearchCV(BernoulliNB(), \n",
    "                                     param_distributions=nb_bernoulli_grid, \n",
    "                                     cv=5, \n",
    "                                     n_iter=20, \n",
    "                                     verbose=True, \n",
    "                                     random_state=42)\n",
    "\n",
    "# Fit random hyperparameter search model\n",
    "rs_nb_bernoulli.fit(X_train, y_train)\n",
    "\n",
    "print(\"Best parameters for Bernoulli Naive Bayes with RandomizedSearchCV:\", rs_nb_bernoulli.best_params_)\n",
    "\n",
    "print(\"RandomizedSearchCV (Bernoulli Naive Bayes) model test score:\", rs_nb_bernoulli.score(X_test, y_test))"
   ]
  },
  {
   "cell_type": "code",
   "execution_count": 49,
   "metadata": {
    "execution": {
     "iopub.execute_input": "2025-01-07T15:21:51.073530Z",
     "iopub.status.busy": "2025-01-07T15:21:51.073450Z",
     "iopub.status.idle": "2025-01-07T15:21:55.403660Z",
     "shell.execute_reply": "2025-01-07T15:21:55.403395Z"
    }
   },
   "outputs": [
    {
     "name": "stdout",
     "output_type": "stream",
     "text": [
      "Fitting 5 folds for each of 10 candidates, totalling 50 fits\n"
     ]
    },
    {
     "name": "stdout",
     "output_type": "stream",
     "text": [
      "Best parameters for VotingClassifier with RandomizedSearchCV: {'weights': [1, 1, 2, 1], 'voting': 'hard', 'flatten_transform': True}\n",
      "RandomizedSearchCV (VotingClassifier) model test score: 0.8666666666666667\n"
     ]
    }
   ],
   "source": [
    "# VotingClassifier with RandomizedSearchCV\n",
    "\n",
    "# Setup random hyperparameter search for VotingClassifier\n",
    "rs_voting = RandomizedSearchCV(VotingClassifier(estimators=[('log_reg', log_reg), ('rf', rf), \n",
    "                                                            # ('svc', svc), \n",
    "                                                            ('naive_bayes', naive_bayes), ('knn', knn)], voting='soft'),\n",
    "                               param_distributions=voting_grid,\n",
    "                               cv=5,\n",
    "                               n_iter=10,\n",
    "                               verbose=True)\n",
    "\n",
    "rs_voting.fit(X_train, y_train)\n",
    "\n",
    "print(\"Best parameters for VotingClassifier with RandomizedSearchCV:\", rs_voting.best_params_)\n",
    "\n",
    "print(\"RandomizedSearchCV (VotingClassifier) model test score:\", rs_voting.score(X_test, y_test))"
   ]
  },
  {
   "cell_type": "code",
   "execution_count": 50,
   "metadata": {
    "execution": {
     "iopub.execute_input": "2025-01-07T15:21:55.404974Z",
     "iopub.status.busy": "2025-01-07T15:21:55.404886Z",
     "iopub.status.idle": "2025-01-07T15:21:55.577909Z",
     "shell.execute_reply": "2025-01-07T15:21:55.577638Z"
    }
   },
   "outputs": [
    {
     "data": {
      "text/html": [
       "<style type=\"text/css\">\n",
       "</style>\n",
       "<table id=\"T_af362\">\n",
       "  <thead>\n",
       "    <tr>\n",
       "      <th class=\"blank level0\" >&nbsp;</th>\n",
       "      <th id=\"T_af362_level0_col0\" class=\"col_heading level0 col0\" >Accuracy</th>\n",
       "      <th id=\"T_af362_level0_col1\" class=\"col_heading level0 col1\" >Precision</th>\n",
       "      <th id=\"T_af362_level0_col2\" class=\"col_heading level0 col2\" >Recall (Sensitivity)</th>\n",
       "      <th id=\"T_af362_level0_col3\" class=\"col_heading level0 col3\" >Classification Error</th>\n",
       "      <th id=\"T_af362_level0_col4\" class=\"col_heading level0 col4\" >Specificity</th>\n",
       "      <th id=\"T_af362_level0_col5\" class=\"col_heading level0 col5\" >F1 Score</th>\n",
       "    </tr>\n",
       "  </thead>\n",
       "  <tbody>\n",
       "    <tr>\n",
       "      <th id=\"T_af362_level0_row0\" class=\"row_heading level0 row0\" >KNN</th>\n",
       "      <td id=\"T_af362_row0_col0\" class=\"data row0 col0\" >66.67%</td>\n",
       "      <td id=\"T_af362_row0_col1\" class=\"data row0 col1\" >67.99%</td>\n",
       "      <td id=\"T_af362_row0_col2\" class=\"data row0 col2\" >66.67%</td>\n",
       "      <td id=\"T_af362_row0_col3\" class=\"data row0 col3\" >33.33%</td>\n",
       "      <td id=\"T_af362_row0_col4\" class=\"data row0 col4\" >50.00%</td>\n",
       "      <td id=\"T_af362_row0_col5\" class=\"data row0 col5\" >65.30%</td>\n",
       "    </tr>\n",
       "    <tr>\n",
       "      <th id=\"T_af362_level0_row1\" class=\"row_heading level0 row1\" >Logistic Regression</th>\n",
       "      <td id=\"T_af362_row1_col0\" class=\"data row1 col0\" >90.00%</td>\n",
       "      <td id=\"T_af362_row1_col1\" class=\"data row1 col1\" >91.58%</td>\n",
       "      <td id=\"T_af362_row1_col2\" class=\"data row1 col2\" >90.00%</td>\n",
       "      <td id=\"T_af362_row1_col3\" class=\"data row1 col3\" >10.00%</td>\n",
       "      <td id=\"T_af362_row1_col4\" class=\"data row1 col4\" >50.00%</td>\n",
       "      <td id=\"T_af362_row1_col5\" class=\"data row1 col5\" >89.83%</td>\n",
       "    </tr>\n",
       "    <tr>\n",
       "      <th id=\"T_af362_level0_row2\" class=\"row_heading level0 row2\" >Random Forest</th>\n",
       "      <td id=\"T_af362_row2_col0\" class=\"data row2 col0\" >83.33%</td>\n",
       "      <td id=\"T_af362_row2_col1\" class=\"data row2 col1\" >85.67%</td>\n",
       "      <td id=\"T_af362_row2_col2\" class=\"data row2 col2\" >83.33%</td>\n",
       "      <td id=\"T_af362_row2_col3\" class=\"data row2 col3\" >16.67%</td>\n",
       "      <td id=\"T_af362_row2_col4\" class=\"data row2 col4\" >50.00%</td>\n",
       "      <td id=\"T_af362_row2_col5\" class=\"data row2 col5\" >82.87%</td>\n",
       "    </tr>\n",
       "    <tr>\n",
       "      <th id=\"T_af362_level0_row3\" class=\"row_heading level0 row3\" >Decision Tree</th>\n",
       "      <td id=\"T_af362_row3_col0\" class=\"data row3 col0\" >76.67%</td>\n",
       "      <td id=\"T_af362_row3_col1\" class=\"data row3 col1\" >76.68%</td>\n",
       "      <td id=\"T_af362_row3_col2\" class=\"data row3 col2\" >76.67%</td>\n",
       "      <td id=\"T_af362_row3_col3\" class=\"data row3 col3\" >23.33%</td>\n",
       "      <td id=\"T_af362_row3_col4\" class=\"data row3 col4\" >50.00%</td>\n",
       "      <td id=\"T_af362_row3_col5\" class=\"data row3 col5\" >76.59%</td>\n",
       "    </tr>\n",
       "    <tr>\n",
       "      <th id=\"T_af362_level0_row4\" class=\"row_heading level0 row4\" >SVC (Linear)</th>\n",
       "      <td id=\"T_af362_row4_col0\" class=\"data row4 col0\" >86.67%</td>\n",
       "      <td id=\"T_af362_row4_col1\" class=\"data row4 col1\" >89.33%</td>\n",
       "      <td id=\"T_af362_row4_col2\" class=\"data row4 col2\" >86.67%</td>\n",
       "      <td id=\"T_af362_row4_col3\" class=\"data row4 col3\" >13.33%</td>\n",
       "      <td id=\"T_af362_row4_col4\" class=\"data row4 col4\" >50.00%</td>\n",
       "      <td id=\"T_af362_row4_col5\" class=\"data row4 col5\" >86.30%</td>\n",
       "    </tr>\n",
       "    <tr>\n",
       "      <th id=\"T_af362_level0_row5\" class=\"row_heading level0 row5\" >SVC (RBF)</th>\n",
       "      <td id=\"T_af362_row5_col0\" class=\"data row5 col0\" >88.33%</td>\n",
       "      <td id=\"T_af362_row5_col1\" class=\"data row5 col1\" >89.32%</td>\n",
       "      <td id=\"T_af362_row5_col2\" class=\"data row5 col2\" >88.33%</td>\n",
       "      <td id=\"T_af362_row5_col3\" class=\"data row5 col3\" >11.67%</td>\n",
       "      <td id=\"T_af362_row5_col4\" class=\"data row5 col4\" >50.00%</td>\n",
       "      <td id=\"T_af362_row5_col5\" class=\"data row5 col5\" >88.18%</td>\n",
       "    </tr>\n",
       "    <tr>\n",
       "      <th id=\"T_af362_level0_row6\" class=\"row_heading level0 row6\" >SVC (Poly)</th>\n",
       "      <td id=\"T_af362_row6_col0\" class=\"data row6 col0\" >78.33%</td>\n",
       "      <td id=\"T_af362_row6_col1\" class=\"data row6 col1\" >78.48%</td>\n",
       "      <td id=\"T_af362_row6_col2\" class=\"data row6 col2\" >78.33%</td>\n",
       "      <td id=\"T_af362_row6_col3\" class=\"data row6 col3\" >21.67%</td>\n",
       "      <td id=\"T_af362_row6_col4\" class=\"data row6 col4\" >50.00%</td>\n",
       "      <td id=\"T_af362_row6_col5\" class=\"data row6 col5\" >78.21%</td>\n",
       "    </tr>\n",
       "    <tr>\n",
       "      <th id=\"T_af362_level0_row7\" class=\"row_heading level0 row7\" >SVC (Sigmoid)</th>\n",
       "      <td id=\"T_af362_row7_col0\" class=\"data row7 col0\" >56.67%</td>\n",
       "      <td id=\"T_af362_row7_col1\" class=\"data row7 col1\" >56.33%</td>\n",
       "      <td id=\"T_af362_row7_col2\" class=\"data row7 col2\" >56.67%</td>\n",
       "      <td id=\"T_af362_row7_col3\" class=\"data row7 col3\" >43.33%</td>\n",
       "      <td id=\"T_af362_row7_col4\" class=\"data row7 col4\" >50.00%</td>\n",
       "      <td id=\"T_af362_row7_col5\" class=\"data row7 col5\" >55.92%</td>\n",
       "    </tr>\n",
       "    <tr>\n",
       "      <th id=\"T_af362_level0_row8\" class=\"row_heading level0 row8\" >ANN</th>\n",
       "      <td id=\"T_af362_row8_col0\" class=\"data row8 col0\" >73.33%</td>\n",
       "      <td id=\"T_af362_row8_col1\" class=\"data row8 col1\" >75.71%</td>\n",
       "      <td id=\"T_af362_row8_col2\" class=\"data row8 col2\" >73.33%</td>\n",
       "      <td id=\"T_af362_row8_col3\" class=\"data row8 col3\" >26.67%</td>\n",
       "      <td id=\"T_af362_row8_col4\" class=\"data row8 col4\" >50.00%</td>\n",
       "      <td id=\"T_af362_row8_col5\" class=\"data row8 col5\" >72.24%</td>\n",
       "    </tr>\n",
       "    <tr>\n",
       "      <th id=\"T_af362_level0_row9\" class=\"row_heading level0 row9\" >Naive Bayes (GaussianNB)</th>\n",
       "      <td id=\"T_af362_row9_col0\" class=\"data row9 col0\" >83.33%</td>\n",
       "      <td id=\"T_af362_row9_col1\" class=\"data row9 col1\" >84.53%</td>\n",
       "      <td id=\"T_af362_row9_col2\" class=\"data row9 col2\" >83.33%</td>\n",
       "      <td id=\"T_af362_row9_col3\" class=\"data row9 col3\" >16.67%</td>\n",
       "      <td id=\"T_af362_row9_col4\" class=\"data row9 col4\" >50.00%</td>\n",
       "      <td id=\"T_af362_row9_col5\" class=\"data row9 col5\" >83.05%</td>\n",
       "    </tr>\n",
       "    <tr>\n",
       "      <th id=\"T_af362_level0_row10\" class=\"row_heading level0 row10\" >Naive Bayes (BernoulliNB)</th>\n",
       "      <td id=\"T_af362_row10_col0\" class=\"data row10 col0\" >88.33%</td>\n",
       "      <td id=\"T_af362_row10_col1\" class=\"data row10 col1\" >90.43%</td>\n",
       "      <td id=\"T_af362_row10_col2\" class=\"data row10 col2\" >88.33%</td>\n",
       "      <td id=\"T_af362_row10_col3\" class=\"data row10 col3\" >11.67%</td>\n",
       "      <td id=\"T_af362_row10_col4\" class=\"data row10 col4\" >50.00%</td>\n",
       "      <td id=\"T_af362_row10_col5\" class=\"data row10 col5\" >88.08%</td>\n",
       "    </tr>\n",
       "    <tr>\n",
       "      <th id=\"T_af362_level0_row11\" class=\"row_heading level0 row11\" >VotingClassifier</th>\n",
       "      <td id=\"T_af362_row11_col0\" class=\"data row11 col0\" >86.67%</td>\n",
       "      <td id=\"T_af362_row11_col1\" class=\"data row11 col1\" >89.33%</td>\n",
       "      <td id=\"T_af362_row11_col2\" class=\"data row11 col2\" >86.67%</td>\n",
       "      <td id=\"T_af362_row11_col3\" class=\"data row11 col3\" >13.33%</td>\n",
       "      <td id=\"T_af362_row11_col4\" class=\"data row11 col4\" >50.00%</td>\n",
       "      <td id=\"T_af362_row11_col5\" class=\"data row11 col5\" >86.30%</td>\n",
       "    </tr>\n",
       "  </tbody>\n",
       "</table>\n"
      ],
      "text/plain": [
       "<pandas.io.formats.style.Styler at 0x13f4e0550>"
      ]
     },
     "execution_count": 50,
     "metadata": {},
     "output_type": "execute_result"
    }
   ],
   "source": [
    "# Define function to calculate classification error and specificity\n",
    "\n",
    "def classification_error(y_true, y_pred):\n",
    "    return 1 - accuracy_score(y_true, y_pred)\n",
    "\n",
    "def specificity(y_true, y_pred):\n",
    "    cm = confusion_matrix(y_true, y_pred)\n",
    "    tn = cm.sum(axis=1) - cm.diagonal()  # True negatives for each class\n",
    "    fp = cm.sum(axis=0) - cm.diagonal()  # False positives for each class\n",
    "    specificity_per_class = tn / (tn + fp + 1e-10)  # Avoid division by zero\n",
    "    return specificity_per_class.mean()  # Average specificity across all classes\n",
    "\n",
    "tuned_model_scores = {\n",
    "     \"KNN\": {\n",
    "        \"Accuracy\": accuracy_score(y_test, rs_knn.predict(X_test)),\n",
    "        \"Precision\": precision_score(y_test, rs_knn.predict(X_test), average=\"weighted\"),\n",
    "        \"Recall (Sensitivity)\": recall_score(y_test, rs_knn.predict(X_test), average=\"weighted\"),\n",
    "        \"Classification Error\": classification_error(y_test, rs_knn.predict(X_test)),\n",
    "        \"Specificity\": specificity(y_test, rs_knn.predict(X_test)),\n",
    "        \"F1 Score\": f1_score(y_test, rs_knn.predict(X_test), average=\"weighted\"),\n",
    "    },\n",
    "    \"Logistic Regression\": {\n",
    "        \"Accuracy\": accuracy_score(y_test, rs_log_reg.predict(X_test)),\n",
    "        \"Precision\": precision_score(y_test, rs_log_reg.predict(X_test), average=\"weighted\"),\n",
    "        \"Recall (Sensitivity)\": recall_score(y_test, rs_log_reg.predict(X_test), average=\"weighted\"),\n",
    "        \"Classification Error\": classification_error(y_test, rs_log_reg.predict(X_test)),\n",
    "        \"Specificity\": specificity(y_test, rs_log_reg.predict(X_test)),\n",
    "        \"F1 Score\": f1_score(y_test, rs_log_reg.predict(X_test), average=\"weighted\"),\n",
    "    },\n",
    "    \"Random Forest\": {\n",
    "        \"Accuracy\": accuracy_score(y_test, rs_rf.predict(X_test)),\n",
    "        \"Precision\": precision_score(y_test, rs_rf.predict(X_test), average=\"weighted\"),\n",
    "        \"Recall (Sensitivity)\": recall_score(y_test, rs_rf.predict(X_test), average=\"weighted\"),\n",
    "        \"Classification Error\": classification_error(y_test, rs_rf.predict(X_test)),\n",
    "        \"Specificity\": specificity(y_test, rs_rf.predict(X_test)),\n",
    "        \"F1 Score\": f1_score(y_test, rs_rf.predict(X_test), average=\"weighted\"),\n",
    "    },\n",
    "    \"Decision Tree\": {\n",
    "        \"Accuracy\": accuracy_score(y_test, rs_dt.predict(X_test)),\n",
    "        \"Precision\": precision_score(y_test, rs_dt.predict(X_test), average=\"weighted\"),\n",
    "        \"Recall (Sensitivity)\": recall_score(y_test, rs_dt.predict(X_test), average=\"weighted\"),\n",
    "        \"Classification Error\": classification_error(y_test, rs_dt.predict(X_test)),\n",
    "        \"Specificity\": specificity(y_test, rs_dt.predict(X_test)),\n",
    "        \"F1 Score\": f1_score(y_test, rs_dt.predict(X_test), average=\"weighted\"),\n",
    "    },\n",
    "    \"SVC (Linear)\": {\n",
    "        \"Accuracy\": accuracy_score(y_test, rs_svc_linear.predict(X_test)),\n",
    "        \"Precision\": precision_score(y_test, rs_svc_linear.predict(X_test), average=\"weighted\"),\n",
    "        \"Recall (Sensitivity)\": recall_score(y_test, rs_svc_linear.predict(X_test), average=\"weighted\"),\n",
    "        \"Classification Error\": classification_error(y_test, rs_svc_linear.predict(X_test)),\n",
    "        \"Specificity\": specificity(y_test, rs_svc_linear.predict(X_test)),\n",
    "        \"F1 Score\": f1_score(y_test, rs_svc_linear.predict(X_test), average=\"weighted\"),\n",
    "    },\n",
    "    \"SVC (RBF)\": {\n",
    "        \"Accuracy\": accuracy_score(y_test, rs_svc_rbf.predict(X_test)),\n",
    "        \"Precision\": precision_score(y_test, rs_svc_rbf.predict(X_test), average=\"weighted\"),\n",
    "        \"Recall (Sensitivity)\": recall_score(y_test, rs_svc_rbf.predict(X_test), average=\"weighted\"),\n",
    "        \"Classification Error\": classification_error(y_test, rs_svc_rbf.predict(X_test)),\n",
    "        \"Specificity\": specificity(y_test, rs_svc_rbf.predict(X_test)),\n",
    "        \"F1 Score\": f1_score(y_test, rs_svc_rbf.predict(X_test), average=\"weighted\"),\n",
    "    },\n",
    "    \"SVC (Poly)\": {\n",
    "        \"Accuracy\": accuracy_score(y_test, rs_svc_poly.predict(X_test)),\n",
    "        \"Precision\": precision_score(y_test, rs_svc_poly.predict(X_test), average=\"weighted\"),\n",
    "        \"Recall (Sensitivity)\": recall_score(y_test, rs_svc_poly.predict(X_test), average=\"weighted\"),\n",
    "        \"Classification Error\": classification_error(y_test, rs_svc_poly.predict(X_test)),\n",
    "        \"Specificity\": specificity(y_test, rs_svc_poly.predict(X_test)),\n",
    "        \"F1 Score\": f1_score(y_test, rs_svc_poly.predict(X_test), average=\"weighted\"),\n",
    "    },\n",
    "    \"SVC (Sigmoid)\": {\n",
    "        \"Accuracy\": accuracy_score(y_test, rs_svc_sigmoid.predict(X_test)),\n",
    "        \"Precision\": precision_score(y_test, rs_svc_sigmoid.predict(X_test), average=\"weighted\"),\n",
    "        \"Recall (Sensitivity)\": recall_score(y_test, rs_svc_sigmoid.predict(X_test), average=\"weighted\"),\n",
    "        \"Classification Error\": classification_error(y_test, rs_svc_sigmoid.predict(X_test)),\n",
    "        \"Specificity\": specificity(y_test, rs_svc_sigmoid.predict(X_test)),\n",
    "        \"F1 Score\": f1_score(y_test, rs_svc_sigmoid.predict(X_test), average=\"weighted\"),\n",
    "    },\n",
    "    \"ANN\": {\n",
    "        \"Accuracy\": accuracy_score(y_test, rs_ann.predict(X_test)),\n",
    "        \"Precision\": precision_score(y_test, rs_ann.predict(X_test), average=\"weighted\"),\n",
    "        \"Recall (Sensitivity)\": recall_score(y_test, rs_ann.predict(X_test), average=\"weighted\"),\n",
    "        \"Classification Error\": classification_error(y_test, rs_ann.predict(X_test)),\n",
    "        \"Specificity\": specificity(y_test, rs_ann.predict(X_test)),\n",
    "        \"F1 Score\": f1_score(y_test, rs_ann.predict(X_test), average=\"weighted\"),\n",
    "    },\n",
    "    \"Naive Bayes (GaussianNB)\": {\n",
    "        \"Accuracy\": accuracy_score(y_test, rs_nb_gaussian.predict(X_test)),\n",
    "        \"Precision\": precision_score(y_test, rs_nb_gaussian.predict(X_test), average=\"weighted\"),\n",
    "        \"Recall (Sensitivity)\": recall_score(y_test, rs_nb_gaussian.predict(X_test), average=\"weighted\"),\n",
    "        \"Classification Error\": classification_error(y_test, rs_nb_gaussian.predict(X_test)),\n",
    "        \"Specificity\": specificity(y_test, rs_nb_gaussian.predict(X_test)),\n",
    "        \"F1 Score\": f1_score(y_test, rs_nb_gaussian.predict(X_test), average=\"weighted\"),\n",
    "    },\n",
    "    \"Naive Bayes (BernoulliNB)\": {\n",
    "        \"Accuracy\": accuracy_score(y_test, rs_nb_bernoulli.predict(X_test)),\n",
    "        \"Precision\": precision_score(y_test, rs_nb_bernoulli.predict(X_test), average=\"weighted\"),\n",
    "        \"Recall (Sensitivity)\": recall_score(y_test, rs_nb_bernoulli.predict(X_test), average=\"weighted\"),\n",
    "        \"Classification Error\": classification_error(y_test, rs_nb_bernoulli.predict(X_test)),\n",
    "        \"Specificity\": specificity(y_test, rs_nb_bernoulli.predict(X_test)),\n",
    "        \"F1 Score\": f1_score(y_test, rs_nb_bernoulli.predict(X_test), average=\"weighted\"),\n",
    "    },\n",
    "    \"VotingClassifier\": {\n",
    "        \"Accuracy\": accuracy_score(y_test, rs_voting.predict(X_test)),\n",
    "        \"Precision\": precision_score(y_test, rs_voting.predict(X_test), average=\"weighted\"),\n",
    "        \"Recall (Sensitivity)\": recall_score(y_test, rs_voting.predict(X_test), average=\"weighted\"),\n",
    "        \"Classification Error\": classification_error(y_test, rs_voting.predict(X_test)),\n",
    "        \"Specificity\": specificity(y_test, rs_voting.predict(X_test)),\n",
    "        \"F1 Score\": f1_score(y_test, rs_voting.predict(X_test), average=\"weighted\"),\n",
    "    }\n",
    "}\n",
    "\n",
    "# Convert results to a DataFrame\n",
    "tuned_model_comparison = pd.DataFrame(tuned_model_scores).T * 100  # Convert to percentages\n",
    "\n",
    "# Optional: Pretty-print the table\n",
    "tuned_model_comparison.style.format({\"Accuracy\": \"{:.2f}%\",\n",
    "    \"Precision\": \"{:.2f}%\",\n",
    "    \"Recall (Sensitivity)\": \"{:.2f}%\",\n",
    "    \"Classification Error\": \"{:.2f}%\",\n",
    "    \"Specificity\": \"{:.2f}%\",\n",
    "    \"F1 Score\": \"{:.2f}%\"})"
   ]
  },
  {
   "cell_type": "markdown",
   "metadata": {},
   "source": [
    "### 5.3 Tuning models with GridSearchCV"
   ]
  },
  {
   "cell_type": "markdown",
   "metadata": {},
   "source": [
    "The difference between RandomizedSearchCV and GridSearchCV is:\n",
    "\n",
    "- sklearn.model_selection.RandomizedSearchCV searches over a grid of hyperparameters performing n_iter combinations (e.g. will explore random combinations of the hyperparameters for a defined number of iterations).\n",
    "- sklearn.model_selection.GridSearchCV will test every single possible combination of hyperparameters in the grid (this is a thorough test but can take quite a long time)."
   ]
  },
  {
   "cell_type": "code",
   "execution_count": 51,
   "metadata": {
    "execution": {
     "iopub.execute_input": "2025-01-07T15:21:55.579222Z",
     "iopub.status.busy": "2025-01-07T15:21:55.579137Z",
     "iopub.status.idle": "2025-01-07T15:22:18.130343Z",
     "shell.execute_reply": "2025-01-07T15:22:18.130081Z"
    }
   },
   "outputs": [
    {
     "name": "stdout",
     "output_type": "stream",
     "text": [
      "Fitting 5 folds for each of 2560 candidates, totalling 12800 fits\n"
     ]
    },
    {
     "name": "stdout",
     "output_type": "stream",
     "text": [
      "Best parameters for KNN with GridSearchCV: {'algorithm': 'brute', 'leaf_size': np.int64(20), 'n_neighbors': np.int64(20), 'p': 1, 'weights': 'distance'}\n",
      "GridSearchCV (KNN) model test score: 0.6333333333333333\n"
     ]
    }
   ],
   "source": [
    "# KNeighborsClassifier with GridSearchCV\n",
    "\n",
    "# Setup grid hyperparameter search for KNN\n",
    "gs_knn = GridSearchCV(KNeighborsClassifier(),\n",
    "                      param_grid=knn_grid,\n",
    "                      cv=5,\n",
    "                      verbose=True)\n",
    "\n",
    "# Fit grid hyperparameter search for KNN\n",
    "gs_knn.fit(X_train, y_train)\n",
    "\n",
    "print(\"Best parameters for KNN with GridSearchCV:\", gs_knn.best_params_)\n",
    "\n",
    "print(\"GridSearchCV (KNN) model test score:\", gs_knn.score(X_test, y_test))"
   ]
  },
  {
   "cell_type": "code",
   "execution_count": 52,
   "metadata": {
    "execution": {
     "iopub.execute_input": "2025-01-07T15:22:18.131614Z",
     "iopub.status.busy": "2025-01-07T15:22:18.131506Z",
     "iopub.status.idle": "2025-01-07T15:22:18.260602Z",
     "shell.execute_reply": "2025-01-07T15:22:18.260356Z"
    }
   },
   "outputs": [
    {
     "name": "stdout",
     "output_type": "stream",
     "text": [
      "Fitting 5 folds for each of 20 candidates, totalling 100 fits\n",
      "Best parameters for Logistic Regression with GridSearchCV: {'C': np.float64(0.08858667904100823), 'solver': 'liblinear'}\n",
      "GridSearchCV (Logistic Regression) model test score: 0.9\n"
     ]
    }
   ],
   "source": [
    "# Logistic Regression with GridSearchCV\n",
    "\n",
    "# Setup grid hyperparameter search for LogisticRegression\n",
    "gs_log_reg = GridSearchCV(LogisticRegression(),\n",
    "                          param_grid=log_reg_grid,\n",
    "                          cv=5,\n",
    "                          verbose=True)\n",
    "\n",
    "# Fit grid hyperparameter search model\n",
    "gs_log_reg.fit(X_train, y_train)\n",
    "\n",
    "\n",
    "print(\"Best parameters for Logistic Regression with GridSearchCV:\", gs_log_reg.best_params_)\n",
    "\n",
    "print(\"GridSearchCV (Logistic Regression) model test score:\", gs_log_reg.score(X_test, y_test))"
   ]
  },
  {
   "cell_type": "code",
   "execution_count": 53,
   "metadata": {
    "execution": {
     "iopub.execute_input": "2025-01-07T15:22:18.261774Z",
     "iopub.status.busy": "2025-01-07T15:22:18.261697Z",
     "iopub.status.idle": "2025-01-07T15:28:08.376799Z",
     "shell.execute_reply": "2025-01-07T15:28:08.376279Z"
    }
   },
   "outputs": [
    {
     "name": "stdout",
     "output_type": "stream",
     "text": [
      "Fitting 5 folds for each of 540 candidates, totalling 2700 fits\n"
     ]
    },
    {
     "name": "stdout",
     "output_type": "stream",
     "text": [
      "Best parameters for Random Forest with GridSearchCV: {'max_depth': 5, 'min_samples_leaf': np.int64(9), 'min_samples_split': np.int64(4), 'n_estimators': np.int64(200)}\n",
      "GridSearchCV (Random Forest) model test score: 0.8333333333333334\n"
     ]
    }
   ],
   "source": [
    "# RandomForestClassifier with GridSearchCV\n",
    "\n",
    "# Setup grid hyperparameter search for RandomForestClassifier\n",
    "gs_rf = GridSearchCV(RandomForestClassifier(),\n",
    "                     param_grid=rf_grid,\n",
    "                     cv=5,\n",
    "                     verbose=True)\n",
    "\n",
    "# Fit grid hyperparameter search for RandomForestClassifier\n",
    "gs_rf.fit(X_train, y_train)\n",
    "\n",
    "print(\"Best parameters for Random Forest with GridSearchCV:\", gs_rf.best_params_)\n",
    "\n",
    "print(\"GridSearchCV (Random Forest) model test score:\", gs_rf.score(X_test, y_test))"
   ]
  },
  {
   "cell_type": "code",
   "execution_count": 54,
   "metadata": {
    "execution": {
     "iopub.execute_input": "2025-01-07T15:28:08.379134Z",
     "iopub.status.busy": "2025-01-07T15:28:08.378884Z",
     "iopub.status.idle": "2025-01-07T15:28:16.263847Z",
     "shell.execute_reply": "2025-01-07T15:28:16.263543Z"
    }
   },
   "outputs": [
    {
     "name": "stdout",
     "output_type": "stream",
     "text": [
      "Fitting 5 folds for each of 1350 candidates, totalling 6750 fits\n"
     ]
    },
    {
     "name": "stdout",
     "output_type": "stream",
     "text": [
      "Best parameters for Decision Tree with GridSearchCV: {'max_depth': 5, 'max_features': 'log2', 'min_samples_leaf': np.int64(5), 'min_samples_split': np.int64(4)}\n",
      "GridSearchCV (Decision Tree) model test score: 0.75\n"
     ]
    }
   ],
   "source": [
    "# DecisionTreeClassifier with GridSearchCV\n",
    "\n",
    "# Setup grid hyperparameter search for DecisionTreeClassifier\n",
    "gs_dt = GridSearchCV(DecisionTreeClassifier(),\n",
    "                     param_grid=dt_grid,\n",
    "                     cv=5,\n",
    "                     verbose=True)\n",
    "\n",
    "# Fit grid hyperparameter search for DecisionTreeClassifier\n",
    "gs_dt.fit(X_train, y_train)\n",
    "\n",
    "print(\"Best parameters for Decision Tree with GridSearchCV:\", gs_dt.best_params_)\n",
    "\n",
    "print(\"GridSearchCV (Decision Tree) model test score:\", gs_dt.score(X_test, y_test))"
   ]
  },
  {
   "cell_type": "code",
   "execution_count": 55,
   "metadata": {
    "execution": {
     "iopub.execute_input": "2025-01-07T15:28:16.265204Z",
     "iopub.status.busy": "2025-01-07T15:28:16.265085Z",
     "iopub.status.idle": "2025-01-07T15:28:35.409933Z",
     "shell.execute_reply": "2025-01-07T15:28:35.409670Z"
    }
   },
   "outputs": [
    {
     "name": "stdout",
     "output_type": "stream",
     "text": [
      "Fitting 5 folds for each of 5 candidates, totalling 25 fits\n"
     ]
    },
    {
     "name": "stdout",
     "output_type": "stream",
     "text": [
      "Best parameters for SVC (linear) with GridSearchCV: {'C': np.float64(0.1), 'gamma': 'scale', 'kernel': 'linear'}\n",
      "GridSearchCV (SVC linear) model test score: 0.9\n"
     ]
    }
   ],
   "source": [
    "# SVC with linear kernel and GridSearchCV\n",
    "\n",
    "# Setup grid hyperparameter search for SVC\n",
    "gs_svc_linear = GridSearchCV(SVC(),\n",
    "                             param_grid=svc_grid_linear,\n",
    "                             cv=5,\n",
    "                             verbose=True)\n",
    "\n",
    "# Fit grid hyperparameter search for SVC\n",
    "gs_svc_linear.fit(X_train, y_train)\n",
    "\n",
    "print(\"Best parameters for SVC (linear) with GridSearchCV:\", gs_svc_linear.best_params_)\n",
    "\n",
    "print(\"GridSearchCV (SVC linear) model test score:\", gs_svc_linear.score(X_test, y_test))"
   ]
  },
  {
   "cell_type": "code",
   "execution_count": 56,
   "metadata": {
    "execution": {
     "iopub.execute_input": "2025-01-07T15:28:35.411168Z",
     "iopub.status.busy": "2025-01-07T15:28:35.411070Z",
     "iopub.status.idle": "2025-01-07T15:28:35.933396Z",
     "shell.execute_reply": "2025-01-07T15:28:35.933098Z"
    }
   },
   "outputs": [
    {
     "name": "stdout",
     "output_type": "stream",
     "text": [
      "Fitting 5 folds for each of 40 candidates, totalling 200 fits\n"
     ]
    },
    {
     "name": "stdout",
     "output_type": "stream",
     "text": [
      "Best parameters for SVC (RBF) with GridSearchCV: {'C': np.float64(545.5594781168514), 'gamma': 'scale', 'kernel': 'rbf'}\n",
      "GridSearchCV (SVC RBF) model test score: 0.8833333333333333\n"
     ]
    }
   ],
   "source": [
    "# SVC with RBF kernel and GridSearchCV\n",
    "\n",
    "# Setup grid hyperparameter search for SVC\n",
    "gs_svc_rbf = GridSearchCV(SVC(),\n",
    "                          param_grid=svc_grid_rbf,\n",
    "                          cv=5,\n",
    "                          verbose=True)\n",
    "\n",
    "# Fit grid hyperparameter search for SVC\n",
    "gs_svc_rbf.fit(X_train, y_train)\n",
    "\n",
    "print(\"Best parameters for SVC (RBF) with GridSearchCV:\", gs_svc_rbf.best_params_)\n",
    "\n",
    "print(\"GridSearchCV (SVC RBF) model test score:\", gs_svc_rbf.score(X_test, y_test))"
   ]
  },
  {
   "cell_type": "code",
   "execution_count": 57,
   "metadata": {
    "execution": {
     "iopub.execute_input": "2025-01-07T15:28:35.934793Z",
     "iopub.status.busy": "2025-01-07T15:28:35.934658Z",
     "iopub.status.idle": "2025-01-07T15:28:36.048201Z",
     "shell.execute_reply": "2025-01-07T15:28:36.047840Z"
    }
   },
   "outputs": [
    {
     "name": "stdout",
     "output_type": "stream",
     "text": [
      "Fitting 5 folds for each of 10 candidates, totalling 50 fits\n",
      "Best parameters for SVC (poly) with GridSearchCV: {'C': np.float64(100.0), 'degree': 2, 'gamma': 'scale', 'kernel': 'poly'}\n",
      "GridSearchCV (SVC poly) model test score: 0.7333333333333333\n"
     ]
    }
   ],
   "source": [
    "# SVC with poly kernel and GridSearchCV\n",
    "\n",
    "# Setup grid hyperparameter search for SVC\n",
    "gs_svc_poly = GridSearchCV(SVC(),\n",
    "                           param_grid=svc_grid_poly,\n",
    "                           cv=5,\n",
    "                           verbose=True)\n",
    "\n",
    "# Fit grid hyperparameter search for SVC\n",
    "gs_svc_poly.fit(X_train, y_train)\n",
    "\n",
    "print(\"Best parameters for SVC (poly) with GridSearchCV:\", gs_svc_poly.best_params_)\n",
    "\n",
    "print(\"GridSearchCV (SVC poly) model test score:\", gs_svc_poly.score(X_test, y_test))"
   ]
  },
  {
   "cell_type": "code",
   "execution_count": 58,
   "metadata": {
    "execution": {
     "iopub.execute_input": "2025-01-07T15:28:36.049521Z",
     "iopub.status.busy": "2025-01-07T15:28:36.049430Z",
     "iopub.status.idle": "2025-01-07T15:28:36.144840Z",
     "shell.execute_reply": "2025-01-07T15:28:36.144564Z"
    }
   },
   "outputs": [
    {
     "name": "stdout",
     "output_type": "stream",
     "text": [
      "Fitting 5 folds for each of 10 candidates, totalling 50 fits\n"
     ]
    },
    {
     "name": "stdout",
     "output_type": "stream",
     "text": [
      "Best parameters for SVC (sigmoid) with GridSearchCV: {'C': np.float64(0.01), 'gamma': 'scale', 'kernel': 'sigmoid'}\n",
      "GridSearchCV (SVC sigmoid) model test score: 0.5333333333333333\n"
     ]
    }
   ],
   "source": [
    "# SVC with sigmoid kernel and GridSearchCV\n",
    "\n",
    "# Setup grid hyperparameter search for SVC\n",
    "gs_svc_sigmoid = GridSearchCV(SVC(),\n",
    "                              param_grid=svc_grid_sigmoid,\n",
    "                              cv=5,\n",
    "                              verbose=True)\n",
    "\n",
    "# Fit grid hyperparameter search for SVC\n",
    "gs_svc_sigmoid.fit(X_train, y_train)\n",
    "\n",
    "print(\"Best parameters for SVC (sigmoid) with GridSearchCV:\", gs_svc_sigmoid.best_params_)\n",
    "\n",
    "print(\"GridSearchCV (SVC sigmoid) model test score:\", gs_svc_sigmoid.score(X_test, y_test))"
   ]
  },
  {
   "cell_type": "code",
   "execution_count": 59,
   "metadata": {
    "execution": {
     "iopub.execute_input": "2025-01-07T15:28:36.146128Z",
     "iopub.status.busy": "2025-01-07T15:28:36.146023Z",
     "iopub.status.idle": "2025-01-07T15:29:18.251274Z",
     "shell.execute_reply": "2025-01-07T15:29:18.250935Z"
    }
   },
   "outputs": [
    {
     "name": "stdout",
     "output_type": "stream",
     "text": [
      "Fitting 5 folds for each of 240 candidates, totalling 1200 fits\n"
     ]
    },
    {
     "name": "stderr",
     "output_type": "stream",
     "text": [
      "/opt/miniconda3/envs/data_mining/lib/python3.13/site-packages/sklearn/neural_network/_multilayer_perceptron.py:691: ConvergenceWarning: Stochastic Optimizer: Maximum iterations (5000) reached and the optimization hasn't converged yet.\n",
      "  warnings.warn(\n"
     ]
    },
    {
     "name": "stdout",
     "output_type": "stream",
     "text": [
      "Best parameters for ANN with GridSearchCV: {'activation': 'relu', 'alpha': np.float64(2.782559402207126), 'hidden_layer_sizes': (100,), 'learning_rate': 'constant', 'solver': 'adam'}\n",
      "GridSearchCV (ANN) model test score: 0.8166666666666667\n"
     ]
    }
   ],
   "source": [
    "# ANN with GridSearchCV\n",
    "\n",
    "# Setup grid hyperparameter search for ANN (MLPClassifier)\n",
    "gs_ann = GridSearchCV(MLPClassifier(max_iter=5000),\n",
    "                      param_grid=ann_grid,\n",
    "                      cv=5,\n",
    "                      verbose=True,\n",
    "                      n_jobs=-1)\n",
    "\n",
    "# Fit grid hyperparameter search for ANN\n",
    "gs_ann.fit(X_train, y_train)\n",
    "\n",
    "print(\"Best parameters for ANN with GridSearchCV:\", gs_ann.best_params_)\n",
    "\n",
    "print(\"GridSearchCV (ANN) model test score:\", gs_ann.score(X_test, y_test))"
   ]
  },
  {
   "cell_type": "code",
   "execution_count": 60,
   "metadata": {
    "execution": {
     "iopub.execute_input": "2025-01-07T15:29:18.252765Z",
     "iopub.status.busy": "2025-01-07T15:29:18.252517Z",
     "iopub.status.idle": "2025-01-07T15:29:18.312011Z",
     "shell.execute_reply": "2025-01-07T15:29:18.311750Z"
    }
   },
   "outputs": [
    {
     "name": "stdout",
     "output_type": "stream",
     "text": [
      "Fitting 5 folds for each of 10 candidates, totalling 50 fits\n",
      "Best parameters for Gaussian Naive Bayes with GridSearchCV: {'var_smoothing': np.float64(0.0001)}\n",
      "GridSearchCV (Gaussian Naive Bayes) model test score: 0.8333333333333334\n"
     ]
    }
   ],
   "source": [
    "# Naive Bayes (GaussianNB) with GridSearchCV\n",
    "\n",
    "# Setup grid hyperparameter search for Naive Bayes (GaussianNB)\n",
    "gs_nb_gaussian = GridSearchCV(GaussianNB(),\n",
    "                              param_grid=nb_gaussian_grid,\n",
    "                              cv=5,\n",
    "                              verbose=True)\n",
    "\n",
    "# Fit grid hyperparameter search for Naive Bayes (GaussianNB)\n",
    "gs_nb_gaussian.fit(X_train, y_train)\n",
    "\n",
    "print(\"Best parameters for Gaussian Naive Bayes with GridSearchCV:\", gs_nb_gaussian.best_params_)\n",
    "\n",
    "print(\"GridSearchCV (Gaussian Naive Bayes) model test score:\", gs_nb_gaussian.score(X_test, y_test))"
   ]
  },
  {
   "cell_type": "code",
   "execution_count": 61,
   "metadata": {
    "execution": {
     "iopub.execute_input": "2025-01-07T15:29:18.313274Z",
     "iopub.status.busy": "2025-01-07T15:29:18.313185Z",
     "iopub.status.idle": "2025-01-07T15:29:18.809674Z",
     "shell.execute_reply": "2025-01-07T15:29:18.809408Z"
    }
   },
   "outputs": [
    {
     "name": "stdout",
     "output_type": "stream",
     "text": [
      "Fitting 5 folds for each of 80 candidates, totalling 400 fits\n"
     ]
    },
    {
     "name": "stdout",
     "output_type": "stream",
     "text": [
      "Best parameters for Bernoulli Naive Bayes with GridSearchCV: {'alpha': np.float64(206.913808111479), 'binarize': 0.1}\n",
      "GridSearchCV (Bernoulli Naive Bayes) model test score: 0.8833333333333333\n"
     ]
    }
   ],
   "source": [
    "# Naive Bayes (BernoulliNB) with GridSearchCV\n",
    "\n",
    "# Setup grid hyperparameter search for Naive Bayes (BernoulliNB)\n",
    "gs_nb_bernoulli = GridSearchCV(BernoulliNB(),\n",
    "                               param_grid=nb_bernoulli_grid,\n",
    "                               cv=5,\n",
    "                               verbose=True)\n",
    "\n",
    "# Fit grid hyperparameter search for Naive Bayes (BernoulliNB)\n",
    "gs_nb_bernoulli.fit(X_train, y_train)\n",
    "\n",
    "print(\"Best parameters for Bernoulli Naive Bayes with GridSearchCV:\", gs_nb_bernoulli.best_params_)\n",
    "\n",
    "print(\"GridSearchCV (Bernoulli Naive Bayes) model test score:\", gs_nb_bernoulli.score(X_test, y_test))"
   ]
  },
  {
   "cell_type": "code",
   "execution_count": 62,
   "metadata": {
    "execution": {
     "iopub.execute_input": "2025-01-07T15:29:18.810907Z",
     "iopub.status.busy": "2025-01-07T15:29:18.810805Z",
     "iopub.status.idle": "2025-01-07T15:29:25.896445Z",
     "shell.execute_reply": "2025-01-07T15:29:25.896163Z"
    }
   },
   "outputs": [
    {
     "name": "stdout",
     "output_type": "stream",
     "text": [
      "Fitting 5 folds for each of 16 candidates, totalling 80 fits\n"
     ]
    },
    {
     "name": "stdout",
     "output_type": "stream",
     "text": [
      "Best parameters for VotingClassifier with GridSearchCV: {'flatten_transform': False, 'voting': 'hard', 'weights': [1, 1, 2, 1]}\n",
      "GridSearchCV (VotingClassifier) model test score: 0.8666666666666667\n"
     ]
    }
   ],
   "source": [
    "# VotingClassifier with GridSearchCV\n",
    "\n",
    "# Setup grid hyperparameter search for VotingClassifier\n",
    "gs_voting = GridSearchCV(VotingClassifier(estimators=[('log_reg', log_reg), ('rf', rf), \n",
    "                                                    #   ('svc', svc),\n",
    "                                                      ('naive_bayes', naive_bayes), ('knn', knn)], voting='soft'),\n",
    "                         param_grid=voting_grid,\n",
    "                         cv=5,\n",
    "                         verbose=True)\n",
    "\n",
    "# Fit grid hyperparameter search for VotingClassifier\n",
    "gs_voting.fit(X_train, y_train)\n",
    "\n",
    "print(\"Best parameters for VotingClassifier with GridSearchCV:\", gs_voting.best_params_)\n",
    "\n",
    "print(\"GridSearchCV (VotingClassifier) model test score:\", gs_voting.score(X_test, y_test))"
   ]
  },
  {
   "cell_type": "code",
   "execution_count": 63,
   "metadata": {
    "execution": {
     "iopub.execute_input": "2025-01-07T15:29:25.897781Z",
     "iopub.status.busy": "2025-01-07T15:29:25.897697Z",
     "iopub.status.idle": "2025-01-07T15:29:26.018054Z",
     "shell.execute_reply": "2025-01-07T15:29:26.017778Z"
    }
   },
   "outputs": [
    {
     "name": "stdout",
     "output_type": "stream",
     "text": [
      "                            Accuracy  Precision  Sensitivity (Recall)  \\\n",
      "KNN                        63.333333  63.227753             63.333333   \n",
      "Logistic Regression        90.000000  91.578947             90.000000   \n",
      "Random Forest              83.333333  85.666667             83.333333   \n",
      "Decision Tree              76.666667  76.681750             76.666667   \n",
      "SVC (Linear)               90.000000  91.578947             90.000000   \n",
      "SVC (RBF)                  88.333333  90.427350             88.333333   \n",
      "SVC (Poly)                 73.333333  73.518519             73.333333   \n",
      "SVC (Sigmoid)              53.333333  28.444444             53.333333   \n",
      "ANN                        81.666667  82.381512             81.666667   \n",
      "Naive Bayes (GaussianNB)   83.333333  84.529506             83.333333   \n",
      "Naive Bayes (BernoulliNB)  88.333333  90.427350             88.333333   \n",
      "VotingClassifier           86.666667  89.333333             86.666667   \n",
      "\n",
      "                           Classification Error  Specificity  F1 Measure  \n",
      "KNN                                   36.666667         50.0   63.209877  \n",
      "Logistic Regression                   10.000000         50.0   89.828571  \n",
      "Random Forest                         16.666667         50.0   82.870370  \n",
      "Decision Tree                         23.333333         50.0   76.588103  \n",
      "SVC (Linear)                          10.000000         50.0   89.828571  \n",
      "SVC (RBF)                             11.666667         50.0   88.075117  \n",
      "SVC (Poly)                            26.666667         50.0   73.092006  \n",
      "SVC (Sigmoid)                         46.666667         50.0   37.101449  \n",
      "ANN                                   18.333333         50.0   81.432225  \n",
      "Naive Bayes (GaussianNB)              16.666667         50.0   83.047619  \n",
      "Naive Bayes (BernoulliNB)             11.666667         50.0   88.075117  \n",
      "VotingClassifier                      13.333333         50.0   86.296296  \n"
     ]
    },
    {
     "name": "stderr",
     "output_type": "stream",
     "text": [
      "/opt/miniconda3/envs/data_mining/lib/python3.13/site-packages/sklearn/metrics/_classification.py:1565: UndefinedMetricWarning: Precision is ill-defined and being set to 0.0 in labels with no predicted samples. Use `zero_division` parameter to control this behavior.\n",
      "  _warn_prf(average, modifier, f\"{metric.capitalize()} is\", len(result))\n"
     ]
    },
    {
     "data": {
      "text/html": [
       "<style type=\"text/css\">\n",
       "</style>\n",
       "<table id=\"T_52056\">\n",
       "  <thead>\n",
       "    <tr>\n",
       "      <th class=\"blank level0\" >&nbsp;</th>\n",
       "      <th id=\"T_52056_level0_col0\" class=\"col_heading level0 col0\" >Accuracy</th>\n",
       "      <th id=\"T_52056_level0_col1\" class=\"col_heading level0 col1\" >Precision</th>\n",
       "      <th id=\"T_52056_level0_col2\" class=\"col_heading level0 col2\" >Sensitivity (Recall)</th>\n",
       "      <th id=\"T_52056_level0_col3\" class=\"col_heading level0 col3\" >Classification Error</th>\n",
       "      <th id=\"T_52056_level0_col4\" class=\"col_heading level0 col4\" >Specificity</th>\n",
       "      <th id=\"T_52056_level0_col5\" class=\"col_heading level0 col5\" >F1 Measure</th>\n",
       "    </tr>\n",
       "  </thead>\n",
       "  <tbody>\n",
       "    <tr>\n",
       "      <th id=\"T_52056_level0_row0\" class=\"row_heading level0 row0\" >KNN</th>\n",
       "      <td id=\"T_52056_row0_col0\" class=\"data row0 col0\" >63.33%</td>\n",
       "      <td id=\"T_52056_row0_col1\" class=\"data row0 col1\" >63.23%</td>\n",
       "      <td id=\"T_52056_row0_col2\" class=\"data row0 col2\" >63.33%</td>\n",
       "      <td id=\"T_52056_row0_col3\" class=\"data row0 col3\" >36.67%</td>\n",
       "      <td id=\"T_52056_row0_col4\" class=\"data row0 col4\" >50.00%</td>\n",
       "      <td id=\"T_52056_row0_col5\" class=\"data row0 col5\" >63.21%</td>\n",
       "    </tr>\n",
       "    <tr>\n",
       "      <th id=\"T_52056_level0_row1\" class=\"row_heading level0 row1\" >Logistic Regression</th>\n",
       "      <td id=\"T_52056_row1_col0\" class=\"data row1 col0\" >90.00%</td>\n",
       "      <td id=\"T_52056_row1_col1\" class=\"data row1 col1\" >91.58%</td>\n",
       "      <td id=\"T_52056_row1_col2\" class=\"data row1 col2\" >90.00%</td>\n",
       "      <td id=\"T_52056_row1_col3\" class=\"data row1 col3\" >10.00%</td>\n",
       "      <td id=\"T_52056_row1_col4\" class=\"data row1 col4\" >50.00%</td>\n",
       "      <td id=\"T_52056_row1_col5\" class=\"data row1 col5\" >89.83%</td>\n",
       "    </tr>\n",
       "    <tr>\n",
       "      <th id=\"T_52056_level0_row2\" class=\"row_heading level0 row2\" >Random Forest</th>\n",
       "      <td id=\"T_52056_row2_col0\" class=\"data row2 col0\" >83.33%</td>\n",
       "      <td id=\"T_52056_row2_col1\" class=\"data row2 col1\" >85.67%</td>\n",
       "      <td id=\"T_52056_row2_col2\" class=\"data row2 col2\" >83.33%</td>\n",
       "      <td id=\"T_52056_row2_col3\" class=\"data row2 col3\" >16.67%</td>\n",
       "      <td id=\"T_52056_row2_col4\" class=\"data row2 col4\" >50.00%</td>\n",
       "      <td id=\"T_52056_row2_col5\" class=\"data row2 col5\" >82.87%</td>\n",
       "    </tr>\n",
       "    <tr>\n",
       "      <th id=\"T_52056_level0_row3\" class=\"row_heading level0 row3\" >Decision Tree</th>\n",
       "      <td id=\"T_52056_row3_col0\" class=\"data row3 col0\" >76.67%</td>\n",
       "      <td id=\"T_52056_row3_col1\" class=\"data row3 col1\" >76.68%</td>\n",
       "      <td id=\"T_52056_row3_col2\" class=\"data row3 col2\" >76.67%</td>\n",
       "      <td id=\"T_52056_row3_col3\" class=\"data row3 col3\" >23.33%</td>\n",
       "      <td id=\"T_52056_row3_col4\" class=\"data row3 col4\" >50.00%</td>\n",
       "      <td id=\"T_52056_row3_col5\" class=\"data row3 col5\" >76.59%</td>\n",
       "    </tr>\n",
       "    <tr>\n",
       "      <th id=\"T_52056_level0_row4\" class=\"row_heading level0 row4\" >SVC (Linear)</th>\n",
       "      <td id=\"T_52056_row4_col0\" class=\"data row4 col0\" >90.00%</td>\n",
       "      <td id=\"T_52056_row4_col1\" class=\"data row4 col1\" >91.58%</td>\n",
       "      <td id=\"T_52056_row4_col2\" class=\"data row4 col2\" >90.00%</td>\n",
       "      <td id=\"T_52056_row4_col3\" class=\"data row4 col3\" >10.00%</td>\n",
       "      <td id=\"T_52056_row4_col4\" class=\"data row4 col4\" >50.00%</td>\n",
       "      <td id=\"T_52056_row4_col5\" class=\"data row4 col5\" >89.83%</td>\n",
       "    </tr>\n",
       "    <tr>\n",
       "      <th id=\"T_52056_level0_row5\" class=\"row_heading level0 row5\" >SVC (RBF)</th>\n",
       "      <td id=\"T_52056_row5_col0\" class=\"data row5 col0\" >88.33%</td>\n",
       "      <td id=\"T_52056_row5_col1\" class=\"data row5 col1\" >90.43%</td>\n",
       "      <td id=\"T_52056_row5_col2\" class=\"data row5 col2\" >88.33%</td>\n",
       "      <td id=\"T_52056_row5_col3\" class=\"data row5 col3\" >11.67%</td>\n",
       "      <td id=\"T_52056_row5_col4\" class=\"data row5 col4\" >50.00%</td>\n",
       "      <td id=\"T_52056_row5_col5\" class=\"data row5 col5\" >88.08%</td>\n",
       "    </tr>\n",
       "    <tr>\n",
       "      <th id=\"T_52056_level0_row6\" class=\"row_heading level0 row6\" >SVC (Poly)</th>\n",
       "      <td id=\"T_52056_row6_col0\" class=\"data row6 col0\" >73.33%</td>\n",
       "      <td id=\"T_52056_row6_col1\" class=\"data row6 col1\" >73.52%</td>\n",
       "      <td id=\"T_52056_row6_col2\" class=\"data row6 col2\" >73.33%</td>\n",
       "      <td id=\"T_52056_row6_col3\" class=\"data row6 col3\" >26.67%</td>\n",
       "      <td id=\"T_52056_row6_col4\" class=\"data row6 col4\" >50.00%</td>\n",
       "      <td id=\"T_52056_row6_col5\" class=\"data row6 col5\" >73.09%</td>\n",
       "    </tr>\n",
       "    <tr>\n",
       "      <th id=\"T_52056_level0_row7\" class=\"row_heading level0 row7\" >SVC (Sigmoid)</th>\n",
       "      <td id=\"T_52056_row7_col0\" class=\"data row7 col0\" >53.33%</td>\n",
       "      <td id=\"T_52056_row7_col1\" class=\"data row7 col1\" >28.44%</td>\n",
       "      <td id=\"T_52056_row7_col2\" class=\"data row7 col2\" >53.33%</td>\n",
       "      <td id=\"T_52056_row7_col3\" class=\"data row7 col3\" >46.67%</td>\n",
       "      <td id=\"T_52056_row7_col4\" class=\"data row7 col4\" >50.00%</td>\n",
       "      <td id=\"T_52056_row7_col5\" class=\"data row7 col5\" >37.10%</td>\n",
       "    </tr>\n",
       "    <tr>\n",
       "      <th id=\"T_52056_level0_row8\" class=\"row_heading level0 row8\" >ANN</th>\n",
       "      <td id=\"T_52056_row8_col0\" class=\"data row8 col0\" >81.67%</td>\n",
       "      <td id=\"T_52056_row8_col1\" class=\"data row8 col1\" >82.38%</td>\n",
       "      <td id=\"T_52056_row8_col2\" class=\"data row8 col2\" >81.67%</td>\n",
       "      <td id=\"T_52056_row8_col3\" class=\"data row8 col3\" >18.33%</td>\n",
       "      <td id=\"T_52056_row8_col4\" class=\"data row8 col4\" >50.00%</td>\n",
       "      <td id=\"T_52056_row8_col5\" class=\"data row8 col5\" >81.43%</td>\n",
       "    </tr>\n",
       "    <tr>\n",
       "      <th id=\"T_52056_level0_row9\" class=\"row_heading level0 row9\" >Naive Bayes (GaussianNB)</th>\n",
       "      <td id=\"T_52056_row9_col0\" class=\"data row9 col0\" >83.33%</td>\n",
       "      <td id=\"T_52056_row9_col1\" class=\"data row9 col1\" >84.53%</td>\n",
       "      <td id=\"T_52056_row9_col2\" class=\"data row9 col2\" >83.33%</td>\n",
       "      <td id=\"T_52056_row9_col3\" class=\"data row9 col3\" >16.67%</td>\n",
       "      <td id=\"T_52056_row9_col4\" class=\"data row9 col4\" >50.00%</td>\n",
       "      <td id=\"T_52056_row9_col5\" class=\"data row9 col5\" >83.05%</td>\n",
       "    </tr>\n",
       "    <tr>\n",
       "      <th id=\"T_52056_level0_row10\" class=\"row_heading level0 row10\" >Naive Bayes (BernoulliNB)</th>\n",
       "      <td id=\"T_52056_row10_col0\" class=\"data row10 col0\" >88.33%</td>\n",
       "      <td id=\"T_52056_row10_col1\" class=\"data row10 col1\" >90.43%</td>\n",
       "      <td id=\"T_52056_row10_col2\" class=\"data row10 col2\" >88.33%</td>\n",
       "      <td id=\"T_52056_row10_col3\" class=\"data row10 col3\" >11.67%</td>\n",
       "      <td id=\"T_52056_row10_col4\" class=\"data row10 col4\" >50.00%</td>\n",
       "      <td id=\"T_52056_row10_col5\" class=\"data row10 col5\" >88.08%</td>\n",
       "    </tr>\n",
       "    <tr>\n",
       "      <th id=\"T_52056_level0_row11\" class=\"row_heading level0 row11\" >VotingClassifier</th>\n",
       "      <td id=\"T_52056_row11_col0\" class=\"data row11 col0\" >86.67%</td>\n",
       "      <td id=\"T_52056_row11_col1\" class=\"data row11 col1\" >89.33%</td>\n",
       "      <td id=\"T_52056_row11_col2\" class=\"data row11 col2\" >86.67%</td>\n",
       "      <td id=\"T_52056_row11_col3\" class=\"data row11 col3\" >13.33%</td>\n",
       "      <td id=\"T_52056_row11_col4\" class=\"data row11 col4\" >50.00%</td>\n",
       "      <td id=\"T_52056_row11_col5\" class=\"data row11 col5\" >86.30%</td>\n",
       "    </tr>\n",
       "  </tbody>\n",
       "</table>\n"
      ],
      "text/plain": [
       "<pandas.io.formats.style.Styler at 0x13e4f9d10>"
      ]
     },
     "execution_count": 63,
     "metadata": {},
     "output_type": "execute_result"
    }
   ],
   "source": [
    "# Define a function to calculate classification error\n",
    "def classification_error(y_true, y_pred):\n",
    "    return 1 - accuracy_score(y_true, y_pred)\n",
    "\n",
    "# Define a function to calculate specificity\n",
    "def specificity(y_true, y_pred):\n",
    "    cm = confusion_matrix(y_true, y_pred)\n",
    "    tn = cm.sum(axis=1) - cm.diagonal()  # True negatives for each class\n",
    "    fp = cm.sum(axis=0) - cm.diagonal()  # False positives for each class\n",
    "    specificity_per_class = tn / (tn + fp + 1e-10)  # Avoid division by zero\n",
    "    return specificity_per_class.mean()  # Average specificity across all classes\n",
    "\n",
    "tuned_model_scores = {\n",
    "     \"KNN\": {\n",
    "        \"Accuracy\": accuracy_score(y_test, gs_knn.predict(X_test)),\n",
    "        \"Precision\": precision_score(y_test, gs_knn.predict(X_test), average=\"weighted\"),\n",
    "        \"Sensitivity (Recall)\": recall_score(y_test, gs_knn.predict(X_test), average=\"weighted\"),\n",
    "        \"Classification Error\": classification_error(y_test, gs_knn.predict(X_test)),\n",
    "        \"Specificity\": specificity(y_test, gs_knn.predict(X_test)),\n",
    "        \"F1 Measure\": f1_score(y_test, gs_knn.predict(X_test), average=\"weighted\"),\n",
    "    },\n",
    "    \"Logistic Regression\": {\n",
    "        \"Accuracy\": accuracy_score(y_test, gs_log_reg.predict(X_test)),\n",
    "        \"Precision\": precision_score(y_test, gs_log_reg.predict(X_test), average=\"weighted\"),\n",
    "        \"Sensitivity (Recall)\": recall_score(y_test, gs_log_reg.predict(X_test), average=\"weighted\"),\n",
    "        \"Classification Error\": classification_error(y_test, gs_log_reg.predict(X_test)),\n",
    "        \"Specificity\": specificity(y_test, gs_log_reg.predict(X_test)),\n",
    "        \"F1 Measure\": f1_score(y_test, gs_log_reg.predict(X_test), average=\"weighted\"),\n",
    "    },\n",
    "    \"Random Forest\": {\n",
    "        \"Accuracy\": accuracy_score(y_test, rs_rf.predict(X_test)),\n",
    "        \"Precision\": precision_score(y_test, rs_rf.predict(X_test), average=\"weighted\"),\n",
    "        \"Sensitivity (Recall)\": recall_score(y_test, rs_rf.predict(X_test), average=\"weighted\"),\n",
    "        \"Classification Error\": classification_error(y_test, rs_rf.predict(X_test)),\n",
    "        \"Specificity\": specificity(y_test, rs_rf.predict(X_test)),\n",
    "        \"F1 Measure\": f1_score(y_test, rs_rf.predict(X_test), average=\"weighted\"),\n",
    "    },\n",
    "    \"Decision Tree\": {\n",
    "        \"Accuracy\": accuracy_score(y_test, rs_dt.predict(X_test)),\n",
    "        \"Precision\": precision_score(y_test, rs_dt.predict(X_test), average=\"weighted\"),\n",
    "        \"Sensitivity (Recall)\": recall_score(y_test, rs_dt.predict(X_test), average=\"weighted\"),\n",
    "        \"Classification Error\": classification_error(y_test, rs_dt.predict(X_test)),\n",
    "        \"Specificity\": specificity(y_test, rs_dt.predict(X_test)),\n",
    "        \"F1 Measure\": f1_score(y_test, rs_dt.predict(X_test), average=\"weighted\"),\n",
    "    },\n",
    "    \"SVC (Linear)\": {\n",
    "        \"Accuracy\": accuracy_score(y_test, gs_svc_linear.predict(X_test)),\n",
    "        \"Precision\": precision_score(y_test, gs_svc_linear.predict(X_test), average=\"weighted\"),\n",
    "        \"Sensitivity (Recall)\": recall_score(y_test, gs_svc_linear.predict(X_test), average=\"weighted\"),\n",
    "        \"Classification Error\": classification_error(y_test, gs_svc_linear.predict(X_test)),\n",
    "        \"Specificity\": specificity(y_test, gs_svc_linear.predict(X_test)),\n",
    "        \"F1 Measure\": f1_score(y_test, gs_svc_linear.predict(X_test), average=\"weighted\"),\n",
    "    },\n",
    "    \"SVC (RBF)\": {\n",
    "        \"Accuracy\": accuracy_score(y_test, gs_svc_rbf.predict(X_test)),\n",
    "        \"Precision\": precision_score(y_test, gs_svc_rbf.predict(X_test), average=\"weighted\"),\n",
    "        \"Sensitivity (Recall)\": recall_score(y_test, gs_svc_rbf.predict(X_test), average=\"weighted\"),\n",
    "        \"Classification Error\": classification_error(y_test, gs_svc_rbf.predict(X_test)),\n",
    "        \"Specificity\": specificity(y_test, gs_svc_rbf.predict(X_test)),\n",
    "        \"F1 Measure\": f1_score(y_test, gs_svc_rbf.predict(X_test), average=\"weighted\"),\n",
    "    },\n",
    "    \"SVC (Poly)\": {\n",
    "        \"Accuracy\": accuracy_score(y_test, gs_svc_poly.predict(X_test)),\n",
    "        \"Precision\": precision_score(y_test, gs_svc_poly.predict(X_test), average=\"weighted\"),\n",
    "        \"Sensitivity (Recall)\": recall_score(y_test, gs_svc_poly.predict(X_test), average=\"weighted\"),\n",
    "        \"Classification Error\": classification_error(y_test, gs_svc_poly.predict(X_test)),\n",
    "        \"Specificity\": specificity(y_test, gs_svc_poly.predict(X_test)),\n",
    "        \"F1 Measure\": f1_score(y_test, gs_svc_poly.predict(X_test), average=\"weighted\"),\n",
    "    },\n",
    "    \"SVC (Sigmoid)\": {\n",
    "        \"Accuracy\": accuracy_score(y_test, gs_svc_sigmoid.predict(X_test)),\n",
    "        \"Precision\": precision_score(y_test, gs_svc_sigmoid.predict(X_test), average=\"weighted\"),\n",
    "        \"Sensitivity (Recall)\": recall_score(y_test, gs_svc_sigmoid.predict(X_test), average=\"weighted\"),\n",
    "        \"Classification Error\": classification_error(y_test, gs_svc_sigmoid.predict(X_test)),\n",
    "        \"Specificity\": specificity(y_test, gs_svc_sigmoid.predict(X_test)),\n",
    "        \"F1 Measure\": f1_score(y_test, gs_svc_sigmoid.predict(X_test), average=\"weighted\"),\n",
    "    },\n",
    "    \"ANN\": {\n",
    "        \"Accuracy\": accuracy_score(y_test, gs_ann.predict(X_test)),\n",
    "        \"Precision\": precision_score(y_test, gs_ann.predict(X_test), average=\"weighted\"),\n",
    "        \"Sensitivity (Recall)\": recall_score(y_test, gs_ann.predict(X_test), average=\"weighted\"),\n",
    "        \"Classification Error\": classification_error(y_test, gs_ann.predict(X_test)),\n",
    "        \"Specificity\": specificity(y_test, gs_ann.predict(X_test)),\n",
    "        \"F1 Measure\": f1_score(y_test, gs_ann.predict(X_test), average=\"weighted\"),\n",
    "    },\n",
    "    \"Naive Bayes (GaussianNB)\": {\n",
    "        \"Accuracy\": accuracy_score(y_test, gs_nb_gaussian.predict(X_test)),\n",
    "        \"Precision\": precision_score(y_test, gs_nb_gaussian.predict(X_test), average=\"weighted\"),\n",
    "        \"Sensitivity (Recall)\": recall_score(y_test, gs_nb_gaussian.predict(X_test), average=\"weighted\"),\n",
    "        \"Classification Error\": classification_error(y_test, gs_nb_gaussian.predict(X_test)),\n",
    "        \"Specificity\": specificity(y_test, gs_nb_gaussian.predict(X_test)),\n",
    "        \"F1 Measure\": f1_score(y_test, gs_nb_gaussian.predict(X_test), average=\"weighted\"),\n",
    "    },\n",
    "    \"Naive Bayes (BernoulliNB)\": {\n",
    "        \"Accuracy\": accuracy_score(y_test, gs_nb_bernoulli.predict(X_test)),\n",
    "        \"Precision\": precision_score(y_test, gs_nb_bernoulli.predict(X_test), average=\"weighted\"),\n",
    "        \"Sensitivity (Recall)\": recall_score(y_test, gs_nb_bernoulli.predict(X_test), average=\"weighted\"),\n",
    "        \"Classification Error\": classification_error(y_test, gs_nb_bernoulli.predict(X_test)),\n",
    "        \"Specificity\": specificity(y_test, gs_nb_bernoulli.predict(X_test)),\n",
    "        \"F1 Measure\": f1_score(y_test, gs_nb_bernoulli.predict(X_test), average=\"weighted\"),\n",
    "    },\n",
    "    \"VotingClassifier\": {\n",
    "        \"Accuracy\": accuracy_score(y_test, gs_voting.predict(X_test)),\n",
    "        \"Precision\": precision_score(y_test, gs_voting.predict(X_test), average=\"weighted\"),\n",
    "        \"Sensitivity (Recall)\": recall_score(y_test, gs_voting.predict(X_test), average=\"weighted\"),\n",
    "        \"Classification Error\": classification_error(y_test, gs_voting.predict(X_test)),\n",
    "        \"Specificity\": specificity(y_test, gs_voting.predict(X_test)),\n",
    "        \"F1 Measure\": f1_score(y_test, gs_voting.predict(X_test), average=\"weighted\"),\n",
    "    }\n",
    "}\n",
    "\n",
    "# Convert results to a DataFrame and scale to percentages\n",
    "tuned_model_comparison = pd.DataFrame(tuned_model_scores).T * 100\n",
    "\n",
    "# Display the DataFrame\n",
    "print(tuned_model_comparison)\n",
    "\n",
    "# Optional: Pretty-print the table\n",
    "tuned_model_comparison.style.format({\n",
    "    \"Accuracy\": \"{:.2f}%\",\n",
    "    \"Precision\": \"{:.2f}%\",\n",
    "    \"Sensitivity (Recall)\": \"{:.2f}%\",\n",
    "    \"Classification Error\": \"{:.2f}%\",\n",
    "    \"Specificity\": \"{:.2f}%\",\n",
    "    \"F1 Measure\": \"{:.2f}%\"\n",
    "})"
   ]
  },
  {
   "cell_type": "markdown",
   "metadata": {},
   "source": [
    "### 5.4 Tuning models with Cross-validation"
   ]
  },
  {
   "cell_type": "code",
   "execution_count": 64,
   "metadata": {
    "execution": {
     "iopub.execute_input": "2025-01-07T15:29:26.019336Z",
     "iopub.status.busy": "2025-01-07T15:29:26.019252Z",
     "iopub.status.idle": "2025-01-07T15:29:28.126200Z",
     "shell.execute_reply": "2025-01-07T15:29:28.125945Z"
    }
   },
   "outputs": [
    {
     "name": "stderr",
     "output_type": "stream",
     "text": [
      "/opt/miniconda3/envs/data_mining/lib/python3.13/site-packages/sklearn/neural_network/_multilayer_perceptron.py:691: ConvergenceWarning: Stochastic Optimizer: Maximum iterations (200) reached and the optimization hasn't converged yet.\n",
      "  warnings.warn(\n",
      "/opt/miniconda3/envs/data_mining/lib/python3.13/site-packages/sklearn/neural_network/_multilayer_perceptron.py:691: ConvergenceWarning: Stochastic Optimizer: Maximum iterations (200) reached and the optimization hasn't converged yet.\n",
      "  warnings.warn(\n"
     ]
    },
    {
     "name": "stderr",
     "output_type": "stream",
     "text": [
      "/opt/miniconda3/envs/data_mining/lib/python3.13/site-packages/sklearn/neural_network/_multilayer_perceptron.py:691: ConvergenceWarning: Stochastic Optimizer: Maximum iterations (200) reached and the optimization hasn't converged yet.\n",
      "  warnings.warn(\n",
      "/opt/miniconda3/envs/data_mining/lib/python3.13/site-packages/sklearn/neural_network/_multilayer_perceptron.py:691: ConvergenceWarning: Stochastic Optimizer: Maximum iterations (200) reached and the optimization hasn't converged yet.\n",
      "  warnings.warn(\n"
     ]
    },
    {
     "name": "stderr",
     "output_type": "stream",
     "text": [
      "/opt/miniconda3/envs/data_mining/lib/python3.13/site-packages/sklearn/neural_network/_multilayer_perceptron.py:691: ConvergenceWarning: Stochastic Optimizer: Maximum iterations (200) reached and the optimization hasn't converged yet.\n",
      "  warnings.warn(\n",
      "/opt/miniconda3/envs/data_mining/lib/python3.13/site-packages/sklearn/neural_network/_multilayer_perceptron.py:691: ConvergenceWarning: Stochastic Optimizer: Maximum iterations (200) reached and the optimization hasn't converged yet.\n",
      "  warnings.warn(\n"
     ]
    },
    {
     "data": {
      "text/html": [
       "<style type=\"text/css\">\n",
       "</style>\n",
       "<table id=\"T_540dd\">\n",
       "  <caption>Cross-Validation Results Summary</caption>\n",
       "  <thead>\n",
       "    <tr>\n",
       "      <th class=\"blank level0\" >&nbsp;</th>\n",
       "      <th id=\"T_540dd_level0_col0\" class=\"col_heading level0 col0\" >Model</th>\n",
       "      <th id=\"T_540dd_level0_col1\" class=\"col_heading level0 col1\" >Mean Accuracy (%)</th>\n",
       "      <th id=\"T_540dd_level0_col2\" class=\"col_heading level0 col2\" >Mean Precision (%)</th>\n",
       "      <th id=\"T_540dd_level0_col3\" class=\"col_heading level0 col3\" >Mean Recall (%)</th>\n",
       "    </tr>\n",
       "  </thead>\n",
       "  <tbody>\n",
       "    <tr>\n",
       "      <th id=\"T_540dd_level0_row0\" class=\"row_heading level0 row0\" >0</th>\n",
       "      <td id=\"T_540dd_row0_col0\" class=\"data row0 col0\" >KNN</td>\n",
       "      <td id=\"T_540dd_row0_col1\" class=\"data row0 col1\" >69.20%</td>\n",
       "      <td id=\"T_540dd_row0_col2\" class=\"data row0 col2\" >70.50%</td>\n",
       "      <td id=\"T_540dd_row0_col3\" class=\"data row0 col3\" >69.20%</td>\n",
       "    </tr>\n",
       "    <tr>\n",
       "      <th id=\"T_540dd_level0_row1\" class=\"row_heading level0 row1\" >1</th>\n",
       "      <td id=\"T_540dd_row1_col0\" class=\"data row1 col0\" >LogisticRegression</td>\n",
       "      <td id=\"T_540dd_row1_col1\" class=\"data row1 col1\" >83.61%</td>\n",
       "      <td id=\"T_540dd_row1_col2\" class=\"data row1 col2\" >84.22%</td>\n",
       "      <td id=\"T_540dd_row1_col3\" class=\"data row1 col3\" >83.61%</td>\n",
       "    </tr>\n",
       "    <tr>\n",
       "      <th id=\"T_540dd_level0_row2\" class=\"row_heading level0 row2\" >2</th>\n",
       "      <td id=\"T_540dd_row2_col0\" class=\"data row2 col0\" >RandomForest</td>\n",
       "      <td id=\"T_540dd_row2_col1\" class=\"data row2 col1\" >80.24%</td>\n",
       "      <td id=\"T_540dd_row2_col2\" class=\"data row2 col2\" >81.00%</td>\n",
       "      <td id=\"T_540dd_row2_col3\" class=\"data row2 col3\" >80.24%</td>\n",
       "    </tr>\n",
       "    <tr>\n",
       "      <th id=\"T_540dd_level0_row3\" class=\"row_heading level0 row3\" >3</th>\n",
       "      <td id=\"T_540dd_row3_col0\" class=\"data row3 col0\" >DecisionTree</td>\n",
       "      <td id=\"T_540dd_row3_col1\" class=\"data row3 col1\" >74.82%</td>\n",
       "      <td id=\"T_540dd_row3_col2\" class=\"data row3 col2\" >75.47%</td>\n",
       "      <td id=\"T_540dd_row3_col3\" class=\"data row3 col3\" >74.82%</td>\n",
       "    </tr>\n",
       "    <tr>\n",
       "      <th id=\"T_540dd_level0_row4\" class=\"row_heading level0 row4\" >4</th>\n",
       "      <td id=\"T_540dd_row4_col0\" class=\"data row4 col0\" >SVC_Linear</td>\n",
       "      <td id=\"T_540dd_row4_col1\" class=\"data row4 col1\" >80.65%</td>\n",
       "      <td id=\"T_540dd_row4_col2\" class=\"data row4 col2\" >82.13%</td>\n",
       "      <td id=\"T_540dd_row4_col3\" class=\"data row4 col3\" >80.65%</td>\n",
       "    </tr>\n",
       "    <tr>\n",
       "      <th id=\"T_540dd_level0_row5\" class=\"row_heading level0 row5\" >5</th>\n",
       "      <td id=\"T_540dd_row5_col0\" class=\"data row5 col0\" >SVC_RBF</td>\n",
       "      <td id=\"T_540dd_row5_col1\" class=\"data row5 col1\" >77.30%</td>\n",
       "      <td id=\"T_540dd_row5_col2\" class=\"data row5 col2\" >77.73%</td>\n",
       "      <td id=\"T_540dd_row5_col3\" class=\"data row5 col3\" >77.30%</td>\n",
       "    </tr>\n",
       "    <tr>\n",
       "      <th id=\"T_540dd_level0_row6\" class=\"row_heading level0 row6\" >6</th>\n",
       "      <td id=\"T_540dd_row6_col0\" class=\"data row6 col0\" >SVC_Poly</td>\n",
       "      <td id=\"T_540dd_row6_col1\" class=\"data row6 col1\" >75.18%</td>\n",
       "      <td id=\"T_540dd_row6_col2\" class=\"data row6 col2\" >75.83%</td>\n",
       "      <td id=\"T_540dd_row6_col3\" class=\"data row6 col3\" >75.18%</td>\n",
       "    </tr>\n",
       "    <tr>\n",
       "      <th id=\"T_540dd_level0_row7\" class=\"row_heading level0 row7\" >7</th>\n",
       "      <td id=\"T_540dd_row7_col0\" class=\"data row7 col0\" >SVC_Sigmoid</td>\n",
       "      <td id=\"T_540dd_row7_col1\" class=\"data row7 col1\" >53.26%</td>\n",
       "      <td id=\"T_540dd_row7_col2\" class=\"data row7 col2\" >53.31%</td>\n",
       "      <td id=\"T_540dd_row7_col3\" class=\"data row7 col3\" >53.26%</td>\n",
       "    </tr>\n",
       "    <tr>\n",
       "      <th id=\"T_540dd_level0_row8\" class=\"row_heading level0 row8\" >8</th>\n",
       "      <td id=\"T_540dd_row8_col0\" class=\"data row8 col0\" >ANN</td>\n",
       "      <td id=\"T_540dd_row8_col1\" class=\"data row8 col1\" >70.45%</td>\n",
       "      <td id=\"T_540dd_row8_col2\" class=\"data row8 col2\" >74.38%</td>\n",
       "      <td id=\"T_540dd_row8_col3\" class=\"data row8 col3\" >70.45%</td>\n",
       "    </tr>\n",
       "    <tr>\n",
       "      <th id=\"T_540dd_level0_row9\" class=\"row_heading level0 row9\" >9</th>\n",
       "      <td id=\"T_540dd_row9_col0\" class=\"data row9 col0\" >NaiveBayes_Gaussian</td>\n",
       "      <td id=\"T_540dd_row9_col1\" class=\"data row9 col1\" >83.17%</td>\n",
       "      <td id=\"T_540dd_row9_col2\" class=\"data row9 col2\" >83.93%</td>\n",
       "      <td id=\"T_540dd_row9_col3\" class=\"data row9 col3\" >83.17%</td>\n",
       "    </tr>\n",
       "    <tr>\n",
       "      <th id=\"T_540dd_level0_row10\" class=\"row_heading level0 row10\" >10</th>\n",
       "      <td id=\"T_540dd_row10_col0\" class=\"data row10 col0\" >NaiveBayes_Bernoulli</td>\n",
       "      <td id=\"T_540dd_row10_col1\" class=\"data row10 col1\" >79.40%</td>\n",
       "      <td id=\"T_540dd_row10_col2\" class=\"data row10 col2\" >81.92%</td>\n",
       "      <td id=\"T_540dd_row10_col3\" class=\"data row10 col3\" >79.40%</td>\n",
       "    </tr>\n",
       "    <tr>\n",
       "      <th id=\"T_540dd_level0_row11\" class=\"row_heading level0 row11\" >11</th>\n",
       "      <td id=\"T_540dd_row11_col0\" class=\"data row11 col0\" >VotingClassifier</td>\n",
       "      <td id=\"T_540dd_row11_col1\" class=\"data row11 col1\" >83.19%</td>\n",
       "      <td id=\"T_540dd_row11_col2\" class=\"data row11 col2\" >83.96%</td>\n",
       "      <td id=\"T_540dd_row11_col3\" class=\"data row11 col3\" >83.19%</td>\n",
       "    </tr>\n",
       "  </tbody>\n",
       "</table>\n"
      ],
      "text/plain": [
       "<pandas.io.formats.style.Styler at 0x13e6a4cd0>"
      ]
     },
     "execution_count": 64,
     "metadata": {},
     "output_type": "execute_result"
    }
   ],
   "source": [
    "# List of models with the best hyperparameters (from RandomizedSearchCV or GridSearchCV)\n",
    "\n",
    "# Define the best models with their respective best parameters\n",
    "best_models = {\n",
    "    \"KNN\": KNeighborsClassifier(**rs_knn.best_params_),\n",
    "    \"LogisticRegression\": LogisticRegression(**rs_log_reg.best_params_),\n",
    "    \"RandomForest\": RandomForestClassifier(**rs_rf.best_params_),\n",
    "    \"DecisionTree\": DecisionTreeClassifier(**rs_dt.best_params_),\n",
    "    \"SVC_Linear\": SVC(**rs_svc_linear.best_params_),\n",
    "    \"SVC_RBF\": SVC(**rs_svc_rbf.best_params_),\n",
    "    \"SVC_Poly\": SVC(**rs_svc_poly.best_params_),\n",
    "    \"SVC_Sigmoid\": SVC(**rs_svc_sigmoid.best_params_),\n",
    "    \"ANN\": MLPClassifier(**rs_ann.best_params_),\n",
    "    \"NaiveBayes_Gaussian\": GaussianNB(**rs_nb_gaussian.best_params_),\n",
    "    \"NaiveBayes_Bernoulli\": BernoulliNB(**rs_nb_bernoulli.best_params_)\n",
    "}\n",
    "\n",
    "best_models[\"VotingClassifier\"] = VotingClassifier(\n",
    "    estimators=[\n",
    "        ('knn', best_models['KNN']),\n",
    "        ('log_reg', best_models['LogisticRegression']),\n",
    "        ('rf', best_models['RandomForest']),\n",
    "        ('naive_bayes', best_models['NaiveBayes_Gaussian'])\n",
    "    ],\n",
    "    **rs_voting.best_params_\n",
    ")\n",
    "\n",
    "# Define scoring metrics\n",
    "scoring_metrics = {\n",
    "    \"accuracy\": make_scorer(accuracy_score),\n",
    "    \"precision\": make_scorer(precision_score, average='weighted'),\n",
    "    \"recall\": make_scorer(recall_score, average='weighted')\n",
    "}\n",
    "\n",
    "# Cross-validation for each model and store results\n",
    "cv_results = {}\n",
    "for model_name, model in best_models.items():\n",
    "    scores = cross_validate(model, X_train, y_train, cv=10, scoring=scoring_metrics, verbose=True)\n",
    "    cv_results[model_name] = {\n",
    "        \"accuracy\": scores['test_accuracy'].mean() * 100,\n",
    "        \"precision\": scores['test_precision'].mean() * 100,\n",
    "        \"recall\": scores['test_recall'].mean() * 100\n",
    "    }\n",
    "\n",
    "# Create a summary DataFrame\n",
    "cv_results_summary = {\n",
    "    \"Model\": [],\n",
    "    \"Mean Accuracy (%)\": [],\n",
    "    \"Mean Precision (%)\": [],\n",
    "    \"Mean Recall (%)\": []\n",
    "}\n",
    "\n",
    "for model_name, metrics in cv_results.items():\n",
    "    cv_results_summary[\"Model\"].append(model_name)\n",
    "    cv_results_summary[\"Mean Accuracy (%)\"].append(metrics[\"accuracy\"])\n",
    "    cv_results_summary[\"Mean Precision (%)\"].append(metrics[\"precision\"])\n",
    "    cv_results_summary[\"Mean Recall (%)\"].append(metrics[\"recall\"])\n",
    "\n",
    "results_df = pd.DataFrame(cv_results_summary)\n",
    "\n",
    "# Style the DataFrame\n",
    "styled_table = results_df.style.format({\n",
    "    \"Mean Accuracy (%)\": \"{:.2f}%\",\n",
    "    \"Mean Precision (%)\": \"{:.2f}%\",\n",
    "    \"Mean Recall (%)\": \"{:.2f}%\"\n",
    "}).set_caption(\"Cross-Validation Results Summary\")\n",
    "\n",
    "styled_table"
   ]
  },
  {
   "cell_type": "markdown",
   "metadata": {},
   "source": [
    "# 6. Evaluating Model Performance"
   ]
  },
  {
   "cell_type": "code",
   "execution_count": 65,
   "metadata": {
    "execution": {
     "iopub.execute_input": "2025-01-07T15:29:28.127474Z",
     "iopub.status.busy": "2025-01-07T15:29:28.127389Z",
     "iopub.status.idle": "2025-01-07T15:29:28.129512Z",
     "shell.execute_reply": "2025-01-07T15:29:28.129275Z"
    }
   },
   "outputs": [],
   "source": [
    "# Make preidctions on test data\n",
    "y_preds = gs_log_reg.predict(X_test)"
   ]
  },
  {
   "cell_type": "code",
   "execution_count": 66,
   "metadata": {
    "execution": {
     "iopub.execute_input": "2025-01-07T15:29:28.130575Z",
     "iopub.status.busy": "2025-01-07T15:29:28.130498Z",
     "iopub.status.idle": "2025-01-07T15:29:28.132767Z",
     "shell.execute_reply": "2025-01-07T15:29:28.132506Z"
    }
   },
   "outputs": [
    {
     "data": {
      "text/plain": [
       "array([0, 0, 0, 0, 0, 0, 1, 0, 1, 0, 1, 0, 0, 1, 1, 0, 0, 0, 1, 1, 0, 0,\n",
       "       0, 0, 1, 0, 0, 1, 0, 1, 0, 1, 1, 0, 0, 1, 0, 1, 0, 1, 0, 1, 0, 1,\n",
       "       0, 0, 1, 0, 0, 0, 0, 1, 0, 0, 1, 1, 0, 0, 0, 1])"
      ]
     },
     "execution_count": 66,
     "metadata": {},
     "output_type": "execute_result"
    }
   ],
   "source": [
    "y_preds"
   ]
  },
  {
   "cell_type": "code",
   "execution_count": 67,
   "metadata": {
    "execution": {
     "iopub.execute_input": "2025-01-07T15:29:28.133929Z",
     "iopub.status.busy": "2025-01-07T15:29:28.133836Z",
     "iopub.status.idle": "2025-01-07T15:29:28.135914Z",
     "shell.execute_reply": "2025-01-07T15:29:28.135606Z"
    }
   },
   "outputs": [
    {
     "data": {
      "text/plain": [
       "array([0, 0, 0, 0, 0, 0, 1, 0, 1, 0, 1, 0, 0, 1, 1, 1, 1, 0, 1, 1, 0, 0,\n",
       "       1, 0, 1, 0, 0, 1, 0, 1, 0, 1, 1, 0, 0, 1, 0, 1, 0, 1, 0, 1, 1, 1,\n",
       "       0, 0, 1, 0, 1, 0, 0, 1, 0, 0, 1, 1, 1, 0, 0, 1])"
      ]
     },
     "execution_count": 67,
     "metadata": {},
     "output_type": "execute_result"
    }
   ],
   "source": [
    "y_test"
   ]
  },
  {
   "cell_type": "markdown",
   "metadata": {},
   "source": [
    "### 6.1 ROC Curve and AUC Scores"
   ]
  },
  {
   "cell_type": "code",
   "execution_count": 39,
   "metadata": {
    "execution": {
     "iopub.execute_input": "2025-01-07T15:29:28.137202Z",
     "iopub.status.busy": "2025-01-07T15:29:28.137035Z",
     "iopub.status.idle": "2025-01-07T15:29:28.199113Z",
     "shell.execute_reply": "2025-01-07T15:29:28.198848Z"
    }
   },
   "outputs": [
    {
     "ename": "NameError",
     "evalue": "name 'gs_log_reg' is not defined",
     "output_type": "error",
     "traceback": [
      "\u001b[0;31m---------------------------------------------------------------------------\u001b[0m",
      "\u001b[0;31mNameError\u001b[0m                                 Traceback (most recent call last)",
      "Cell \u001b[0;32mIn[39], line 2\u001b[0m\n\u001b[1;32m      1\u001b[0m \u001b[38;5;66;03m# Calculate the AUC score\u001b[39;00m\n\u001b[0;32m----> 2\u001b[0m y_pred_prob \u001b[38;5;241m=\u001b[39m \u001b[43mgs_log_reg\u001b[49m\u001b[38;5;241m.\u001b[39mpredict_proba(X_test)[:, \u001b[38;5;241m1\u001b[39m]  \u001b[38;5;66;03m# Probabilities for the positive class\u001b[39;00m\n\u001b[1;32m      3\u001b[0m auc_score \u001b[38;5;241m=\u001b[39m roc_auc_score(y_test, y_pred_prob) \u001b[38;5;66;03m# Calculate AUC score\u001b[39;00m\n\u001b[1;32m      5\u001b[0m fig, ax \u001b[38;5;241m=\u001b[39m plt\u001b[38;5;241m.\u001b[39msubplots(figsize\u001b[38;5;241m=\u001b[39m(\u001b[38;5;241m8\u001b[39m, \u001b[38;5;241m6\u001b[39m))  \u001b[38;5;66;03m# Set a larger figure for better readability\u001b[39;00m\n",
      "\u001b[0;31mNameError\u001b[0m: name 'gs_log_reg' is not defined"
     ]
    }
   ],
   "source": [
    "# Calculate the AUC score\n",
    "y_pred_prob = gs_log_reg.predict_proba(X_test)[:, 1]  # Probabilities for the positive class\n",
    "auc_score = roc_auc_score(y_test, y_pred_prob) # Calculate AUC score\n",
    "\n",
    "fig, ax = plt.subplots(figsize=(8, 6))  # Set a larger figure for better readability\n",
    "RocCurveDisplay.from_estimator(\n",
    "    estimator=gs_log_reg,\n",
    "    X=X_test,\n",
    "    y=y_test,\n",
    "    ax=ax,\n",
    "    name=\"Logistic Regression\"  # You can change the model name if necessary\n",
    ")\n",
    "\n",
    "# Enhance plot appearance\n",
    "ax.set_title(\"ROC Curve with AUC\", fontsize=16)\n",
    "ax.set_xlabel(\"False Positive Rate\", fontsize=14)\n",
    "ax.set_ylabel(\"True Positive Rate\", fontsize=14)\n",
    "ax.grid(True, linestyle='--', alpha=0.8)\n",
    "plt.tight_layout()\n",
    "\n",
    "# Show plot\n",
    "plt.show()"
   ]
  },
  {
   "cell_type": "markdown",
   "metadata": {},
   "source": [
    "### 6.2 Creating a confusion matrix"
   ]
  },
  {
   "cell_type": "code",
   "execution_count": 69,
   "metadata": {
    "execution": {
     "iopub.execute_input": "2025-01-07T15:29:28.200441Z",
     "iopub.status.busy": "2025-01-07T15:29:28.200341Z",
     "iopub.status.idle": "2025-01-07T15:29:28.246128Z",
     "shell.execute_reply": "2025-01-07T15:29:28.245862Z"
    }
   },
   "outputs": [
    {
     "data": {
      "image/png": "[encoded data removed]",
      "text/plain": [
       "<Figure size 640x480 with 2 Axes>"
      ]
     },
     "metadata": {},
     "output_type": "display_data"
    }
   ],
   "source": [
    "# Plot confusion matrix\n",
    "cm = confusion_matrix(y_test, y_preds)\n",
    "disp = ConfusionMatrixDisplay(confusion_matrix=cm, display_labels=gs_log_reg.classes_)\n",
    "disp.plot(cmap=\"Blues\", values_format=\"d\", xticks_rotation=45)\n",
    "plt.grid(False)\n",
    "plt.title(\"Confusion Matrix\")\n",
    "plt.show()\n"
   ]
  },
  {
   "cell_type": "markdown",
   "metadata": {},
   "source": [
    "### 6.3 Classification report"
   ]
  },
  {
   "cell_type": "code",
   "execution_count": 70,
   "metadata": {
    "execution": {
     "iopub.execute_input": "2025-01-07T15:29:28.247387Z",
     "iopub.status.busy": "2025-01-07T15:29:28.247305Z",
     "iopub.status.idle": "2025-01-07T15:29:28.254053Z",
     "shell.execute_reply": "2025-01-07T15:29:28.253810Z"
    }
   },
   "outputs": [
    {
     "name": "stdout",
     "output_type": "stream",
     "text": [
      "Classification Report:\n",
      "\n"
     ]
    },
    {
     "data": {
      "text/html": [
       "<style type=\"text/css\">\n",
       "</style>\n",
       "<table id=\"T_00722\">\n",
       "  <thead>\n",
       "    <tr>\n",
       "      <th class=\"blank level0\" >&nbsp;</th>\n",
       "      <th id=\"T_00722_level0_col0\" class=\"col_heading level0 col0\" >precision</th>\n",
       "      <th id=\"T_00722_level0_col1\" class=\"col_heading level0 col1\" >recall</th>\n",
       "      <th id=\"T_00722_level0_col2\" class=\"col_heading level0 col2\" >f1-score</th>\n",
       "      <th id=\"T_00722_level0_col3\" class=\"col_heading level0 col3\" >support</th>\n",
       "    </tr>\n",
       "  </thead>\n",
       "  <tbody>\n",
       "    <tr>\n",
       "      <th id=\"T_00722_level0_row0\" class=\"row_heading level0 row0\" >0</th>\n",
       "      <td id=\"T_00722_row0_col0\" class=\"data row0 col0\" >0.842105</td>\n",
       "      <td id=\"T_00722_row0_col1\" class=\"data row0 col1\" >1.000000</td>\n",
       "      <td id=\"T_00722_row0_col2\" class=\"data row0 col2\" >0.914286</td>\n",
       "      <td id=\"T_00722_row0_col3\" class=\"data row0 col3\" >32.000000</td>\n",
       "    </tr>\n",
       "    <tr>\n",
       "      <th id=\"T_00722_level0_row1\" class=\"row_heading level0 row1\" >1</th>\n",
       "      <td id=\"T_00722_row1_col0\" class=\"data row1 col0\" >1.000000</td>\n",
       "      <td id=\"T_00722_row1_col1\" class=\"data row1 col1\" >0.785714</td>\n",
       "      <td id=\"T_00722_row1_col2\" class=\"data row1 col2\" >0.880000</td>\n",
       "      <td id=\"T_00722_row1_col3\" class=\"data row1 col3\" >28.000000</td>\n",
       "    </tr>\n",
       "    <tr>\n",
       "      <th id=\"T_00722_level0_row2\" class=\"row_heading level0 row2\" >accuracy</th>\n",
       "      <td id=\"T_00722_row2_col0\" class=\"data row2 col0\" >0.900000</td>\n",
       "      <td id=\"T_00722_row2_col1\" class=\"data row2 col1\" >0.900000</td>\n",
       "      <td id=\"T_00722_row2_col2\" class=\"data row2 col2\" >0.900000</td>\n",
       "      <td id=\"T_00722_row2_col3\" class=\"data row2 col3\" >0.900000</td>\n",
       "    </tr>\n",
       "    <tr>\n",
       "      <th id=\"T_00722_level0_row3\" class=\"row_heading level0 row3\" >macro avg</th>\n",
       "      <td id=\"T_00722_row3_col0\" class=\"data row3 col0\" >0.921053</td>\n",
       "      <td id=\"T_00722_row3_col1\" class=\"data row3 col1\" >0.892857</td>\n",
       "      <td id=\"T_00722_row3_col2\" class=\"data row3 col2\" >0.897143</td>\n",
       "      <td id=\"T_00722_row3_col3\" class=\"data row3 col3\" >60.000000</td>\n",
       "    </tr>\n",
       "    <tr>\n",
       "      <th id=\"T_00722_level0_row4\" class=\"row_heading level0 row4\" >weighted avg</th>\n",
       "      <td id=\"T_00722_row4_col0\" class=\"data row4 col0\" >0.915789</td>\n",
       "      <td id=\"T_00722_row4_col1\" class=\"data row4 col1\" >0.900000</td>\n",
       "      <td id=\"T_00722_row4_col2\" class=\"data row4 col2\" >0.898286</td>\n",
       "      <td id=\"T_00722_row4_col3\" class=\"data row4 col3\" >60.000000</td>\n",
       "    </tr>\n",
       "  </tbody>\n",
       "</table>\n"
      ],
      "text/plain": [
       "<pandas.io.formats.style.Styler at 0x13fd09950>"
      ]
     },
     "metadata": {},
     "output_type": "display_data"
    }
   ],
   "source": [
    "print(\"Classification Report:\\n\")\n",
    "report = classification_report(y_test, y_preds, output_dict=True)\n",
    "report_df = pd.DataFrame(report).T\n",
    "display(report_df.style.format(subset=[\"precision\", \"recall\", \"f1-score\"]))"
   ]
  },
  {
   "cell_type": "markdown",
   "metadata": {},
   "source": [
    "### 6.4 Cross-validated metrics"
   ]
  },
  {
   "cell_type": "code",
   "execution_count": 11,
   "metadata": {
    "execution": {
     "iopub.execute_input": "2025-01-07T15:29:28.255254Z",
     "iopub.status.busy": "2025-01-07T15:29:28.255175Z",
     "iopub.status.idle": "2025-01-07T15:29:28.330007Z",
     "shell.execute_reply": "2025-01-07T15:29:28.329742Z"
    }
   },
   "outputs": [
    {
     "data": {
      "image/png": "[encoded data removed]",
      "text/plain": [
       "<Figure size 640x480 with 1 Axes>"
      ]
     },
     "metadata": {},
     "output_type": "display_data"
    }
   ],
   "source": [
    "\n",
    "# clf using the best hyperparameters from GridSearchCV\n",
    "clf = LogisticRegression(C=rs_log_reg.best_params_['C'], solver=\"liblinear\")\n",
    "\n",
    "# Cross-validated metrics\n",
    "cv_metrics = {\n",
    "    \"Accuracy\": np.mean(cross_val_score(clf, X, y, cv=5, scoring=\"accuracy\")),\n",
    "    \"Precision\": np.mean(cross_val_score(clf, X, y, cv=5, scoring=\"precision\")),\n",
    "    \"Recall\": np.mean(cross_val_score(clf, X, y, cv=5, scoring=\"recall\")),\n",
    "    \"F1\": np.mean(cross_val_score(clf, X, y, cv=5, scoring=\"f1\")),\n",
    "}\n",
    "\n",
    "# Convert metrics to DataFrame\n",
    "cv_metrics_df = pd.DataFrame(cv_metrics, index=[\"Score\"]).T\n",
    "cv_metrics_df.columns = [\"Cross-Validated\"]\n",
    "\n",
    "# Plot metrics\n",
    "cv_metrics_df.plot(kind=\"bar\", legend=False)\n",
    "\n",
    "# Rotate x-axis labels\n",
    "plt.xticks(rotation=90, ha='center')\n",
    "\n",
    "# Set y-axis limits and format y-axis to percentage\n",
    "plt.ylim(0, 1)\n",
    "plt.gca().yaxis.set_major_formatter(FuncFormatter(lambda y, _: f'{y*100:.0f}%'))\n",
    "\n",
    "# Show plot\n",
    "plt.tight_layout()\n",
    "plt.show()"
   ]
  },
  {
   "cell_type": "markdown",
   "metadata": {},
   "source": [
    "# 7. Feature importance"
   ]
  },
  {
   "cell_type": "code",
   "execution_count": 38,
   "metadata": {
    "execution": {
     "iopub.execute_input": "2025-01-07T15:29:28.331389Z",
     "iopub.status.busy": "2025-01-07T15:29:28.331282Z",
     "iopub.status.idle": "2025-01-07T15:29:28.427096Z",
     "shell.execute_reply": "2025-01-07T15:29:28.426821Z"
    }
   },
   "outputs": [
    {
     "name": "stderr",
     "output_type": "stream",
     "text": [
      "/var/folders/ty/pzq_b8jn4k7bxn69m1pm52z00000gn/T/ipykernel_34042/2642690307.py:13: FutureWarning: \n",
      "\n",
      "Passing `palette` without assigning `hue` is deprecated and will be removed in v0.14.0. Assign the `y` variable to `hue` and set `legend=False` for the same effect.\n",
      "\n",
      "  sns.barplot(data=features_df, x=\"Importance\", y=\"Feature\", palette=\"viridis\")\n"
     ]
    },
    {
     "data": {
      "image/png": "[encoded data removed]",
      "text/plain": [
       "<Figure size 1000x600 with 1 Axes>"
      ]
     },
     "metadata": {},
     "output_type": "display_data"
    }
   ],
   "source": [
    "# Fit an instance of LogisticRegression (taken from above)\n",
    "clf.fit(X_train, y_train)\n",
    "\n",
    "# Extract coefficients and match features to columns\n",
    "features_dict = dict(zip(df.columns, list(clf.coef_[0])))\n",
    "\n",
    "# Convert to DataFrame and sort by importance\n",
    "features_df = pd.DataFrame(features_dict.items(), columns=[\"Feature\", \"Importance\"])\n",
    "features_df = features_df.sort_values(by=\"Importance\", ascending=False)\n",
    "\n",
    "# Visualize feature importance (sorted)\n",
    "plt.figure(figsize=(10, 6))\n",
    "sns.barplot(data=features_df, x=\"Importance\", y=\"Feature\", palette=\"viridis\")\n",
    "plt.xlabel(\"Importance\", fontsize=18)\n",
    "plt.xticks(fontsize=18)\n",
    "plt.yticks(fontsize=18)\n",
    "plt.ylabel(\"\")\n",
    "plt.tight_layout()\n",
    "plt.show()"
   ]
  },
  {
   "cell_type": "code",
   "execution_count": null,
   "metadata": {},
   "outputs": [],
   "source": []
  }
 ],
 "metadata": {
  "kernelspec": {
   "display_name": "data_mining",
   "language": "python",
   "name": "python3"
  },
  "language_info": {
   "codemirror_mode": {
    "name": "ipython",
    "version": 3
   },
   "file_extension": ".py",
   "mimetype": "text/x-python",
   "name": "python",
   "nbconvert_exporter": "python",
   "pygments_lexer": "ipython3",
   "version": "3.13.1"
  }
 },
 "nbformat": 4,
 "nbformat_minor": 2
}
