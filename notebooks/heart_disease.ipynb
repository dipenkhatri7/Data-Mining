{
 "cells": [
  {
   "cell_type": "markdown",
   "metadata": {},
   "source": [
    "# 1. Preparing the tools"
   ]
  },
  {
   "cell_type": "code",
   "execution_count": 1,
   "metadata": {},
   "outputs": [
    {
     "name": "stdout",
     "output_type": "stream",
     "text": [
      "Notebook last updated: 2025-01-05 21:05:35.079675\n",
      "\n",
      "NumPy version: 2.2.1\n",
      "pandas version: 2.2.3\n",
      "matplotlib version: 3.10.0\n",
      "Scikit-Learn version: 1.6.0\n"
     ]
    }
   ],
   "source": [
    "import sys\n",
    "import os\n",
    "\n",
    "# Regular EDA and plotting libraries\n",
    "import numpy as np\n",
    "import pandas as pd\n",
    "import matplotlib\n",
    "import matplotlib.pyplot as plt\n",
    "import seaborn as sns\n",
    "from matplotlib.ticker import FuncFormatter\n",
    "\n",
    "## Models\n",
    "import sklearn \n",
    "from sklearn.linear_model import LogisticRegression\n",
    "from sklearn.neighbors import KNeighborsClassifier\n",
    "from sklearn.ensemble import RandomForestClassifier\n",
    "from sklearn.tree import DecisionTreeClassifier\n",
    "from sklearn.neural_network import MLPClassifier # For ANN\n",
    "from sklearn.svm import SVC  # For SVM (Support Vector Machine)\n",
    "from sklearn.naive_bayes import GaussianNB  # For Naive Bayes\n",
    "from sklearn.naive_bayes import BernoulliNB  # For binary classification\n",
    "\n",
    "\n",
    "## Model evaluators\n",
    "from sklearn.model_selection import train_test_split, cross_val_score\n",
    "from sklearn.model_selection import RandomizedSearchCV, GridSearchCV\n",
    "from sklearn.metrics import confusion_matrix, classification_report, ConfusionMatrixDisplay\n",
    "from sklearn.metrics import precision_score, recall_score, f1_score, accuracy_score\n",
    "from sklearn.ensemble import VotingClassifier\n",
    "from sklearn.metrics import RocCurveDisplay, roc_auc_score\n",
    "\n",
    "import datetime\n",
    "print(f\"Notebook last updated: {datetime.datetime.now()}\\n\")\n",
    "print(f\"NumPy version: {np.__version__}\")\n",
    "print(f\"pandas version: {pd.__version__}\")\n",
    "print(f\"matplotlib version: {matplotlib.__version__}\")\n",
    "print(f\"Scikit-Learn version: {sklearn.__version__}\")"
   ]
  },
  {
   "cell_type": "markdown",
   "metadata": {},
   "source": [
    "# 2. Loading Data"
   ]
  },
  {
   "cell_type": "code",
   "execution_count": 2,
   "metadata": {},
   "outputs": [
    {
     "data": {
      "text/plain": [
       "(297, 14)"
      ]
     },
     "execution_count": 2,
     "metadata": {},
     "output_type": "execute_result"
    }
   ],
   "source": [
    "# Get project root directory\n",
    "project_dir = os.path.abspath(\"..\")\n",
    "sys.path.append(project_dir)\n",
    "\n",
    "from src import config\n",
    "\n",
    "# Use absolute path instead of relative\n",
    "df = pd.read_csv(os.path.join(project_dir, config.HEART_DATA_PATH))\n",
    "\n",
    "df.shape"
   ]
  },
  {
   "cell_type": "markdown",
   "metadata": {},
   "source": [
    "# 3. Data Exploration (EDA)"
   ]
  },
  {
   "cell_type": "code",
   "execution_count": null,
   "metadata": {},
   "outputs": [],
   "source": [
    "df.head()"
   ]
  },
  {
   "cell_type": "code",
   "execution_count": null,
   "metadata": {},
   "outputs": [],
   "source": [
    "# Count the number of missing values in each column\n",
    "df.isnull().sum()"
   ]
  },
  {
   "cell_type": "code",
   "execution_count": 154,
   "metadata": {},
   "outputs": [
    {
     "name": "stdout",
     "output_type": "stream",
     "text": [
      "<class 'pandas.core.frame.DataFrame'>\n",
      "RangeIndex: 297 entries, 0 to 296\n",
      "Data columns (total 14 columns):\n",
      " #   Column    Non-Null Count  Dtype  \n",
      "---  ------    --------------  -----  \n",
      " 0   age       297 non-null    int64  \n",
      " 1   sex       297 non-null    int64  \n",
      " 2   cp        297 non-null    int64  \n",
      " 3   trestbps  297 non-null    int64  \n",
      " 4   chol      297 non-null    int64  \n",
      " 5   fbs       297 non-null    int64  \n",
      " 6   restecg   297 non-null    int64  \n",
      " 7   thalach   297 non-null    int64  \n",
      " 8   exang     297 non-null    int64  \n",
      " 9   oldpeak   297 non-null    float64\n",
      " 10  slope     297 non-null    int64  \n",
      " 11  ca        297 non-null    int64  \n",
      " 12  thal      297 non-null    int64  \n",
      " 13  target    297 non-null    int64  \n",
      "dtypes: float64(1), int64(13)\n",
      "memory usage: 32.6 KB\n"
     ]
    }
   ],
   "source": [
    "df.info()"
   ]
  },
  {
   "cell_type": "code",
   "execution_count": 153,
   "metadata": {},
   "outputs": [
    {
     "data": {
      "text/html": [
       "<div>\n",
       "<style scoped>\n",
       "    .dataframe tbody tr th:only-of-type {\n",
       "        vertical-align: middle;\n",
       "    }\n",
       "\n",
       "    .dataframe tbody tr th {\n",
       "        vertical-align: top;\n",
       "    }\n",
       "\n",
       "    .dataframe thead th {\n",
       "        text-align: right;\n",
       "    }\n",
       "</style>\n",
       "<table border=\"1\" class=\"dataframe\">\n",
       "  <thead>\n",
       "    <tr style=\"text-align: right;\">\n",
       "      <th></th>\n",
       "      <th>age</th>\n",
       "      <th>sex</th>\n",
       "      <th>cp</th>\n",
       "      <th>trestbps</th>\n",
       "      <th>chol</th>\n",
       "      <th>fbs</th>\n",
       "      <th>restecg</th>\n",
       "      <th>thalach</th>\n",
       "      <th>exang</th>\n",
       "      <th>oldpeak</th>\n",
       "      <th>slope</th>\n",
       "      <th>ca</th>\n",
       "      <th>thal</th>\n",
       "      <th>target</th>\n",
       "    </tr>\n",
       "  </thead>\n",
       "  <tbody>\n",
       "    <tr>\n",
       "      <th>count</th>\n",
       "      <td>297.000000</td>\n",
       "      <td>297.000000</td>\n",
       "      <td>297.000000</td>\n",
       "      <td>297.000000</td>\n",
       "      <td>297.000000</td>\n",
       "      <td>297.000000</td>\n",
       "      <td>297.000000</td>\n",
       "      <td>297.000000</td>\n",
       "      <td>297.000000</td>\n",
       "      <td>297.000000</td>\n",
       "      <td>297.000000</td>\n",
       "      <td>297.000000</td>\n",
       "      <td>297.000000</td>\n",
       "      <td>297.000000</td>\n",
       "    </tr>\n",
       "    <tr>\n",
       "      <th>mean</th>\n",
       "      <td>54.542088</td>\n",
       "      <td>0.676768</td>\n",
       "      <td>2.158249</td>\n",
       "      <td>131.693603</td>\n",
       "      <td>247.350168</td>\n",
       "      <td>0.144781</td>\n",
       "      <td>0.996633</td>\n",
       "      <td>149.599327</td>\n",
       "      <td>0.326599</td>\n",
       "      <td>1.055556</td>\n",
       "      <td>0.602694</td>\n",
       "      <td>0.676768</td>\n",
       "      <td>0.835017</td>\n",
       "      <td>0.461279</td>\n",
       "    </tr>\n",
       "    <tr>\n",
       "      <th>std</th>\n",
       "      <td>9.049736</td>\n",
       "      <td>0.468500</td>\n",
       "      <td>0.964859</td>\n",
       "      <td>17.762806</td>\n",
       "      <td>51.997583</td>\n",
       "      <td>0.352474</td>\n",
       "      <td>0.994914</td>\n",
       "      <td>22.941562</td>\n",
       "      <td>0.469761</td>\n",
       "      <td>1.166123</td>\n",
       "      <td>0.618187</td>\n",
       "      <td>0.938965</td>\n",
       "      <td>0.956690</td>\n",
       "      <td>0.499340</td>\n",
       "    </tr>\n",
       "    <tr>\n",
       "      <th>min</th>\n",
       "      <td>29.000000</td>\n",
       "      <td>0.000000</td>\n",
       "      <td>0.000000</td>\n",
       "      <td>94.000000</td>\n",
       "      <td>126.000000</td>\n",
       "      <td>0.000000</td>\n",
       "      <td>0.000000</td>\n",
       "      <td>71.000000</td>\n",
       "      <td>0.000000</td>\n",
       "      <td>0.000000</td>\n",
       "      <td>0.000000</td>\n",
       "      <td>0.000000</td>\n",
       "      <td>0.000000</td>\n",
       "      <td>0.000000</td>\n",
       "    </tr>\n",
       "    <tr>\n",
       "      <th>25%</th>\n",
       "      <td>48.000000</td>\n",
       "      <td>0.000000</td>\n",
       "      <td>2.000000</td>\n",
       "      <td>120.000000</td>\n",
       "      <td>211.000000</td>\n",
       "      <td>0.000000</td>\n",
       "      <td>0.000000</td>\n",
       "      <td>133.000000</td>\n",
       "      <td>0.000000</td>\n",
       "      <td>0.000000</td>\n",
       "      <td>0.000000</td>\n",
       "      <td>0.000000</td>\n",
       "      <td>0.000000</td>\n",
       "      <td>0.000000</td>\n",
       "    </tr>\n",
       "    <tr>\n",
       "      <th>50%</th>\n",
       "      <td>56.000000</td>\n",
       "      <td>1.000000</td>\n",
       "      <td>2.000000</td>\n",
       "      <td>130.000000</td>\n",
       "      <td>243.000000</td>\n",
       "      <td>0.000000</td>\n",
       "      <td>1.000000</td>\n",
       "      <td>153.000000</td>\n",
       "      <td>0.000000</td>\n",
       "      <td>0.800000</td>\n",
       "      <td>1.000000</td>\n",
       "      <td>0.000000</td>\n",
       "      <td>0.000000</td>\n",
       "      <td>0.000000</td>\n",
       "    </tr>\n",
       "    <tr>\n",
       "      <th>75%</th>\n",
       "      <td>61.000000</td>\n",
       "      <td>1.000000</td>\n",
       "      <td>3.000000</td>\n",
       "      <td>140.000000</td>\n",
       "      <td>276.000000</td>\n",
       "      <td>0.000000</td>\n",
       "      <td>2.000000</td>\n",
       "      <td>166.000000</td>\n",
       "      <td>1.000000</td>\n",
       "      <td>1.600000</td>\n",
       "      <td>1.000000</td>\n",
       "      <td>1.000000</td>\n",
       "      <td>2.000000</td>\n",
       "      <td>1.000000</td>\n",
       "    </tr>\n",
       "    <tr>\n",
       "      <th>max</th>\n",
       "      <td>77.000000</td>\n",
       "      <td>1.000000</td>\n",
       "      <td>3.000000</td>\n",
       "      <td>200.000000</td>\n",
       "      <td>564.000000</td>\n",
       "      <td>1.000000</td>\n",
       "      <td>2.000000</td>\n",
       "      <td>202.000000</td>\n",
       "      <td>1.000000</td>\n",
       "      <td>6.200000</td>\n",
       "      <td>2.000000</td>\n",
       "      <td>3.000000</td>\n",
       "      <td>2.000000</td>\n",
       "      <td>1.000000</td>\n",
       "    </tr>\n",
       "  </tbody>\n",
       "</table>\n",
       "</div>"
      ],
      "text/plain": [
       "              age         sex          cp    trestbps        chol         fbs  \\\n",
       "count  297.000000  297.000000  297.000000  297.000000  297.000000  297.000000   \n",
       "mean    54.542088    0.676768    2.158249  131.693603  247.350168    0.144781   \n",
       "std      9.049736    0.468500    0.964859   17.762806   51.997583    0.352474   \n",
       "min     29.000000    0.000000    0.000000   94.000000  126.000000    0.000000   \n",
       "25%     48.000000    0.000000    2.000000  120.000000  211.000000    0.000000   \n",
       "50%     56.000000    1.000000    2.000000  130.000000  243.000000    0.000000   \n",
       "75%     61.000000    1.000000    3.000000  140.000000  276.000000    0.000000   \n",
       "max     77.000000    1.000000    3.000000  200.000000  564.000000    1.000000   \n",
       "\n",
       "          restecg     thalach       exang     oldpeak       slope          ca  \\\n",
       "count  297.000000  297.000000  297.000000  297.000000  297.000000  297.000000   \n",
       "mean     0.996633  149.599327    0.326599    1.055556    0.602694    0.676768   \n",
       "std      0.994914   22.941562    0.469761    1.166123    0.618187    0.938965   \n",
       "min      0.000000   71.000000    0.000000    0.000000    0.000000    0.000000   \n",
       "25%      0.000000  133.000000    0.000000    0.000000    0.000000    0.000000   \n",
       "50%      1.000000  153.000000    0.000000    0.800000    1.000000    0.000000   \n",
       "75%      2.000000  166.000000    1.000000    1.600000    1.000000    1.000000   \n",
       "max      2.000000  202.000000    1.000000    6.200000    2.000000    3.000000   \n",
       "\n",
       "             thal      target  \n",
       "count  297.000000  297.000000  \n",
       "mean     0.835017    0.461279  \n",
       "std      0.956690    0.499340  \n",
       "min      0.000000    0.000000  \n",
       "25%      0.000000    0.000000  \n",
       "50%      0.000000    0.000000  \n",
       "75%      2.000000    1.000000  \n",
       "max      2.000000    1.000000  "
      ]
     },
     "execution_count": 153,
     "metadata": {},
     "output_type": "execute_result"
    }
   ],
   "source": [
    "df.describe()"
   ]
  },
  {
   "cell_type": "code",
   "execution_count": null,
   "metadata": {},
   "outputs": [],
   "source": [
    "#Number of positive(1) and negative(0) samples in our dataframe\n",
    "df.target.value_counts()"
   ]
  },
  {
   "cell_type": "code",
   "execution_count": null,
   "metadata": {},
   "outputs": [],
   "source": [
    "# Normalized value counts\n",
    "df.target.value_counts(normalize=True)"
   ]
  },
  {
   "cell_type": "code",
   "execution_count": null,
   "metadata": {},
   "outputs": [],
   "source": [
    "df.target.value_counts().plot(kind=\"bar\", color=[\"salmon\", \"lightblue\"])\n",
    "plt.title(\"Heart Disease Frequency\")\n",
    "plt.xticks(rotation=0)\n",
    "plt.tight_layout()"
   ]
  },
  {
   "cell_type": "markdown",
   "metadata": {},
   "source": [
    "### 3.1 Comparing one feature to another"
   ]
  },
  {
   "cell_type": "code",
   "execution_count": null,
   "metadata": {},
   "outputs": [],
   "source": [
    "# Define age bins and labels\n",
    "age_bins = [0, 20, 40, 60, 80, 100]\n",
    "age_labels = ['0-20', '20-40', '40-60', '60-80', '80-100']\n",
    "\n",
    "pd.crosstab(\n",
    "    df['target'], \n",
    "    pd.cut(df['age'], bins=age_bins, labels=age_labels, right=False)\n",
    ")"
   ]
  },
  {
   "cell_type": "code",
   "execution_count": null,
   "metadata": {},
   "outputs": [],
   "source": [
    "# Compare target column with sex column | For sex, 1=male, 0=female \n",
    "print(pd.crosstab(index=df.target, columns=df.sex))\n",
    "\n",
    "pd.crosstab(df.target, df.sex).plot(kind=\"bar\", figsize=(10,6), color=[\"salmon\", \"lightblue\"])\n",
    "\n",
    "plt.title(\"Heart Disease Frequency vs Sex\")\n",
    "plt.xlabel(\"0 = No Disease, 1 = Disease\")\n",
    "plt.ylabel(\"Frequency\")\n",
    "plt.legend([\"Female\", \"Male\"])\n",
    "plt.xticks(rotation=0)\n",
    "\n",
    "plt.tight_layout()"
   ]
  },
  {
   "cell_type": "code",
   "execution_count": null,
   "metadata": {},
   "outputs": [],
   "source": [
    "# Create crosstab and plot\n",
    "pd.crosstab(df.cp, df.target).plot(\n",
    "    kind=\"bar\",\n",
    "    color=[\"#1f77b4\", \"#ff7f0e\"],  # CUD Blue and CUD Orange\n",
    "    alpha=0.8\n",
    ")\n",
    "\n",
    "plt.title(\"Heart Disease Frequency Per Chest Pain Type\", fontsize=12)\n",
    "plt.xlabel(\"Chest Pain Type\", fontsize=10)\n",
    "plt.ylabel(\"Frequency\", fontsize=10)\n",
    "plt.legend([\"No Disease\", \"Disease\"], fontsize=9)\n",
    "plt.xticks(fontsize=8, rotation=0)\n",
    "plt.yticks(fontsize=8)\n",
    "plt.grid(visible=True, linestyle=\"--\", linewidth=0.5, alpha=0.7)\n",
    "\n",
    "plt.tight_layout()\n",
    "\n",
    "plt.show()"
   ]
  },
  {
   "cell_type": "code",
   "execution_count": null,
   "metadata": {},
   "outputs": [],
   "source": [
    "\n",
    "# Scatter plot for \"Disease\"\n",
    "plt.scatter(\n",
    "    df.age[df.target == 1],\n",
    "    df.thalach[df.target == 1],\n",
    "    c=\"#ff7f0e\",  # CUD Orange\n",
    "    alpha=0.8,\n",
    "    edgecolor=\"black\",\n",
    "    linewidth=0.5\n",
    ")\n",
    "\n",
    "# Scatter plot for \"No Disease\"\n",
    "plt.scatter(\n",
    "    df.age[df.target == 0],\n",
    "    df.thalach[df.target == 0],\n",
    "    c=\"#1f77b4\",  # CUD Blue\n",
    "    alpha=0.8,\n",
    "    edgecolor=\"black\",\n",
    "    linewidth=0.5\n",
    ")\n",
    "\n",
    "plt.title(\"Heart Disease by Age and Max Heart Rate\", fontsize=12)\n",
    "plt.xlabel(\"Age\", fontsize=10)\n",
    "plt.ylabel(\"Max Heart Rate\", fontsize=10)\n",
    "\n",
    "plt.legend([\"Disease\", \"No Disease\"], fontsize=9)\n",
    "plt.xticks(fontsize=8)\n",
    "plt.yticks(fontsize=8)\n",
    "plt.grid(visible=True, linestyle=\"--\", linewidth=0.5, alpha=0.7)\n",
    "\n",
    "plt.tight_layout()\n",
    "\n",
    "plt.show()\n"
   ]
  },
  {
   "cell_type": "markdown",
   "metadata": {},
   "source": [
    "### 3.2 Histogram to check the distribution of the variables"
   ]
  },
  {
   "cell_type": "code",
   "execution_count": 47,
   "metadata": {},
   "outputs": [],
   "source": [
    "def save_histograms_for_paper(df, columns, output_dir, bins=15, color='#1f77b4', figsize=(3, 2)):\n",
    "    \"\"\"    \n",
    "    Args:\n",
    "    - df (pd.DataFrame): DataFrame containing the data.\n",
    "    - columns (list): List of column names to plot.\n",
    "    - output_dir (str): Directory to save the images.\n",
    "    - bins (int): Number of bins for the histograms.\n",
    "    - color (str): Color of the histograms (color-blind friendly).\n",
    "    - figsize (tuple): Size of each figure (width, height).\n",
    "    \"\"\"\n",
    "    for col in columns:\n",
    "        plt.figure(figsize=figsize)\n",
    "        sns.histplot(\n",
    "            df[col],\n",
    "            bins=bins,\n",
    "            kde=False,\n",
    "            color=color,\n",
    "            edgecolor='black'\n",
    "        )\n",
    "        \n",
    "        # Remove axis labels\n",
    "        plt.xlabel(\"\")  # Remove x-axis label text\n",
    "        plt.ylabel(\"\")  # Remove y-axis label text\n",
    "        \n",
    "        # Add title\n",
    "        plt.title(col, fontsize=12)\n",
    "        \n",
    "        # Enable grid\n",
    "        plt.grid(visible=True, linestyle='--', linewidth=0.5, alpha=0.7)\n",
    "        \n",
    "        # Format layout\n",
    "        plt.tight_layout()\n",
    "        \n",
    "        # Save the figure\n",
    "        plt.savefig(f\"{output_dir}/{col}_histogram.png\", dpi=300, bbox_inches='tight')\n",
    "        plt.close()\n",
    "\n",
    "columns_to_plot = ['age', 'sex', 'cp', 'trestbps', 'chol', 'fbs', 'restecg', \n",
    "                   'thalach', 'exang', 'oldpeak', 'slope', 'ca', 'thal']\n",
    "\n",
    "output_directory = os.path.join(project_dir, \"reports\", \"figures\", \"histograms\")\n",
    "os.makedirs(output_directory, exist_ok=True)\n",
    "\n",
    "save_histograms_for_paper(df, columns_to_plot, output_directory, bins=15, color='#1f77b4', figsize=(3.5, 2.5))\n"
   ]
  },
  {
   "cell_type": "markdown",
   "metadata": {},
   "source": [
    "### 3.3 Correlation between independent variables"
   ]
  },
  {
   "cell_type": "code",
   "execution_count": null,
   "metadata": {},
   "outputs": [],
   "source": [
    "#correlation between our independent variables | Prepare the features and target variables.\n",
    "X = df.drop(columns=['target'])\n",
    "y = df['target'].values\n",
    "\n",
    "corr_matrix = X.corr()\n",
    "corr_matrix "
   ]
  },
  {
   "cell_type": "code",
   "execution_count": null,
   "metadata": {},
   "outputs": [],
   "source": [
    "# correlation matrix heatmap\n",
    "plt.figure(figsize=(8, 6))\n",
    "sns.set(font_scale=1.2)\n",
    "sns.heatmap(\n",
    "    corr_matrix,\n",
    "    annot=True,\n",
    "    linewidths=0.5,\n",
    "    fmt=\".2f\",\n",
    "    cmap=\"coolwarm\",  # Use a colorblind-friendly palett\n",
    "    annot_kws={\"size\": 10.5},\n",
    ")\n",
    "\n",
    "\n",
    "plt.xticks(rotation=45, ha=\"right\")\n",
    "plt.yticks(rotation=0)\n",
    "plt.tight_layout()\n",
    "plt.show()"
   ]
  },
  {
   "cell_type": "markdown",
   "metadata": {},
   "source": [
    "# 4. Modeling"
   ]
  },
  {
   "cell_type": "code",
   "execution_count": 6,
   "metadata": {},
   "outputs": [],
   "source": [
    "# Prepare the features and target variables.\n",
    "\n",
    "X = df.drop(labels=\"target\", axis=1)\n",
    "\n",
    "# Target variable (in the form of a NumPy array)\n",
    "y = df.target.to_numpy() "
   ]
  },
  {
   "cell_type": "markdown",
   "metadata": {},
   "source": [
    "### 4.1 Creating a training and test split"
   ]
  },
  {
   "cell_type": "code",
   "execution_count": 7,
   "metadata": {},
   "outputs": [],
   "source": [
    "# Split into train & test set\n",
    "# Random seed for reproducible results\n",
    "np.random.seed(42)\n",
    "X_train, X_test, y_train, y_test = train_test_split(X, # independent variables \n",
    "                                                    y, # dependent variable\n",
    "                                                    test_size = 0.2, # percentage of data to use for test set\n",
    "                                                    stratify=y) # keep the same proportion of target as the original dataset instead of random\n",
    "\n",
    "X_train_final, X_val, y_train_final, y_val = train_test_split(X_train, y_train, test_size=0.2, stratify=y_train)\n"
   ]
  },
  {
   "cell_type": "code",
   "execution_count": null,
   "metadata": {},
   "outputs": [],
   "source": [
    "# Training data of independent variable\n",
    "print(X_train.shape)\n",
    "X_train.head()"
   ]
  },
  {
   "cell_type": "code",
   "execution_count": null,
   "metadata": {},
   "outputs": [],
   "source": [
    "# Training data of dependent variable\n",
    "y_train, len(y_train)"
   ]
  },
  {
   "cell_type": "code",
   "execution_count": null,
   "metadata": {},
   "outputs": [],
   "source": [
    "# Testing data of independent variable\n",
    "print(X_test.shape)\n",
    "X_test.head()"
   ]
  },
  {
   "cell_type": "code",
   "execution_count": null,
   "metadata": {},
   "outputs": [],
   "source": [
    "# Testing data of dependent variable\n",
    "y_test, len(y_test)"
   ]
  },
  {
   "cell_type": "markdown",
   "metadata": {},
   "source": [
    "### 4.2 Choosing a model"
   ]
  },
  {
   "cell_type": "markdown",
   "metadata": {},
   "source": [
    "We'll start by trying the following models and comparing their results.\n",
    "\n",
    "1. K-Nearest Neighbors - sklearn.neighbors.KNeighboursClassifier()\n",
    "2. Logistic Regression - sklearn.linear_model.LogisticRegression()\n",
    "3. RandomForest - sklearn.ensemble.RandomForestClassifier()\n",
    "4. Decision Tree: sklearn.tree.DecisionTreeClassifier()\n",
    "5. SVC: sklearn.svm.SVC()\n",
    "6. ANN: MLPClassifier()\n",
    "7. Naive Bayes (Gaussian): sklearn.naive_bayes.GaussianNB()\n",
    "8. Naive Bayes (Bernoulli): sklearn.naive_bayes.BernoulliNB()"
   ]
  },
  {
   "cell_type": "code",
   "execution_count": 8,
   "metadata": {},
   "outputs": [],
   "source": [
    "# Choosen models in a dictionary\n",
    "models = {\"KNN\": KNeighborsClassifier(),\n",
    "          \"Logistic Regression\": LogisticRegression(max_iter=2000, C= 1.0),\n",
    "          \"Random Forest\": RandomForestClassifier(),\n",
    "          \"Decision Tree\": DecisionTreeClassifier(),\n",
    "          \"SVC\": SVC(),\n",
    "          \"ANN\": MLPClassifier(max_iter=1000),\n",
    "          \"Naive Bayes (Gaussian)\": GaussianNB(),\n",
    "          \"Naive Bayes (Bernoulli)\": BernoulliNB()}\n",
    "\n",
    "# Create function to fit and score models\n",
    "def fit_and_score(models, X_train, X_test, y_train, y_test):\n",
    "    \n",
    "    # Fits and evaluates given machine learning models.\n",
    "    # models : a dict of different Scikit-Learn machine learning models\n",
    "    # X_train : training data\n",
    "    # X_test : testing data\n",
    "    # y_train : labels assosciated with training data\n",
    "    # y_test : labels assosciated with test data\n",
    "    # Random seed for reproducible results\n",
    "    np.random.seed(42)\n",
    "    # Make a list to keep model scores\n",
    "    model_scores = {}\n",
    "    # Loop through models\n",
    "    for name, model in models.items():\n",
    "        # Fit the model to the data\n",
    "        model.fit(X_train, y_train)\n",
    "        # Evaluate the model and append its score to model_scores\n",
    "        model_scores[name] = model.score(X_test, y_test)\n",
    "    return model_scores\n"
   ]
  },
  {
   "cell_type": "code",
   "execution_count": 9,
   "metadata": {},
   "outputs": [
    {
     "data": {
      "text/plain": [
       "{'KNN': 0.5833333333333334,\n",
       " 'Logistic Regression': 0.9166666666666666,\n",
       " 'Random Forest': 0.8833333333333333,\n",
       " 'Decision Tree': 0.7833333333333333,\n",
       " 'SVC': 0.55,\n",
       " 'ANN': 0.7333333333333333,\n",
       " 'Naive Bayes (Gaussian)': 0.8666666666666667,\n",
       " 'Naive Bayes (Bernoulli)': 0.9}"
      ]
     },
     "execution_count": 9,
     "metadata": {},
     "output_type": "execute_result"
    }
   ],
   "source": [
    "model_scores = fit_and_score(models=models, \n",
    "                             X_train=X_train, \n",
    "                             X_test=X_test, \n",
    "                             y_train=y_train, \n",
    "                             y_test=y_test)\n",
    "model_scores"
   ]
  },
  {
   "cell_type": "code",
   "execution_count": 10,
   "metadata": {},
   "outputs": [
    {
     "data": {
      "text/plain": [
       "{'KNN': 0.5833333333333334,\n",
       " 'Logistic Regression': 0.9166666666666666,\n",
       " 'Random Forest': 0.8833333333333333,\n",
       " 'Decision Tree': 0.7833333333333333,\n",
       " 'SVC': 0.55,\n",
       " 'ANN': 0.7333333333333333,\n",
       " 'Naive Bayes (Gaussian)': 0.8666666666666667,\n",
       " 'Naive Bayes (Bernoulli)': 0.9}"
      ]
     },
     "execution_count": 10,
     "metadata": {},
     "output_type": "execute_result"
    }
   ],
   "source": [
    "recall_scores = {\n",
    "    name: recall_score(y_test, model.predict(X_test), average='weighted')\n",
    "    for name, model in models.items()\n",
    "}\n",
    "\n",
    "recall_scores"
   ]
  },
  {
   "cell_type": "code",
   "execution_count": 155,
   "metadata": {},
   "outputs": [
    {
     "data": {
      "text/plain": [
       "{'KNN': 0.5843529847979236,\n",
       " 'Logistic Regression': 0.927927927927928,\n",
       " 'Random Forest': 0.8932236584410498,\n",
       " 'Decision Tree': 0.7891108499804153,\n",
       " 'SVC': 0.544801026957638,\n",
       " 'ANN': 0.7676236044657098,\n",
       " 'Naive Bayes (Gaussian)': 0.8933333333333333,\n",
       " 'Naive Bayes (Bernoulli)': 0.9013574660633484}"
      ]
     },
     "execution_count": 155,
     "metadata": {},
     "output_type": "execute_result"
    }
   ],
   "source": [
    "precision_score = {\n",
    "    name: precision_score(y_test, model.predict(X_test), average='weighted')\n",
    "    for name, model in models.items()\n",
    "}\n",
    "precision_score"
   ]
  },
  {
   "cell_type": "markdown",
   "metadata": {},
   "source": [
    "### 4.3 Comparing the results of several models"
   ]
  },
  {
   "cell_type": "code",
   "execution_count": 132,
   "metadata": {},
   "outputs": [
    {
     "data": {
      "image/png": "[encoded data removed]",
      "text/plain": [
       "<Figure size 640x480 with 1 Axes>"
      ]
     },
     "metadata": {},
     "output_type": "display_data"
    }
   ],
   "source": [
    "\n",
    "model_compare = pd.DataFrame(model_scores, index=['accuracy'])\n",
    "model_compare.T.plot.bar()\n",
    "\n",
    "plt.xticks(rotation=90, ha='center')\n",
    "\n",
    "# Set y-axis limits and format to percentage\n",
    "plt.ylim(0, 1)\n",
    "plt.gca().yaxis.set_major_formatter(FuncFormatter(lambda y, _: f'{y*100:.0f}%'))\n",
    "\n",
    "plt.gca().get_legend().remove()\n"
   ]
  },
  {
   "cell_type": "markdown",
   "metadata": {},
   "source": [
    "#### 4.3.1 Some more exaluations"
   ]
  },
  {
   "cell_type": "code",
   "execution_count": 134,
   "metadata": {},
   "outputs": [],
   "source": [
    "# Calculate precision\n",
    "precision_scores = {\n",
    "    name: precision_score(y_test, model.predict(X_test), average='weighted')\n",
    "    for name, model in models.items()\n",
    "}"
   ]
  },
  {
   "cell_type": "code",
   "execution_count": 135,
   "metadata": {},
   "outputs": [],
   "source": [
    "f1_scores = {\n",
    "    name: f1_score(y_test, model.predict(X_test), average='weighted')\n",
    "    for name, model in models.items()\n",
    "}"
   ]
  },
  {
   "cell_type": "code",
   "execution_count": 136,
   "metadata": {},
   "outputs": [],
   "source": [
    "specificity_scores = {}\n",
    "for name, model in models.items():\n",
    "    cm = confusion_matrix(y_test, model.predict(X_test))\n",
    "    tn = cm[0][0]\n",
    "    fp = cm[0][1]\n",
    "    specificity = tn / (tn + fp) if (tn + fp) > 0 else 0\n",
    "    specificity_scores[name] = specificity"
   ]
  },
  {
   "cell_type": "code",
   "execution_count": 137,
   "metadata": {},
   "outputs": [],
   "source": [
    "classification_error_scores = {\n",
    "    name: 1 - accuracy\n",
    "    for name, accuracy in model_scores.items()\n",
    "}"
   ]
  },
  {
   "cell_type": "code",
   "execution_count": null,
   "metadata": {},
   "outputs": [],
   "source": [
    "model_comparison = pd.DataFrame({\n",
    "    \"Accuracy (%)\": [score * 100 for score in model_scores.values()],\n",
    "    \"Recall (%)\": [score * 100 for score in recall_scores.values()],\n",
    "    \"Precision (%)\": [score * 100 for score in precision_scores.values()],\n",
    "    \"F1 Score (%)\": [score * 100 for score in f1_scores.values()],\n",
    "    \"Specificity (%)\": [score * 100 for score in specificity_scores.values()],\n",
    "    \"Classification Error (%)\": [error * 100 for error in classification_error_scores.values()]\n",
    "    \n",
    "}, index=model_scores.keys())\n",
    "\n",
    "\n",
    "model_comparison.style.format({\"Accuracy (%)\": \"{:.2f}\", \n",
    "                               \"Recall (%)\": \"{:.2f}\",\n",
    "                               \"Precision (%)\": \"{:.2f}\", \n",
    "                               \"F1 Score (%)\": \"{:.2f}\", \n",
    "                               \"Specificity (%)\": \"{:.2f}\", \n",
    "                               \"Classification Error (%)\": \"{:.2f}\"})"
   ]
  },
  {
   "cell_type": "markdown",
   "metadata": {},
   "source": [
    "### 4.4 Ensemble Method: Max Voting (Hard & Soft)"
   ]
  },
  {
   "cell_type": "code",
   "execution_count": 30,
   "metadata": {},
   "outputs": [
    {
     "name": "stdout",
     "output_type": "stream",
     "text": [
      "VotingClassifier with hard voting model test score: 0.8333333333333334\n",
      "VotingClassifier with soft voting model test score: 0.8666666666666667\n"
     ]
    }
   ],
   "source": [
    "# Define other classifiers for VotingClassifier\n",
    "log_reg = LogisticRegression(max_iter=1500)\n",
    "rf = RandomForestClassifier(n_estimators=100)\n",
    "svc = SVC(probability=True)\n",
    "naive_bayes = GaussianNB()\n",
    "knn = KNeighborsClassifier()\n",
    "\n",
    "# Setup VotingClassifier with hard voting\n",
    "voting_hard = VotingClassifier(estimators=[('log_reg', log_reg), ('rf', rf), ('svc', svc), ('naive_bayes', naive_bayes), ('knn', knn)], voting='hard')\n",
    "\n",
    "voting_hard.fit(X_train, y_train)\n",
    "\n",
    "print(f\"VotingClassifier with hard voting model test score: {voting_hard.score(X_test, y_test)}\")\n",
    "\n",
    "# Setup VotingClassifier with soft voting\n",
    "voting_soft = VotingClassifier(estimators=[('log_reg', log_reg), ('rf', rf), ('svc', svc), ('naive_bayes', naive_bayes), ('knn', knn)], voting='soft')\n",
    "\n",
    "voting_soft.fit(X_train, y_train)\n",
    "\n",
    "print(f\"VotingClassifier with soft voting model test score: {voting_soft.score(X_test, y_test)}\")"
   ]
  },
  {
   "cell_type": "markdown",
   "metadata": {},
   "source": [
    "# 5. Hyperparameter Tuning"
   ]
  },
  {
   "cell_type": "code",
   "execution_count": 42,
   "metadata": {},
   "outputs": [],
   "source": [
    "# Define KNN hyperparameters\n",
    "knn_grid = {\n",
    "    \"n_neighbors\": np.arange(1, 21),\n",
    "    \"weights\": [\"uniform\", \"distance\"],\n",
    "    \"algorithm\": [\"auto\", \"ball_tree\", \"kd_tree\", \"brute\"],\n",
    "    \"leaf_size\": np.arange(20, 60, 5),\n",
    "    \"p\": [1, 2]\n",
    "}\n",
    "\n",
    "# Define LogisticRegression hyperparameters\n",
    "log_reg_grid = {\"C\": np.logspace(-4, 4, 20),\n",
    "                \"solver\": [\"liblinear\"]}\n",
    "\n",
    "# Define RandomForestClassifier hyperparameters\n",
    "rf_grid = {\"n_estimators\": np.arange(10, 1000, 50),\n",
    "           \"max_depth\": [None, 3, 5, 10],\n",
    "           \"min_samples_split\": np.arange(2, 20, 2),\n",
    "           \"min_samples_leaf\": np.arange(1, 20, 2)}\n",
    "\n",
    "# Define DecisionTreeClassifier hyperparameter\n",
    "dt_grid = {\n",
    "    \"max_depth\": [None, 3, 5, 10, 20],\n",
    "    \"min_samples_split\": np.arange(2, 20, 2),\n",
    "    \"min_samples_leaf\": np.arange(1, 20, 2),\n",
    "    \"max_features\": [None, \"sqrt\", \"log2\"]\n",
    "}\n",
    "\n",
    "# Define SVC hyperparameters\n",
    "svc_grid = {\n",
    "    \"C\": np.logspace(-4, 4, 20),\n",
    "    \"kernel\": [\"linear\", \"poly\", \"rbf\", \"sigmoid\"],\n",
    "    \"gamma\": [\"scale\", \"auto\"]\n",
    "}\n",
    "\n",
    "# Define ANN hyperparameters\n",
    "ann_grid = {\n",
    "    \"hidden_layer_sizes\": [(50,), (100,), (50, 50), (100, 100)],  # Different layer sizes\n",
    "    \"activation\": [\"tanh\", \"relu\"],  # Activation functions\n",
    "    \"solver\": [\"adam\", \"sgd\"],  # Optimization solvers\n",
    "    \"alpha\": np.logspace(-4, 4, 20),  # Regularization term\n",
    "    \"learning_rate\": [\"constant\", \"adaptive\"],  # Learning rate strategy\n",
    "    'max_iter': [1000, 2000],  # Add larger values here\n",
    "}\n",
    "\n",
    "# Define Naive Bayes (Gaussian) hyperparameters\n",
    "nb_gaussian_grid = {\n",
    "    \"var_smoothing\": np.logspace(-9, 0, 10)  # Smoothing parameter\n",
    "}\n",
    "\n",
    "# Define Naive Bayes (Bernoulli) hyperparameters\n",
    "nb_bernoulli_grid = {\n",
    "    \"alpha\": np.logspace(-4, 4, 20),  # Additive smoothing parameter\n",
    "    \"binarize\": [0.0, 0.1, 0.2, 0.3],  # Threshold for binarizing input\n",
    "}\n",
    "\n",
    "# Define VortingClassifier hyperparameters\n",
    "voting_grid = {\n",
    "    'voting': ['hard', 'soft'],  # Hard and soft voting\n",
    "    'weights': [[1, 1, 1, 1], [2, 1, 1, 1], [1, 2, 1, 1], [1, 1, 2, 1]],  # Weighted voting\n",
    "    'flatten_transform': [True, False]\n",
    "}"
   ]
  },
  {
   "cell_type": "markdown",
   "metadata": {},
   "source": [
    "### 5.1 Tune KNeighborsClassifier (KNN) by hand"
   ]
  },
  {
   "cell_type": "code",
   "execution_count": 164,
   "metadata": {},
   "outputs": [],
   "source": [
    "# Create a list of train scores\n",
    "train_scores = []\n",
    "\n",
    "# Create a list of test scores\n",
    "test_scores = []\n",
    "\n",
    "# Create a list of different values for n_neighbors\n",
    "neighbors = range(1, 21) # 1 to 20\n",
    "\n",
    "# Setup algorithm\n",
    "knn = KNeighborsClassifier()\n",
    "\n",
    "# Loop through different neighbors values\n",
    "for i in neighbors:\n",
    "    knn.set_params(n_neighbors = i) # set neighbors value\n",
    "    \n",
    "    # Fit the algorithm\n",
    "    knn.fit(X_train, y_train)\n",
    "    \n",
    "    # Update the training scores\n",
    "    train_scores.append(knn.score(X_train, y_train))\n",
    "    \n",
    "    # Update the test scores\n",
    "    test_scores.append(knn.score(X_test, y_test))"
   ]
  },
  {
   "cell_type": "code",
   "execution_count": null,
   "metadata": {},
   "outputs": [],
   "source": [
    "# KNN's train scores\n",
    "train_scores"
   ]
  },
  {
   "cell_type": "code",
   "execution_count": null,
   "metadata": {},
   "outputs": [],
   "source": [
    "#Let's visualize KNN score test and train data\n",
    "plt.plot(neighbors, train_scores, label=\"Train score\")\n",
    "plt.plot(neighbors, test_scores, label=\"Test score\")\n",
    "plt.xticks(np.arange(1, 21, 1))\n",
    "plt.xlabel(\"Number of neighbors\")\n",
    "plt.ylabel(\"Model score\")\n",
    "plt.legend()\n",
    "\n",
    "print(f\"Maximum KNN score on the test data: {max(test_scores)*100:.2f}%\")"
   ]
  },
  {
   "cell_type": "markdown",
   "metadata": {},
   "source": [
    "### 5.2 Tuning models with with RandomizedSearchCV"
   ]
  },
  {
   "cell_type": "code",
   "execution_count": 19,
   "metadata": {},
   "outputs": [
    {
     "name": "stdout",
     "output_type": "stream",
     "text": [
      "Fitting 5 folds for each of 20 candidates, totalling 100 fits\n",
      "Best parameters for KNN with RandomizedSearchCV: {'weights': 'uniform', 'p': 1, 'n_neighbors': np.int64(16), 'leaf_size': np.int64(40), 'algorithm': 'kd_tree'}\n",
      "RandomizedSearchCV (KNN) model test score: 0.6\n"
     ]
    }
   ],
   "source": [
    "# KNeighborsClassifier with RandomizedSearchCV\n",
    "\n",
    "# Setup random hyperparameter search for KNN\n",
    "rs_knn = RandomizedSearchCV(KNeighborsClassifier(),\n",
    "                            param_distributions=knn_grid,\n",
    "                            cv=5,\n",
    "                            n_iter=20,\n",
    "                            verbose=True)\n",
    "\n",
    "# Fit random hyperparameter search model\n",
    "rs_knn.fit(X_train, y_train)\n",
    "\n",
    "print(\"Best parameters for KNN with RandomizedSearchCV:\", rs_knn.best_params_)\n",
    "\n",
    "print(\"RandomizedSearchCV (KNN) model test score:\", rs_knn.score(X_test, y_test))"
   ]
  },
  {
   "cell_type": "code",
   "execution_count": 23,
   "metadata": {},
   "outputs": [
    {
     "name": "stdout",
     "output_type": "stream",
     "text": [
      "Fitting 5 folds for each of 20 candidates, totalling 100 fits\n",
      "Best parameters for Logistic Regression with RandomizedSearchCV: {'solver': 'liblinear', 'C': np.float64(0.08858667904100823)}\n",
      "RandomizedSearchCV (Logistic Regression) model test score: 0.9\n"
     ]
    }
   ],
   "source": [
    "# Logistic Regression with RandomizedSearchCV\n",
    "\n",
    "# Setup random hyperparameter search for LogisticRegression\n",
    "rs_log_reg = RandomizedSearchCV(LogisticRegression(),\n",
    "                                param_distributions=log_reg_grid,\n",
    "                                cv=5,\n",
    "                                n_iter=20,\n",
    "                                verbose=True)\n",
    "\n",
    "# Fit random hyperparameter search model\n",
    "rs_log_reg.fit(X_train, y_train)\n",
    "\n",
    "print(\"Best parameters for Logistic Regression with RandomizedSearchCV:\", rs_log_reg.best_params_)\n",
    "\n",
    "print(\"RandomizedSearchCV (Logistic Regression) model test score:\", rs_log_reg.score(X_test, y_test))"
   ]
  },
  {
   "cell_type": "code",
   "execution_count": 24,
   "metadata": {},
   "outputs": [
    {
     "name": "stdout",
     "output_type": "stream",
     "text": [
      "Fitting 5 folds for each of 20 candidates, totalling 100 fits\n",
      "Best parameters for Random Forest with RandomizedSearchCV: {'n_estimators': np.int64(560), 'min_samples_split': np.int64(6), 'min_samples_leaf': np.int64(19), 'max_depth': None}\n",
      "RandomizedSearchCV (Random Forest) model test score: 0.8333333333333334\n"
     ]
    }
   ],
   "source": [
    "# RandomForestClassifier with RandomizedSearchCV\n",
    "\n",
    "# Setup random hyperparameter search for RandomForestClassifier\n",
    "rs_rf = RandomizedSearchCV(RandomForestClassifier(),\n",
    "                           param_distributions=rf_grid,\n",
    "                           cv=5,\n",
    "                           n_iter=20,\n",
    "                           verbose=True)\n",
    "\n",
    "# Fit random hyperparameter search model\n",
    "rs_rf.fit(X_train, y_train)\n",
    "\n",
    "print('Best parameters for Random Forest with RandomizedSearchCV:', rs_rf.best_params_)\n",
    "\n",
    "print('RandomizedSearchCV (Random Forest) model test score:', rs_rf.score(X_test, y_test))"
   ]
  },
  {
   "cell_type": "code",
   "execution_count": 25,
   "metadata": {},
   "outputs": [
    {
     "name": "stdout",
     "output_type": "stream",
     "text": [
      "Fitting 5 folds for each of 20 candidates, totalling 100 fits\n",
      "Best parameters for Decision Tree with RandomizedSearchCV: {'min_samples_split': np.int64(2), 'min_samples_leaf': np.int64(11), 'max_features': None, 'max_depth': 5}\n",
      "RandomizedSearchCV (Decision Tree) model test score: 0.7666666666666667\n"
     ]
    }
   ],
   "source": [
    "# DecisionTreeClassifier with RandomizedSearchCV\n",
    "\n",
    "# Setup random hyperparameter search for DecisionTreeClassifier\n",
    "rs_dt = RandomizedSearchCV(\n",
    "    DecisionTreeClassifier(),\n",
    "    param_distributions=dt_grid,\n",
    "    cv=5,\n",
    "    n_iter=20,\n",
    "    verbose=True,\n",
    "    random_state=42\n",
    ")\n",
    "\n",
    "# Fit the random hyperparameter search model\n",
    "rs_dt.fit(X_train, y_train)\n",
    "\n",
    "print(\"Best parameters for Decision Tree with RandomizedSearchCV:\", rs_dt.best_params_)\n",
    "\n",
    "print(\"RandomizedSearchCV (Decision Tree) model test score:\", rs_dt.score(X_test, y_test))"
   ]
  },
  {
   "cell_type": "code",
   "execution_count": null,
   "metadata": {},
   "outputs": [],
   "source": [
    "# SVC with RandomizedSearchCV\n",
    "\n",
    "# %%time \n",
    "\n",
    "# # Setup random hyperparameter search for SVC\n",
    "# rs_svc = RandomizedSearchCV(SVC(),\n",
    "#                             param_distributions=svc_grid,\n",
    "#                             cv=3,\n",
    "#                             n_iter=10,\n",
    "#                             verbose=True)\n",
    "\n",
    "# # Fit random hyperparameter search model\n",
    "# rs_svc.fit(X_train, y_train)\n",
    "\n",
    "# # Find the best parameters\n",
    "# rs_svc.best_params_\n",
    "\n",
    "# # Evaluate the randomized search SVC model\n",
    "# rs_svc.score(X_test, y_test)"
   ]
  },
  {
   "cell_type": "code",
   "execution_count": 26,
   "metadata": {},
   "outputs": [
    {
     "name": "stdout",
     "output_type": "stream",
     "text": [
      "Fitting 5 folds for each of 20 candidates, totalling 100 fits\n"
     ]
    },
    {
     "name": "stderr",
     "output_type": "stream",
     "text": [
      "/opt/miniconda3/envs/data_mining/lib/python3.13/site-packages/sklearn/neural_network/_multilayer_perceptron.py:691: ConvergenceWarning: Stochastic Optimizer: Maximum iterations (1000) reached and the optimization hasn't converged yet.\n",
      "  warnings.warn(\n",
      "/opt/miniconda3/envs/data_mining/lib/python3.13/site-packages/sklearn/neural_network/_multilayer_perceptron.py:691: ConvergenceWarning: Stochastic Optimizer: Maximum iterations (1000) reached and the optimization hasn't converged yet.\n",
      "  warnings.warn(\n",
      "/opt/miniconda3/envs/data_mining/lib/python3.13/site-packages/sklearn/neural_network/_multilayer_perceptron.py:691: ConvergenceWarning: Stochastic Optimizer: Maximum iterations (1000) reached and the optimization hasn't converged yet.\n",
      "  warnings.warn(\n",
      "/opt/miniconda3/envs/data_mining/lib/python3.13/site-packages/sklearn/neural_network/_multilayer_perceptron.py:691: ConvergenceWarning: Stochastic Optimizer: Maximum iterations (1000) reached and the optimization hasn't converged yet.\n",
      "  warnings.warn(\n",
      "/opt/miniconda3/envs/data_mining/lib/python3.13/site-packages/sklearn/neural_network/_multilayer_perceptron.py:691: ConvergenceWarning: Stochastic Optimizer: Maximum iterations (2000) reached and the optimization hasn't converged yet.\n",
      "  warnings.warn(\n",
      "/opt/miniconda3/envs/data_mining/lib/python3.13/site-packages/sklearn/neural_network/_multilayer_perceptron.py:691: ConvergenceWarning: Stochastic Optimizer: Maximum iterations (2000) reached and the optimization hasn't converged yet.\n",
      "  warnings.warn(\n",
      "/opt/miniconda3/envs/data_mining/lib/python3.13/site-packages/sklearn/neural_network/_multilayer_perceptron.py:691: ConvergenceWarning: Stochastic Optimizer: Maximum iterations (2000) reached and the optimization hasn't converged yet.\n",
      "  warnings.warn(\n",
      "/opt/miniconda3/envs/data_mining/lib/python3.13/site-packages/sklearn/neural_network/_multilayer_perceptron.py:691: ConvergenceWarning: Stochastic Optimizer: Maximum iterations (1000) reached and the optimization hasn't converged yet.\n",
      "  warnings.warn(\n",
      "/opt/miniconda3/envs/data_mining/lib/python3.13/site-packages/sklearn/neural_network/_multilayer_perceptron.py:691: ConvergenceWarning: Stochastic Optimizer: Maximum iterations (1000) reached and the optimization hasn't converged yet.\n",
      "  warnings.warn(\n",
      "/opt/miniconda3/envs/data_mining/lib/python3.13/site-packages/sklearn/neural_network/_multilayer_perceptron.py:691: ConvergenceWarning: Stochastic Optimizer: Maximum iterations (1000) reached and the optimization hasn't converged yet.\n",
      "  warnings.warn(\n",
      "/opt/miniconda3/envs/data_mining/lib/python3.13/site-packages/sklearn/neural_network/_multilayer_perceptron.py:691: ConvergenceWarning: Stochastic Optimizer: Maximum iterations (1000) reached and the optimization hasn't converged yet.\n",
      "  warnings.warn(\n",
      "/opt/miniconda3/envs/data_mining/lib/python3.13/site-packages/sklearn/neural_network/_multilayer_perceptron.py:691: ConvergenceWarning: Stochastic Optimizer: Maximum iterations (1000) reached and the optimization hasn't converged yet.\n",
      "  warnings.warn(\n"
     ]
    },
    {
     "name": "stdout",
     "output_type": "stream",
     "text": [
      "Best parameters for ANN with RandomizedSearchCV: {'solver': 'adam', 'max_iter': 1000, 'learning_rate': 'constant', 'hidden_layer_sizes': (50, 50), 'alpha': np.float64(11.288378916846883), 'activation': 'tanh'}\n",
      "RandomizedSearchCV (ANN) model test score: 0.6\n"
     ]
    }
   ],
   "source": [
    "# ANN with RandomizedSearchCV\n",
    "\n",
    "# Setup random hyperparameter search for ANN\n",
    "rs_ann = RandomizedSearchCV(MLPClassifier(max_iter=2500),\n",
    "                            param_distributions=ann_grid,\n",
    "                            cv=5,\n",
    "                            n_iter=20,\n",
    "                            verbose=True)\n",
    "\n",
    "# Fit random hyperparameter search model\n",
    "rs_ann.fit(X_train, y_train)\n",
    "\n",
    "print(\"Best parameters for ANN with RandomizedSearchCV:\", rs_ann.best_params_)\n",
    "\n",
    "print(\"RandomizedSearchCV (ANN) model test score:\", rs_ann.score(X_test, y_test))"
   ]
  },
  {
   "cell_type": "code",
   "execution_count": 27,
   "metadata": {},
   "outputs": [
    {
     "name": "stdout",
     "output_type": "stream",
     "text": [
      "Fitting 5 folds for each of 10 candidates, totalling 50 fits\n",
      "Best parameters for Gaussian Naive Bayes with RandomizedSearchCV: {'var_smoothing': np.float64(0.0001)}\n",
      "RandomizedSearchCV (Gaussian Naive Bayes) model test score: 0.8333333333333334\n"
     ]
    }
   ],
   "source": [
    "# Gaussian Naive Bayes with RandomizedSearchCV\n",
    "\n",
    "# Setup random hyperparameter search for GaussianNB\n",
    "rs_nb_gaussian = RandomizedSearchCV(GaussianNB(), \n",
    "                                    param_distributions=nb_gaussian_grid, \n",
    "                                    cv=5, \n",
    "                                    n_iter=10, \n",
    "                                    verbose=True, \n",
    "                                    random_state=42)\n",
    "\n",
    "# Fit random hyperparameter search model\n",
    "rs_nb_gaussian.fit(X_train, y_train)\n",
    "\n",
    "print(\"Best parameters for Gaussian Naive Bayes with RandomizedSearchCV:\", rs_nb_gaussian.best_params_)\n",
    "\n",
    "print(\"RandomizedSearchCV (Gaussian Naive Bayes) model test score:\", rs_nb_gaussian.score(X_test, y_test))"
   ]
  },
  {
   "cell_type": "code",
   "execution_count": 28,
   "metadata": {},
   "outputs": [
    {
     "name": "stdout",
     "output_type": "stream",
     "text": [
      "Fitting 5 folds for each of 20 candidates, totalling 100 fits\n",
      "Best parameters for Bernoulli Naive Bayes with RandomizedSearchCV: {'binarize': 0.1, 'alpha': np.float64(206.913808111479)}\n",
      "RandomizedSearchCV (Bernoulli Naive Bayes) model test score: 0.8833333333333333\n"
     ]
    }
   ],
   "source": [
    "# Bernoulli Naive Bayes with RandomizedSearchCV\n",
    "\n",
    "# Setup random hyperparameter search for BernoulliNB\n",
    "rs_nb_bernoulli = RandomizedSearchCV(BernoulliNB(), \n",
    "                                     param_distributions=nb_bernoulli_grid, \n",
    "                                     cv=5, \n",
    "                                     n_iter=20, \n",
    "                                     verbose=True, \n",
    "                                     random_state=42)\n",
    "\n",
    "# Fit random hyperparameter search model\n",
    "rs_nb_bernoulli.fit(X_train, y_train)\n",
    "\n",
    "print(\"Best parameters for Bernoulli Naive Bayes with RandomizedSearchCV:\", rs_nb_bernoulli.best_params_)\n",
    "\n",
    "print(\"RandomizedSearchCV (Bernoulli Naive Bayes) model test score:\", rs_nb_bernoulli.score(X_test, y_test))"
   ]
  },
  {
   "cell_type": "code",
   "execution_count": 44,
   "metadata": {},
   "outputs": [
    {
     "name": "stdout",
     "output_type": "stream",
     "text": [
      "Fitting 5 folds for each of 10 candidates, totalling 50 fits\n",
      "Best parameters for VotingClassifier with RandomizedSearchCV: {'weights': [1, 2, 1, 1], 'voting': 'hard', 'flatten_transform': True}\n",
      "RandomizedSearchCV (VotingClassifier) model test score: 0.85\n"
     ]
    }
   ],
   "source": [
    "# VotingClassifier with RandomizedSearchCV\n",
    "\n",
    "# Setup random hyperparameter search for VotingClassifier\n",
    "rs_voting = RandomizedSearchCV(VotingClassifier(estimators=[('log_reg', log_reg), ('rf', rf), \n",
    "                                                            # ('svc', svc), \n",
    "                                                            ('naive_bayes', naive_bayes), ('knn', knn)], voting='soft'),\n",
    "                               param_distributions=voting_grid,\n",
    "                               cv=5,\n",
    "                               n_iter=10,\n",
    "                               verbose=True)\n",
    "\n",
    "rs_voting.fit(X_train, y_train)\n",
    "\n",
    "print(\"Best parameters for VotingClassifier with RandomizedSearchCV:\", rs_voting.best_params_)\n",
    "\n",
    "print(\"RandomizedSearchCV (VotingClassifier) model test score:\", rs_voting.score(X_test, y_test))"
   ]
  },
  {
   "cell_type": "code",
   "execution_count": 32,
   "metadata": {},
   "outputs": [
    {
     "name": "stdout",
     "output_type": "stream",
     "text": [
      "                            Accuracy  Precision  Recall (Sensitivity)  \\\n",
      "KNN                        60.000000  59.856459             60.000000   \n",
      "Logistic Regression        90.000000  91.578947             90.000000   \n",
      "Random Forest              83.333333  84.529506             83.333333   \n",
      "Decision Tree              76.666667  76.681750             76.666667   \n",
      "ANN                        60.000000  60.000000             60.000000   \n",
      "Naive Bayes (GaussianNB)   83.333333  84.529506             83.333333   \n",
      "Naive Bayes (BernoulliNB)  88.333333  90.427350             88.333333   \n",
      "VotingClassifier           85.000000  88.292683             85.000000   \n",
      "\n",
      "                           Classification Error  Specificity   F1 Score  \n",
      "KNN                                   40.000000         50.0  59.314286  \n",
      "Logistic Regression                   10.000000         50.0  89.828571  \n",
      "Random Forest                         16.666667         50.0  83.047619  \n",
      "Decision Tree                         23.333333         50.0  76.588103  \n",
      "ANN                                   40.000000         50.0  60.000000  \n",
      "Naive Bayes (GaussianNB)              16.666667         50.0  83.047619  \n",
      "Naive Bayes (BernoulliNB)             11.666667         50.0  88.075117  \n",
      "VotingClassifier                      15.000000         50.0  84.488487  \n"
     ]
    },
    {
     "data": {
      "text/html": [
       "<style type=\"text/css\">\n",
       "</style>\n",
       "<table id=\"T_23968\">\n",
       "  <thead>\n",
       "    <tr>\n",
       "      <th class=\"blank level0\" >&nbsp;</th>\n",
       "      <th id=\"T_23968_level0_col0\" class=\"col_heading level0 col0\" >Accuracy</th>\n",
       "      <th id=\"T_23968_level0_col1\" class=\"col_heading level0 col1\" >Precision</th>\n",
       "      <th id=\"T_23968_level0_col2\" class=\"col_heading level0 col2\" >Recall (Sensitivity)</th>\n",
       "      <th id=\"T_23968_level0_col3\" class=\"col_heading level0 col3\" >Classification Error</th>\n",
       "      <th id=\"T_23968_level0_col4\" class=\"col_heading level0 col4\" >Specificity</th>\n",
       "      <th id=\"T_23968_level0_col5\" class=\"col_heading level0 col5\" >F1 Score</th>\n",
       "    </tr>\n",
       "  </thead>\n",
       "  <tbody>\n",
       "    <tr>\n",
       "      <th id=\"T_23968_level0_row0\" class=\"row_heading level0 row0\" >KNN</th>\n",
       "      <td id=\"T_23968_row0_col0\" class=\"data row0 col0\" >60.00%</td>\n",
       "      <td id=\"T_23968_row0_col1\" class=\"data row0 col1\" >59.86%</td>\n",
       "      <td id=\"T_23968_row0_col2\" class=\"data row0 col2\" >60.00%</td>\n",
       "      <td id=\"T_23968_row0_col3\" class=\"data row0 col3\" >40.00%</td>\n",
       "      <td id=\"T_23968_row0_col4\" class=\"data row0 col4\" >50.00%</td>\n",
       "      <td id=\"T_23968_row0_col5\" class=\"data row0 col5\" >59.31%</td>\n",
       "    </tr>\n",
       "    <tr>\n",
       "      <th id=\"T_23968_level0_row1\" class=\"row_heading level0 row1\" >Logistic Regression</th>\n",
       "      <td id=\"T_23968_row1_col0\" class=\"data row1 col0\" >90.00%</td>\n",
       "      <td id=\"T_23968_row1_col1\" class=\"data row1 col1\" >91.58%</td>\n",
       "      <td id=\"T_23968_row1_col2\" class=\"data row1 col2\" >90.00%</td>\n",
       "      <td id=\"T_23968_row1_col3\" class=\"data row1 col3\" >10.00%</td>\n",
       "      <td id=\"T_23968_row1_col4\" class=\"data row1 col4\" >50.00%</td>\n",
       "      <td id=\"T_23968_row1_col5\" class=\"data row1 col5\" >89.83%</td>\n",
       "    </tr>\n",
       "    <tr>\n",
       "      <th id=\"T_23968_level0_row2\" class=\"row_heading level0 row2\" >Random Forest</th>\n",
       "      <td id=\"T_23968_row2_col0\" class=\"data row2 col0\" >83.33%</td>\n",
       "      <td id=\"T_23968_row2_col1\" class=\"data row2 col1\" >84.53%</td>\n",
       "      <td id=\"T_23968_row2_col2\" class=\"data row2 col2\" >83.33%</td>\n",
       "      <td id=\"T_23968_row2_col3\" class=\"data row2 col3\" >16.67%</td>\n",
       "      <td id=\"T_23968_row2_col4\" class=\"data row2 col4\" >50.00%</td>\n",
       "      <td id=\"T_23968_row2_col5\" class=\"data row2 col5\" >83.05%</td>\n",
       "    </tr>\n",
       "    <tr>\n",
       "      <th id=\"T_23968_level0_row3\" class=\"row_heading level0 row3\" >Decision Tree</th>\n",
       "      <td id=\"T_23968_row3_col0\" class=\"data row3 col0\" >76.67%</td>\n",
       "      <td id=\"T_23968_row3_col1\" class=\"data row3 col1\" >76.68%</td>\n",
       "      <td id=\"T_23968_row3_col2\" class=\"data row3 col2\" >76.67%</td>\n",
       "      <td id=\"T_23968_row3_col3\" class=\"data row3 col3\" >23.33%</td>\n",
       "      <td id=\"T_23968_row3_col4\" class=\"data row3 col4\" >50.00%</td>\n",
       "      <td id=\"T_23968_row3_col5\" class=\"data row3 col5\" >76.59%</td>\n",
       "    </tr>\n",
       "    <tr>\n",
       "      <th id=\"T_23968_level0_row4\" class=\"row_heading level0 row4\" >ANN</th>\n",
       "      <td id=\"T_23968_row4_col0\" class=\"data row4 col0\" >60.00%</td>\n",
       "      <td id=\"T_23968_row4_col1\" class=\"data row4 col1\" >60.00%</td>\n",
       "      <td id=\"T_23968_row4_col2\" class=\"data row4 col2\" >60.00%</td>\n",
       "      <td id=\"T_23968_row4_col3\" class=\"data row4 col3\" >40.00%</td>\n",
       "      <td id=\"T_23968_row4_col4\" class=\"data row4 col4\" >50.00%</td>\n",
       "      <td id=\"T_23968_row4_col5\" class=\"data row4 col5\" >60.00%</td>\n",
       "    </tr>\n",
       "    <tr>\n",
       "      <th id=\"T_23968_level0_row5\" class=\"row_heading level0 row5\" >Naive Bayes (GaussianNB)</th>\n",
       "      <td id=\"T_23968_row5_col0\" class=\"data row5 col0\" >83.33%</td>\n",
       "      <td id=\"T_23968_row5_col1\" class=\"data row5 col1\" >84.53%</td>\n",
       "      <td id=\"T_23968_row5_col2\" class=\"data row5 col2\" >83.33%</td>\n",
       "      <td id=\"T_23968_row5_col3\" class=\"data row5 col3\" >16.67%</td>\n",
       "      <td id=\"T_23968_row5_col4\" class=\"data row5 col4\" >50.00%</td>\n",
       "      <td id=\"T_23968_row5_col5\" class=\"data row5 col5\" >83.05%</td>\n",
       "    </tr>\n",
       "    <tr>\n",
       "      <th id=\"T_23968_level0_row6\" class=\"row_heading level0 row6\" >Naive Bayes (BernoulliNB)</th>\n",
       "      <td id=\"T_23968_row6_col0\" class=\"data row6 col0\" >88.33%</td>\n",
       "      <td id=\"T_23968_row6_col1\" class=\"data row6 col1\" >90.43%</td>\n",
       "      <td id=\"T_23968_row6_col2\" class=\"data row6 col2\" >88.33%</td>\n",
       "      <td id=\"T_23968_row6_col3\" class=\"data row6 col3\" >11.67%</td>\n",
       "      <td id=\"T_23968_row6_col4\" class=\"data row6 col4\" >50.00%</td>\n",
       "      <td id=\"T_23968_row6_col5\" class=\"data row6 col5\" >88.08%</td>\n",
       "    </tr>\n",
       "    <tr>\n",
       "      <th id=\"T_23968_level0_row7\" class=\"row_heading level0 row7\" >VotingClassifier</th>\n",
       "      <td id=\"T_23968_row7_col0\" class=\"data row7 col0\" >85.00%</td>\n",
       "      <td id=\"T_23968_row7_col1\" class=\"data row7 col1\" >88.29%</td>\n",
       "      <td id=\"T_23968_row7_col2\" class=\"data row7 col2\" >85.00%</td>\n",
       "      <td id=\"T_23968_row7_col3\" class=\"data row7 col3\" >15.00%</td>\n",
       "      <td id=\"T_23968_row7_col4\" class=\"data row7 col4\" >50.00%</td>\n",
       "      <td id=\"T_23968_row7_col5\" class=\"data row7 col5\" >84.49%</td>\n",
       "    </tr>\n",
       "  </tbody>\n",
       "</table>\n"
      ],
      "text/plain": [
       "<pandas.io.formats.style.Styler at 0x15038aba0>"
      ]
     },
     "execution_count": 32,
     "metadata": {},
     "output_type": "execute_result"
    }
   ],
   "source": [
    "# Define function to calculate classification error and specificity\n",
    "\n",
    "def classification_error(y_true, y_pred):\n",
    "    return 1 - accuracy_score(y_true, y_pred)\n",
    "\n",
    "def specificity(y_true, y_pred):\n",
    "    cm = confusion_matrix(y_true, y_pred)\n",
    "    tn = cm.sum(axis=1) - cm.diagonal()  # True negatives for each class\n",
    "    fp = cm.sum(axis=0) - cm.diagonal()  # False positives for each class\n",
    "    specificity_per_class = tn / (tn + fp + 1e-10)  # Avoid division by zero\n",
    "    return specificity_per_class.mean()  # Average specificity across all classes\n",
    "\n",
    "tuned_model_scores = {\n",
    "     \"KNN\": {\n",
    "        \"Accuracy\": accuracy_score(y_test, rs_knn.predict(X_test)),\n",
    "        \"Precision\": precision_score(y_test, rs_knn.predict(X_test), average=\"weighted\"),\n",
    "        \"Recall (Sensitivity)\": recall_score(y_test, rs_knn.predict(X_test), average=\"weighted\"),\n",
    "        \"Classification Error\": classification_error(y_test, rs_knn.predict(X_test)),\n",
    "        \"Specificity\": specificity(y_test, rs_knn.predict(X_test)),\n",
    "        \"F1 Score\": f1_score(y_test, rs_knn.predict(X_test), average=\"weighted\"),\n",
    "    },\n",
    "    \"Logistic Regression\": {\n",
    "        \"Accuracy\": accuracy_score(y_test, rs_log_reg.predict(X_test)),\n",
    "        \"Precision\": precision_score(y_test, rs_log_reg.predict(X_test), average=\"weighted\"),\n",
    "        \"Recall (Sensitivity)\": recall_score(y_test, rs_log_reg.predict(X_test), average=\"weighted\"),\n",
    "        \"Classification Error\": classification_error(y_test, rs_log_reg.predict(X_test)),\n",
    "        \"Specificity\": specificity(y_test, rs_log_reg.predict(X_test)),\n",
    "        \"F1 Score\": f1_score(y_test, rs_log_reg.predict(X_test), average=\"weighted\"),\n",
    "    },\n",
    "    \"Random Forest\": {\n",
    "        \"Accuracy\": accuracy_score(y_test, rs_rf.predict(X_test)),\n",
    "        \"Precision\": precision_score(y_test, rs_rf.predict(X_test), average=\"weighted\"),\n",
    "        \"Recall (Sensitivity)\": recall_score(y_test, rs_rf.predict(X_test), average=\"weighted\"),\n",
    "        \"Classification Error\": classification_error(y_test, rs_rf.predict(X_test)),\n",
    "        \"Specificity\": specificity(y_test, rs_rf.predict(X_test)),\n",
    "        \"F1 Score\": f1_score(y_test, rs_rf.predict(X_test), average=\"weighted\"),\n",
    "    },\n",
    "    \"Decision Tree\": {\n",
    "        \"Accuracy\": accuracy_score(y_test, rs_dt.predict(X_test)),\n",
    "        \"Precision\": precision_score(y_test, rs_dt.predict(X_test), average=\"weighted\"),\n",
    "        \"Recall (Sensitivity)\": recall_score(y_test, rs_dt.predict(X_test), average=\"weighted\"),\n",
    "        \"Classification Error\": classification_error(y_test, rs_dt.predict(X_test)),\n",
    "        \"Specificity\": specificity(y_test, rs_dt.predict(X_test)),\n",
    "        \"F1 Score\": f1_score(y_test, rs_dt.predict(X_test), average=\"weighted\"),\n",
    "    },\n",
    "    # \"SVC\": {\n",
    "    #     \"Accuracy\": accuracy_score(y_test, rs_svc.predict(X_test)),\n",
    "    #     \"Precision\": precision_score(y_test, rs_svc.predict(X_test), average=\"weighted\"),\n",
    "    #     \"Recall (Sensitivity)\": recall_score(y_test, rs_svc.predict(X_test), average=\"weighted\"),\n",
    "    #     \"Classification Error\": classification_error(y_test, rs_svc.predict(X_test)),\n",
    "    #     \"Specificity\": specificity(y_test, rs_svc.predict(X_test)),\n",
    "    #     \"F1 Score\": f1_score(y_test, rs_svc.predict(X_test), average=\"weighted\"),\n",
    "    # },\n",
    "    \"ANN\": {\n",
    "        \"Accuracy\": accuracy_score(y_test, rs_ann.predict(X_test)),\n",
    "        \"Precision\": precision_score(y_test, rs_ann.predict(X_test), average=\"weighted\"),\n",
    "        \"Recall (Sensitivity)\": recall_score(y_test, rs_ann.predict(X_test), average=\"weighted\"),\n",
    "        \"Classification Error\": classification_error(y_test, rs_ann.predict(X_test)),\n",
    "        \"Specificity\": specificity(y_test, rs_ann.predict(X_test)),\n",
    "        \"F1 Score\": f1_score(y_test, rs_ann.predict(X_test), average=\"weighted\"),\n",
    "    },\n",
    "    \"Naive Bayes (GaussianNB)\": {\n",
    "        \"Accuracy\": accuracy_score(y_test, rs_nb_gaussian.predict(X_test)),\n",
    "        \"Precision\": precision_score(y_test, rs_nb_gaussian.predict(X_test), average=\"weighted\"),\n",
    "        \"Recall (Sensitivity)\": recall_score(y_test, rs_nb_gaussian.predict(X_test), average=\"weighted\"),\n",
    "        \"Classification Error\": classification_error(y_test, rs_nb_gaussian.predict(X_test)),\n",
    "        \"Specificity\": specificity(y_test, rs_nb_gaussian.predict(X_test)),\n",
    "        \"F1 Score\": f1_score(y_test, rs_nb_gaussian.predict(X_test), average=\"weighted\"),\n",
    "    },\n",
    "    \"Naive Bayes (BernoulliNB)\": {\n",
    "        \"Accuracy\": accuracy_score(y_test, rs_nb_bernoulli.predict(X_test)),\n",
    "        \"Precision\": precision_score(y_test, rs_nb_bernoulli.predict(X_test), average=\"weighted\"),\n",
    "        \"Recall (Sensitivity)\": recall_score(y_test, rs_nb_bernoulli.predict(X_test), average=\"weighted\"),\n",
    "        \"Classification Error\": classification_error(y_test, rs_nb_bernoulli.predict(X_test)),\n",
    "        \"Specificity\": specificity(y_test, rs_nb_bernoulli.predict(X_test)),\n",
    "        \"F1 Score\": f1_score(y_test, rs_nb_bernoulli.predict(X_test), average=\"weighted\"),\n",
    "    },\n",
    "    \"VotingClassifier\": {\n",
    "        \"Accuracy\": accuracy_score(y_test, rs_voting.predict(X_test)),\n",
    "        \"Precision\": precision_score(y_test, rs_voting.predict(X_test), average=\"weighted\"),\n",
    "        \"Recall (Sensitivity)\": recall_score(y_test, rs_voting.predict(X_test), average=\"weighted\"),\n",
    "        \"Classification Error\": classification_error(y_test, rs_voting.predict(X_test)),\n",
    "        \"Specificity\": specificity(y_test, rs_voting.predict(X_test)),\n",
    "        \"F1 Score\": f1_score(y_test, rs_voting.predict(X_test), average=\"weighted\"),\n",
    "    }\n",
    "}\n",
    "\n",
    "# Convert results to a DataFrame\n",
    "tuned_model_comparison = pd.DataFrame(tuned_model_scores).T * 100  # Convert to percentages\n",
    "\n",
    "# Optional: Pretty-print the table\n",
    "tuned_model_comparison.style.format({\"Accuracy\": \"{:.2f}%\",\n",
    "    \"Precision\": \"{:.2f}%\",\n",
    "    \"Recall (Sensitivity)\": \"{:.2f}%\",\n",
    "    \"Classification Error\": \"{:.2f}%\",\n",
    "    \"Specificity\": \"{:.2f}%\",\n",
    "    \"F1 Score\": \"{:.2f}%\"})"
   ]
  },
  {
   "cell_type": "markdown",
   "metadata": {},
   "source": [
    "### 5.3 Tuning models with GridSearchCV"
   ]
  },
  {
   "cell_type": "markdown",
   "metadata": {},
   "source": [
    "The difference between RandomizedSearchCV and GridSearchCV is:\n",
    "\n",
    "- sklearn.model_selection.RandomizedSearchCV searches over a grid of hyperparameters performing n_iter combinations (e.g. will explore random combinations of the hyperparameters for a defined number of iterations).\n",
    "- sklearn.model_selection.GridSearchCV will test every single possible combination of hyperparameters in the grid (this is a thorough test but can take quite a long time)."
   ]
  },
  {
   "cell_type": "code",
   "execution_count": 12,
   "metadata": {},
   "outputs": [
    {
     "name": "stdout",
     "output_type": "stream",
     "text": [
      "Fitting 5 folds for each of 2560 candidates, totalling 12800 fits\n",
      "Best parameters for KNN with GridSearchCV: {'algorithm': 'brute', 'leaf_size': np.int64(20), 'n_neighbors': np.int64(20), 'p': 1, 'weights': 'distance'}\n",
      "GridSearchCV (KNN) model test score: 0.6333333333333333\n"
     ]
    }
   ],
   "source": [
    "# KNeighborsClassifier with GridSearchCV\n",
    "\n",
    "# Setup grid hyperparameter search for KNN\n",
    "gs_knn = GridSearchCV(KNeighborsClassifier(),\n",
    "                      param_grid=knn_grid,\n",
    "                      cv=5,\n",
    "                      verbose=True)\n",
    "\n",
    "# Fit grid hyperparameter search for KNN\n",
    "gs_knn.fit(X_train, y_train)\n",
    "\n",
    "print(\"Best parameters for KNN with GridSearchCV:\", gs_knn.best_params_)\n",
    "\n",
    "print(\"GridSearchCV (KNN) model test score:\", gs_knn.score(X_test, y_test))"
   ]
  },
  {
   "cell_type": "code",
   "execution_count": 13,
   "metadata": {},
   "outputs": [
    {
     "name": "stdout",
     "output_type": "stream",
     "text": [
      "Fitting 5 folds for each of 20 candidates, totalling 100 fits\n",
      "Best parameters for Logistic Regression with GridSearchCV: {'C': np.float64(0.08858667904100823), 'solver': 'liblinear'}\n",
      "GridSearchCV (Logistic Regression) model test score: 0.9\n"
     ]
    }
   ],
   "source": [
    "# Logistic Regression with GridSearchCV\n",
    "\n",
    "# Setup grid hyperparameter search for LogisticRegression\n",
    "gs_log_reg = GridSearchCV(LogisticRegression(),\n",
    "                          param_grid=log_reg_grid,\n",
    "                          cv=5,\n",
    "                          verbose=True)\n",
    "\n",
    "# Fit grid hyperparameter search model\n",
    "gs_log_reg.fit(X_train, y_train)\n",
    "\n",
    "\n",
    "print(\"Best parameters for Logistic Regression with GridSearchCV:\", gs_log_reg.best_params_)\n",
    "\n",
    "print(\"GridSearchCV (Logistic Regression) model test score:\", gs_log_reg.score(X_test, y_test))"
   ]
  },
  {
   "cell_type": "code",
   "execution_count": null,
   "metadata": {},
   "outputs": [],
   "source": [
    "# # RandomForestClassifier with GridSearchCV\n",
    "\n",
    "# # Setup grid hyperparameter search for RandomForestClassifier\n",
    "# gs_rf = GridSearchCV(RandomForestClassifier(),\n",
    "#                      param_grid=rf_grid,\n",
    "#                      cv=5,\n",
    "#                      verbose=True)\n",
    "\n",
    "# # Fit grid hyperparameter search for RandomForestClassifier\n",
    "# gs_rf.fit(X_train, y_train)\n",
    "\n",
    "# print(\"Best parameters for Random Forest with GridSearchCV:\", gs_rf.best_params_)\n",
    "\n",
    "# print(\"GridSearchCV (Random Forest) model test score:\", gs_rf.score(X_test, y_test))"
   ]
  },
  {
   "cell_type": "code",
   "execution_count": 14,
   "metadata": {},
   "outputs": [
    {
     "name": "stdout",
     "output_type": "stream",
     "text": [
      "Fitting 5 folds for each of 1350 candidates, totalling 6750 fits\n",
      "Best parameters for Decision Tree with GridSearchCV: {'max_depth': 3, 'max_features': 'sqrt', 'min_samples_leaf': np.int64(9), 'min_samples_split': np.int64(18)}\n",
      "GridSearchCV (Decision Tree) model test score: 0.8666666666666667\n"
     ]
    }
   ],
   "source": [
    "# DecisionTreeClassifier with GridSearchCV\n",
    "\n",
    "# Setup grid hyperparameter search for DecisionTreeClassifier\n",
    "gs_dt = GridSearchCV(DecisionTreeClassifier(),\n",
    "                     param_grid=dt_grid,\n",
    "                     cv=5,\n",
    "                     verbose=True)\n",
    "\n",
    "# Fit grid hyperparameter search for DecisionTreeClassifier\n",
    "gs_dt.fit(X_train, y_train)\n",
    "\n",
    "print(\"Best parameters for Decision Tree with GridSearchCV:\", gs_dt.best_params_)\n",
    "\n",
    "print(\"GridSearchCV (Decision Tree) model test score:\", gs_dt.score(X_test, y_test))"
   ]
  },
  {
   "cell_type": "code",
   "execution_count": null,
   "metadata": {},
   "outputs": [],
   "source": [
    "# # SVC with GridSearchCV\n",
    "\n",
    "# # Setup grid hyperparameter search for SVC\n",
    "# gs_svc = GridSearchCV(SVC(),\n",
    "#                       param_grid=svc_grid,\n",
    "#                       cv=5,\n",
    "#                       verbose=True)\n",
    "\n",
    "# # Fit grid hyperparameter search for SVC\n",
    "# gs_svc.fit(X_train, y_train)\n",
    "\n",
    "# print(\"Best parameters for SVC with GridSearchCV:\", gs_svc.best_params_)\n",
    "\n",
    "# print(\"GridSearchCV (SVC) model test score:\", gs_svc.score(X_test, y_test))"
   ]
  },
  {
   "cell_type": "code",
   "execution_count": null,
   "metadata": {},
   "outputs": [],
   "source": [
    "# # ANN with GridSearchCV\n",
    "\n",
    "# # Setup grid hyperparameter search for ANN (MLPClassifier)\n",
    "# gs_ann = GridSearchCV(MLPClassifier(),\n",
    "#                       param_grid=ann_grid,\n",
    "#                       cv=5,\n",
    "#                       verbose=True)\n",
    "\n",
    "# # Fit grid hyperparameter search for ANN\n",
    "# gs_ann.fit(X_train, y_train)\n",
    "\n",
    "# print(\"Best parameters for ANN with GridSearchCV:\", gs_ann.best_params_)\n",
    "\n",
    "# print(\"GridSearchCV (ANN) model test score:\", gs_ann.score(X_test, y_test))"
   ]
  },
  {
   "cell_type": "code",
   "execution_count": 16,
   "metadata": {},
   "outputs": [
    {
     "name": "stdout",
     "output_type": "stream",
     "text": [
      "Fitting 5 folds for each of 10 candidates, totalling 50 fits\n",
      "Best parameters for Gaussian Naive Bayes with GridSearchCV: {'var_smoothing': np.float64(0.0001)}\n",
      "GridSearchCV (Gaussian Naive Bayes) model test score: 0.8333333333333334\n"
     ]
    }
   ],
   "source": [
    "# Naive Bayes (GaussianNB) with GridSearchCV\n",
    "\n",
    "# Setup grid hyperparameter search for Naive Bayes (GaussianNB)\n",
    "gs_nb_gaussian = GridSearchCV(GaussianNB(),\n",
    "                              param_grid=nb_gaussian_grid,\n",
    "                              cv=5,\n",
    "                              verbose=True)\n",
    "\n",
    "# Fit grid hyperparameter search for Naive Bayes (GaussianNB)\n",
    "gs_nb_gaussian.fit(X_train, y_train)\n",
    "\n",
    "print(\"Best parameters for Gaussian Naive Bayes with GridSearchCV:\", gs_nb_gaussian.best_params_)\n",
    "\n",
    "print(\"GridSearchCV (Gaussian Naive Bayes) model test score:\", gs_nb_gaussian.score(X_test, y_test))"
   ]
  },
  {
   "cell_type": "code",
   "execution_count": 17,
   "metadata": {},
   "outputs": [
    {
     "name": "stdout",
     "output_type": "stream",
     "text": [
      "Fitting 5 folds for each of 80 candidates, totalling 400 fits\n",
      "Best parameters for Bernoulli Naive Bayes with GridSearchCV: {'alpha': np.float64(206.913808111479), 'binarize': 0.1}\n",
      "GridSearchCV (Bernoulli Naive Bayes) model test score: 0.8833333333333333\n"
     ]
    }
   ],
   "source": [
    "# Naive Bayes (BernoulliNB) with GridSearchCV\n",
    "\n",
    "# Setup grid hyperparameter search for Naive Bayes (BernoulliNB)\n",
    "gs_nb_bernoulli = GridSearchCV(BernoulliNB(),\n",
    "                               param_grid=nb_bernoulli_grid,\n",
    "                               cv=5,\n",
    "                               verbose=True)\n",
    "\n",
    "# Fit grid hyperparameter search for Naive Bayes (BernoulliNB)\n",
    "gs_nb_bernoulli.fit(X_train, y_train)\n",
    "\n",
    "print(\"Best parameters for Bernoulli Naive Bayes with GridSearchCV:\", gs_nb_bernoulli.best_params_)\n",
    "\n",
    "print(\"GridSearchCV (Bernoulli Naive Bayes) model test score:\", gs_nb_bernoulli.score(X_test, y_test))"
   ]
  },
  {
   "cell_type": "code",
   "execution_count": 57,
   "metadata": {},
   "outputs": [
    {
     "name": "stdout",
     "output_type": "stream",
     "text": [
      "Fitting 5 folds for each of 16 candidates, totalling 80 fits\n",
      "Best parameters for VotingClassifier with GridSearchCV: {'flatten_transform': False, 'voting': 'hard', 'weights': [1, 1, 1, 1]}\n",
      "GridSearchCV (VotingClassifier) model test score: 0.8666666666666667\n"
     ]
    }
   ],
   "source": [
    "# VotingClassifier with GridSearchCV\n",
    "\n",
    "# Setup grid hyperparameter search for VotingClassifier\n",
    "gs_voting = GridSearchCV(VotingClassifier(estimators=[('log_reg', log_reg), ('rf', rf), \n",
    "                                                    #   ('svc', svc),\n",
    "                                                      ('naive_bayes', naive_bayes), ('knn', knn)], voting='soft'),\n",
    "                         param_grid=voting_grid,\n",
    "                         cv=5,\n",
    "                         verbose=True)\n",
    "\n",
    "# Fit grid hyperparameter search for VotingClassifier\n",
    "gs_voting.fit(X_train, y_train)\n",
    "\n",
    "print(\"Best parameters for VotingClassifier with GridSearchCV:\", gs_voting.best_params_)\n",
    "\n",
    "print(\"GridSearchCV (VotingClassifier) model test score:\", gs_voting.score(X_test, y_test))"
   ]
  },
  {
   "cell_type": "code",
   "execution_count": 58,
   "metadata": {},
   "outputs": [
    {
     "name": "stdout",
     "output_type": "stream",
     "text": [
      "                            Accuracy  Precision  Sensitivity (Recall)  \\\n",
      "KNN                        63.333333  63.227753             63.333333   \n",
      "Logistic Regression        90.000000  91.578947             90.000000   \n",
      "Random Forest              83.333333  84.529506             83.333333   \n",
      "Decision Tree              76.666667  76.681750             76.666667   \n",
      "Naive Bayes (GaussianNB)   83.333333  84.529506             83.333333   \n",
      "Naive Bayes (BernoulliNB)  88.333333  90.427350             88.333333   \n",
      "VotingClassifier           86.666667  89.333333             86.666667   \n",
      "\n",
      "                           Classification Error  Specificity  F1 Measure  \n",
      "KNN                                   36.666667         50.0   63.209877  \n",
      "Logistic Regression                   10.000000         50.0   89.828571  \n",
      "Random Forest                         16.666667         50.0   83.047619  \n",
      "Decision Tree                         23.333333         50.0   76.588103  \n",
      "Naive Bayes (GaussianNB)              16.666667         50.0   83.047619  \n",
      "Naive Bayes (BernoulliNB)             11.666667         50.0   88.075117  \n",
      "VotingClassifier                      13.333333         50.0   86.296296  \n"
     ]
    },
    {
     "data": {
      "text/html": [
       "<style type=\"text/css\">\n",
       "</style>\n",
       "<table id=\"T_810e1\">\n",
       "  <thead>\n",
       "    <tr>\n",
       "      <th class=\"blank level0\" >&nbsp;</th>\n",
       "      <th id=\"T_810e1_level0_col0\" class=\"col_heading level0 col0\" >Accuracy</th>\n",
       "      <th id=\"T_810e1_level0_col1\" class=\"col_heading level0 col1\" >Precision</th>\n",
       "      <th id=\"T_810e1_level0_col2\" class=\"col_heading level0 col2\" >Sensitivity (Recall)</th>\n",
       "      <th id=\"T_810e1_level0_col3\" class=\"col_heading level0 col3\" >Classification Error</th>\n",
       "      <th id=\"T_810e1_level0_col4\" class=\"col_heading level0 col4\" >Specificity</th>\n",
       "      <th id=\"T_810e1_level0_col5\" class=\"col_heading level0 col5\" >F1 Measure</th>\n",
       "    </tr>\n",
       "  </thead>\n",
       "  <tbody>\n",
       "    <tr>\n",
       "      <th id=\"T_810e1_level0_row0\" class=\"row_heading level0 row0\" >KNN</th>\n",
       "      <td id=\"T_810e1_row0_col0\" class=\"data row0 col0\" >63.33%</td>\n",
       "      <td id=\"T_810e1_row0_col1\" class=\"data row0 col1\" >63.23%</td>\n",
       "      <td id=\"T_810e1_row0_col2\" class=\"data row0 col2\" >63.33%</td>\n",
       "      <td id=\"T_810e1_row0_col3\" class=\"data row0 col3\" >36.67%</td>\n",
       "      <td id=\"T_810e1_row0_col4\" class=\"data row0 col4\" >50.00%</td>\n",
       "      <td id=\"T_810e1_row0_col5\" class=\"data row0 col5\" >63.21%</td>\n",
       "    </tr>\n",
       "    <tr>\n",
       "      <th id=\"T_810e1_level0_row1\" class=\"row_heading level0 row1\" >Logistic Regression</th>\n",
       "      <td id=\"T_810e1_row1_col0\" class=\"data row1 col0\" >90.00%</td>\n",
       "      <td id=\"T_810e1_row1_col1\" class=\"data row1 col1\" >91.58%</td>\n",
       "      <td id=\"T_810e1_row1_col2\" class=\"data row1 col2\" >90.00%</td>\n",
       "      <td id=\"T_810e1_row1_col3\" class=\"data row1 col3\" >10.00%</td>\n",
       "      <td id=\"T_810e1_row1_col4\" class=\"data row1 col4\" >50.00%</td>\n",
       "      <td id=\"T_810e1_row1_col5\" class=\"data row1 col5\" >89.83%</td>\n",
       "    </tr>\n",
       "    <tr>\n",
       "      <th id=\"T_810e1_level0_row2\" class=\"row_heading level0 row2\" >Random Forest</th>\n",
       "      <td id=\"T_810e1_row2_col0\" class=\"data row2 col0\" >83.33%</td>\n",
       "      <td id=\"T_810e1_row2_col1\" class=\"data row2 col1\" >84.53%</td>\n",
       "      <td id=\"T_810e1_row2_col2\" class=\"data row2 col2\" >83.33%</td>\n",
       "      <td id=\"T_810e1_row2_col3\" class=\"data row2 col3\" >16.67%</td>\n",
       "      <td id=\"T_810e1_row2_col4\" class=\"data row2 col4\" >50.00%</td>\n",
       "      <td id=\"T_810e1_row2_col5\" class=\"data row2 col5\" >83.05%</td>\n",
       "    </tr>\n",
       "    <tr>\n",
       "      <th id=\"T_810e1_level0_row3\" class=\"row_heading level0 row3\" >Decision Tree</th>\n",
       "      <td id=\"T_810e1_row3_col0\" class=\"data row3 col0\" >76.67%</td>\n",
       "      <td id=\"T_810e1_row3_col1\" class=\"data row3 col1\" >76.68%</td>\n",
       "      <td id=\"T_810e1_row3_col2\" class=\"data row3 col2\" >76.67%</td>\n",
       "      <td id=\"T_810e1_row3_col3\" class=\"data row3 col3\" >23.33%</td>\n",
       "      <td id=\"T_810e1_row3_col4\" class=\"data row3 col4\" >50.00%</td>\n",
       "      <td id=\"T_810e1_row3_col5\" class=\"data row3 col5\" >76.59%</td>\n",
       "    </tr>\n",
       "    <tr>\n",
       "      <th id=\"T_810e1_level0_row4\" class=\"row_heading level0 row4\" >Naive Bayes (GaussianNB)</th>\n",
       "      <td id=\"T_810e1_row4_col0\" class=\"data row4 col0\" >83.33%</td>\n",
       "      <td id=\"T_810e1_row4_col1\" class=\"data row4 col1\" >84.53%</td>\n",
       "      <td id=\"T_810e1_row4_col2\" class=\"data row4 col2\" >83.33%</td>\n",
       "      <td id=\"T_810e1_row4_col3\" class=\"data row4 col3\" >16.67%</td>\n",
       "      <td id=\"T_810e1_row4_col4\" class=\"data row4 col4\" >50.00%</td>\n",
       "      <td id=\"T_810e1_row4_col5\" class=\"data row4 col5\" >83.05%</td>\n",
       "    </tr>\n",
       "    <tr>\n",
       "      <th id=\"T_810e1_level0_row5\" class=\"row_heading level0 row5\" >Naive Bayes (BernoulliNB)</th>\n",
       "      <td id=\"T_810e1_row5_col0\" class=\"data row5 col0\" >88.33%</td>\n",
       "      <td id=\"T_810e1_row5_col1\" class=\"data row5 col1\" >90.43%</td>\n",
       "      <td id=\"T_810e1_row5_col2\" class=\"data row5 col2\" >88.33%</td>\n",
       "      <td id=\"T_810e1_row5_col3\" class=\"data row5 col3\" >11.67%</td>\n",
       "      <td id=\"T_810e1_row5_col4\" class=\"data row5 col4\" >50.00%</td>\n",
       "      <td id=\"T_810e1_row5_col5\" class=\"data row5 col5\" >88.08%</td>\n",
       "    </tr>\n",
       "    <tr>\n",
       "      <th id=\"T_810e1_level0_row6\" class=\"row_heading level0 row6\" >VotingClassifier</th>\n",
       "      <td id=\"T_810e1_row6_col0\" class=\"data row6 col0\" >86.67%</td>\n",
       "      <td id=\"T_810e1_row6_col1\" class=\"data row6 col1\" >89.33%</td>\n",
       "      <td id=\"T_810e1_row6_col2\" class=\"data row6 col2\" >86.67%</td>\n",
       "      <td id=\"T_810e1_row6_col3\" class=\"data row6 col3\" >13.33%</td>\n",
       "      <td id=\"T_810e1_row6_col4\" class=\"data row6 col4\" >50.00%</td>\n",
       "      <td id=\"T_810e1_row6_col5\" class=\"data row6 col5\" >86.30%</td>\n",
       "    </tr>\n",
       "  </tbody>\n",
       "</table>\n"
      ],
      "text/plain": [
       "<pandas.io.formats.style.Styler at 0x151409810>"
      ]
     },
     "execution_count": 58,
     "metadata": {},
     "output_type": "execute_result"
    }
   ],
   "source": [
    "# Define a function to calculate classification error\n",
    "def classification_error(y_true, y_pred):\n",
    "    return 1 - accuracy_score(y_true, y_pred)\n",
    "\n",
    "# Define a function to calculate specificity\n",
    "def specificity(y_true, y_pred):\n",
    "    cm = confusion_matrix(y_true, y_pred)\n",
    "    tn = cm.sum(axis=1) - cm.diagonal()  # True negatives for each class\n",
    "    fp = cm.sum(axis=0) - cm.diagonal()  # False positives for each class\n",
    "    specificity_per_class = tn / (tn + fp + 1e-10)  # Avoid division by zero\n",
    "    return specificity_per_class.mean()  # Average specificity across all classes\n",
    "\n",
    "tuned_model_scores = {\n",
    "     \"KNN\": {\n",
    "        \"Accuracy\": accuracy_score(y_test, gs_knn.predict(X_test)),\n",
    "        \"Precision\": precision_score(y_test, gs_knn.predict(X_test), average=\"weighted\"),\n",
    "        \"Sensitivity (Recall)\": recall_score(y_test, gs_knn.predict(X_test), average=\"weighted\"),\n",
    "        \"Classification Error\": classification_error(y_test, gs_knn.predict(X_test)),\n",
    "        \"Specificity\": specificity(y_test, gs_knn.predict(X_test)),\n",
    "        \"F1 Measure\": f1_score(y_test, gs_knn.predict(X_test), average=\"weighted\"),\n",
    "    },\n",
    "    \"Logistic Regression\": {\n",
    "        \"Accuracy\": accuracy_score(y_test, gs_log_reg.predict(X_test)),\n",
    "        \"Precision\": precision_score(y_test, gs_log_reg.predict(X_test), average=\"weighted\"),\n",
    "        \"Sensitivity (Recall)\": recall_score(y_test, gs_log_reg.predict(X_test), average=\"weighted\"),\n",
    "        \"Classification Error\": classification_error(y_test, gs_log_reg.predict(X_test)),\n",
    "        \"Specificity\": specificity(y_test, gs_log_reg.predict(X_test)),\n",
    "        \"F1 Measure\": f1_score(y_test, gs_log_reg.predict(X_test), average=\"weighted\"),\n",
    "    },\n",
    "    \"Random Forest\": {\n",
    "        \"Accuracy\": accuracy_score(y_test, rs_rf.predict(X_test)),\n",
    "        \"Precision\": precision_score(y_test, rs_rf.predict(X_test), average=\"weighted\"),\n",
    "        \"Sensitivity (Recall)\": recall_score(y_test, rs_rf.predict(X_test), average=\"weighted\"),\n",
    "        \"Classification Error\": classification_error(y_test, rs_rf.predict(X_test)),\n",
    "        \"Specificity\": specificity(y_test, rs_rf.predict(X_test)),\n",
    "        \"F1 Measure\": f1_score(y_test, rs_rf.predict(X_test), average=\"weighted\"),\n",
    "    },\n",
    "    \"Decision Tree\": {\n",
    "        \"Accuracy\": accuracy_score(y_test, rs_dt.predict(X_test)),\n",
    "        \"Precision\": precision_score(y_test, rs_dt.predict(X_test), average=\"weighted\"),\n",
    "        \"Sensitivity (Recall)\": recall_score(y_test, rs_dt.predict(X_test), average=\"weighted\"),\n",
    "        \"Classification Error\": classification_error(y_test, rs_dt.predict(X_test)),\n",
    "        \"Specificity\": specificity(y_test, rs_dt.predict(X_test)),\n",
    "        \"F1 Measure\": f1_score(y_test, rs_dt.predict(X_test), average=\"weighted\"),\n",
    "    },\n",
    "    # \"SVC\": {\n",
    "    #     \"Accuracy\": accuracy_score(y_test, gs_svc.predict(X_test)),\n",
    "    #     \"Precision\": precision_score(y_test, gs_svc.predict(X_test), average=\"weighted\"),\n",
    "    #     \"Sensitivity (Recall)\": recall_score(y_test, gs_svc.predict(X_test), average=\"weighted\"),\n",
    "    #     \"Classification Error\": classification_error(y_test, gs_svc.predict(X_test)),\n",
    "    #     \"Specificity\": specificity(y_test, gs_svc.predict(X_test)),\n",
    "    #     \"F1 Measure\": f1_score(y_test, gs_svc.predict(X_test), average=\"weighted\"),\n",
    "    # },\n",
    "    # \"ANN\": {\n",
    "    #     \"Accuracy\": accuracy_score(y_test, gs_ann.predict(X_test)),\n",
    "    #     \"Precision\": precision_score(y_test, gs_ann.predict(X_test), average=\"weighted\"),\n",
    "    #     \"Sensitivity (Recall)\": recall_score(y_test, gs_ann.predict(X_test), average=\"weighted\"),\n",
    "    #     \"Classification Error\": classification_error(y_test, gs_ann.predict(X_test)),\n",
    "    #     \"Specificity\": specificity(y_test, gs_ann.predict(X_test)),\n",
    "    #     \"F1 Measure\": f1_score(y_test, gs_ann.predict(X_test), average=\"weighted\"),\n",
    "    # },\n",
    "    \"Naive Bayes (GaussianNB)\": {\n",
    "        \"Accuracy\": accuracy_score(y_test, gs_nb_gaussian.predict(X_test)),\n",
    "        \"Precision\": precision_score(y_test, gs_nb_gaussian.predict(X_test), average=\"weighted\"),\n",
    "        \"Sensitivity (Recall)\": recall_score(y_test, gs_nb_gaussian.predict(X_test), average=\"weighted\"),\n",
    "        \"Classification Error\": classification_error(y_test, gs_nb_gaussian.predict(X_test)),\n",
    "        \"Specificity\": specificity(y_test, gs_nb_gaussian.predict(X_test)),\n",
    "        \"F1 Measure\": f1_score(y_test, gs_nb_gaussian.predict(X_test), average=\"weighted\"),\n",
    "    },\n",
    "    \"Naive Bayes (BernoulliNB)\": {\n",
    "        \"Accuracy\": accuracy_score(y_test, gs_nb_bernoulli.predict(X_test)),\n",
    "        \"Precision\": precision_score(y_test, gs_nb_bernoulli.predict(X_test), average=\"weighted\"),\n",
    "        \"Sensitivity (Recall)\": recall_score(y_test, gs_nb_bernoulli.predict(X_test), average=\"weighted\"),\n",
    "        \"Classification Error\": classification_error(y_test, gs_nb_bernoulli.predict(X_test)),\n",
    "        \"Specificity\": specificity(y_test, gs_nb_bernoulli.predict(X_test)),\n",
    "        \"F1 Measure\": f1_score(y_test, gs_nb_bernoulli.predict(X_test), average=\"weighted\"),\n",
    "    },\n",
    "    \"VotingClassifier\": {\n",
    "        \"Accuracy\": accuracy_score(y_test, gs_voting.predict(X_test)),\n",
    "        \"Precision\": precision_score(y_test, gs_voting.predict(X_test), average=\"weighted\"),\n",
    "        \"Sensitivity (Recall)\": recall_score(y_test, gs_voting.predict(X_test), average=\"weighted\"),\n",
    "        \"Classification Error\": classification_error(y_test, gs_voting.predict(X_test)),\n",
    "        \"Specificity\": specificity(y_test, gs_voting.predict(X_test)),\n",
    "        \"F1 Measure\": f1_score(y_test, gs_voting.predict(X_test), average=\"weighted\"),\n",
    "    }\n",
    "}\n",
    "\n",
    "# Convert results to a DataFrame and scale to percentages\n",
    "tuned_model_comparison = pd.DataFrame(tuned_model_scores).T * 100\n",
    "\n",
    "# Display the DataFrame\n",
    "print(tuned_model_comparison)\n",
    "\n",
    "# Optional: Pretty-print the table\n",
    "tuned_model_comparison.style.format({\n",
    "    \"Accuracy\": \"{:.2f}%\",\n",
    "    \"Precision\": \"{:.2f}%\",\n",
    "    \"Sensitivity (Recall)\": \"{:.2f}%\",\n",
    "    \"Classification Error\": \"{:.2f}%\",\n",
    "    \"Specificity\": \"{:.2f}%\",\n",
    "    \"F1 Measure\": \"{:.2f}%\"\n",
    "})"
   ]
  },
  {
   "cell_type": "markdown",
   "metadata": {},
   "source": [
    "### 5.4 Tuning models with Cross-validation"
   ]
  },
  {
   "cell_type": "code",
   "execution_count": 52,
   "metadata": {},
   "outputs": [
    {
     "data": {
      "text/html": [
       "<style type=\"text/css\">\n",
       "</style>\n",
       "<table id=\"T_91406\">\n",
       "  <caption>Cross-Validation Results Summary</caption>\n",
       "  <thead>\n",
       "    <tr>\n",
       "      <th class=\"blank level0\" >&nbsp;</th>\n",
       "      <th id=\"T_91406_level0_col0\" class=\"col_heading level0 col0\" >Model</th>\n",
       "      <th id=\"T_91406_level0_col1\" class=\"col_heading level0 col1\" >Mean Accuracy (%)</th>\n",
       "      <th id=\"T_91406_level0_col2\" class=\"col_heading level0 col2\" >Standard Deviation (%)</th>\n",
       "    </tr>\n",
       "  </thead>\n",
       "  <tbody>\n",
       "    <tr>\n",
       "      <th id=\"T_91406_level0_row0\" class=\"row_heading level0 row0\" >0</th>\n",
       "      <td id=\"T_91406_row0_col0\" class=\"data row0 col0\" >KNN</td>\n",
       "      <td id=\"T_91406_row0_col1\" class=\"data row0 col1\" >70.92%</td>\n",
       "      <td id=\"T_91406_row0_col2\" class=\"data row0 col2\" >4.09%</td>\n",
       "    </tr>\n",
       "    <tr>\n",
       "      <th id=\"T_91406_level0_row1\" class=\"row_heading level0 row1\" >1</th>\n",
       "      <td id=\"T_91406_row1_col0\" class=\"data row1 col0\" >LogisticRegression</td>\n",
       "      <td id=\"T_91406_row1_col1\" class=\"data row1 col1\" >83.61%</td>\n",
       "      <td id=\"T_91406_row1_col2\" class=\"data row1 col2\" >7.47%</td>\n",
       "    </tr>\n",
       "    <tr>\n",
       "      <th id=\"T_91406_level0_row2\" class=\"row_heading level0 row2\" >2</th>\n",
       "      <td id=\"T_91406_row2_col0\" class=\"data row2 col0\" >RandomForest</td>\n",
       "      <td id=\"T_91406_row2_col1\" class=\"data row2 col1\" >82.34%</td>\n",
       "      <td id=\"T_91406_row2_col2\" class=\"data row2 col2\" >8.00%</td>\n",
       "    </tr>\n",
       "    <tr>\n",
       "      <th id=\"T_91406_level0_row3\" class=\"row_heading level0 row3\" >3</th>\n",
       "      <td id=\"T_91406_row3_col0\" class=\"data row3 col0\" >DecisionTree</td>\n",
       "      <td id=\"T_91406_row3_col1\" class=\"data row3 col1\" >75.71%</td>\n",
       "      <td id=\"T_91406_row3_col2\" class=\"data row3 col2\" >10.86%</td>\n",
       "    </tr>\n",
       "    <tr>\n",
       "      <th id=\"T_91406_level0_row4\" class=\"row_heading level0 row4\" >4</th>\n",
       "      <td id=\"T_91406_row4_col0\" class=\"data row4 col0\" >ANN</td>\n",
       "      <td id=\"T_91406_row4_col1\" class=\"data row4 col1\" >62.86%</td>\n",
       "      <td id=\"T_91406_row4_col2\" class=\"data row4 col2\" >5.03%</td>\n",
       "    </tr>\n",
       "    <tr>\n",
       "      <th id=\"T_91406_level0_row5\" class=\"row_heading level0 row5\" >5</th>\n",
       "      <td id=\"T_91406_row5_col0\" class=\"data row5 col0\" >NaiveBayes_Gaussian</td>\n",
       "      <td id=\"T_91406_row5_col1\" class=\"data row5 col1\" >83.17%</td>\n",
       "      <td id=\"T_91406_row5_col2\" class=\"data row5 col2\" >7.90%</td>\n",
       "    </tr>\n",
       "    <tr>\n",
       "      <th id=\"T_91406_level0_row6\" class=\"row_heading level0 row6\" >6</th>\n",
       "      <td id=\"T_91406_row6_col0\" class=\"data row6 col0\" >NaiveBayes_Bernoulli</td>\n",
       "      <td id=\"T_91406_row6_col1\" class=\"data row6 col1\" >79.40%</td>\n",
       "      <td id=\"T_91406_row6_col2\" class=\"data row6 col2\" >7.64%</td>\n",
       "    </tr>\n",
       "    <tr>\n",
       "      <th id=\"T_91406_level0_row7\" class=\"row_heading level0 row7\" >7</th>\n",
       "      <td id=\"T_91406_row7_col0\" class=\"data row7 col0\" >VotingClassifier</td>\n",
       "      <td id=\"T_91406_row7_col1\" class=\"data row7 col1\" >83.61%</td>\n",
       "      <td id=\"T_91406_row7_col2\" class=\"data row7 col2\" >5.91%</td>\n",
       "    </tr>\n",
       "  </tbody>\n",
       "</table>\n"
      ],
      "text/plain": [
       "<pandas.io.formats.style.Styler at 0x175a8a490>"
      ]
     },
     "execution_count": 52,
     "metadata": {},
     "output_type": "execute_result"
    }
   ],
   "source": [
    "# List of models with the best hyperparameters (from RandomizedSearchCV or GridSearchCV)\n",
    "\n",
    "# Define the best models with their respective best parameters\n",
    "best_models = {\n",
    "    \"KNN\": KNeighborsClassifier(**rs_knn.best_params_),\n",
    "    \"LogisticRegression\": LogisticRegression(**rs_log_reg.best_params_),\n",
    "    \"RandomForest\": RandomForestClassifier(**rs_rf.best_params_),\n",
    "    \"DecisionTree\": DecisionTreeClassifier(**rs_dt.best_params_),\n",
    "    # \"SVC\": SVC(**rs_svc.best_params_),\n",
    "    \"ANN\": MLPClassifier(**rs_ann.best_params_),\n",
    "    \"NaiveBayes_Gaussian\": GaussianNB(**rs_nb_gaussian.best_params_),\n",
    "    \"NaiveBayes_Bernoulli\": BernoulliNB(**rs_nb_bernoulli.best_params_)\n",
    "}\n",
    "\n",
    "best_models[\"VotingClassifier\"] = VotingClassifier(\n",
    "    estimators=[\n",
    "        ('knn', best_models['KNN']),\n",
    "        ('log_reg', best_models['LogisticRegression']),\n",
    "        ('rf', best_models['RandomForest']),\n",
    "        # ('svc', best_models['SVC']),\n",
    "        ('naive_bayes', best_models['NaiveBayes_Gaussian'])\n",
    "    ],\n",
    "    **rs_voting.best_params_\n",
    ")\n",
    "\n",
    "# Cross-validation for each model and store results\n",
    "cv_results = {}\n",
    "for model_name, model in best_models.items():\n",
    "    scores = cross_val_score(model, X_train, y_train, cv=10, scoring='accuracy', verbose=True)\n",
    "    cv_results[model_name] = scores\n",
    "\n",
    "cv_results_summary = {\n",
    "    \"Model\": [],\n",
    "    \"Mean Accuracy (%)\": [],\n",
    "    \"Standard Deviation (%)\": []\n",
    "}\n",
    "\n",
    "for model_name, scores in cv_results.items():\n",
    "    cv_results_summary[\"Model\"].append(model_name)\n",
    "    cv_results_summary[\"Mean Accuracy (%)\"].append(scores.mean() * 100)\n",
    "    cv_results_summary[\"Standard Deviation (%)\"].append(scores.std() * 100)\n",
    "\n",
    "results_df = pd.DataFrame(cv_results_summary)\n",
    "\n",
    "styled_table = results_df.style.format({\n",
    "    \"Mean Accuracy (%)\": \"{:.2f}%\",\n",
    "    \"Standard Deviation (%)\": \"{:.2f}%\"\n",
    "}).set_caption(\"Cross-Validation Results Summary\")\n",
    "\n",
    "styled_table"
   ]
  },
  {
   "cell_type": "markdown",
   "metadata": {},
   "source": [
    "# 6. Evaluating Model Performance\n"
   ]
  },
  {
   "cell_type": "code",
   "execution_count": 59,
   "metadata": {},
   "outputs": [],
   "source": [
    "# Make preidctions on test data\n",
    "y_preds = gs_log_reg.predict(X_test)"
   ]
  },
  {
   "cell_type": "code",
   "execution_count": 60,
   "metadata": {},
   "outputs": [
    {
     "data": {
      "text/plain": [
       "array([0, 0, 0, 0, 0, 0, 1, 0, 1, 0, 1, 0, 0, 1, 1, 0, 0, 0, 1, 1, 0, 0,\n",
       "       0, 0, 1, 0, 0, 1, 0, 1, 0, 1, 1, 0, 0, 1, 0, 1, 0, 1, 0, 1, 0, 1,\n",
       "       0, 0, 1, 0, 0, 0, 0, 1, 0, 0, 1, 1, 0, 0, 0, 1])"
      ]
     },
     "execution_count": 60,
     "metadata": {},
     "output_type": "execute_result"
    }
   ],
   "source": [
    "y_preds"
   ]
  },
  {
   "cell_type": "code",
   "execution_count": 61,
   "metadata": {},
   "outputs": [
    {
     "data": {
      "text/plain": [
       "array([0, 0, 0, 0, 0, 0, 1, 0, 1, 0, 1, 0, 0, 1, 1, 1, 1, 0, 1, 1, 0, 0,\n",
       "       1, 0, 1, 0, 0, 1, 0, 1, 0, 1, 1, 0, 0, 1, 0, 1, 0, 1, 0, 1, 1, 1,\n",
       "       0, 0, 1, 0, 1, 0, 0, 1, 0, 0, 1, 1, 1, 0, 0, 1])"
      ]
     },
     "execution_count": 61,
     "metadata": {},
     "output_type": "execute_result"
    }
   ],
   "source": [
    "y_test"
   ]
  },
  {
   "cell_type": "markdown",
   "metadata": {},
   "source": [
    "### 6.1 ROC Curve and AUC Scores"
   ]
  },
  {
   "cell_type": "code",
   "execution_count": 152,
   "metadata": {},
   "outputs": [
    {
     "data": {
      "image/png": "[encoded data removed]",
      "text/plain": [
       "<Figure size 800x600 with 1 Axes>"
      ]
     },
     "metadata": {},
     "output_type": "display_data"
    }
   ],
   "source": [
    "# Calculate the AUC score\n",
    "y_pred_prob = gs_log_reg.predict_proba(X_test)[:, 1]  # Probabilities for the positive class\n",
    "auc_score = roc_auc_score(y_test, y_pred_prob) # Calculate AUC score\n",
    "\n",
    "fig, ax = plt.subplots(figsize=(8, 6))  # Set a larger figure for better readability\n",
    "RocCurveDisplay.from_estimator(\n",
    "    estimator=gs_log_reg,\n",
    "    X=X_test,\n",
    "    y=y_test,\n",
    "    ax=ax,\n",
    "    name=\"Logistic Regression\"  # You can change the model name if necessary\n",
    ")\n",
    "\n",
    "# Enhance plot appearance\n",
    "ax.set_title(\"ROC Curve with AUC\", fontsize=16)\n",
    "ax.set_xlabel(\"False Positive Rate\", fontsize=14)\n",
    "ax.set_ylabel(\"True Positive Rate\", fontsize=14)\n",
    "ax.grid(True, linestyle='--', alpha=0.8)\n",
    "plt.tight_layout()\n",
    "\n",
    "# Show plot\n",
    "plt.show()"
   ]
  },
  {
   "cell_type": "markdown",
   "metadata": {},
   "source": [
    "### 6.2 Creating a confusion matrix"
   ]
  },
  {
   "cell_type": "code",
   "execution_count": 84,
   "metadata": {},
   "outputs": [
    {
     "data": {
      "image/png": "[encoded data removed]",
      "text/plain": [
       "<Figure size 640x480 with 2 Axes>"
      ]
     },
     "metadata": {},
     "output_type": "display_data"
    }
   ],
   "source": [
    "\n",
    "\n",
    "# Plot confusion matrix\n",
    "cm = confusion_matrix(y_test, y_preds)\n",
    "disp = ConfusionMatrixDisplay(confusion_matrix=cm, display_labels=gs_log_reg.classes_)\n",
    "disp.plot(cmap=\"Blues\", values_format=\"d\", xticks_rotation=45)\n",
    "plt.grid(False)\n",
    "plt.title(\"Confusion Matrix\")\n",
    "plt.show()\n"
   ]
  },
  {
   "cell_type": "markdown",
   "metadata": {},
   "source": [
    "### 6.3 Classification report"
   ]
  },
  {
   "cell_type": "code",
   "execution_count": 88,
   "metadata": {},
   "outputs": [
    {
     "name": "stdout",
     "output_type": "stream",
     "text": [
      "Classification Report:\n",
      "\n"
     ]
    },
    {
     "data": {
      "text/html": [
       "<style type=\"text/css\">\n",
       "</style>\n",
       "<table id=\"T_76f29\">\n",
       "  <thead>\n",
       "    <tr>\n",
       "      <th class=\"blank level0\" >&nbsp;</th>\n",
       "      <th id=\"T_76f29_level0_col0\" class=\"col_heading level0 col0\" >precision</th>\n",
       "      <th id=\"T_76f29_level0_col1\" class=\"col_heading level0 col1\" >recall</th>\n",
       "      <th id=\"T_76f29_level0_col2\" class=\"col_heading level0 col2\" >f1-score</th>\n",
       "      <th id=\"T_76f29_level0_col3\" class=\"col_heading level0 col3\" >support</th>\n",
       "    </tr>\n",
       "  </thead>\n",
       "  <tbody>\n",
       "    <tr>\n",
       "      <th id=\"T_76f29_level0_row0\" class=\"row_heading level0 row0\" >0</th>\n",
       "      <td id=\"T_76f29_row0_col0\" class=\"data row0 col0\" >0.842105</td>\n",
       "      <td id=\"T_76f29_row0_col1\" class=\"data row0 col1\" >1.000000</td>\n",
       "      <td id=\"T_76f29_row0_col2\" class=\"data row0 col2\" >0.914286</td>\n",
       "      <td id=\"T_76f29_row0_col3\" class=\"data row0 col3\" >32.000000</td>\n",
       "    </tr>\n",
       "    <tr>\n",
       "      <th id=\"T_76f29_level0_row1\" class=\"row_heading level0 row1\" >1</th>\n",
       "      <td id=\"T_76f29_row1_col0\" class=\"data row1 col0\" >1.000000</td>\n",
       "      <td id=\"T_76f29_row1_col1\" class=\"data row1 col1\" >0.785714</td>\n",
       "      <td id=\"T_76f29_row1_col2\" class=\"data row1 col2\" >0.880000</td>\n",
       "      <td id=\"T_76f29_row1_col3\" class=\"data row1 col3\" >28.000000</td>\n",
       "    </tr>\n",
       "    <tr>\n",
       "      <th id=\"T_76f29_level0_row2\" class=\"row_heading level0 row2\" >accuracy</th>\n",
       "      <td id=\"T_76f29_row2_col0\" class=\"data row2 col0\" >0.900000</td>\n",
       "      <td id=\"T_76f29_row2_col1\" class=\"data row2 col1\" >0.900000</td>\n",
       "      <td id=\"T_76f29_row2_col2\" class=\"data row2 col2\" >0.900000</td>\n",
       "      <td id=\"T_76f29_row2_col3\" class=\"data row2 col3\" >0.900000</td>\n",
       "    </tr>\n",
       "    <tr>\n",
       "      <th id=\"T_76f29_level0_row3\" class=\"row_heading level0 row3\" >macro avg</th>\n",
       "      <td id=\"T_76f29_row3_col0\" class=\"data row3 col0\" >0.921053</td>\n",
       "      <td id=\"T_76f29_row3_col1\" class=\"data row3 col1\" >0.892857</td>\n",
       "      <td id=\"T_76f29_row3_col2\" class=\"data row3 col2\" >0.897143</td>\n",
       "      <td id=\"T_76f29_row3_col3\" class=\"data row3 col3\" >60.000000</td>\n",
       "    </tr>\n",
       "    <tr>\n",
       "      <th id=\"T_76f29_level0_row4\" class=\"row_heading level0 row4\" >weighted avg</th>\n",
       "      <td id=\"T_76f29_row4_col0\" class=\"data row4 col0\" >0.915789</td>\n",
       "      <td id=\"T_76f29_row4_col1\" class=\"data row4 col1\" >0.900000</td>\n",
       "      <td id=\"T_76f29_row4_col2\" class=\"data row4 col2\" >0.898286</td>\n",
       "      <td id=\"T_76f29_row4_col3\" class=\"data row4 col3\" >60.000000</td>\n",
       "    </tr>\n",
       "  </tbody>\n",
       "</table>\n"
      ],
      "text/plain": [
       "<pandas.io.formats.style.Styler at 0x1523e39d0>"
      ]
     },
     "metadata": {},
     "output_type": "display_data"
    }
   ],
   "source": [
    "print(\"Classification Report:\\n\")\n",
    "report = classification_report(y_test, y_preds, output_dict=True)\n",
    "report_df = pd.DataFrame(report).T\n",
    "display(report_df.style.format(subset=[\"precision\", \"recall\", \"f1-score\"]))"
   ]
  },
  {
   "cell_type": "markdown",
   "metadata": {},
   "source": [
    "### 6.4 Cross-validated metrics"
   ]
  },
  {
   "cell_type": "code",
   "execution_count": 117,
   "metadata": {},
   "outputs": [
    {
     "data": {
      "image/png": "[encoded data removed]",
      "text/plain": [
       "<Figure size 640x480 with 1 Axes>"
      ]
     },
     "metadata": {},
     "output_type": "display_data"
    }
   ],
   "source": [
    "\n",
    "# clf using the best hyperparameters from GridSearchCV\n",
    "clf = LogisticRegression(C=gs_log_reg.best_params_['C'], solver=\"liblinear\")\n",
    "\n",
    "# Cross-validated metrics\n",
    "cv_metrics = {\n",
    "    \"Accuracy\": np.mean(cross_val_score(clf, X, y, cv=5, scoring=\"accuracy\")),\n",
    "    \"Precision\": np.mean(cross_val_score(clf, X, y, cv=5, scoring=\"precision\")),\n",
    "    \"Recall\": np.mean(cross_val_score(clf, X, y, cv=5, scoring=\"recall\")),\n",
    "    \"F1\": np.mean(cross_val_score(clf, X, y, cv=5, scoring=\"f1\")),\n",
    "}\n",
    "\n",
    "# Convert metrics to DataFrame\n",
    "cv_metrics_df = pd.DataFrame(cv_metrics, index=[\"Score\"]).T\n",
    "cv_metrics_df.columns = [\"Cross-Validated\"]\n",
    "\n",
    "# Plot metrics\n",
    "cv_metrics_df.plot(kind=\"bar\", legend=False)\n",
    "\n",
    "# Rotate x-axis labels\n",
    "plt.xticks(rotation=90, ha='center')\n",
    "\n",
    "# Set y-axis limits and format y-axis to percentage\n",
    "plt.ylim(0, 1)\n",
    "plt.gca().yaxis.set_major_formatter(FuncFormatter(lambda y, _: f'{y*100:.0f}%'))\n",
    "\n",
    "# Show plot\n",
    "plt.tight_layout()\n",
    "plt.show()"
   ]
  },
  {
   "cell_type": "markdown",
   "metadata": {},
   "source": [
    "# 7. Feature importance"
   ]
  },
  {
   "cell_type": "code",
   "execution_count": 145,
   "metadata": {},
   "outputs": [
    {
     "name": "stderr",
     "output_type": "stream",
     "text": [
      "/var/folders/ty/pzq_b8jn4k7bxn69m1pm52z00000gn/T/ipykernel_4027/1636945534.py:13: FutureWarning: \n",
      "\n",
      "Passing `palette` without assigning `hue` is deprecated and will be removed in v0.14.0. Assign the `y` variable to `hue` and set `legend=False` for the same effect.\n",
      "\n",
      "  sns.barplot(data=features_df, x=\"Importance\", y=\"Feature\", palette=\"viridis\")\n"
     ]
    },
    {
     "data": {
      "image/png": "[encoded data removed]",
      "text/plain": [
       "<Figure size 1000x600 with 1 Axes>"
      ]
     },
     "metadata": {},
     "output_type": "display_data"
    }
   ],
   "source": [
    "# Fit an instance of LogisticRegression (taken from above)\n",
    "clf.fit(X_train, y_train)\n",
    "\n",
    "# Extract coefficients and match features to columns\n",
    "features_dict = dict(zip(df.columns, list(clf.coef_[0])))\n",
    "\n",
    "# Convert to DataFrame and sort by importance\n",
    "features_df = pd.DataFrame(features_dict.items(), columns=[\"Feature\", \"Importance\"])\n",
    "features_df = features_df.sort_values(by=\"Importance\", ascending=False)\n",
    "\n",
    "# Visualize feature importance (sorted)\n",
    "plt.figure(figsize=(10, 6))\n",
    "sns.barplot(data=features_df, x=\"Importance\", y=\"Feature\", palette=\"viridis\")\n",
    "plt.title(\"Feature Importance using Logistic Regression\")\n",
    "plt.xlabel(\"Importance\")\n",
    "plt.ylabel(\"\")\n",
    "plt.tight_layout()\n",
    "plt.show()"
   ]
  },
  {
   "cell_type": "code",
   "execution_count": null,
   "metadata": {},
   "outputs": [],
   "source": []
  }
 ],
 "metadata": {
  "kernelspec": {
   "display_name": "data_mining",
   "language": "python",
   "name": "python3"
  },
  "language_info": {
   "codemirror_mode": {
    "name": "ipython",
    "version": 3
   },
   "file_extension": ".py",
   "mimetype": "text/x-python",
   "name": "python",
   "nbconvert_exporter": "python",
   "pygments_lexer": "ipython3",
   "version": "3.13.1"
  }
 },
 "nbformat": 4,
 "nbformat_minor": 2
}
