{
 "cells": [
  {
   "cell_type": "markdown",
   "metadata": {},
   "source": [
    "# 1. Preparing the tools"
   ]
  },
  {
   "cell_type": "code",
   "execution_count": 1,
   "metadata": {
    "execution": {
     "iopub.execute_input": "2025-01-07T14:54:05.171770Z",
     "iopub.status.busy": "2025-01-07T14:54:05.171458Z",
     "iopub.status.idle": "2025-01-07T14:54:06.313567Z",
     "shell.execute_reply": "2025-01-07T14:54:06.313212Z"
    }
   },
   "outputs": [
    {
     "name": "stdout",
     "output_type": "stream",
     "text": [
      "Notebook last updated: 2025-01-07 21:13:54.966527\n",
      "\n",
      "NumPy version: 2.2.1\n",
      "pandas version: 2.2.3\n",
      "matplotlib version: 3.10.0\n",
      "Scikit-Learn version: 1.6.0\n"
     ]
    }
   ],
   "source": [
    "import sys\n",
    "import os\n",
    "\n",
    "# Regular EDA and plotting libraries\n",
    "import numpy as np\n",
    "import pandas as pd\n",
    "import matplotlib\n",
    "import matplotlib.pyplot as plt\n",
    "import seaborn as sns\n",
    "from matplotlib.ticker import FuncFormatter\n",
    "\n",
    "## Models\n",
    "import sklearn \n",
    "from sklearn.linear_model import LogisticRegression\n",
    "from sklearn.neighbors import KNeighborsClassifier\n",
    "from sklearn.ensemble import RandomForestClassifier\n",
    "from sklearn.tree import DecisionTreeClassifier\n",
    "from sklearn.neural_network import MLPClassifier # For ANN\n",
    "from sklearn.svm import SVC  # For SVM (Support Vector Machine)\n",
    "from sklearn.naive_bayes import GaussianNB  # For Naive Bayes\n",
    "from sklearn.naive_bayes import BernoulliNB  # For binary classification\n",
    "\n",
    "\n",
    "## Model evaluators\n",
    "from sklearn.model_selection import train_test_split, cross_val_score\n",
    "from sklearn.model_selection import RandomizedSearchCV, GridSearchCV\n",
    "from sklearn.metrics import confusion_matrix, classification_report, ConfusionMatrixDisplay\n",
    "from sklearn.metrics import make_scorer, precision_score, recall_score, accuracy_score, f1_score\n",
    "from sklearn.model_selection import cross_validate\n",
    "from sklearn.ensemble import VotingClassifier\n",
    "from sklearn.metrics import RocCurveDisplay, roc_auc_score\n",
    "\n",
    "import datetime\n",
    "print(f\"Notebook last updated: {datetime.datetime.now()}\\n\")\n",
    "print(f\"NumPy version: {np.__version__}\")\n",
    "print(f\"pandas version: {pd.__version__}\")\n",
    "print(f\"matplotlib version: {matplotlib.__version__}\")\n",
    "print(f\"Scikit-Learn version: {sklearn.__version__}\")"
   ]
  },
  {
   "cell_type": "markdown",
   "metadata": {},
   "source": [
    "# 2. Loading Data"
   ]
  },
  {
   "cell_type": "code",
   "execution_count": 2,
   "metadata": {
    "execution": {
     "iopub.execute_input": "2025-01-07T14:54:06.345036Z",
     "iopub.status.busy": "2025-01-07T14:54:06.344787Z",
     "iopub.status.idle": "2025-01-07T14:54:06.357398Z",
     "shell.execute_reply": "2025-01-07T14:54:06.357056Z"
    }
   },
   "outputs": [
    {
     "data": {
      "text/plain": [
       "(768, 9)"
      ]
     },
     "execution_count": 2,
     "metadata": {},
     "output_type": "execute_result"
    }
   ],
   "source": [
    "# Get project root directory\n",
    "project_dir = os.path.abspath(\"..\")\n",
    "sys.path.append(project_dir)\n",
    "\n",
    "from src import config\n",
    "\n",
    "# Use absolute path instead of relative\n",
    "df = pd.read_csv(os.path.join(project_dir, config.DIABETES_DATA_PATH))\n",
    "\n",
    "df.shape "
   ]
  },
  {
   "cell_type": "markdown",
   "metadata": {},
   "source": [
    "# 3. Data Exploration (EDA)"
   ]
  },
  {
   "cell_type": "code",
   "execution_count": 3,
   "metadata": {
    "execution": {
     "iopub.execute_input": "2025-01-07T14:54:06.359009Z",
     "iopub.status.busy": "2025-01-07T14:54:06.358852Z",
     "iopub.status.idle": "2025-01-07T14:54:06.365867Z",
     "shell.execute_reply": "2025-01-07T14:54:06.365561Z"
    }
   },
   "outputs": [
    {
     "data": {
      "text/html": [
       "<div>\n",
       "<style scoped>\n",
       "    .dataframe tbody tr th:only-of-type {\n",
       "        vertical-align: middle;\n",
       "    }\n",
       "\n",
       "    .dataframe tbody tr th {\n",
       "        vertical-align: top;\n",
       "    }\n",
       "\n",
       "    .dataframe thead th {\n",
       "        text-align: right;\n",
       "    }\n",
       "</style>\n",
       "<table border=\"1\" class=\"dataframe\">\n",
       "  <thead>\n",
       "    <tr style=\"text-align: right;\">\n",
       "      <th></th>\n",
       "      <th>Pregnancies</th>\n",
       "      <th>Glucose</th>\n",
       "      <th>BloodPressure</th>\n",
       "      <th>SkinThickness</th>\n",
       "      <th>Insulin</th>\n",
       "      <th>BMI</th>\n",
       "      <th>DiabetesPedigreeFunction</th>\n",
       "      <th>Age</th>\n",
       "      <th>Outcome</th>\n",
       "    </tr>\n",
       "  </thead>\n",
       "  <tbody>\n",
       "    <tr>\n",
       "      <th>0</th>\n",
       "      <td>6</td>\n",
       "      <td>148</td>\n",
       "      <td>72</td>\n",
       "      <td>35</td>\n",
       "      <td>0</td>\n",
       "      <td>33.6</td>\n",
       "      <td>0.627</td>\n",
       "      <td>50</td>\n",
       "      <td>1</td>\n",
       "    </tr>\n",
       "    <tr>\n",
       "      <th>1</th>\n",
       "      <td>1</td>\n",
       "      <td>85</td>\n",
       "      <td>66</td>\n",
       "      <td>29</td>\n",
       "      <td>0</td>\n",
       "      <td>26.6</td>\n",
       "      <td>0.351</td>\n",
       "      <td>31</td>\n",
       "      <td>0</td>\n",
       "    </tr>\n",
       "    <tr>\n",
       "      <th>2</th>\n",
       "      <td>8</td>\n",
       "      <td>183</td>\n",
       "      <td>64</td>\n",
       "      <td>0</td>\n",
       "      <td>0</td>\n",
       "      <td>23.3</td>\n",
       "      <td>0.672</td>\n",
       "      <td>32</td>\n",
       "      <td>1</td>\n",
       "    </tr>\n",
       "    <tr>\n",
       "      <th>3</th>\n",
       "      <td>1</td>\n",
       "      <td>89</td>\n",
       "      <td>66</td>\n",
       "      <td>23</td>\n",
       "      <td>94</td>\n",
       "      <td>28.1</td>\n",
       "      <td>0.167</td>\n",
       "      <td>21</td>\n",
       "      <td>0</td>\n",
       "    </tr>\n",
       "    <tr>\n",
       "      <th>4</th>\n",
       "      <td>0</td>\n",
       "      <td>137</td>\n",
       "      <td>40</td>\n",
       "      <td>35</td>\n",
       "      <td>168</td>\n",
       "      <td>43.1</td>\n",
       "      <td>2.288</td>\n",
       "      <td>33</td>\n",
       "      <td>1</td>\n",
       "    </tr>\n",
       "  </tbody>\n",
       "</table>\n",
       "</div>"
      ],
      "text/plain": [
       "   Pregnancies  Glucose  BloodPressure  SkinThickness  Insulin   BMI  \\\n",
       "0            6      148             72             35        0  33.6   \n",
       "1            1       85             66             29        0  26.6   \n",
       "2            8      183             64              0        0  23.3   \n",
       "3            1       89             66             23       94  28.1   \n",
       "4            0      137             40             35      168  43.1   \n",
       "\n",
       "   DiabetesPedigreeFunction  Age  Outcome  \n",
       "0                     0.627   50        1  \n",
       "1                     0.351   31        0  \n",
       "2                     0.672   32        1  \n",
       "3                     0.167   21        0  \n",
       "4                     2.288   33        1  "
      ]
     },
     "execution_count": 3,
     "metadata": {},
     "output_type": "execute_result"
    }
   ],
   "source": [
    "df.head()"
   ]
  },
  {
   "cell_type": "code",
   "execution_count": 4,
   "metadata": {
    "execution": {
     "iopub.execute_input": "2025-01-07T14:54:06.367354Z",
     "iopub.status.busy": "2025-01-07T14:54:06.367212Z",
     "iopub.status.idle": "2025-01-07T14:54:06.370436Z",
     "shell.execute_reply": "2025-01-07T14:54:06.370092Z"
    }
   },
   "outputs": [
    {
     "data": {
      "text/plain": [
       "Pregnancies                 0\n",
       "Glucose                     0\n",
       "BloodPressure               0\n",
       "SkinThickness               0\n",
       "Insulin                     0\n",
       "BMI                         0\n",
       "DiabetesPedigreeFunction    0\n",
       "Age                         0\n",
       "Outcome                     0\n",
       "dtype: int64"
      ]
     },
     "execution_count": 4,
     "metadata": {},
     "output_type": "execute_result"
    }
   ],
   "source": [
    "# Count the number of missing values in each column\n",
    "df.isnull().sum()"
   ]
  },
  {
   "cell_type": "code",
   "execution_count": 5,
   "metadata": {
    "execution": {
     "iopub.execute_input": "2025-01-07T14:54:06.371792Z",
     "iopub.status.busy": "2025-01-07T14:54:06.371675Z",
     "iopub.status.idle": "2025-01-07T14:54:06.376703Z",
     "shell.execute_reply": "2025-01-07T14:54:06.376399Z"
    }
   },
   "outputs": [
    {
     "name": "stdout",
     "output_type": "stream",
     "text": [
      "<class 'pandas.core.frame.DataFrame'>\n",
      "RangeIndex: 768 entries, 0 to 767\n",
      "Data columns (total 9 columns):\n",
      " #   Column                    Non-Null Count  Dtype  \n",
      "---  ------                    --------------  -----  \n",
      " 0   Pregnancies               768 non-null    int64  \n",
      " 1   Glucose                   768 non-null    int64  \n",
      " 2   BloodPressure             768 non-null    int64  \n",
      " 3   SkinThickness             768 non-null    int64  \n",
      " 4   Insulin                   768 non-null    int64  \n",
      " 5   BMI                       768 non-null    float64\n",
      " 6   DiabetesPedigreeFunction  768 non-null    float64\n",
      " 7   Age                       768 non-null    int64  \n",
      " 8   Outcome                   768 non-null    int64  \n",
      "dtypes: float64(2), int64(7)\n",
      "memory usage: 54.1 KB\n"
     ]
    }
   ],
   "source": [
    "df.info()"
   ]
  },
  {
   "cell_type": "code",
   "execution_count": 6,
   "metadata": {
    "execution": {
     "iopub.execute_input": "2025-01-07T14:54:06.378360Z",
     "iopub.status.busy": "2025-01-07T14:54:06.378210Z",
     "iopub.status.idle": "2025-01-07T14:54:06.393508Z",
     "shell.execute_reply": "2025-01-07T14:54:06.393213Z"
    }
   },
   "outputs": [
    {
     "data": {
      "text/html": [
       "<div>\n",
       "<style scoped>\n",
       "    .dataframe tbody tr th:only-of-type {\n",
       "        vertical-align: middle;\n",
       "    }\n",
       "\n",
       "    .dataframe tbody tr th {\n",
       "        vertical-align: top;\n",
       "    }\n",
       "\n",
       "    .dataframe thead th {\n",
       "        text-align: right;\n",
       "    }\n",
       "</style>\n",
       "<table border=\"1\" class=\"dataframe\">\n",
       "  <thead>\n",
       "    <tr style=\"text-align: right;\">\n",
       "      <th></th>\n",
       "      <th>Pregnancies</th>\n",
       "      <th>Glucose</th>\n",
       "      <th>BloodPressure</th>\n",
       "      <th>SkinThickness</th>\n",
       "      <th>Insulin</th>\n",
       "      <th>BMI</th>\n",
       "      <th>DiabetesPedigreeFunction</th>\n",
       "      <th>Age</th>\n",
       "      <th>Outcome</th>\n",
       "    </tr>\n",
       "  </thead>\n",
       "  <tbody>\n",
       "    <tr>\n",
       "      <th>count</th>\n",
       "      <td>768.000000</td>\n",
       "      <td>768.000000</td>\n",
       "      <td>768.000000</td>\n",
       "      <td>768.000000</td>\n",
       "      <td>768.000000</td>\n",
       "      <td>768.000000</td>\n",
       "      <td>768.000000</td>\n",
       "      <td>768.000000</td>\n",
       "      <td>768.000000</td>\n",
       "    </tr>\n",
       "    <tr>\n",
       "      <th>mean</th>\n",
       "      <td>3.845052</td>\n",
       "      <td>120.894531</td>\n",
       "      <td>69.105469</td>\n",
       "      <td>20.536458</td>\n",
       "      <td>79.799479</td>\n",
       "      <td>31.992578</td>\n",
       "      <td>0.471876</td>\n",
       "      <td>33.240885</td>\n",
       "      <td>0.348958</td>\n",
       "    </tr>\n",
       "    <tr>\n",
       "      <th>std</th>\n",
       "      <td>3.369578</td>\n",
       "      <td>31.972618</td>\n",
       "      <td>19.355807</td>\n",
       "      <td>15.952218</td>\n",
       "      <td>115.244002</td>\n",
       "      <td>7.884160</td>\n",
       "      <td>0.331329</td>\n",
       "      <td>11.760232</td>\n",
       "      <td>0.476951</td>\n",
       "    </tr>\n",
       "    <tr>\n",
       "      <th>min</th>\n",
       "      <td>0.000000</td>\n",
       "      <td>0.000000</td>\n",
       "      <td>0.000000</td>\n",
       "      <td>0.000000</td>\n",
       "      <td>0.000000</td>\n",
       "      <td>0.000000</td>\n",
       "      <td>0.078000</td>\n",
       "      <td>21.000000</td>\n",
       "      <td>0.000000</td>\n",
       "    </tr>\n",
       "    <tr>\n",
       "      <th>25%</th>\n",
       "      <td>1.000000</td>\n",
       "      <td>99.000000</td>\n",
       "      <td>62.000000</td>\n",
       "      <td>0.000000</td>\n",
       "      <td>0.000000</td>\n",
       "      <td>27.300000</td>\n",
       "      <td>0.243750</td>\n",
       "      <td>24.000000</td>\n",
       "      <td>0.000000</td>\n",
       "    </tr>\n",
       "    <tr>\n",
       "      <th>50%</th>\n",
       "      <td>3.000000</td>\n",
       "      <td>117.000000</td>\n",
       "      <td>72.000000</td>\n",
       "      <td>23.000000</td>\n",
       "      <td>30.500000</td>\n",
       "      <td>32.000000</td>\n",
       "      <td>0.372500</td>\n",
       "      <td>29.000000</td>\n",
       "      <td>0.000000</td>\n",
       "    </tr>\n",
       "    <tr>\n",
       "      <th>75%</th>\n",
       "      <td>6.000000</td>\n",
       "      <td>140.250000</td>\n",
       "      <td>80.000000</td>\n",
       "      <td>32.000000</td>\n",
       "      <td>127.250000</td>\n",
       "      <td>36.600000</td>\n",
       "      <td>0.626250</td>\n",
       "      <td>41.000000</td>\n",
       "      <td>1.000000</td>\n",
       "    </tr>\n",
       "    <tr>\n",
       "      <th>max</th>\n",
       "      <td>17.000000</td>\n",
       "      <td>199.000000</td>\n",
       "      <td>122.000000</td>\n",
       "      <td>99.000000</td>\n",
       "      <td>846.000000</td>\n",
       "      <td>67.100000</td>\n",
       "      <td>2.420000</td>\n",
       "      <td>81.000000</td>\n",
       "      <td>1.000000</td>\n",
       "    </tr>\n",
       "  </tbody>\n",
       "</table>\n",
       "</div>"
      ],
      "text/plain": [
       "       Pregnancies     Glucose  BloodPressure  SkinThickness     Insulin  \\\n",
       "count   768.000000  768.000000     768.000000     768.000000  768.000000   \n",
       "mean      3.845052  120.894531      69.105469      20.536458   79.799479   \n",
       "std       3.369578   31.972618      19.355807      15.952218  115.244002   \n",
       "min       0.000000    0.000000       0.000000       0.000000    0.000000   \n",
       "25%       1.000000   99.000000      62.000000       0.000000    0.000000   \n",
       "50%       3.000000  117.000000      72.000000      23.000000   30.500000   \n",
       "75%       6.000000  140.250000      80.000000      32.000000  127.250000   \n",
       "max      17.000000  199.000000     122.000000      99.000000  846.000000   \n",
       "\n",
       "              BMI  DiabetesPedigreeFunction         Age     Outcome  \n",
       "count  768.000000                768.000000  768.000000  768.000000  \n",
       "mean    31.992578                  0.471876   33.240885    0.348958  \n",
       "std      7.884160                  0.331329   11.760232    0.476951  \n",
       "min      0.000000                  0.078000   21.000000    0.000000  \n",
       "25%     27.300000                  0.243750   24.000000    0.000000  \n",
       "50%     32.000000                  0.372500   29.000000    0.000000  \n",
       "75%     36.600000                  0.626250   41.000000    1.000000  \n",
       "max     67.100000                  2.420000   81.000000    1.000000  "
      ]
     },
     "execution_count": 6,
     "metadata": {},
     "output_type": "execute_result"
    }
   ],
   "source": [
    "df.describe()"
   ]
  },
  {
   "cell_type": "code",
   "execution_count": 7,
   "metadata": {
    "execution": {
     "iopub.execute_input": "2025-01-07T14:54:06.394953Z",
     "iopub.status.busy": "2025-01-07T14:54:06.394831Z",
     "iopub.status.idle": "2025-01-07T14:54:06.397847Z",
     "shell.execute_reply": "2025-01-07T14:54:06.397557Z"
    }
   },
   "outputs": [
    {
     "data": {
      "text/plain": [
       "Outcome\n",
       "0    500\n",
       "1    268\n",
       "Name: count, dtype: int64"
      ]
     },
     "execution_count": 7,
     "metadata": {},
     "output_type": "execute_result"
    }
   ],
   "source": [
    "#Number of positive(1) and negative(0) samples in our dataframe\n",
    "df.Outcome.value_counts()"
   ]
  },
  {
   "cell_type": "code",
   "execution_count": 8,
   "metadata": {
    "execution": {
     "iopub.execute_input": "2025-01-07T14:54:06.399279Z",
     "iopub.status.busy": "2025-01-07T14:54:06.399139Z",
     "iopub.status.idle": "2025-01-07T14:54:06.402131Z",
     "shell.execute_reply": "2025-01-07T14:54:06.401834Z"
    }
   },
   "outputs": [
    {
     "data": {
      "text/plain": [
       "Outcome\n",
       "0    0.651042\n",
       "1    0.348958\n",
       "Name: proportion, dtype: float64"
      ]
     },
     "execution_count": 8,
     "metadata": {},
     "output_type": "execute_result"
    }
   ],
   "source": [
    "# Normalized value counts\n",
    "df.Outcome.value_counts(normalize=True)"
   ]
  },
  {
   "cell_type": "code",
   "execution_count": 9,
   "metadata": {
    "execution": {
     "iopub.execute_input": "2025-01-07T14:54:06.403557Z",
     "iopub.status.busy": "2025-01-07T14:54:06.403416Z",
     "iopub.status.idle": "2025-01-07T14:54:06.502591Z",
     "shell.execute_reply": "2025-01-07T14:54:06.502273Z"
    }
   },
   "outputs": [
    {
     "data": {
      "image/png": "[encoded data removed]",
      "text/plain": [
       "<Figure size 640x480 with 1 Axes>"
      ]
     },
     "metadata": {},
     "output_type": "display_data"
    }
   ],
   "source": [
    "df.Outcome.value_counts().plot(kind=\"bar\", color=[\"salmon\", \"lightblue\"])\n",
    "plt.title(\"Diabetes Frequency\")\n",
    "plt.xticks(rotation=0)\n",
    "plt.tight_layout()"
   ]
  },
  {
   "cell_type": "markdown",
   "metadata": {},
   "source": [
    "### 3.1 Comparing one feature to another"
   ]
  },
  {
   "cell_type": "code",
   "execution_count": 10,
   "metadata": {
    "execution": {
     "iopub.execute_input": "2025-01-07T14:54:06.504169Z",
     "iopub.status.busy": "2025-01-07T14:54:06.504022Z",
     "iopub.status.idle": "2025-01-07T14:54:06.515002Z",
     "shell.execute_reply": "2025-01-07T14:54:06.514700Z"
    }
   },
   "outputs": [
    {
     "data": {
      "text/html": [
       "<div>\n",
       "<style scoped>\n",
       "    .dataframe tbody tr th:only-of-type {\n",
       "        vertical-align: middle;\n",
       "    }\n",
       "\n",
       "    .dataframe tbody tr th {\n",
       "        vertical-align: top;\n",
       "    }\n",
       "\n",
       "    .dataframe thead th {\n",
       "        text-align: right;\n",
       "    }\n",
       "</style>\n",
       "<table border=\"1\" class=\"dataframe\">\n",
       "  <thead>\n",
       "    <tr style=\"text-align: right;\">\n",
       "      <th>Age</th>\n",
       "      <th>20-40</th>\n",
       "      <th>40-60</th>\n",
       "      <th>60-80</th>\n",
       "      <th>80-100</th>\n",
       "    </tr>\n",
       "    <tr>\n",
       "      <th>Outcome</th>\n",
       "      <th></th>\n",
       "      <th></th>\n",
       "      <th></th>\n",
       "      <th></th>\n",
       "    </tr>\n",
       "  </thead>\n",
       "  <tbody>\n",
       "    <tr>\n",
       "      <th>0</th>\n",
       "      <td>401</td>\n",
       "      <td>76</td>\n",
       "      <td>22</td>\n",
       "      <td>1</td>\n",
       "    </tr>\n",
       "    <tr>\n",
       "      <th>1</th>\n",
       "      <td>160</td>\n",
       "      <td>99</td>\n",
       "      <td>9</td>\n",
       "      <td>0</td>\n",
       "    </tr>\n",
       "  </tbody>\n",
       "</table>\n",
       "</div>"
      ],
      "text/plain": [
       "Age      20-40  40-60  60-80  80-100\n",
       "Outcome                             \n",
       "0          401     76     22       1\n",
       "1          160     99      9       0"
      ]
     },
     "execution_count": 10,
     "metadata": {},
     "output_type": "execute_result"
    }
   ],
   "source": [
    "# Define age bins and labels\n",
    "age_bins = [0, 20, 40, 60, 80, 100]\n",
    "age_labels = ['0-20', '20-40', '40-60', '60-80', '80-100']\n",
    "\n",
    "pd.crosstab(\n",
    "    df['Outcome'], \n",
    "    pd.cut(df['Age'], bins=age_bins, labels=age_labels, right=False)\n",
    ")"
   ]
  },
  {
   "cell_type": "code",
   "execution_count": 11,
   "metadata": {
    "execution": {
     "iopub.execute_input": "2025-01-07T14:54:06.516502Z",
     "iopub.status.busy": "2025-01-07T14:54:06.516346Z",
     "iopub.status.idle": "2025-01-07T14:54:06.636068Z",
     "shell.execute_reply": "2025-01-07T14:54:06.635715Z"
    }
   },
   "outputs": [
    {
     "data": {
      "image/png": "[encoded data removed]",
      "text/plain": [
       "<Figure size 640x480 with 1 Axes>"
      ]
     },
     "metadata": {},
     "output_type": "display_data"
    }
   ],
   "source": [
    "# Scatter plot for \"Disease\"\n",
    "plt.scatter(\n",
    "    df.Age[df.Outcome == 1],\n",
    "    df.BloodPressure[df.Outcome == 1],\n",
    "    c=\"#ff7f0e\",  # CUD Orange\n",
    "    alpha=0.8,\n",
    "    edgecolor=\"black\",\n",
    "    linewidth=0.5\n",
    ")\n",
    "\n",
    "# Scatter plot for \"No Disease\"\n",
    "plt.scatter(\n",
    "    df.Age[df.Outcome == 0],\n",
    "    df.BloodPressure[df.Outcome == 0],\n",
    "    c=\"#1f77b4\",  # CUD Blue\n",
    "    alpha=0.8,\n",
    "    edgecolor=\"black\",\n",
    "    linewidth=0.5\n",
    ")\n",
    "\n",
    "plt.title(\"Diabetes by Age and Blood Pressure\", fontsize=12)\n",
    "plt.xlabel(\"Age\", fontsize=10)\n",
    "plt.ylabel(\"Blood Pressure\", fontsize=10)\n",
    "\n",
    "plt.legend([\"Disease\", \"No Disease\"], fontsize=9)\n",
    "plt.xticks(fontsize=8)\n",
    "plt.yticks(fontsize=8)\n",
    "plt.grid(visible=True, linestyle=\"--\", linewidth=0.5, alpha=0.7)\n",
    "\n",
    "plt.tight_layout()\n",
    "\n",
    "plt.show()"
   ]
  },
  {
   "cell_type": "code",
   "execution_count": 12,
   "metadata": {
    "execution": {
     "iopub.execute_input": "2025-01-07T14:54:06.637643Z",
     "iopub.status.busy": "2025-01-07T14:54:06.637515Z",
     "iopub.status.idle": "2025-01-07T14:54:06.795103Z",
     "shell.execute_reply": "2025-01-07T14:54:06.794773Z"
    }
   },
   "outputs": [
    {
     "name": "stdout",
     "output_type": "stream",
     "text": [
      "Outcome        0   1\n",
      "Pregnancies         \n",
      "0             73  38\n",
      "1            106  29\n",
      "2             84  19\n",
      "3             48  27\n",
      "4             45  23\n",
      "5             36  21\n",
      "6             34  16\n",
      "7             20  25\n",
      "8             16  22\n",
      "9             10  18\n",
      "10            14  10\n",
      "11             4   7\n",
      "12             5   4\n",
      "13             5   5\n",
      "14             0   2\n",
      "15             0   1\n",
      "17             0   1\n"
     ]
    },
    {
     "data": {
      "image/png": "[encoded data removed]",
      "text/plain": [
       "<Figure size 1000x600 with 1 Axes>"
      ]
     },
     "metadata": {},
     "output_type": "display_data"
    }
   ],
   "source": [
    "# Comparing Diabetes frequency and DiabetesPedigreeFunction\n",
    "\n",
    "print(pd.crosstab(index=df.Pregnancies, columns=df.Outcome))\n",
    "\n",
    "# Create a new crosstab and base plot\n",
    "pd.crosstab(df.Pregnancies, df.Outcome).plot(kind=\"bar\", figsize=(10,6), color=[\"lightblue\", \"salmon\"])\n",
    "\n",
    "# Add attributes to the plot to make it more readable\n",
    "plt.title(\"Diabetes Frequency Per Pregnancy\")\n",
    "plt.xlabel(\"Number of Pregnancies\")\n",
    "plt.ylabel(\"Frequency\")\n",
    "plt.legend([\"Non-Diabetic\", \"Diabetic\"])\n",
    "plt.xticks(rotation = 0)\n",
    "plt.tight_layout()"
   ]
  },
  {
   "cell_type": "code",
   "execution_count": 13,
   "metadata": {
    "execution": {
     "iopub.execute_input": "2025-01-07T14:54:06.796754Z",
     "iopub.status.busy": "2025-01-07T14:54:06.796614Z",
     "iopub.status.idle": "2025-01-07T14:54:06.934745Z",
     "shell.execute_reply": "2025-01-07T14:54:06.934359Z"
    }
   },
   "outputs": [
    {
     "data": {
      "image/png": "[encoded data removed]",
      "text/plain": [
       "<Figure size 1000x600 with 1 Axes>"
      ]
     },
     "metadata": {},
     "output_type": "display_data"
    }
   ],
   "source": [
    "#Comparing Age and Glucose\n",
    "\n",
    "plt.figure(figsize=(10,6))\n",
    "\n",
    "# Scatter Plot for \"Disease\"\n",
    "plt.scatter(df.Age[df.Outcome==1], \n",
    "            df.Glucose[df.Outcome==1], \n",
    "            c=\"#ff7f0e\",  # CUD Orange\n",
    "            alpha=0.8,\n",
    "            edgecolor=\"black\",\n",
    "            linewidth=0.5) # define it as a scatter figure\n",
    "\n",
    "# Scatter Plot for \"No Disease\"\n",
    "plt.scatter(df.Age[df.Outcome==0], \n",
    "            df.Glucose[df.Outcome==0], \n",
    "            c=\"#1f77b4\",  # CUD Blue\n",
    "            alpha=0.8,\n",
    "            edgecolor=\"black\",\n",
    "            linewidth=0.5) # axis always come as (x, y)\n",
    "\n",
    "# Add some helpful info\n",
    "plt.title(\"Diabetes outcome in function of Age and Glucose\")\n",
    "plt.xlabel(\"Age\", fontsize=10)\n",
    "plt.ylabel(\"Glucose\", fontsize=10)\n",
    "\n",
    "plt.legend([\"Disease\", \"No Disease\"], fontsize=12)\n",
    "plt.xticks(fontsize=8)\n",
    "plt.yticks(fontsize=8)\n",
    "plt.grid(visible=True, linestyle=\"--\", linewidth=0.5, alpha=0.7)\n",
    "\n",
    "plt.tight_layout()\n",
    "\n",
    "plt.show()"
   ]
  },
  {
   "cell_type": "markdown",
   "metadata": {},
   "source": [
    "### 3.2 Histogram to check the distribution of the variables"
   ]
  },
  {
   "cell_type": "code",
   "execution_count": 14,
   "metadata": {
    "execution": {
     "iopub.execute_input": "2025-01-07T14:54:06.936558Z",
     "iopub.status.busy": "2025-01-07T14:54:06.936394Z",
     "iopub.status.idle": "2025-01-07T14:54:07.832536Z",
     "shell.execute_reply": "2025-01-07T14:54:07.832114Z"
    }
   },
   "outputs": [],
   "source": [
    "def save_histograms(df, columns, output_dir, bins=15, color='#1f77b4', figsize=(3, 2)):\n",
    "    \"\"\"    \n",
    "    Args:\n",
    "    - df (pd.DataFrame): DataFrame containing the data.\n",
    "    - columns (list): List of column names to plot.\n",
    "    - output_dir (str): Directory to save the images.\n",
    "    - bins (int): Number of bins for the histograms.\n",
    "    - color (str): Color of the histograms (color-blind friendly).\n",
    "    - figsize (tuple): Size of each figure (width, height).\n",
    "    \"\"\"\n",
    "    for col in columns:\n",
    "        plt.figure(figsize=figsize)\n",
    "        sns.histplot(\n",
    "            df[col],\n",
    "            bins=bins,\n",
    "            kde=False,\n",
    "            color=color,\n",
    "            edgecolor='black'\n",
    "        )\n",
    "        \n",
    "        # Remove axis labels\n",
    "        plt.xlabel(\"\")  # Remove x-axis label text\n",
    "        plt.ylabel(\"\")  # Remove y-axis label text\n",
    "        \n",
    "        # Add title\n",
    "        plt.title(col, fontsize=12)\n",
    "        \n",
    "        # Enable grid\n",
    "        plt.grid(visible=True, linestyle='--', linewidth=0.5, alpha=0.7)\n",
    "        \n",
    "        # Format layout\n",
    "        plt.tight_layout()\n",
    "        \n",
    "        # Save the figure\n",
    "        plt.savefig(f\"{output_dir}/{col}_histogram.png\", dpi=300, bbox_inches='tight')\n",
    "        plt.close()\n",
    "\n",
    "# List of columns to plot\n",
    "columns_to_plot = [\n",
    "    'Pregnancies', 'Glucose', 'BloodPressure', 'SkinThickness', 'Insulin', \n",
    "    'BMI', 'DiabetesPedigreeFunction', 'Age'\n",
    "]\n",
    "\n",
    "output_directory = os.path.join(project_dir, \"reports\", \"figures\", \"histograms\", \"diabetes\")\n",
    "os.makedirs(output_directory, exist_ok=True)\n",
    "\n",
    "# Call function to save histograms\n",
    "save_histograms(df, columns_to_plot, output_directory, bins=15,  color='#1f77b4', figsize=(3.5, 2.5))"
   ]
  },
  {
   "cell_type": "markdown",
   "metadata": {},
   "source": [
    "### 3.3 Correlation between independent variables"
   ]
  },
  {
   "cell_type": "code",
   "execution_count": 15,
   "metadata": {
    "execution": {
     "iopub.execute_input": "2025-01-07T14:54:07.834420Z",
     "iopub.status.busy": "2025-01-07T14:54:07.834265Z",
     "iopub.status.idle": "2025-01-07T14:54:07.841181Z",
     "shell.execute_reply": "2025-01-07T14:54:07.840872Z"
    }
   },
   "outputs": [
    {
     "data": {
      "text/html": [
       "<div>\n",
       "<style scoped>\n",
       "    .dataframe tbody tr th:only-of-type {\n",
       "        vertical-align: middle;\n",
       "    }\n",
       "\n",
       "    .dataframe tbody tr th {\n",
       "        vertical-align: top;\n",
       "    }\n",
       "\n",
       "    .dataframe thead th {\n",
       "        text-align: right;\n",
       "    }\n",
       "</style>\n",
       "<table border=\"1\" class=\"dataframe\">\n",
       "  <thead>\n",
       "    <tr style=\"text-align: right;\">\n",
       "      <th></th>\n",
       "      <th>Pregnancies</th>\n",
       "      <th>Glucose</th>\n",
       "      <th>BloodPressure</th>\n",
       "      <th>SkinThickness</th>\n",
       "      <th>Insulin</th>\n",
       "      <th>BMI</th>\n",
       "      <th>DiabetesPedigreeFunction</th>\n",
       "      <th>Age</th>\n",
       "    </tr>\n",
       "  </thead>\n",
       "  <tbody>\n",
       "    <tr>\n",
       "      <th>Pregnancies</th>\n",
       "      <td>1.000000</td>\n",
       "      <td>0.129459</td>\n",
       "      <td>0.141282</td>\n",
       "      <td>-0.081672</td>\n",
       "      <td>-0.073535</td>\n",
       "      <td>0.017683</td>\n",
       "      <td>-0.033523</td>\n",
       "      <td>0.544341</td>\n",
       "    </tr>\n",
       "    <tr>\n",
       "      <th>Glucose</th>\n",
       "      <td>0.129459</td>\n",
       "      <td>1.000000</td>\n",
       "      <td>0.152590</td>\n",
       "      <td>0.057328</td>\n",
       "      <td>0.331357</td>\n",
       "      <td>0.221071</td>\n",
       "      <td>0.137337</td>\n",
       "      <td>0.263514</td>\n",
       "    </tr>\n",
       "    <tr>\n",
       "      <th>BloodPressure</th>\n",
       "      <td>0.141282</td>\n",
       "      <td>0.152590</td>\n",
       "      <td>1.000000</td>\n",
       "      <td>0.207371</td>\n",
       "      <td>0.088933</td>\n",
       "      <td>0.281805</td>\n",
       "      <td>0.041265</td>\n",
       "      <td>0.239528</td>\n",
       "    </tr>\n",
       "    <tr>\n",
       "      <th>SkinThickness</th>\n",
       "      <td>-0.081672</td>\n",
       "      <td>0.057328</td>\n",
       "      <td>0.207371</td>\n",
       "      <td>1.000000</td>\n",
       "      <td>0.436783</td>\n",
       "      <td>0.392573</td>\n",
       "      <td>0.183928</td>\n",
       "      <td>-0.113970</td>\n",
       "    </tr>\n",
       "    <tr>\n",
       "      <th>Insulin</th>\n",
       "      <td>-0.073535</td>\n",
       "      <td>0.331357</td>\n",
       "      <td>0.088933</td>\n",
       "      <td>0.436783</td>\n",
       "      <td>1.000000</td>\n",
       "      <td>0.197859</td>\n",
       "      <td>0.185071</td>\n",
       "      <td>-0.042163</td>\n",
       "    </tr>\n",
       "    <tr>\n",
       "      <th>BMI</th>\n",
       "      <td>0.017683</td>\n",
       "      <td>0.221071</td>\n",
       "      <td>0.281805</td>\n",
       "      <td>0.392573</td>\n",
       "      <td>0.197859</td>\n",
       "      <td>1.000000</td>\n",
       "      <td>0.140647</td>\n",
       "      <td>0.036242</td>\n",
       "    </tr>\n",
       "    <tr>\n",
       "      <th>DiabetesPedigreeFunction</th>\n",
       "      <td>-0.033523</td>\n",
       "      <td>0.137337</td>\n",
       "      <td>0.041265</td>\n",
       "      <td>0.183928</td>\n",
       "      <td>0.185071</td>\n",
       "      <td>0.140647</td>\n",
       "      <td>1.000000</td>\n",
       "      <td>0.033561</td>\n",
       "    </tr>\n",
       "    <tr>\n",
       "      <th>Age</th>\n",
       "      <td>0.544341</td>\n",
       "      <td>0.263514</td>\n",
       "      <td>0.239528</td>\n",
       "      <td>-0.113970</td>\n",
       "      <td>-0.042163</td>\n",
       "      <td>0.036242</td>\n",
       "      <td>0.033561</td>\n",
       "      <td>1.000000</td>\n",
       "    </tr>\n",
       "  </tbody>\n",
       "</table>\n",
       "</div>"
      ],
      "text/plain": [
       "                          Pregnancies   Glucose  BloodPressure  SkinThickness  \\\n",
       "Pregnancies                  1.000000  0.129459       0.141282      -0.081672   \n",
       "Glucose                      0.129459  1.000000       0.152590       0.057328   \n",
       "BloodPressure                0.141282  0.152590       1.000000       0.207371   \n",
       "SkinThickness               -0.081672  0.057328       0.207371       1.000000   \n",
       "Insulin                     -0.073535  0.331357       0.088933       0.436783   \n",
       "BMI                          0.017683  0.221071       0.281805       0.392573   \n",
       "DiabetesPedigreeFunction    -0.033523  0.137337       0.041265       0.183928   \n",
       "Age                          0.544341  0.263514       0.239528      -0.113970   \n",
       "\n",
       "                           Insulin       BMI  DiabetesPedigreeFunction  \\\n",
       "Pregnancies              -0.073535  0.017683                 -0.033523   \n",
       "Glucose                   0.331357  0.221071                  0.137337   \n",
       "BloodPressure             0.088933  0.281805                  0.041265   \n",
       "SkinThickness             0.436783  0.392573                  0.183928   \n",
       "Insulin                   1.000000  0.197859                  0.185071   \n",
       "BMI                       0.197859  1.000000                  0.140647   \n",
       "DiabetesPedigreeFunction  0.185071  0.140647                  1.000000   \n",
       "Age                      -0.042163  0.036242                  0.033561   \n",
       "\n",
       "                               Age  \n",
       "Pregnancies               0.544341  \n",
       "Glucose                   0.263514  \n",
       "BloodPressure             0.239528  \n",
       "SkinThickness            -0.113970  \n",
       "Insulin                  -0.042163  \n",
       "BMI                       0.036242  \n",
       "DiabetesPedigreeFunction  0.033561  \n",
       "Age                       1.000000  "
      ]
     },
     "execution_count": 15,
     "metadata": {},
     "output_type": "execute_result"
    }
   ],
   "source": [
    "# Correlation between our independent variables\n",
    "X = df.drop(columns=['Outcome'])\n",
    "y = df['Outcome'].values\n",
    "\n",
    "corr_matrix = X.corr()\n",
    "corr_matrix "
   ]
  },
  {
   "cell_type": "code",
   "execution_count": 24,
   "metadata": {
    "execution": {
     "iopub.execute_input": "2025-01-07T14:54:07.842636Z",
     "iopub.status.busy": "2025-01-07T14:54:07.842511Z",
     "iopub.status.idle": "2025-01-07T14:54:08.024960Z",
     "shell.execute_reply": "2025-01-07T14:54:08.024620Z"
    }
   },
   "outputs": [
    {
     "data": {
      "image/png": "[encoded data removed]",
      "text/plain": [
       "<Figure size 800x600 with 2 Axes>"
      ]
     },
     "metadata": {},
     "output_type": "display_data"
    }
   ],
   "source": [
    "\n",
    "plt.figure(figsize=(8, 6))\n",
    "sns.set(font_scale=1.2)\n",
    "\n",
    "# Create shorter labels mapping\n",
    "label_map = {\n",
    "    'DiabetesPedigreeFunction': 'Diabetes\\nPedigree',\n",
    "    'BloodPressure': 'Blood\\nPressure',\n",
    "    'SkinThickness': 'Skin\\nThickness' \n",
    "}\n",
    "\n",
    "# Create new labels while keeping others unchanged\n",
    "new_labels = [label_map.get(col, col) for col in corr_matrix.columns]\n",
    "\n",
    "# Create heatmap with new labels\n",
    "sns.heatmap(\n",
    "    corr_matrix,\n",
    "    annot=True,\n",
    "    linewidths=0.5,\n",
    "    fmt=\".2f\",\n",
    "    cmap=\"coolwarm\",\n",
    "    annot_kws={\"size\": 11.5},\n",
    "    xticklabels=new_labels,\n",
    "    yticklabels=new_labels\n",
    ")\n",
    "\n",
    "# Adjust label positioning\n",
    "plt.xticks(rotation=45, ha=\"right\")\n",
    "plt.yticks(rotation=0)\n",
    "\n",
    "# Adjust layout to prevent label cutoff\n",
    "plt.tight_layout()\n",
    "plt.show()"
   ]
  },
  {
   "cell_type": "markdown",
   "metadata": {},
   "source": [
    "# 4. Modeling"
   ]
  },
  {
   "cell_type": "code",
   "execution_count": 17,
   "metadata": {
    "execution": {
     "iopub.execute_input": "2025-01-07T14:54:08.026659Z",
     "iopub.status.busy": "2025-01-07T14:54:08.026497Z",
     "iopub.status.idle": "2025-01-07T14:54:08.028958Z",
     "shell.execute_reply": "2025-01-07T14:54:08.028651Z"
    }
   },
   "outputs": [],
   "source": [
    "# Prepare the features and target variables.\n",
    "\n",
    "X = df.drop(labels=\"Outcome\", axis=1)\n",
    "\n",
    "# Target variable (in the form of a NumPy array)\n",
    "y = df.Outcome.to_numpy() "
   ]
  },
  {
   "cell_type": "markdown",
   "metadata": {},
   "source": [
    "### 4.1 Creating a training and test split"
   ]
  },
  {
   "cell_type": "code",
   "execution_count": 31,
   "metadata": {
    "execution": {
     "iopub.execute_input": "2025-01-07T14:54:08.030554Z",
     "iopub.status.busy": "2025-01-07T14:54:08.030409Z",
     "iopub.status.idle": "2025-01-07T14:54:08.034877Z",
     "shell.execute_reply": "2025-01-07T14:54:08.034552Z"
    }
   },
   "outputs": [],
   "source": [
    "# Split into train & test set\n",
    "# Random seed for reproducible results\n",
    "np.random.seed(42)\n",
    "X_train, X_test, y_train, y_test = train_test_split(X, # independent variables \n",
    "                                                    y, # dependent variable\n",
    "                                                    test_size = 0.2, # percentage of data to use for test set\n",
    "                                                    stratify=y) # keep the same proportion of target as the original dataset instead of random\n",
    "\n",
    "X_train_final, X_val, y_train_final, y_val = train_test_split(X_train, y_train, test_size=0.2, stratify=y_train)\n"
   ]
  },
  {
   "cell_type": "code",
   "execution_count": 32,
   "metadata": {
    "execution": {
     "iopub.execute_input": "2025-01-07T14:54:08.036305Z",
     "iopub.status.busy": "2025-01-07T14:54:08.036189Z",
     "iopub.status.idle": "2025-01-07T14:54:08.041469Z",
     "shell.execute_reply": "2025-01-07T14:54:08.041183Z"
    }
   },
   "outputs": [
    {
     "name": "stdout",
     "output_type": "stream",
     "text": [
      "(614, 8)\n"
     ]
    },
    {
     "data": {
      "text/html": [
       "<div>\n",
       "<style scoped>\n",
       "    .dataframe tbody tr th:only-of-type {\n",
       "        vertical-align: middle;\n",
       "    }\n",
       "\n",
       "    .dataframe tbody tr th {\n",
       "        vertical-align: top;\n",
       "    }\n",
       "\n",
       "    .dataframe thead th {\n",
       "        text-align: right;\n",
       "    }\n",
       "</style>\n",
       "<table border=\"1\" class=\"dataframe\">\n",
       "  <thead>\n",
       "    <tr style=\"text-align: right;\">\n",
       "      <th></th>\n",
       "      <th>Pregnancies</th>\n",
       "      <th>Glucose</th>\n",
       "      <th>BloodPressure</th>\n",
       "      <th>SkinThickness</th>\n",
       "      <th>Insulin</th>\n",
       "      <th>BMI</th>\n",
       "      <th>DiabetesPedigreeFunction</th>\n",
       "      <th>Age</th>\n",
       "    </tr>\n",
       "  </thead>\n",
       "  <tbody>\n",
       "    <tr>\n",
       "      <th>353</th>\n",
       "      <td>1</td>\n",
       "      <td>90</td>\n",
       "      <td>62</td>\n",
       "      <td>12</td>\n",
       "      <td>43</td>\n",
       "      <td>27.2</td>\n",
       "      <td>0.580</td>\n",
       "      <td>24</td>\n",
       "    </tr>\n",
       "    <tr>\n",
       "      <th>711</th>\n",
       "      <td>5</td>\n",
       "      <td>126</td>\n",
       "      <td>78</td>\n",
       "      <td>27</td>\n",
       "      <td>22</td>\n",
       "      <td>29.6</td>\n",
       "      <td>0.439</td>\n",
       "      <td>40</td>\n",
       "    </tr>\n",
       "    <tr>\n",
       "      <th>373</th>\n",
       "      <td>2</td>\n",
       "      <td>105</td>\n",
       "      <td>58</td>\n",
       "      <td>40</td>\n",
       "      <td>94</td>\n",
       "      <td>34.9</td>\n",
       "      <td>0.225</td>\n",
       "      <td>25</td>\n",
       "    </tr>\n",
       "    <tr>\n",
       "      <th>46</th>\n",
       "      <td>1</td>\n",
       "      <td>146</td>\n",
       "      <td>56</td>\n",
       "      <td>0</td>\n",
       "      <td>0</td>\n",
       "      <td>29.7</td>\n",
       "      <td>0.564</td>\n",
       "      <td>29</td>\n",
       "    </tr>\n",
       "    <tr>\n",
       "      <th>682</th>\n",
       "      <td>0</td>\n",
       "      <td>95</td>\n",
       "      <td>64</td>\n",
       "      <td>39</td>\n",
       "      <td>105</td>\n",
       "      <td>44.6</td>\n",
       "      <td>0.366</td>\n",
       "      <td>22</td>\n",
       "    </tr>\n",
       "  </tbody>\n",
       "</table>\n",
       "</div>"
      ],
      "text/plain": [
       "     Pregnancies  Glucose  BloodPressure  SkinThickness  Insulin   BMI  \\\n",
       "353            1       90             62             12       43  27.2   \n",
       "711            5      126             78             27       22  29.6   \n",
       "373            2      105             58             40       94  34.9   \n",
       "46             1      146             56              0        0  29.7   \n",
       "682            0       95             64             39      105  44.6   \n",
       "\n",
       "     DiabetesPedigreeFunction  Age  \n",
       "353                     0.580   24  \n",
       "711                     0.439   40  \n",
       "373                     0.225   25  \n",
       "46                      0.564   29  \n",
       "682                     0.366   22  "
      ]
     },
     "execution_count": 32,
     "metadata": {},
     "output_type": "execute_result"
    }
   ],
   "source": [
    "# Training data of independent variable\n",
    "print(X_train.shape)\n",
    "X_train.head()"
   ]
  },
  {
   "cell_type": "code",
   "execution_count": 20,
   "metadata": {
    "execution": {
     "iopub.execute_input": "2025-01-07T14:54:08.042937Z",
     "iopub.status.busy": "2025-01-07T14:54:08.042795Z",
     "iopub.status.idle": "2025-01-07T14:54:08.046142Z",
     "shell.execute_reply": "2025-01-07T14:54:08.045823Z"
    }
   },
   "outputs": [
    {
     "data": {
      "text/plain": [
       "(array([0, 0, 0, 0, 0, 1, 1, 1, 0, 0, 1, 0, 0, 0, 1, 0, 1, 0, 0, 0, 0, 0,\n",
       "        1, 1, 0, 0, 0, 0, 0, 1, 0, 0, 1, 1, 0, 0, 1, 0, 1, 1, 1, 0, 1, 1,\n",
       "        0, 1, 0, 0, 0, 1, 1, 0, 0, 1, 1, 0, 1, 0, 0, 1, 0, 0, 0, 1, 1, 1,\n",
       "        1, 1, 1, 0, 0, 1, 1, 0, 1, 1, 0, 1, 1, 1, 0, 0, 0, 0, 0, 0, 0, 0,\n",
       "        0, 0, 1, 1, 0, 0, 0, 0, 0, 1, 0, 1, 0, 0, 0, 0, 0, 1, 0, 0, 0, 0,\n",
       "        0, 0, 0, 1, 0, 1, 0, 0, 0, 0, 0, 0, 0, 1, 0, 1, 0, 0, 0, 1, 0, 0,\n",
       "        0, 0, 0, 1, 1, 0, 1, 1, 0, 0, 0, 0, 1, 0, 0, 0, 0, 0, 0, 0, 1, 0,\n",
       "        1, 0, 1, 0, 1, 0, 0, 0, 0, 1, 0, 0, 0, 0, 0, 1, 1, 0, 0, 0, 0, 1,\n",
       "        1, 0, 0, 0, 1, 1, 0, 0, 0, 0, 0, 1, 0, 0, 0, 1, 1, 1, 0, 0, 0, 0,\n",
       "        1, 1, 0, 0, 1, 0, 0, 0, 1, 0, 0, 0, 0, 0, 0, 0, 0, 0, 1, 0, 1, 1,\n",
       "        0, 0, 1, 0, 0, 1, 1, 0, 1, 0, 0, 0, 1, 0, 0, 0, 0, 1, 1, 0, 0, 0,\n",
       "        0, 0, 1, 0, 0, 1, 0, 0, 1, 1, 0, 1, 0, 0, 1, 0, 1, 0, 1, 0, 0, 1,\n",
       "        0, 0, 0, 0, 1, 0, 1, 0, 0, 0, 0, 0, 1, 0, 0, 1, 1, 0, 0, 0, 0, 0,\n",
       "        0, 1, 1, 1, 0, 0, 0, 0, 1, 1, 0, 0, 0, 0, 1, 1, 1, 1, 0, 1, 1, 0,\n",
       "        0, 1, 1, 1, 1, 1, 0, 0, 0, 1, 0, 0, 0, 0, 0, 0, 0, 1, 0, 0, 0, 0,\n",
       "        0, 1, 0, 0, 0, 1, 1, 1, 0, 0, 0, 0, 0, 0, 1, 0, 0, 1, 0, 1, 0, 0,\n",
       "        0, 0, 1, 0, 1, 1, 1, 0, 1, 1, 1, 0, 1, 0, 1, 0, 0, 0, 0, 0, 1, 0,\n",
       "        1, 0, 0, 0, 0, 0, 0, 0, 0, 0, 0, 0, 1, 0, 0, 1, 1, 0, 0, 0, 0, 1,\n",
       "        0, 0, 1, 0, 1, 1, 0, 1, 0, 0, 1, 0, 0, 0, 1, 1, 0, 1, 1, 1, 0, 0,\n",
       "        1, 0, 1, 0, 1, 0, 0, 0, 0, 0, 0, 0, 0, 1, 1, 0, 0, 1, 0, 0, 0, 0,\n",
       "        0, 0, 1, 0, 0, 1, 1, 0, 1, 1, 0, 0, 0, 0, 0, 0, 1, 0, 0, 1, 0, 1,\n",
       "        0, 1, 1, 1, 0, 1, 0, 0, 1, 0, 0, 0, 1, 0, 0, 0, 0, 0, 1, 1, 0, 0,\n",
       "        0, 1, 0, 0, 1, 1, 0, 1, 0, 0, 1, 0, 0, 0, 1, 1, 0, 0, 1, 1, 0, 0,\n",
       "        0, 0, 0, 0, 1, 0, 0, 0, 1, 0, 1, 1, 1, 0, 0, 0, 0, 0, 0, 0, 0, 0,\n",
       "        0, 0, 0, 0, 1, 0, 1, 0, 0, 1, 0, 1, 1, 1, 1, 0, 1, 1, 0, 0, 1, 0,\n",
       "        0, 0, 1, 0, 1, 0, 0, 0, 0, 0, 1, 0, 1, 0, 1, 0, 1, 0, 0, 0, 0, 1,\n",
       "        0, 1, 1, 1, 0, 0, 0, 1, 1, 0, 0, 1, 1, 0, 1, 0, 1, 0, 0, 0, 1, 0,\n",
       "        0, 0, 0, 0, 0, 1, 0, 0, 1, 0, 0, 0, 0, 1, 1, 1, 0, 0, 1, 0]),\n",
       " 614)"
      ]
     },
     "execution_count": 20,
     "metadata": {},
     "output_type": "execute_result"
    }
   ],
   "source": [
    "# Training data of dependent variable\n",
    "y_train, len(y_train)"
   ]
  },
  {
   "cell_type": "code",
   "execution_count": 21,
   "metadata": {
    "execution": {
     "iopub.execute_input": "2025-01-07T14:54:08.047551Z",
     "iopub.status.busy": "2025-01-07T14:54:08.047437Z",
     "iopub.status.idle": "2025-01-07T14:54:08.052331Z",
     "shell.execute_reply": "2025-01-07T14:54:08.052016Z"
    }
   },
   "outputs": [
    {
     "data": {
      "text/html": [
       "<div>\n",
       "<style scoped>\n",
       "    .dataframe tbody tr th:only-of-type {\n",
       "        vertical-align: middle;\n",
       "    }\n",
       "\n",
       "    .dataframe tbody tr th {\n",
       "        vertical-align: top;\n",
       "    }\n",
       "\n",
       "    .dataframe thead th {\n",
       "        text-align: right;\n",
       "    }\n",
       "</style>\n",
       "<table border=\"1\" class=\"dataframe\">\n",
       "  <thead>\n",
       "    <tr style=\"text-align: right;\">\n",
       "      <th></th>\n",
       "      <th>Pregnancies</th>\n",
       "      <th>Glucose</th>\n",
       "      <th>BloodPressure</th>\n",
       "      <th>SkinThickness</th>\n",
       "      <th>Insulin</th>\n",
       "      <th>BMI</th>\n",
       "      <th>DiabetesPedigreeFunction</th>\n",
       "      <th>Age</th>\n",
       "    </tr>\n",
       "  </thead>\n",
       "  <tbody>\n",
       "    <tr>\n",
       "      <th>44</th>\n",
       "      <td>7</td>\n",
       "      <td>159</td>\n",
       "      <td>64</td>\n",
       "      <td>0</td>\n",
       "      <td>0</td>\n",
       "      <td>27.4</td>\n",
       "      <td>0.294</td>\n",
       "      <td>40</td>\n",
       "    </tr>\n",
       "    <tr>\n",
       "      <th>672</th>\n",
       "      <td>10</td>\n",
       "      <td>68</td>\n",
       "      <td>106</td>\n",
       "      <td>23</td>\n",
       "      <td>49</td>\n",
       "      <td>35.5</td>\n",
       "      <td>0.285</td>\n",
       "      <td>47</td>\n",
       "    </tr>\n",
       "    <tr>\n",
       "      <th>700</th>\n",
       "      <td>2</td>\n",
       "      <td>122</td>\n",
       "      <td>76</td>\n",
       "      <td>27</td>\n",
       "      <td>200</td>\n",
       "      <td>35.9</td>\n",
       "      <td>0.483</td>\n",
       "      <td>26</td>\n",
       "    </tr>\n",
       "    <tr>\n",
       "      <th>630</th>\n",
       "      <td>7</td>\n",
       "      <td>114</td>\n",
       "      <td>64</td>\n",
       "      <td>0</td>\n",
       "      <td>0</td>\n",
       "      <td>27.4</td>\n",
       "      <td>0.732</td>\n",
       "      <td>34</td>\n",
       "    </tr>\n",
       "    <tr>\n",
       "      <th>81</th>\n",
       "      <td>2</td>\n",
       "      <td>74</td>\n",
       "      <td>0</td>\n",
       "      <td>0</td>\n",
       "      <td>0</td>\n",
       "      <td>0.0</td>\n",
       "      <td>0.102</td>\n",
       "      <td>22</td>\n",
       "    </tr>\n",
       "  </tbody>\n",
       "</table>\n",
       "</div>"
      ],
      "text/plain": [
       "     Pregnancies  Glucose  BloodPressure  SkinThickness  Insulin   BMI  \\\n",
       "44             7      159             64              0        0  27.4   \n",
       "672           10       68            106             23       49  35.5   \n",
       "700            2      122             76             27      200  35.9   \n",
       "630            7      114             64              0        0  27.4   \n",
       "81             2       74              0              0        0   0.0   \n",
       "\n",
       "     DiabetesPedigreeFunction  Age  \n",
       "44                      0.294   40  \n",
       "672                     0.285   47  \n",
       "700                     0.483   26  \n",
       "630                     0.732   34  \n",
       "81                      0.102   22  "
      ]
     },
     "execution_count": 21,
     "metadata": {},
     "output_type": "execute_result"
    }
   ],
   "source": [
    "# Testing data of independent variable\n",
    "X_test.head()"
   ]
  },
  {
   "cell_type": "code",
   "execution_count": 22,
   "metadata": {
    "execution": {
     "iopub.execute_input": "2025-01-07T14:54:08.053747Z",
     "iopub.status.busy": "2025-01-07T14:54:08.053604Z",
     "iopub.status.idle": "2025-01-07T14:54:08.056413Z",
     "shell.execute_reply": "2025-01-07T14:54:08.056130Z"
    }
   },
   "outputs": [
    {
     "data": {
      "text/plain": [
       "(array([0, 0, 0, 1, 0, 0, 1, 1, 0, 0, 0, 1, 0, 0, 1, 1, 0, 0, 0, 0, 0, 1,\n",
       "        1, 1, 0, 0, 1, 0, 1, 0, 0, 0, 0, 0, 0, 1, 0, 0, 1, 0, 0, 0, 0, 1,\n",
       "        0, 1, 1, 0, 1, 1, 0, 1, 0, 0, 0, 0, 1, 0, 1, 0, 1, 0, 0, 1, 0, 0,\n",
       "        1, 0, 0, 1, 1, 0, 0, 1, 0, 1, 0, 1, 0, 0, 0, 0, 0, 0, 0, 0, 1, 1,\n",
       "        0, 0, 1, 1, 0, 1, 1, 1, 0, 0, 1, 0, 0, 0, 0, 0, 1, 0, 1, 0, 0, 0,\n",
       "        0, 1, 1, 1, 1, 0, 0, 0, 1, 0, 0, 1, 0, 0, 1, 1, 1, 0, 0, 0, 0, 0,\n",
       "        0, 1, 0, 0, 0, 0, 0, 0, 0, 1, 0, 0, 0, 1, 1, 1, 0, 0, 0, 0, 1, 0]),\n",
       " 154)"
      ]
     },
     "execution_count": 22,
     "metadata": {},
     "output_type": "execute_result"
    }
   ],
   "source": [
    "# Testing data of dependent variable\n",
    "y_test, len(y_test)"
   ]
  },
  {
   "cell_type": "markdown",
   "metadata": {},
   "source": [
    "### 4.2 Choosing a model"
   ]
  },
  {
   "cell_type": "markdown",
   "metadata": {},
   "source": [
    "We'll start by trying the following models and comparing their results.\n",
    "\n",
    "1. K-Nearest Neighbors - sklearn.neighbors.KNeighboursClassifier()\n",
    "2. Logistic Regression - sklearn.linear_model.LogisticRegression()\n",
    "3. RandomForest - sklearn.ensemble.RandomForestClassifier()\n",
    "4. Decision Tree: sklearn.tree.DecisionTreeClassifier()\n",
    "5. SVC: sklearn.svm.SVC()\n",
    "6. ANN: MLPClassifier()\n",
    "7. Naive Bayes (Gaussian): sklearn.naive_bayes.GaussianNB()\n",
    "8. Naive Bayes (Bernoulli): sklearn.naive_bayes.BernoulliNB()"
   ]
  },
  {
   "cell_type": "code",
   "execution_count": 23,
   "metadata": {
    "execution": {
     "iopub.execute_input": "2025-01-07T14:54:08.057936Z",
     "iopub.status.busy": "2025-01-07T14:54:08.057797Z",
     "iopub.status.idle": "2025-01-07T14:54:08.061086Z",
     "shell.execute_reply": "2025-01-07T14:54:08.060715Z"
    }
   },
   "outputs": [],
   "source": [
    "#Put models in a dictionary\n",
    "models = {\"KNN\": KNeighborsClassifier(),\n",
    "          \"Logistic Regression\": LogisticRegression(max_iter=2000, C=1.0), # Note: if you see a warning about \"convergence not reached\", you can increase `max_iter` until convergence is reached\n",
    "          \"Random Forest\": RandomForestClassifier(),\n",
    "          \"Decision Tree\": DecisionTreeClassifier(),\n",
    "          \"SVC\": SVC(),\n",
    "          \"ANN\": MLPClassifier(max_iter=1000),\n",
    "          \"Naive Bayes (Gaussian)\": GaussianNB(),\n",
    "          \"Naive Bayes (Bernoulli)\": BernoulliNB()}\n",
    "\n",
    "# Create function to fit and score models\n",
    "def fit_and_score(models, X_train, X_test, y_train, y_test):\n",
    "    \n",
    "    # Fits and evaluates given machine learning models.\n",
    "    # models : a dict of different Scikit-Learn machine learning models\n",
    "    # X_train : training data\n",
    "    # X_test : testing data\n",
    "    # y_train : labels assosciated with training data\n",
    "    # y_test : labels assosciated with test data\n",
    "    \n",
    "    # Random seed for reproducible results\n",
    "    np.random.seed(42)\n",
    "    # Make a list to keep model scores\n",
    "    model_scores = {}\n",
    "    # Loop through models\n",
    "    for name, model in models.items():\n",
    "        # Fit the model to the data\n",
    "        model.fit(X_train, y_train)\n",
    "        # Evaluate the model and append its score to model_scores\n",
    "        model_scores[name] = model.score(X_test, y_test)\n",
    "    return model_scores"
   ]
  },
  {
   "cell_type": "code",
   "execution_count": 24,
   "metadata": {
    "execution": {
     "iopub.execute_input": "2025-01-07T14:54:08.062468Z",
     "iopub.status.busy": "2025-01-07T14:54:08.062359Z",
     "iopub.status.idle": "2025-01-07T14:54:08.312738Z",
     "shell.execute_reply": "2025-01-07T14:54:08.312416Z"
    }
   },
   "outputs": [
    {
     "data": {
      "text/plain": [
       "{'KNN': 0.6688311688311688,\n",
       " 'Logistic Regression': 0.7142857142857143,\n",
       " 'Random Forest': 0.7727272727272727,\n",
       " 'Decision Tree': 0.7337662337662337,\n",
       " 'SVC': 0.7207792207792207,\n",
       " 'ANN': 0.6753246753246753,\n",
       " 'Naive Bayes (Gaussian)': 0.7077922077922078,\n",
       " 'Naive Bayes (Bernoulli)': 0.6493506493506493}"
      ]
     },
     "execution_count": 24,
     "metadata": {},
     "output_type": "execute_result"
    }
   ],
   "source": [
    "model_scores = fit_and_score(models=models, \n",
    "                             X_train=X_train, \n",
    "                             X_test=X_test, \n",
    "                             y_train=y_train, \n",
    "                             y_test=y_test)\n",
    "model_scores"
   ]
  },
  {
   "cell_type": "code",
   "execution_count": 25,
   "metadata": {
    "execution": {
     "iopub.execute_input": "2025-01-07T14:54:08.314182Z",
     "iopub.status.busy": "2025-01-07T14:54:08.314071Z",
     "iopub.status.idle": "2025-01-07T14:54:08.340310Z",
     "shell.execute_reply": "2025-01-07T14:54:08.340004Z"
    }
   },
   "outputs": [
    {
     "data": {
      "text/plain": [
       "{'KNN': 0.6688311688311688,\n",
       " 'Logistic Regression': 0.7142857142857143,\n",
       " 'Random Forest': 0.7727272727272727,\n",
       " 'Decision Tree': 0.7337662337662337,\n",
       " 'SVC': 0.7207792207792207,\n",
       " 'ANN': 0.6753246753246753,\n",
       " 'Naive Bayes (Gaussian)': 0.7077922077922078,\n",
       " 'Naive Bayes (Bernoulli)': 0.6493506493506493}"
      ]
     },
     "execution_count": 25,
     "metadata": {},
     "output_type": "execute_result"
    }
   ],
   "source": [
    "recall_scores = {\n",
    "    name: recall_score(y_test, model.predict(X_test), average='weighted')\n",
    "    for name, model in models.items()\n",
    "}\n",
    "\n",
    "recall_scores"
   ]
  },
  {
   "cell_type": "code",
   "execution_count": 26,
   "metadata": {
    "execution": {
     "iopub.execute_input": "2025-01-07T14:54:08.341698Z",
     "iopub.status.busy": "2025-01-07T14:54:08.341579Z",
     "iopub.status.idle": "2025-01-07T14:54:08.367709Z",
     "shell.execute_reply": "2025-01-07T14:54:08.367422Z"
    }
   },
   "outputs": [
    {
     "data": {
      "text/plain": [
       "{'KNN': 0.6622493153105398,\n",
       " 'Logistic Regression': 0.7064642282033586,\n",
       " 'Random Forest': 0.7676396997497915,\n",
       " 'Decision Tree': 0.7250141163184641,\n",
       " 'SVC': 0.7106187929717341,\n",
       " 'ANN': 0.6843879524730588,\n",
       " 'Naive Bayes (Gaussian)': 0.7178798638343852,\n",
       " 'Naive Bayes (Bernoulli)': 0.6037157287157287}"
      ]
     },
     "execution_count": 26,
     "metadata": {},
     "output_type": "execute_result"
    }
   ],
   "source": [
    "precision_scores = {\n",
    "    name: precision_score(y_test, model.predict(X_test), average='weighted')\n",
    "    for name, model in models.items()\n",
    "}\n",
    "precision_scores\n"
   ]
  },
  {
   "cell_type": "markdown",
   "metadata": {},
   "source": [
    "### 4.3 Comparing the results of several models"
   ]
  },
  {
   "cell_type": "code",
   "execution_count": 27,
   "metadata": {
    "execution": {
     "iopub.execute_input": "2025-01-07T14:54:08.369229Z",
     "iopub.status.busy": "2025-01-07T14:54:08.369113Z",
     "iopub.status.idle": "2025-01-07T14:54:08.448927Z",
     "shell.execute_reply": "2025-01-07T14:54:08.448608Z"
    }
   },
   "outputs": [
    {
     "data": {
      "image/png": "[encoded data removed]",
      "text/plain": [
       "<Figure size 640x480 with 1 Axes>"
      ]
     },
     "metadata": {},
     "output_type": "display_data"
    }
   ],
   "source": [
    "\n",
    "model_compare = pd.DataFrame(model_scores, index=['accuracy'])\n",
    "model_compare.T.plot.bar()\n",
    "\n",
    "plt.xticks(rotation=90, ha='center')\n",
    "\n",
    "# Set y-axis limits and format to percentage\n",
    "plt.ylim(0, 1)\n",
    "plt.gca().yaxis.set_major_formatter(FuncFormatter(lambda y, _: f'{y*100:.0f}%'))\n",
    "\n",
    "plt.gca().get_legend().remove()\n"
   ]
  },
  {
   "cell_type": "markdown",
   "metadata": {},
   "source": [
    "#### 4.3.1 Some more exaluations"
   ]
  },
  {
   "cell_type": "code",
   "execution_count": 28,
   "metadata": {
    "execution": {
     "iopub.execute_input": "2025-01-07T14:54:08.450630Z",
     "iopub.status.busy": "2025-01-07T14:54:08.450476Z",
     "iopub.status.idle": "2025-01-07T14:54:08.476021Z",
     "shell.execute_reply": "2025-01-07T14:54:08.475720Z"
    }
   },
   "outputs": [],
   "source": [
    "f1_scores = {\n",
    "    name: f1_score(y_test, model.predict(X_test), average='weighted')\n",
    "    for name, model in models.items()\n",
    "}"
   ]
  },
  {
   "cell_type": "code",
   "execution_count": 29,
   "metadata": {
    "execution": {
     "iopub.execute_input": "2025-01-07T14:54:08.477442Z",
     "iopub.status.busy": "2025-01-07T14:54:08.477327Z",
     "iopub.status.idle": "2025-01-07T14:54:08.498498Z",
     "shell.execute_reply": "2025-01-07T14:54:08.498202Z"
    }
   },
   "outputs": [],
   "source": [
    "specificity_scores = {}\n",
    "for name, model in models.items():\n",
    "    cm = confusion_matrix(y_test, model.predict(X_test))\n",
    "    tn = cm[0][0]\n",
    "    fp = cm[0][1]\n",
    "    specificity = tn / (tn + fp) if (tn + fp) > 0 else 0\n",
    "    specificity_scores[name] = specificity"
   ]
  },
  {
   "cell_type": "code",
   "execution_count": 30,
   "metadata": {
    "execution": {
     "iopub.execute_input": "2025-01-07T14:54:08.499968Z",
     "iopub.status.busy": "2025-01-07T14:54:08.499849Z",
     "iopub.status.idle": "2025-01-07T14:54:08.502047Z",
     "shell.execute_reply": "2025-01-07T14:54:08.501738Z"
    }
   },
   "outputs": [],
   "source": [
    "classification_error_scores = {\n",
    "    name: 1 - accuracy\n",
    "    for name, accuracy in model_scores.items()\n",
    "}"
   ]
  },
  {
   "cell_type": "code",
   "execution_count": 31,
   "metadata": {
    "execution": {
     "iopub.execute_input": "2025-01-07T14:54:08.503440Z",
     "iopub.status.busy": "2025-01-07T14:54:08.503324Z",
     "iopub.status.idle": "2025-01-07T14:54:08.548913Z",
     "shell.execute_reply": "2025-01-07T14:54:08.548589Z"
    }
   },
   "outputs": [
    {
     "data": {
      "text/html": [
       "<style type=\"text/css\">\n",
       "</style>\n",
       "<table id=\"T_26c3b\">\n",
       "  <thead>\n",
       "    <tr>\n",
       "      <th class=\"blank level0\" >&nbsp;</th>\n",
       "      <th id=\"T_26c3b_level0_col0\" class=\"col_heading level0 col0\" >Accuracy (%)</th>\n",
       "      <th id=\"T_26c3b_level0_col1\" class=\"col_heading level0 col1\" >Recall (%)</th>\n",
       "      <th id=\"T_26c3b_level0_col2\" class=\"col_heading level0 col2\" >Precision (%)</th>\n",
       "      <th id=\"T_26c3b_level0_col3\" class=\"col_heading level0 col3\" >F1 Score (%)</th>\n",
       "      <th id=\"T_26c3b_level0_col4\" class=\"col_heading level0 col4\" >Specificity (%)</th>\n",
       "      <th id=\"T_26c3b_level0_col5\" class=\"col_heading level0 col5\" >Classification Error (%)</th>\n",
       "    </tr>\n",
       "  </thead>\n",
       "  <tbody>\n",
       "    <tr>\n",
       "      <th id=\"T_26c3b_level0_row0\" class=\"row_heading level0 row0\" >KNN</th>\n",
       "      <td id=\"T_26c3b_row0_col0\" class=\"data row0 col0\" >66.88</td>\n",
       "      <td id=\"T_26c3b_row0_col1\" class=\"data row0 col1\" >66.88</td>\n",
       "      <td id=\"T_26c3b_row0_col2\" class=\"data row0 col2\" >66.22</td>\n",
       "      <td id=\"T_26c3b_row0_col3\" class=\"data row0 col3\" >66.48</td>\n",
       "      <td id=\"T_26c3b_row0_col4\" class=\"data row0 col4\" >77.00</td>\n",
       "      <td id=\"T_26c3b_row0_col5\" class=\"data row0 col5\" >33.12</td>\n",
       "    </tr>\n",
       "    <tr>\n",
       "      <th id=\"T_26c3b_level0_row1\" class=\"row_heading level0 row1\" >Logistic Regression</th>\n",
       "      <td id=\"T_26c3b_row1_col0\" class=\"data row1 col0\" >71.43</td>\n",
       "      <td id=\"T_26c3b_row1_col1\" class=\"data row1 col1\" >71.43</td>\n",
       "      <td id=\"T_26c3b_row1_col2\" class=\"data row1 col2\" >70.65</td>\n",
       "      <td id=\"T_26c3b_row1_col3\" class=\"data row1 col3\" >70.84</td>\n",
       "      <td id=\"T_26c3b_row1_col4\" class=\"data row1 col4\" >82.00</td>\n",
       "      <td id=\"T_26c3b_row1_col5\" class=\"data row1 col5\" >28.57</td>\n",
       "    </tr>\n",
       "    <tr>\n",
       "      <th id=\"T_26c3b_level0_row2\" class=\"row_heading level0 row2\" >Random Forest</th>\n",
       "      <td id=\"T_26c3b_row2_col0\" class=\"data row2 col0\" >77.27</td>\n",
       "      <td id=\"T_26c3b_row2_col1\" class=\"data row2 col1\" >77.27</td>\n",
       "      <td id=\"T_26c3b_row2_col2\" class=\"data row2 col2\" >76.76</td>\n",
       "      <td id=\"T_26c3b_row2_col3\" class=\"data row2 col3\" >76.73</td>\n",
       "      <td id=\"T_26c3b_row2_col4\" class=\"data row2 col4\" >87.00</td>\n",
       "      <td id=\"T_26c3b_row2_col5\" class=\"data row2 col5\" >22.73</td>\n",
       "    </tr>\n",
       "    <tr>\n",
       "      <th id=\"T_26c3b_level0_row3\" class=\"row_heading level0 row3\" >Decision Tree</th>\n",
       "      <td id=\"T_26c3b_row3_col0\" class=\"data row3 col0\" >73.38</td>\n",
       "      <td id=\"T_26c3b_row3_col1\" class=\"data row3 col1\" >73.38</td>\n",
       "      <td id=\"T_26c3b_row3_col2\" class=\"data row3 col2\" >72.50</td>\n",
       "      <td id=\"T_26c3b_row3_col3\" class=\"data row3 col3\" >72.16</td>\n",
       "      <td id=\"T_26c3b_row3_col4\" class=\"data row3 col4\" >87.00</td>\n",
       "      <td id=\"T_26c3b_row3_col5\" class=\"data row3 col5\" >26.62</td>\n",
       "    </tr>\n",
       "    <tr>\n",
       "      <th id=\"T_26c3b_level0_row4\" class=\"row_heading level0 row4\" >SVC</th>\n",
       "      <td id=\"T_26c3b_row4_col0\" class=\"data row4 col0\" >72.08</td>\n",
       "      <td id=\"T_26c3b_row4_col1\" class=\"data row4 col1\" >72.08</td>\n",
       "      <td id=\"T_26c3b_row4_col2\" class=\"data row4 col2\" >71.06</td>\n",
       "      <td id=\"T_26c3b_row4_col3\" class=\"data row4 col3\" >70.31</td>\n",
       "      <td id=\"T_26c3b_row4_col4\" class=\"data row4 col4\" >88.00</td>\n",
       "      <td id=\"T_26c3b_row4_col5\" class=\"data row4 col5\" >27.92</td>\n",
       "    </tr>\n",
       "    <tr>\n",
       "      <th id=\"T_26c3b_level0_row5\" class=\"row_heading level0 row5\" >ANN</th>\n",
       "      <td id=\"T_26c3b_row5_col0\" class=\"data row5 col0\" >67.53</td>\n",
       "      <td id=\"T_26c3b_row5_col1\" class=\"data row5 col1\" >67.53</td>\n",
       "      <td id=\"T_26c3b_row5_col2\" class=\"data row5 col2\" >68.44</td>\n",
       "      <td id=\"T_26c3b_row5_col3\" class=\"data row5 col3\" >67.88</td>\n",
       "      <td id=\"T_26c3b_row5_col4\" class=\"data row5 col4\" >72.00</td>\n",
       "      <td id=\"T_26c3b_row5_col5\" class=\"data row5 col5\" >32.47</td>\n",
       "    </tr>\n",
       "    <tr>\n",
       "      <th id=\"T_26c3b_level0_row6\" class=\"row_heading level0 row6\" >Naive Bayes (Gaussian)</th>\n",
       "      <td id=\"T_26c3b_row6_col0\" class=\"data row6 col0\" >70.78</td>\n",
       "      <td id=\"T_26c3b_row6_col1\" class=\"data row6 col1\" >70.78</td>\n",
       "      <td id=\"T_26c3b_row6_col2\" class=\"data row6 col2\" >71.79</td>\n",
       "      <td id=\"T_26c3b_row6_col3\" class=\"data row6 col3\" >71.14</td>\n",
       "      <td id=\"T_26c3b_row6_col4\" class=\"data row6 col4\" >74.00</td>\n",
       "      <td id=\"T_26c3b_row6_col5\" class=\"data row6 col5\" >29.22</td>\n",
       "    </tr>\n",
       "    <tr>\n",
       "      <th id=\"T_26c3b_level0_row7\" class=\"row_heading level0 row7\" >Naive Bayes (Bernoulli)</th>\n",
       "      <td id=\"T_26c3b_row7_col0\" class=\"data row7 col0\" >64.94</td>\n",
       "      <td id=\"T_26c3b_row7_col1\" class=\"data row7 col1\" >64.94</td>\n",
       "      <td id=\"T_26c3b_row7_col2\" class=\"data row7 col2\" >60.37</td>\n",
       "      <td id=\"T_26c3b_row7_col3\" class=\"data row7 col3\" >56.04</td>\n",
       "      <td id=\"T_26c3b_row7_col4\" class=\"data row7 col4\" >95.00</td>\n",
       "      <td id=\"T_26c3b_row7_col5\" class=\"data row7 col5\" >35.06</td>\n",
       "    </tr>\n",
       "  </tbody>\n",
       "</table>\n"
      ],
      "text/plain": [
       "<pandas.io.formats.style.Styler at 0x135e44980>"
      ]
     },
     "execution_count": 31,
     "metadata": {},
     "output_type": "execute_result"
    }
   ],
   "source": [
    "model_comparison = pd.DataFrame({\n",
    "    \"Accuracy (%)\": [score * 100 for score in model_scores.values()],\n",
    "    \"Recall (%)\": [score * 100 for score in recall_scores.values()],\n",
    "     \"Precision (%)\": [score * 100 for score in precision_scores.values()],\n",
    "    \"F1 Score (%)\": [score * 100 for score in f1_scores.values()],\n",
    "    \"Specificity (%)\": [score * 100 for score in specificity_scores.values()],\n",
    "    \"Classification Error (%)\": [error * 100 for error in classification_error_scores.values()]\n",
    "    \n",
    "}, index=model_scores.keys())\n",
    "\n",
    "# Optional: Pretty-print the table\n",
    "model_comparison.style.format({\"Accuracy (%)\": \"{:.2f}\", \n",
    "                               \"Recall (%)\": \"{:.2f}\",\n",
    "                               \"Precision (%)\": \"{:.2f}\", \n",
    "                               \"F1 Score (%)\": \"{:.2f}\", \n",
    "                               \"Specificity (%)\": \"{:.2f}\", \n",
    "                               \"Classification Error (%)\": \"{:.2f}\"})"
   ]
  },
  {
   "cell_type": "markdown",
   "metadata": {},
   "source": [
    "### 4.4 Ensemble Method: Max Voting (Hard & Soft)"
   ]
  },
  {
   "cell_type": "code",
   "execution_count": 32,
   "metadata": {
    "execution": {
     "iopub.execute_input": "2025-01-07T14:54:08.550487Z",
     "iopub.status.busy": "2025-01-07T14:54:08.550301Z",
     "iopub.status.idle": "2025-01-07T14:54:08.997126Z",
     "shell.execute_reply": "2025-01-07T14:54:08.996750Z"
    }
   },
   "outputs": [
    {
     "name": "stdout",
     "output_type": "stream",
     "text": [
      "VotingClassifier with hard voting model test score: 0.7337662337662337\n",
      "VotingClassifier with hard voting model test recall score: 0.7337662337662337\n",
      "VotingClassifier with hard voting model test precision score: 0.7263910401525081\n"
     ]
    },
    {
     "name": "stdout",
     "output_type": "stream",
     "text": [
      "VotingClassifier with soft voting model test score: 0.7337662337662337\n",
      "VotingClassifier with soft voting model test recall score: 0.7337662337662337\n",
      "VotingClassifier with soft voting model test precision score: 0.7289513207880556\n"
     ]
    }
   ],
   "source": [
    "# Define other classifiers for VotingClassifier\n",
    "log_reg = LogisticRegression(max_iter=1500)\n",
    "rf = RandomForestClassifier(n_estimators=100)\n",
    "svc = SVC(probability=True)\n",
    "naive_bayes = GaussianNB()\n",
    "knn = KNeighborsClassifier()\n",
    "\n",
    "# Setup VotingClassifier with hard voting\n",
    "voting_hard = VotingClassifier(estimators=[('log_reg', log_reg), ('rf', rf), ('svc', svc), ('naive_bayes', naive_bayes), ('knn', knn)], voting='hard')\n",
    "\n",
    "voting_hard.fit(X_train, y_train)\n",
    "\n",
    "print(f\"VotingClassifier with hard voting model test score: {voting_hard.score(X_test, y_test)}\")\n",
    "print(f\"VotingClassifier with hard voting model test recall score: {recall_score(y_test, voting_hard.predict(X_test), average='weighted')}\")\n",
    "print(f\"VotingClassifier with hard voting model test precision score: {precision_score(y_test, voting_hard.predict(X_test), average='weighted')}\")\n",
    "\n",
    "# Setup VotingClassifier with soft voting\n",
    "voting_soft = VotingClassifier(estimators=[('log_reg', log_reg), ('rf', rf), ('svc', svc), ('naive_bayes', naive_bayes), ('knn', knn)], voting='soft')\n",
    "\n",
    "voting_soft.fit(X_train, y_train)\n",
    "\n",
    "print(f\"VotingClassifier with soft voting model test score: {voting_soft.score(X_test, y_test)}\")\n",
    "print(f\"VotingClassifier with soft voting model test recall score: {recall_score(y_test, voting_soft.predict(X_test), average='weighted')}\")\n",
    "print(f\"VotingClassifier with soft voting model test precision score: {precision_score(y_test, voting_soft.predict(X_test), average='weighted')}\")"
   ]
  },
  {
   "cell_type": "markdown",
   "metadata": {},
   "source": [
    "# 5. Hyperparameter Tuning"
   ]
  },
  {
   "cell_type": "code",
   "execution_count": 26,
   "metadata": {
    "execution": {
     "iopub.execute_input": "2025-01-07T14:54:08.998883Z",
     "iopub.status.busy": "2025-01-07T14:54:08.998721Z",
     "iopub.status.idle": "2025-01-07T14:54:09.004348Z",
     "shell.execute_reply": "2025-01-07T14:54:09.004037Z"
    }
   },
   "outputs": [],
   "source": [
    "# Define KNN hyperparameters\n",
    "knn_grid = {\n",
    "    \"n_neighbors\": np.arange(1, 21),\n",
    "    \"weights\": [\"uniform\", \"distance\"],\n",
    "    \"algorithm\": [\"auto\", \"ball_tree\", \"kd_tree\", \"brute\"],\n",
    "    \"leaf_size\": np.arange(20, 60, 5),\n",
    "    \"p\": [1, 2]\n",
    "}\n",
    "\n",
    "# Define LogisticRegression hyperparameters\n",
    "log_reg_grid = {\"C\": np.logspace(-4, 4, 20),\n",
    "                \"solver\": [\"liblinear\"]}\n",
    "\n",
    "# Define RandomForestClassifier hyperparameters\n",
    "rf_grid = {\n",
    "    \"n_estimators\": np.arange(50, 500, 50),  \n",
    "    \"max_depth\": [None, 5, 10],              \n",
    "    \"min_samples_split\": np.arange(2, 10, 2),\n",
    "    \"min_samples_leaf\": np.arange(1, 10, 2)\n",
    "}\n",
    "\n",
    "# Define DecisionTreeClassifier hyperparameter\n",
    "dt_grid = {\n",
    "    \"max_depth\": [None, 3, 5, 10, 20],\n",
    "    \"min_samples_split\": np.arange(2, 20, 2),\n",
    "    \"min_samples_leaf\": np.arange(1, 20, 2),\n",
    "    \"max_features\": [None, \"sqrt\", \"log2\"]\n",
    "}\n",
    "\n",
    "# Define SVC linear hyperparameters\n",
    "svc_grid_linear = {\n",
    "    \"C\": np.logspace(-2, 2, 5),\n",
    "    \"kernel\": [\"linear\"],\n",
    "    \"gamma\": [\"scale\"]\n",
    "}\n",
    "\n",
    "# Define SVC RBF hyperparameters\n",
    "svc_grid_rbf = {\n",
    "    \"C\": np.logspace(-4, 4, 20),\n",
    "    \"kernel\": [\"rbf\"],\n",
    "    \"gamma\": [\"scale\", \"auto\"]\n",
    "}\n",
    "\n",
    "# Define SVC poly hyperparameters\n",
    "svc_grid_poly = {\n",
    "    \"C\": np.logspace(-2, 2, 5),\n",
    "    \"kernel\": [\"poly\"],\n",
    "    \"degree\": [2, 3],  # Fewer degrees\n",
    "    \"gamma\": [\"scale\"]\n",
    "}\n",
    "\n",
    "# Define SVC sigmoid hyperparameters\n",
    "svc_grid_sigmoid = {\n",
    "    \"C\": np.logspace(-2, 2, 5),\n",
    "    \"kernel\": [\"sigmoid\"],\n",
    "    \"gamma\": [\"scale\", \"auto\"]\n",
    "}\n",
    "\n",
    "# Define ANN hyperparameters\n",
    "ann_grid = {\n",
    "    \"hidden_layer_sizes\": [(50,), (100,), (50, 50)],\n",
    "    \"activation\": [\"tanh\", \"relu\"], # Activation function\n",
    "    \"solver\": [\"adam\", \"sgd\"],\n",
    "    \"alpha\": np.logspace(-4, 4, 10),\n",
    "    \"learning_rate\": [\"constant\", \"adaptive\"]\n",
    "}\n",
    "\n",
    "# Define Naive Bayes (Gaussian) hyperparameters\n",
    "nb_gaussian_grid = {\n",
    "    \"var_smoothing\": np.logspace(-9, 0, 10)  # Smoothing parameter\n",
    "}\n",
    "\n",
    "# Define Naive Bayes (Bernoulli) hyperparameters\n",
    "nb_bernoulli_grid = {\n",
    "    \"alpha\": np.logspace(-4, 4, 20),  # Additive smoothing parameter\n",
    "    \"binarize\": [0.0, 0.1, 0.2, 0.3],  # Threshold for binarizing input\n",
    "}\n",
    "\n",
    "# Define VortingClassifier hyperparameters\n",
    "voting_grid = {\n",
    "    'voting': ['hard', 'soft'],  # Hard and soft voting\n",
    "    'weights': [[1, 1, 1, 1], [2, 1, 1, 1], [1, 2, 1, 1], [1, 1, 2, 1]],  # Weighted voting\n",
    "    'flatten_transform': [True, False]\n",
    "}"
   ]
  },
  {
   "cell_type": "markdown",
   "metadata": {},
   "source": [
    "### 5.1 Tune KNeighborsClassifier (KNN) by hand"
   ]
  },
  {
   "cell_type": "code",
   "execution_count": 33,
   "metadata": {
    "execution": {
     "iopub.execute_input": "2025-01-07T14:54:09.005945Z",
     "iopub.status.busy": "2025-01-07T14:54:09.005818Z",
     "iopub.status.idle": "2025-01-07T14:54:09.425701Z",
     "shell.execute_reply": "2025-01-07T14:54:09.425287Z"
    }
   },
   "outputs": [],
   "source": [
    "# Create a list of train scores\n",
    "train_scores = []\n",
    "\n",
    "# Create a list of test scores\n",
    "test_scores = []\n",
    "\n",
    "# Create a list of different values for n_neighbors\n",
    "neighbors = range(1, 21) # 1 to 20\n",
    "\n",
    "# Setup algorithm\n",
    "knn = KNeighborsClassifier()\n",
    "\n",
    "# Loop through different neighbors values\n",
    "for i in neighbors:\n",
    "    knn.set_params(n_neighbors = i) # set neighbors value\n",
    "    \n",
    "    # Fit the algorithm\n",
    "    knn.fit(X_train, y_train)\n",
    "    \n",
    "    # Update the training scores\n",
    "    train_scores.append(knn.score(X_train, y_train))\n",
    "    \n",
    "    # Update the test scores\n",
    "    test_scores.append(knn.score(X_test, y_test))"
   ]
  },
  {
   "cell_type": "code",
   "execution_count": 34,
   "metadata": {
    "execution": {
     "iopub.execute_input": "2025-01-07T14:54:09.427517Z",
     "iopub.status.busy": "2025-01-07T14:54:09.427366Z",
     "iopub.status.idle": "2025-01-07T14:54:09.429998Z",
     "shell.execute_reply": "2025-01-07T14:54:09.429688Z"
    }
   },
   "outputs": [
    {
     "data": {
      "text/plain": [
       "[1.0,\n",
       " 0.8436482084690554,\n",
       " 0.8566775244299675,\n",
       " 0.8175895765472313,\n",
       " 0.8045602605863192,\n",
       " 0.7899022801302932,\n",
       " 0.7817589576547231,\n",
       " 0.7866449511400652,\n",
       " 0.7947882736156352,\n",
       " 0.7833876221498371,\n",
       " 0.7915309446254072,\n",
       " 0.7768729641693811,\n",
       " 0.7817589576547231,\n",
       " 0.7817589576547231,\n",
       " 0.7785016286644951,\n",
       " 0.7817589576547231,\n",
       " 0.7752442996742671,\n",
       " 0.7850162866449512,\n",
       " 0.7866449511400652,\n",
       " 0.7833876221498371]"
      ]
     },
     "execution_count": 34,
     "metadata": {},
     "output_type": "execute_result"
    }
   ],
   "source": [
    "# KNN's train scores\n",
    "train_scores"
   ]
  },
  {
   "cell_type": "code",
   "execution_count": 35,
   "metadata": {
    "execution": {
     "iopub.execute_input": "2025-01-07T14:54:09.431456Z",
     "iopub.status.busy": "2025-01-07T14:54:09.431315Z",
     "iopub.status.idle": "2025-01-07T14:54:09.541476Z",
     "shell.execute_reply": "2025-01-07T14:54:09.541180Z"
    }
   },
   "outputs": [
    {
     "name": "stdout",
     "output_type": "stream",
     "text": [
      "Maximum KNN score on the test data: 72.73%\n"
     ]
    },
    {
     "data": {
      "image/png": "[encoded data removed]",
      "text/plain": [
       "<Figure size 640x480 with 1 Axes>"
      ]
     },
     "metadata": {},
     "output_type": "display_data"
    }
   ],
   "source": [
    "#Let's visualize KNN score test and train data\n",
    "plt.plot(neighbors, train_scores, label=\"Train score\")\n",
    "plt.plot(neighbors, test_scores, label=\"Test score\")\n",
    "plt.xticks(np.arange(1, 21, 1))\n",
    "plt.xlabel(\"Number of neighbors\")\n",
    "plt.ylabel(\"Model score\")\n",
    "plt.legend()\n",
    "\n",
    "print(f\"Maximum KNN score on the test data: {max(test_scores)*100:.2f}%\")"
   ]
  },
  {
   "cell_type": "markdown",
   "metadata": {},
   "source": [
    "### 5.2 Tuning models with with RandomizedSearchCV"
   ]
  },
  {
   "cell_type": "code",
   "execution_count": 36,
   "metadata": {
    "execution": {
     "iopub.execute_input": "2025-01-07T14:54:09.543102Z",
     "iopub.status.busy": "2025-01-07T14:54:09.542958Z",
     "iopub.status.idle": "2025-01-07T14:54:09.982198Z",
     "shell.execute_reply": "2025-01-07T14:54:09.981786Z"
    }
   },
   "outputs": [
    {
     "name": "stdout",
     "output_type": "stream",
     "text": [
      "Fitting 5 folds for each of 20 candidates, totalling 100 fits\n",
      "Best parameters for KNN with RandomizedSearchCV: {'weights': 'uniform', 'p': 1, 'n_neighbors': np.int64(10), 'leaf_size': np.int64(20), 'algorithm': 'brute'}\n",
      "RandomizedSearchCV (KNN) model test score: 0.7012987012987013\n"
     ]
    }
   ],
   "source": [
    "# KNeighborsClassifier with RandomizedSearchCV\n",
    "\n",
    "# Setup random hyperparameter search for KNN\n",
    "rs_knn = RandomizedSearchCV(KNeighborsClassifier(),\n",
    "                            param_distributions=knn_grid,\n",
    "                            cv=5,\n",
    "                            n_iter=20,\n",
    "                            verbose=True)\n",
    "\n",
    "# Fit random hyperparameter search model\n",
    "rs_knn.fit(X_train, y_train)\n",
    "\n",
    "print(\"Best parameters for KNN with RandomizedSearchCV:\", rs_knn.best_params_)\n",
    "\n",
    "print(\"RandomizedSearchCV (KNN) model test score:\", rs_knn.score(X_test, y_test))"
   ]
  },
  {
   "cell_type": "code",
   "execution_count": 38,
   "metadata": {
    "execution": {
     "iopub.execute_input": "2025-01-07T14:54:09.984037Z",
     "iopub.status.busy": "2025-01-07T14:54:09.983866Z",
     "iopub.status.idle": "2025-01-07T14:54:10.296826Z",
     "shell.execute_reply": "2025-01-07T14:54:10.296520Z"
    }
   },
   "outputs": [
    {
     "name": "stdout",
     "output_type": "stream",
     "text": [
      "Fitting 5 folds for each of 20 candidates, totalling 100 fits\n"
     ]
    },
    {
     "name": "stdout",
     "output_type": "stream",
     "text": [
      "Best parameters for Logistic Regression with RandomizedSearchCV: {'solver': 'liblinear', 'C': np.float64(78.47599703514607)}\n",
      "RandomizedSearchCV (Logistic Regression) model test score: 0.7142857142857143\n"
     ]
    }
   ],
   "source": [
    "# Logistic Regression with RandomizedSearchCV\n",
    "\n",
    "# Setup random hyperparameter search for LogisticRegression\n",
    "rs_log_reg = RandomizedSearchCV(LogisticRegression(),\n",
    "                                param_distributions=log_reg_grid,\n",
    "                                cv=5,\n",
    "                                n_iter=20,\n",
    "                                verbose=True)\n",
    "\n",
    "# Fit random hyperparameter search model\n",
    "rs_log_reg.fit(X_train, y_train)\n",
    "\n",
    "print(\"Best parameters for Logistic Regression with RandomizedSearchCV:\", rs_log_reg.best_params_)\n",
    "\n",
    "print(\"RandomizedSearchCV (Logistic Regression) model test score:\", rs_log_reg.score(X_test, y_test))"
   ]
  },
  {
   "cell_type": "code",
   "execution_count": 39,
   "metadata": {
    "execution": {
     "iopub.execute_input": "2025-01-07T14:54:10.298422Z",
     "iopub.status.busy": "2025-01-07T14:54:10.298275Z",
     "iopub.status.idle": "2025-01-07T14:54:31.579279Z",
     "shell.execute_reply": "2025-01-07T14:54:31.578813Z"
    }
   },
   "outputs": [
    {
     "name": "stdout",
     "output_type": "stream",
     "text": [
      "Fitting 5 folds for each of 20 candidates, totalling 100 fits\n"
     ]
    },
    {
     "name": "stdout",
     "output_type": "stream",
     "text": [
      "Best parameters for Random Forest with RandomizedSearchCV: {'n_estimators': np.int64(100), 'min_samples_split': np.int64(8), 'min_samples_leaf': np.int64(9), 'max_depth': 10}\n",
      "RandomizedSearchCV (Random Forest) model test score: 0.7337662337662337\n"
     ]
    }
   ],
   "source": [
    "# RandomForestClassifier with RandomizedSearchCV\n",
    "\n",
    "# Setup random hyperparameter search for RandomForestClassifier\n",
    "rs_rf = RandomizedSearchCV(RandomForestClassifier(),\n",
    "                           param_distributions=rf_grid,\n",
    "                           cv=5,\n",
    "                           n_iter=20,\n",
    "                           verbose=True)\n",
    "\n",
    "# Fit random hyperparameter search model\n",
    "rs_rf.fit(X_train, y_train)\n",
    "\n",
    "print('Best parameters for Random Forest with RandomizedSearchCV:', rs_rf.best_params_)\n",
    "\n",
    "print('RandomizedSearchCV (Random Forest) model test score:', rs_rf.score(X_test, y_test))"
   ]
  },
  {
   "cell_type": "code",
   "execution_count": 40,
   "metadata": {
    "execution": {
     "iopub.execute_input": "2025-01-07T14:54:31.581049Z",
     "iopub.status.busy": "2025-01-07T14:54:31.580874Z",
     "iopub.status.idle": "2025-01-07T14:54:31.847505Z",
     "shell.execute_reply": "2025-01-07T14:54:31.847126Z"
    }
   },
   "outputs": [
    {
     "name": "stdout",
     "output_type": "stream",
     "text": [
      "Fitting 5 folds for each of 20 candidates, totalling 100 fits\n"
     ]
    },
    {
     "name": "stdout",
     "output_type": "stream",
     "text": [
      "Best parameters for Decision Tree with RandomizedSearchCV: {'min_samples_split': np.int64(10), 'min_samples_leaf': np.int64(17), 'max_features': None, 'max_depth': 3}\n",
      "RandomizedSearchCV (Decision Tree) model test score: 0.6948051948051948\n"
     ]
    }
   ],
   "source": [
    "# DecisionTreeClassifier with RandomizedSearchCV\n",
    "\n",
    "# Setup random hyperparameter search for DecisionTreeClassifier\n",
    "rs_dt = RandomizedSearchCV(\n",
    "    DecisionTreeClassifier(),\n",
    "    param_distributions=dt_grid,\n",
    "    cv=5,\n",
    "    n_iter=20,\n",
    "    verbose=True,\n",
    "    random_state=42\n",
    ")\n",
    "\n",
    "# Fit the random hyperparameter search model\n",
    "rs_dt.fit(X_train, y_train)\n",
    "\n",
    "print(\"Best parameters for Decision Tree with RandomizedSearchCV:\", rs_dt.best_params_)\n",
    "\n",
    "print(\"RandomizedSearchCV (Decision Tree) model test score:\", rs_dt.score(X_test, y_test))"
   ]
  },
  {
   "cell_type": "code",
   "execution_count": 41,
   "metadata": {
    "execution": {
     "iopub.execute_input": "2025-01-07T14:54:31.849215Z",
     "iopub.status.busy": "2025-01-07T14:54:31.849066Z",
     "iopub.status.idle": "2025-01-07T14:56:37.355171Z",
     "shell.execute_reply": "2025-01-07T14:56:37.354666Z"
    }
   },
   "outputs": [
    {
     "name": "stdout",
     "output_type": "stream",
     "text": [
      "Fitting 3 folds for each of 5 candidates, totalling 15 fits\n"
     ]
    },
    {
     "name": "stderr",
     "output_type": "stream",
     "text": [
      "/opt/miniconda3/envs/data_mining/lib/python3.13/site-packages/sklearn/model_selection/_search.py:317: UserWarning: The total space of parameters 5 is smaller than n_iter=10. Running 5 iterations. For exhaustive searches, use GridSearchCV.\n",
      "  warnings.warn(\n"
     ]
    },
    {
     "name": "stdout",
     "output_type": "stream",
     "text": [
      "Best parameters for SVC (linear) with RandomizedSearchCV: {'kernel': 'linear', 'gamma': 'scale', 'C': np.float64(0.1)}\n",
      "RandomizedSearchCV (SVC linear) model test score: 0.7077922077922078\n"
     ]
    }
   ],
   "source": [
    "# SVC with linear kernel and RandomizedSearchCV\n",
    "\n",
    "# Setup random hyperparameter search for SVC\n",
    "rs_svc_linear = RandomizedSearchCV(SVC(),\n",
    "                            param_distributions=svc_grid_linear,\n",
    "                            cv=3,\n",
    "                            n_iter=10,\n",
    "                            verbose=True)\n",
    "\n",
    "# Fit random hyperparameter search model\n",
    "rs_svc_linear.fit(X_train, y_train)\n",
    "\n",
    "print(\"Best parameters for SVC (linear) with RandomizedSearchCV:\", rs_svc_linear.best_params_)\n",
    "\n",
    "print(\"RandomizedSearchCV (SVC linear) model test score:\", rs_svc_linear.score(X_test, y_test))"
   ]
  },
  {
   "cell_type": "code",
   "execution_count": 42,
   "metadata": {
    "execution": {
     "iopub.execute_input": "2025-01-07T14:56:37.357021Z",
     "iopub.status.busy": "2025-01-07T14:56:37.356904Z",
     "iopub.status.idle": "2025-01-07T14:56:37.634061Z",
     "shell.execute_reply": "2025-01-07T14:56:37.633790Z"
    }
   },
   "outputs": [
    {
     "name": "stdout",
     "output_type": "stream",
     "text": [
      "Fitting 3 folds for each of 10 candidates, totalling 30 fits\n"
     ]
    },
    {
     "name": "stdout",
     "output_type": "stream",
     "text": [
      "Best parameters for SVC (RBF) with RandomizedSearchCV: {'kernel': 'rbf', 'gamma': 'scale', 'C': np.float64(1.623776739188721)}\n",
      "RandomizedSearchCV (SVC RBF) model test score: 0.7337662337662337\n"
     ]
    }
   ],
   "source": [
    "# SVC with RBF kernel and RandomizedSearchCV\n",
    "\n",
    "# Setup random hyperparameter search for SVC\n",
    "rs_svc_rbf = RandomizedSearchCV(SVC(),\n",
    "                                param_distributions=svc_grid_rbf,\n",
    "                                cv=3,\n",
    "                                n_iter=10,\n",
    "                                verbose=True)\n",
    "\n",
    "# Fit random hyperparameter search model\n",
    "rs_svc_rbf.fit(X_train, y_train)\n",
    "\n",
    "print(\"Best parameters for SVC (RBF) with RandomizedSearchCV:\", rs_svc_rbf.best_params_)\n",
    "\n",
    "print(\"RandomizedSearchCV (SVC RBF) model test score:\", rs_svc_rbf.score(X_test, y_test))"
   ]
  },
  {
   "cell_type": "code",
   "execution_count": 43,
   "metadata": {
    "execution": {
     "iopub.execute_input": "2025-01-07T14:56:37.635307Z",
     "iopub.status.busy": "2025-01-07T14:56:37.635224Z",
     "iopub.status.idle": "2025-01-07T14:56:39.746242Z",
     "shell.execute_reply": "2025-01-07T14:56:39.745888Z"
    }
   },
   "outputs": [
    {
     "name": "stdout",
     "output_type": "stream",
     "text": [
      "Fitting 3 folds for each of 5 candidates, totalling 15 fits\n"
     ]
    },
    {
     "name": "stdout",
     "output_type": "stream",
     "text": [
      "Best parameters for SVC (poly) with RandomizedSearchCV: {'kernel': 'poly', 'gamma': 'scale', 'degree': 3, 'C': np.float64(1.0)}\n",
      "RandomizedSearchCV (SVC poly) model test score: 0.7207792207792207\n"
     ]
    }
   ],
   "source": [
    "\n",
    "# SVC with poly kernel and RandomizedSearchCV\n",
    "\n",
    "# Setup random hyperparameter search for SVC\n",
    "rs_svc_poly = RandomizedSearchCV(SVC(),\n",
    "                                param_distributions=svc_grid_poly,\n",
    "                                cv=3,\n",
    "                                n_iter=5,\n",
    "                                verbose=True,\n",
    "                                n_jobs=-1) # Use all available CPU cores\n",
    "\n",
    "# Fit random hyperparameter search model\n",
    "rs_svc_poly.fit(X_train, y_train)\n",
    "\n",
    "print(\"Best parameters for SVC (poly) with RandomizedSearchCV:\", rs_svc_poly.best_params_)\n",
    "\n",
    "print(\"RandomizedSearchCV (SVC poly) model test score:\", rs_svc_poly.score(X_test, y_test))\n"
   ]
  },
  {
   "cell_type": "code",
   "execution_count": 44,
   "metadata": {
    "execution": {
     "iopub.execute_input": "2025-01-07T14:56:39.747611Z",
     "iopub.status.busy": "2025-01-07T14:56:39.747460Z",
     "iopub.status.idle": "2025-01-07T14:56:39.860169Z",
     "shell.execute_reply": "2025-01-07T14:56:39.859913Z"
    }
   },
   "outputs": [
    {
     "name": "stdout",
     "output_type": "stream",
     "text": [
      "Fitting 3 folds for each of 10 candidates, totalling 30 fits\n",
      "Best parameters for SVC (sigmoid) with RandomizedSearchCV: {'kernel': 'sigmoid', 'gamma': 'scale', 'C': np.float64(0.01)}\n",
      "RandomizedSearchCV (SVC sigmoid) model test score: 0.6493506493506493\n"
     ]
    }
   ],
   "source": [
    "# SVC with sigmoid kernel and RandomizedSearchCV\n",
    "\n",
    "# Setup random hyperparameter search for SVC\n",
    "rs_svc_sigmoid = RandomizedSearchCV(SVC(),\n",
    "                                param_distributions=svc_grid_sigmoid,\n",
    "                                cv=3,\n",
    "                                n_iter=10,\n",
    "                                verbose=True)\n",
    "\n",
    "# Fit random hyperparameter search model\n",
    "rs_svc_sigmoid.fit(X_train, y_train)\n",
    "\n",
    "print(\"Best parameters for SVC (sigmoid) with RandomizedSearchCV:\", rs_svc_sigmoid.best_params_)\n",
    "\n",
    "print(\"RandomizedSearchCV (SVC sigmoid) model test score:\", rs_svc_sigmoid.score(X_test, y_test))"
   ]
  },
  {
   "cell_type": "code",
   "execution_count": 45,
   "metadata": {
    "execution": {
     "iopub.execute_input": "2025-01-07T14:56:39.861312Z",
     "iopub.status.busy": "2025-01-07T14:56:39.861227Z",
     "iopub.status.idle": "2025-01-07T14:56:59.127370Z",
     "shell.execute_reply": "2025-01-07T14:56:59.127086Z"
    }
   },
   "outputs": [
    {
     "name": "stdout",
     "output_type": "stream",
     "text": [
      "Fitting 5 folds for each of 20 candidates, totalling 100 fits\n"
     ]
    },
    {
     "name": "stdout",
     "output_type": "stream",
     "text": [
      "Best parameters for ANN with RandomizedSearchCV: {'solver': 'adam', 'learning_rate': 'constant', 'hidden_layer_sizes': (100,), 'alpha': np.float64(2.782559402207126), 'activation': 'relu'}\n",
      "RandomizedSearchCV (ANN) model test score: 0.6883116883116883\n"
     ]
    }
   ],
   "source": [
    "# ANN with RandomizedSearchCV\n",
    "\n",
    "# Setup random hyperparameter search for ANN\n",
    "rs_ann = RandomizedSearchCV(MLPClassifier(max_iter=3000),\n",
    "                            param_distributions=ann_grid,\n",
    "                            cv=5,\n",
    "                            n_iter=20,\n",
    "                            verbose=True)\n",
    "\n",
    "# Fit random hyperparameter search model\n",
    "rs_ann.fit(X_train, y_train)\n",
    "\n",
    "print(\"Best parameters for ANN with RandomizedSearchCV:\", rs_ann.best_params_)\n",
    "\n",
    "print(\"RandomizedSearchCV (ANN) model test score:\", rs_ann.score(X_test, y_test))"
   ]
  },
  {
   "cell_type": "code",
   "execution_count": 46,
   "metadata": {
    "execution": {
     "iopub.execute_input": "2025-01-07T14:56:59.128695Z",
     "iopub.status.busy": "2025-01-07T14:56:59.128589Z",
     "iopub.status.idle": "2025-01-07T14:56:59.183048Z",
     "shell.execute_reply": "2025-01-07T14:56:59.182785Z"
    }
   },
   "outputs": [
    {
     "name": "stdout",
     "output_type": "stream",
     "text": [
      "Fitting 5 folds for each of 10 candidates, totalling 50 fits\n",
      "Best parameters for Gaussian Naive Bayes with RandomizedSearchCV: {'var_smoothing': np.float64(1e-05)}\n",
      "RandomizedSearchCV (Gaussian Naive Bayes) model test score: 0.6883116883116883\n"
     ]
    }
   ],
   "source": [
    "# Gaussian Naive Bayes with RandomizedSearchCV\n",
    "\n",
    "# Setup random hyperparameter search for GaussianNB\n",
    "rs_nb_gaussian = RandomizedSearchCV(GaussianNB(), \n",
    "                                    param_distributions=nb_gaussian_grid, \n",
    "                                    cv=5, \n",
    "                                    n_iter=10, \n",
    "                                    verbose=True, \n",
    "                                    random_state=42)\n",
    "\n",
    "# Fit random hyperparameter search model\n",
    "rs_nb_gaussian.fit(X_train, y_train)\n",
    "\n",
    "print(\"Best parameters for Gaussian Naive Bayes with RandomizedSearchCV:\", rs_nb_gaussian.best_params_)\n",
    "\n",
    "print(\"RandomizedSearchCV (Gaussian Naive Bayes) model test score:\", rs_nb_gaussian.score(X_test, y_test))"
   ]
  },
  {
   "cell_type": "code",
   "execution_count": 47,
   "metadata": {
    "execution": {
     "iopub.execute_input": "2025-01-07T14:56:59.184155Z",
     "iopub.status.busy": "2025-01-07T14:56:59.184078Z",
     "iopub.status.idle": "2025-01-07T14:56:59.304628Z",
     "shell.execute_reply": "2025-01-07T14:56:59.304407Z"
    }
   },
   "outputs": [
    {
     "name": "stdout",
     "output_type": "stream",
     "text": [
      "Fitting 5 folds for each of 20 candidates, totalling 100 fits\n",
      "Best parameters for Bernoulli Naive Bayes with RandomizedSearchCV: {'binarize': 0.2, 'alpha': np.float64(1438.44988828766)}\n",
      "RandomizedSearchCV (Bernoulli Naive Bayes) model test score: 0.6493506493506493\n"
     ]
    }
   ],
   "source": [
    "# Bernoulli Naive Bayes with RandomizedSearchCV\n",
    "\n",
    "# Setup random hyperparameter search for BernoulliNB\n",
    "rs_nb_bernoulli = RandomizedSearchCV(BernoulliNB(), \n",
    "                                     param_distributions=nb_bernoulli_grid, \n",
    "                                     cv=5, \n",
    "                                     n_iter=20, \n",
    "                                     verbose=True, \n",
    "                                     random_state=42)\n",
    "\n",
    "# Fit random hyperparameter search model\n",
    "rs_nb_bernoulli.fit(X_train, y_train)\n",
    "\n",
    "print(\"Best parameters for Bernoulli Naive Bayes with RandomizedSearchCV:\", rs_nb_bernoulli.best_params_)\n",
    "\n",
    "print(\"RandomizedSearchCV (Bernoulli Naive Bayes) model test score:\", rs_nb_bernoulli.score(X_test, y_test))"
   ]
  },
  {
   "cell_type": "code",
   "execution_count": 48,
   "metadata": {
    "execution": {
     "iopub.execute_input": "2025-01-07T14:56:59.305776Z",
     "iopub.status.busy": "2025-01-07T14:56:59.305697Z",
     "iopub.status.idle": "2025-01-07T14:57:04.341784Z",
     "shell.execute_reply": "2025-01-07T14:57:04.341512Z"
    }
   },
   "outputs": [
    {
     "name": "stdout",
     "output_type": "stream",
     "text": [
      "Fitting 5 folds for each of 10 candidates, totalling 50 fits\n"
     ]
    },
    {
     "name": "stdout",
     "output_type": "stream",
     "text": [
      "Best parameters for VotingClassifier with RandomizedSearchCV: {'weights': [1, 2, 1, 1], 'voting': 'hard', 'flatten_transform': False}\n",
      "RandomizedSearchCV (VotingClassifier) model test score: 0.7402597402597403\n"
     ]
    }
   ],
   "source": [
    "# VotingClassifier with RandomizedSearchCV\n",
    "\n",
    "# Setup random hyperparameter search for VotingClassifier\n",
    "rs_voting = RandomizedSearchCV(VotingClassifier(estimators=[('log_reg', log_reg), ('rf', rf), \n",
    "                                                            # ('svc', svc), \n",
    "                                                            ('naive_bayes', naive_bayes), ('knn', knn)], voting='soft'),\n",
    "                               param_distributions=voting_grid,\n",
    "                               cv=5,\n",
    "                               n_iter=10,\n",
    "                               verbose=True)\n",
    "\n",
    "rs_voting.fit(X_train, y_train)\n",
    "\n",
    "print(\"Best parameters for VotingClassifier with RandomizedSearchCV:\", rs_voting.best_params_)\n",
    "\n",
    "print(\"RandomizedSearchCV (VotingClassifier) model test score:\", rs_voting.score(X_test, y_test))"
   ]
  },
  {
   "cell_type": "code",
   "execution_count": 49,
   "metadata": {
    "execution": {
     "iopub.execute_input": "2025-01-07T14:57:04.343116Z",
     "iopub.status.busy": "2025-01-07T14:57:04.343034Z",
     "iopub.status.idle": "2025-01-07T14:57:04.495022Z",
     "shell.execute_reply": "2025-01-07T14:57:04.494760Z"
    }
   },
   "outputs": [
    {
     "name": "stderr",
     "output_type": "stream",
     "text": [
      "/opt/miniconda3/envs/data_mining/lib/python3.13/site-packages/sklearn/metrics/_classification.py:1565: UndefinedMetricWarning: Precision is ill-defined and being set to 0.0 in labels with no predicted samples. Use `zero_division` parameter to control this behavior.\n",
      "  _warn_prf(average, modifier, f\"{metric.capitalize()} is\", len(result))\n",
      "/opt/miniconda3/envs/data_mining/lib/python3.13/site-packages/sklearn/metrics/_classification.py:1565: UndefinedMetricWarning: Precision is ill-defined and being set to 0.0 in labels with no predicted samples. Use `zero_division` parameter to control this behavior.\n",
      "  _warn_prf(average, modifier, f\"{metric.capitalize()} is\", len(result))\n"
     ]
    },
    {
     "data": {
      "text/html": [
       "<style type=\"text/css\">\n",
       "</style>\n",
       "<table id=\"T_cb160\">\n",
       "  <thead>\n",
       "    <tr>\n",
       "      <th class=\"blank level0\" >&nbsp;</th>\n",
       "      <th id=\"T_cb160_level0_col0\" class=\"col_heading level0 col0\" >Accuracy</th>\n",
       "      <th id=\"T_cb160_level0_col1\" class=\"col_heading level0 col1\" >Precision</th>\n",
       "      <th id=\"T_cb160_level0_col2\" class=\"col_heading level0 col2\" >Recall (Sensitivity)</th>\n",
       "      <th id=\"T_cb160_level0_col3\" class=\"col_heading level0 col3\" >Classification Error</th>\n",
       "      <th id=\"T_cb160_level0_col4\" class=\"col_heading level0 col4\" >Specificity</th>\n",
       "      <th id=\"T_cb160_level0_col5\" class=\"col_heading level0 col5\" >F1 Score</th>\n",
       "    </tr>\n",
       "  </thead>\n",
       "  <tbody>\n",
       "    <tr>\n",
       "      <th id=\"T_cb160_level0_row0\" class=\"row_heading level0 row0\" >KNN</th>\n",
       "      <td id=\"T_cb160_row0_col0\" class=\"data row0 col0\" >70.78%</td>\n",
       "      <td id=\"T_cb160_row0_col1\" class=\"data row0 col1\" >69.53%</td>\n",
       "      <td id=\"T_cb160_row0_col2\" class=\"data row0 col2\" >70.78%</td>\n",
       "      <td id=\"T_cb160_row0_col3\" class=\"data row0 col3\" >29.22%</td>\n",
       "      <td id=\"T_cb160_row0_col4\" class=\"data row0 col4\" >50.00%</td>\n",
       "      <td id=\"T_cb160_row0_col5\" class=\"data row0 col5\" >69.19%</td>\n",
       "    </tr>\n",
       "    <tr>\n",
       "      <th id=\"T_cb160_level0_row1\" class=\"row_heading level0 row1\" >Logistic Regression</th>\n",
       "      <td id=\"T_cb160_row1_col0\" class=\"data row1 col0\" >71.43%</td>\n",
       "      <td id=\"T_cb160_row1_col1\" class=\"data row1 col1\" >70.65%</td>\n",
       "      <td id=\"T_cb160_row1_col2\" class=\"data row1 col2\" >71.43%</td>\n",
       "      <td id=\"T_cb160_row1_col3\" class=\"data row1 col3\" >28.57%</td>\n",
       "      <td id=\"T_cb160_row1_col4\" class=\"data row1 col4\" >50.00%</td>\n",
       "      <td id=\"T_cb160_row1_col5\" class=\"data row1 col5\" >70.84%</td>\n",
       "    </tr>\n",
       "    <tr>\n",
       "      <th id=\"T_cb160_level0_row2\" class=\"row_heading level0 row2\" >Random Forest</th>\n",
       "      <td id=\"T_cb160_row2_col0\" class=\"data row2 col0\" >73.38%</td>\n",
       "      <td id=\"T_cb160_row2_col1\" class=\"data row2 col1\" >72.56%</td>\n",
       "      <td id=\"T_cb160_row2_col2\" class=\"data row2 col2\" >73.38%</td>\n",
       "      <td id=\"T_cb160_row2_col3\" class=\"data row2 col3\" >26.62%</td>\n",
       "      <td id=\"T_cb160_row2_col4\" class=\"data row2 col4\" >50.00%</td>\n",
       "      <td id=\"T_cb160_row2_col5\" class=\"data row2 col5\" >72.56%</td>\n",
       "    </tr>\n",
       "    <tr>\n",
       "      <th id=\"T_cb160_level0_row3\" class=\"row_heading level0 row3\" >Decision Tree</th>\n",
       "      <td id=\"T_cb160_row3_col0\" class=\"data row3 col0\" >69.48%</td>\n",
       "      <td id=\"T_cb160_row3_col1\" class=\"data row3 col1\" >68.47%</td>\n",
       "      <td id=\"T_cb160_row3_col2\" class=\"data row3 col2\" >69.48%</td>\n",
       "      <td id=\"T_cb160_row3_col3\" class=\"data row3 col3\" >30.52%</td>\n",
       "      <td id=\"T_cb160_row3_col4\" class=\"data row3 col4\" >50.00%</td>\n",
       "      <td id=\"T_cb160_row3_col5\" class=\"data row3 col5\" >65.38%</td>\n",
       "    </tr>\n",
       "    <tr>\n",
       "      <th id=\"T_cb160_level0_row4\" class=\"row_heading level0 row4\" >SVC (Linear)</th>\n",
       "      <td id=\"T_cb160_row4_col0\" class=\"data row4 col0\" >70.78%</td>\n",
       "      <td id=\"T_cb160_row4_col1\" class=\"data row4 col1\" >69.89%</td>\n",
       "      <td id=\"T_cb160_row4_col2\" class=\"data row4 col2\" >70.78%</td>\n",
       "      <td id=\"T_cb160_row4_col3\" class=\"data row4 col3\" >29.22%</td>\n",
       "      <td id=\"T_cb160_row4_col4\" class=\"data row4 col4\" >50.00%</td>\n",
       "      <td id=\"T_cb160_row4_col5\" class=\"data row4 col5\" >70.08%</td>\n",
       "    </tr>\n",
       "    <tr>\n",
       "      <th id=\"T_cb160_level0_row5\" class=\"row_heading level0 row5\" >SVC (RBF)</th>\n",
       "      <td id=\"T_cb160_row5_col0\" class=\"data row5 col0\" >73.38%</td>\n",
       "      <td id=\"T_cb160_row5_col1\" class=\"data row5 col1\" >72.53%</td>\n",
       "      <td id=\"T_cb160_row5_col2\" class=\"data row5 col2\" >73.38%</td>\n",
       "      <td id=\"T_cb160_row5_col3\" class=\"data row5 col3\" >26.62%</td>\n",
       "      <td id=\"T_cb160_row5_col4\" class=\"data row5 col4\" >50.00%</td>\n",
       "      <td id=\"T_cb160_row5_col5\" class=\"data row5 col5\" >71.93%</td>\n",
       "    </tr>\n",
       "    <tr>\n",
       "      <th id=\"T_cb160_level0_row6\" class=\"row_heading level0 row6\" >SVC (Poly)</th>\n",
       "      <td id=\"T_cb160_row6_col0\" class=\"data row6 col0\" >72.08%</td>\n",
       "      <td id=\"T_cb160_row6_col1\" class=\"data row6 col1\" >71.14%</td>\n",
       "      <td id=\"T_cb160_row6_col2\" class=\"data row6 col2\" >72.08%</td>\n",
       "      <td id=\"T_cb160_row6_col3\" class=\"data row6 col3\" >27.92%</td>\n",
       "      <td id=\"T_cb160_row6_col4\" class=\"data row6 col4\" >50.00%</td>\n",
       "      <td id=\"T_cb160_row6_col5\" class=\"data row6 col5\" >70.03%</td>\n",
       "    </tr>\n",
       "    <tr>\n",
       "      <th id=\"T_cb160_level0_row7\" class=\"row_heading level0 row7\" >SVC (Sigmoid)</th>\n",
       "      <td id=\"T_cb160_row7_col0\" class=\"data row7 col0\" >64.94%</td>\n",
       "      <td id=\"T_cb160_row7_col1\" class=\"data row7 col1\" >42.17%</td>\n",
       "      <td id=\"T_cb160_row7_col2\" class=\"data row7 col2\" >64.94%</td>\n",
       "      <td id=\"T_cb160_row7_col3\" class=\"data row7 col3\" >35.06%</td>\n",
       "      <td id=\"T_cb160_row7_col4\" class=\"data row7 col4\" >50.00%</td>\n",
       "      <td id=\"T_cb160_row7_col5\" class=\"data row7 col5\" >51.13%</td>\n",
       "    </tr>\n",
       "    <tr>\n",
       "      <th id=\"T_cb160_level0_row8\" class=\"row_heading level0 row8\" >ANN</th>\n",
       "      <td id=\"T_cb160_row8_col0\" class=\"data row8 col0\" >68.83%</td>\n",
       "      <td id=\"T_cb160_row8_col1\" class=\"data row8 col1\" >67.12%</td>\n",
       "      <td id=\"T_cb160_row8_col2\" class=\"data row8 col2\" >68.83%</td>\n",
       "      <td id=\"T_cb160_row8_col3\" class=\"data row8 col3\" >31.17%</td>\n",
       "      <td id=\"T_cb160_row8_col4\" class=\"data row8 col4\" >50.00%</td>\n",
       "      <td id=\"T_cb160_row8_col5\" class=\"data row8 col5\" >66.05%</td>\n",
       "    </tr>\n",
       "    <tr>\n",
       "      <th id=\"T_cb160_level0_row9\" class=\"row_heading level0 row9\" >Naive Bayes (GaussianNB)</th>\n",
       "      <td id=\"T_cb160_row9_col0\" class=\"data row9 col0\" >68.83%</td>\n",
       "      <td id=\"T_cb160_row9_col1\" class=\"data row9 col1\" >69.40%</td>\n",
       "      <td id=\"T_cb160_row9_col2\" class=\"data row9 col2\" >68.83%</td>\n",
       "      <td id=\"T_cb160_row9_col3\" class=\"data row9 col3\" >31.17%</td>\n",
       "      <td id=\"T_cb160_row9_col4\" class=\"data row9 col4\" >50.00%</td>\n",
       "      <td id=\"T_cb160_row9_col5\" class=\"data row9 col5\" >69.07%</td>\n",
       "    </tr>\n",
       "    <tr>\n",
       "      <th id=\"T_cb160_level0_row10\" class=\"row_heading level0 row10\" >Naive Bayes (BernoulliNB)</th>\n",
       "      <td id=\"T_cb160_row10_col0\" class=\"data row10 col0\" >64.94%</td>\n",
       "      <td id=\"T_cb160_row10_col1\" class=\"data row10 col1\" >42.17%</td>\n",
       "      <td id=\"T_cb160_row10_col2\" class=\"data row10 col2\" >64.94%</td>\n",
       "      <td id=\"T_cb160_row10_col3\" class=\"data row10 col3\" >35.06%</td>\n",
       "      <td id=\"T_cb160_row10_col4\" class=\"data row10 col4\" >50.00%</td>\n",
       "      <td id=\"T_cb160_row10_col5\" class=\"data row10 col5\" >51.13%</td>\n",
       "    </tr>\n",
       "    <tr>\n",
       "      <th id=\"T_cb160_level0_row11\" class=\"row_heading level0 row11\" >VotingClassifier</th>\n",
       "      <td id=\"T_cb160_row11_col0\" class=\"data row11 col0\" >74.03%</td>\n",
       "      <td id=\"T_cb160_row11_col1\" class=\"data row11 col1\" >73.49%</td>\n",
       "      <td id=\"T_cb160_row11_col2\" class=\"data row11 col2\" >74.03%</td>\n",
       "      <td id=\"T_cb160_row11_col3\" class=\"data row11 col3\" >25.97%</td>\n",
       "      <td id=\"T_cb160_row11_col4\" class=\"data row11 col4\" >50.00%</td>\n",
       "      <td id=\"T_cb160_row11_col5\" class=\"data row11 col5\" >73.64%</td>\n",
       "    </tr>\n",
       "  </tbody>\n",
       "</table>\n"
      ],
      "text/plain": [
       "<pandas.io.formats.style.Styler at 0x13787e850>"
      ]
     },
     "execution_count": 49,
     "metadata": {},
     "output_type": "execute_result"
    }
   ],
   "source": [
    "# Define function to calculate classification error and specificity\n",
    "\n",
    "def classification_error(y_true, y_pred):\n",
    "    return 1 - accuracy_score(y_true, y_pred)\n",
    "\n",
    "def specificity(y_true, y_pred):\n",
    "    cm = confusion_matrix(y_true, y_pred)\n",
    "    tn = cm.sum(axis=1) - cm.diagonal()  # True negatives for each class\n",
    "    fp = cm.sum(axis=0) - cm.diagonal()  # False positives for each class\n",
    "    specificity_per_class = tn / (tn + fp + 1e-10)  # Avoid division by zero\n",
    "    return specificity_per_class.mean()  # Average specificity across all classes\n",
    "\n",
    "tuned_model_scores = {\n",
    "     \"KNN\": {\n",
    "        \"Accuracy\": accuracy_score(y_test, rs_knn.predict(X_test)),\n",
    "        \"Precision\": precision_score(y_test, rs_knn.predict(X_test), average=\"weighted\"),\n",
    "        \"Recall (Sensitivity)\": recall_score(y_test, rs_knn.predict(X_test), average=\"weighted\"),\n",
    "        \"Classification Error\": classification_error(y_test, rs_knn.predict(X_test)),\n",
    "        \"Specificity\": specificity(y_test, rs_knn.predict(X_test)),\n",
    "        \"F1 Score\": f1_score(y_test, rs_knn.predict(X_test), average=\"weighted\"),\n",
    "    },\n",
    "    \"Logistic Regression\": {\n",
    "        \"Accuracy\": accuracy_score(y_test, rs_log_reg.predict(X_test)),\n",
    "        \"Precision\": precision_score(y_test, rs_log_reg.predict(X_test), average=\"weighted\"),\n",
    "        \"Recall (Sensitivity)\": recall_score(y_test, rs_log_reg.predict(X_test), average=\"weighted\"),\n",
    "        \"Classification Error\": classification_error(y_test, rs_log_reg.predict(X_test)),\n",
    "        \"Specificity\": specificity(y_test, rs_log_reg.predict(X_test)),\n",
    "        \"F1 Score\": f1_score(y_test, rs_log_reg.predict(X_test), average=\"weighted\"),\n",
    "    },\n",
    "    \"Random Forest\": {\n",
    "        \"Accuracy\": accuracy_score(y_test, rs_rf.predict(X_test)),\n",
    "        \"Precision\": precision_score(y_test, rs_rf.predict(X_test), average=\"weighted\"),\n",
    "        \"Recall (Sensitivity)\": recall_score(y_test, rs_rf.predict(X_test), average=\"weighted\"),\n",
    "        \"Classification Error\": classification_error(y_test, rs_rf.predict(X_test)),\n",
    "        \"Specificity\": specificity(y_test, rs_rf.predict(X_test)),\n",
    "        \"F1 Score\": f1_score(y_test, rs_rf.predict(X_test), average=\"weighted\"),\n",
    "    },\n",
    "    \"Decision Tree\": {\n",
    "        \"Accuracy\": accuracy_score(y_test, rs_dt.predict(X_test)),\n",
    "        \"Precision\": precision_score(y_test, rs_dt.predict(X_test), average=\"weighted\"),\n",
    "        \"Recall (Sensitivity)\": recall_score(y_test, rs_dt.predict(X_test), average=\"weighted\"),\n",
    "        \"Classification Error\": classification_error(y_test, rs_dt.predict(X_test)),\n",
    "        \"Specificity\": specificity(y_test, rs_dt.predict(X_test)),\n",
    "        \"F1 Score\": f1_score(y_test, rs_dt.predict(X_test), average=\"weighted\"),\n",
    "    },\n",
    "    \"SVC (Linear)\": {\n",
    "        \"Accuracy\": accuracy_score(y_test, rs_svc_linear.predict(X_test)),\n",
    "        \"Precision\": precision_score(y_test, rs_svc_linear.predict(X_test), average=\"weighted\"),\n",
    "        \"Recall (Sensitivity)\": recall_score(y_test, rs_svc_linear.predict(X_test), average=\"weighted\"),\n",
    "        \"Classification Error\": classification_error(y_test, rs_svc_linear.predict(X_test)),\n",
    "        \"Specificity\": specificity(y_test, rs_svc_linear.predict(X_test)),\n",
    "        \"F1 Score\": f1_score(y_test, rs_svc_linear.predict(X_test), average=\"weighted\"),\n",
    "    },\n",
    "    \"SVC (RBF)\": {\n",
    "        \"Accuracy\": accuracy_score(y_test, rs_svc_rbf.predict(X_test)),\n",
    "        \"Precision\": precision_score(y_test, rs_svc_rbf.predict(X_test), average=\"weighted\"),\n",
    "        \"Recall (Sensitivity)\": recall_score(y_test, rs_svc_rbf.predict(X_test), average=\"weighted\"),\n",
    "        \"Classification Error\": classification_error(y_test, rs_svc_rbf.predict(X_test)),\n",
    "        \"Specificity\": specificity(y_test, rs_svc_rbf.predict(X_test)),\n",
    "        \"F1 Score\": f1_score(y_test, rs_svc_rbf.predict(X_test), average=\"weighted\"),\n",
    "    },\n",
    "    \"SVC (Poly)\": {\n",
    "        \"Accuracy\": accuracy_score(y_test, rs_svc_poly.predict(X_test)),\n",
    "        \"Precision\": precision_score(y_test, rs_svc_poly.predict(X_test), average=\"weighted\"),\n",
    "        \"Recall (Sensitivity)\": recall_score(y_test, rs_svc_poly.predict(X_test), average=\"weighted\"),\n",
    "        \"Classification Error\": classification_error(y_test, rs_svc_poly.predict(X_test)),\n",
    "        \"Specificity\": specificity(y_test, rs_svc_poly.predict(X_test)),\n",
    "        \"F1 Score\": f1_score(y_test, rs_svc_poly.predict(X_test), average=\"weighted\"),\n",
    "    },\n",
    "    \"SVC (Sigmoid)\": {\n",
    "        \"Accuracy\": accuracy_score(y_test, rs_svc_sigmoid.predict(X_test)),\n",
    "        \"Precision\": precision_score(y_test, rs_svc_sigmoid.predict(X_test), average=\"weighted\"),\n",
    "        \"Recall (Sensitivity)\": recall_score(y_test, rs_svc_sigmoid.predict(X_test), average=\"weighted\"),\n",
    "        \"Classification Error\": classification_error(y_test, rs_svc_sigmoid.predict(X_test)),\n",
    "        \"Specificity\": specificity(y_test, rs_svc_sigmoid.predict(X_test)),\n",
    "        \"F1 Score\": f1_score(y_test, rs_svc_sigmoid.predict(X_test), average=\"weighted\"),\n",
    "    },\n",
    "    \"ANN\": {\n",
    "        \"Accuracy\": accuracy_score(y_test, rs_ann.predict(X_test)),\n",
    "        \"Precision\": precision_score(y_test, rs_ann.predict(X_test), average=\"weighted\"),\n",
    "        \"Recall (Sensitivity)\": recall_score(y_test, rs_ann.predict(X_test), average=\"weighted\"),\n",
    "        \"Classification Error\": classification_error(y_test, rs_ann.predict(X_test)),\n",
    "        \"Specificity\": specificity(y_test, rs_ann.predict(X_test)),\n",
    "        \"F1 Score\": f1_score(y_test, rs_ann.predict(X_test), average=\"weighted\"),\n",
    "    },\n",
    "    \"Naive Bayes (GaussianNB)\": {\n",
    "        \"Accuracy\": accuracy_score(y_test, rs_nb_gaussian.predict(X_test)),\n",
    "        \"Precision\": precision_score(y_test, rs_nb_gaussian.predict(X_test), average=\"weighted\"),\n",
    "        \"Recall (Sensitivity)\": recall_score(y_test, rs_nb_gaussian.predict(X_test), average=\"weighted\"),\n",
    "        \"Classification Error\": classification_error(y_test, rs_nb_gaussian.predict(X_test)),\n",
    "        \"Specificity\": specificity(y_test, rs_nb_gaussian.predict(X_test)),\n",
    "        \"F1 Score\": f1_score(y_test, rs_nb_gaussian.predict(X_test), average=\"weighted\"),\n",
    "    },\n",
    "    \"Naive Bayes (BernoulliNB)\": {\n",
    "        \"Accuracy\": accuracy_score(y_test, rs_nb_bernoulli.predict(X_test)),\n",
    "        \"Precision\": precision_score(y_test, rs_nb_bernoulli.predict(X_test), average=\"weighted\"),\n",
    "        \"Recall (Sensitivity)\": recall_score(y_test, rs_nb_bernoulli.predict(X_test), average=\"weighted\"),\n",
    "        \"Classification Error\": classification_error(y_test, rs_nb_bernoulli.predict(X_test)),\n",
    "        \"Specificity\": specificity(y_test, rs_nb_bernoulli.predict(X_test)),\n",
    "        \"F1 Score\": f1_score(y_test, rs_nb_bernoulli.predict(X_test), average=\"weighted\"),\n",
    "    },\n",
    "    \"VotingClassifier\": {\n",
    "        \"Accuracy\": accuracy_score(y_test, rs_voting.predict(X_test)),\n",
    "        \"Precision\": precision_score(y_test, rs_voting.predict(X_test), average=\"weighted\"),\n",
    "        \"Recall (Sensitivity)\": recall_score(y_test, rs_voting.predict(X_test), average=\"weighted\"),\n",
    "        \"Classification Error\": classification_error(y_test, rs_voting.predict(X_test)),\n",
    "        \"Specificity\": specificity(y_test, rs_voting.predict(X_test)),\n",
    "        \"F1 Score\": f1_score(y_test, rs_voting.predict(X_test), average=\"weighted\"),\n",
    "    }\n",
    "}\n",
    "\n",
    "# Convert results to a DataFrame\n",
    "tuned_model_comparison = pd.DataFrame(tuned_model_scores).T * 100  # Convert to percentages\n",
    "\n",
    "# Optional: Pretty-print the table\n",
    "tuned_model_comparison.style.format({\"Accuracy\": \"{:.2f}%\",\n",
    "    \"Precision\": \"{:.2f}%\",\n",
    "    \"Recall (Sensitivity)\": \"{:.2f}%\",\n",
    "    \"Classification Error\": \"{:.2f}%\",\n",
    "    \"Specificity\": \"{:.2f}%\",\n",
    "    \"F1 Score\": \"{:.2f}%\"})"
   ]
  },
  {
   "cell_type": "markdown",
   "metadata": {},
   "source": [
    "### 5.3 Tuning models with GridSearchCV"
   ]
  },
  {
   "cell_type": "markdown",
   "metadata": {},
   "source": [
    "The difference between RandomizedSearchCV and GridSearchCV is:\n",
    "\n",
    "- sklearn.model_selection.RandomizedSearchCV searches over a grid of hyperparameters performing n_iter combinations (e.g. will explore random combinations of the hyperparameters for a defined number of iterations).\n",
    "- sklearn.model_selection.GridSearchCV will test every single possible combination of hyperparameters in the grid (this is a thorough test but can take quite a long time)."
   ]
  },
  {
   "cell_type": "code",
   "execution_count": 50,
   "metadata": {
    "execution": {
     "iopub.execute_input": "2025-01-07T14:57:04.496209Z",
     "iopub.status.busy": "2025-01-07T14:57:04.496125Z",
     "iopub.status.idle": "2025-01-07T14:57:34.085057Z",
     "shell.execute_reply": "2025-01-07T14:57:34.084782Z"
    }
   },
   "outputs": [
    {
     "name": "stdout",
     "output_type": "stream",
     "text": [
      "Fitting 5 folds for each of 2560 candidates, totalling 12800 fits\n"
     ]
    },
    {
     "name": "stdout",
     "output_type": "stream",
     "text": [
      "Best parameters for KNN with GridSearchCV: {'algorithm': 'auto', 'leaf_size': np.int64(20), 'n_neighbors': np.int64(12), 'p': 2, 'weights': 'uniform'}\n",
      "GridSearchCV (KNN) model test score: 0.7012987012987013\n"
     ]
    }
   ],
   "source": [
    "# KNeighborsClassifier with GridSearchCV\n",
    "\n",
    "# Setup grid hyperparameter search for KNN\n",
    "gs_knn = GridSearchCV(KNeighborsClassifier(),\n",
    "                      param_grid=knn_grid,\n",
    "                      cv=5,\n",
    "                      verbose=True)\n",
    "\n",
    "# Fit grid hyperparameter search for KNN\n",
    "gs_knn.fit(X_train, y_train)\n",
    "\n",
    "print(\"Best parameters for KNN with GridSearchCV:\", gs_knn.best_params_)\n",
    "\n",
    "print(\"GridSearchCV (KNN) model test score:\", gs_knn.score(X_test, y_test))"
   ]
  },
  {
   "cell_type": "code",
   "execution_count": 51,
   "metadata": {
    "execution": {
     "iopub.execute_input": "2025-01-07T14:57:34.086333Z",
     "iopub.status.busy": "2025-01-07T14:57:34.086249Z",
     "iopub.status.idle": "2025-01-07T14:57:34.271034Z",
     "shell.execute_reply": "2025-01-07T14:57:34.270733Z"
    }
   },
   "outputs": [
    {
     "name": "stdout",
     "output_type": "stream",
     "text": [
      "Fitting 5 folds for each of 20 candidates, totalling 100 fits\n",
      "Best parameters for Logistic Regression with GridSearchCV: {'C': np.float64(78.47599703514607), 'solver': 'liblinear'}\n",
      "GridSearchCV (Logistic Regression) model test score: 0.7142857142857143\n"
     ]
    }
   ],
   "source": [
    "# Logistic Regression with GridSearchCV\n",
    "\n",
    "# Setup grid hyperparameter search for LogisticRegression\n",
    "gs_log_reg = GridSearchCV(LogisticRegression(),\n",
    "                          param_grid=log_reg_grid,\n",
    "                          cv=5,\n",
    "                          verbose=True)\n",
    "\n",
    "# Fit grid hyperparameter search model\n",
    "gs_log_reg.fit(X_train, y_train)\n",
    "\n",
    "\n",
    "print(\"Best parameters for Logistic Regression with GridSearchCV:\", gs_log_reg.best_params_)\n",
    "\n",
    "print(\"GridSearchCV (Logistic Regression) model test score:\", gs_log_reg.score(X_test, y_test))"
   ]
  },
  {
   "cell_type": "code",
   "execution_count": 52,
   "metadata": {
    "execution": {
     "iopub.execute_input": "2025-01-07T14:57:34.272280Z",
     "iopub.status.busy": "2025-01-07T14:57:34.272188Z",
     "iopub.status.idle": "2025-01-07T14:58:24.125390Z",
     "shell.execute_reply": "2025-01-07T14:58:24.125101Z"
    }
   },
   "outputs": [
    {
     "name": "stdout",
     "output_type": "stream",
     "text": [
      "Fitting 3 folds for each of 540 candidates, totalling 1620 fits\n"
     ]
    },
    {
     "name": "stdout",
     "output_type": "stream",
     "text": [
      "Best parameters for Random Forest with GridSearchCV: {'max_depth': 5, 'min_samples_leaf': np.int64(3), 'min_samples_split': np.int64(2), 'n_estimators': np.int64(50)}\n",
      "GridSearchCV (Random Forest) model test score: 0.7207792207792207\n"
     ]
    }
   ],
   "source": [
    "# RandomForestClassifier with GridSearchCV\n",
    "\n",
    "# Setup grid hyperparameter search for RandomForestClassifier\n",
    "gs_rf = GridSearchCV(RandomForestClassifier(),\n",
    "                     param_grid=rf_grid,\n",
    "                     cv=3,\n",
    "                     n_jobs=-1,\n",
    "                     verbose=True)\n",
    "\n",
    "# Fit grid hyperparameter search for RandomForestClassifier\n",
    "gs_rf.fit(X_train, y_train)\n",
    "\n",
    "print(\"Best parameters for Random Forest with GridSearchCV:\", gs_rf.best_params_)\n",
    "\n",
    "print(\"GridSearchCV (Random Forest) model test score:\", gs_rf.score(X_test, y_test))"
   ]
  },
  {
   "cell_type": "code",
   "execution_count": 53,
   "metadata": {
    "execution": {
     "iopub.execute_input": "2025-01-07T14:58:24.126649Z",
     "iopub.status.busy": "2025-01-07T14:58:24.126564Z",
     "iopub.status.idle": "2025-01-07T14:58:33.946114Z",
     "shell.execute_reply": "2025-01-07T14:58:33.945809Z"
    }
   },
   "outputs": [
    {
     "name": "stdout",
     "output_type": "stream",
     "text": [
      "Fitting 5 folds for each of 1350 candidates, totalling 6750 fits\n"
     ]
    },
    {
     "name": "stdout",
     "output_type": "stream",
     "text": [
      "Best parameters for Decision Tree with GridSearchCV: {'max_depth': 5, 'max_features': 'log2', 'min_samples_leaf': np.int64(13), 'min_samples_split': np.int64(10)}\n",
      "GridSearchCV (Decision Tree) model test score: 0.7272727272727273\n"
     ]
    }
   ],
   "source": [
    "# DecisionTreeClassifier with GridSearchCV\n",
    "\n",
    "# Setup grid hyperparameter search for DecisionTreeClassifier\n",
    "gs_dt = GridSearchCV(DecisionTreeClassifier(),\n",
    "                     param_grid=dt_grid,\n",
    "                     cv=5,\n",
    "                     verbose=True)\n",
    "\n",
    "# Fit grid hyperparameter search for DecisionTreeClassifier\n",
    "gs_dt.fit(X_train, y_train)\n",
    "\n",
    "print(\"Best parameters for Decision Tree with GridSearchCV:\", gs_dt.best_params_)\n",
    "\n",
    "print(\"GridSearchCV (Decision Tree) model test score:\", gs_dt.score(X_test, y_test))"
   ]
  },
  {
   "cell_type": "code",
   "execution_count": 54,
   "metadata": {
    "execution": {
     "iopub.execute_input": "2025-01-07T14:58:33.947387Z",
     "iopub.status.busy": "2025-01-07T14:58:33.947278Z",
     "iopub.status.idle": "2025-01-07T15:01:56.167788Z",
     "shell.execute_reply": "2025-01-07T15:01:56.167416Z"
    }
   },
   "outputs": [
    {
     "name": "stdout",
     "output_type": "stream",
     "text": [
      "Fitting 5 folds for each of 5 candidates, totalling 25 fits\n"
     ]
    },
    {
     "name": "stdout",
     "output_type": "stream",
     "text": [
      "Best parameters for SVC (linear) with GridSearchCV: {'C': np.float64(10.0), 'gamma': 'scale', 'kernel': 'linear'}\n",
      "GridSearchCV (SVC linear) model test score: 0.7142857142857143\n"
     ]
    }
   ],
   "source": [
    "# SVC with linear kernel and GridSearchCV\n",
    "\n",
    "# Setup grid hyperparameter search for SVC\n",
    "gs_svc_linear = GridSearchCV(SVC(),\n",
    "                             param_grid=svc_grid_linear,\n",
    "                             cv=5,\n",
    "                             verbose=True)\n",
    "\n",
    "# Fit grid hyperparameter search for SVC\n",
    "gs_svc_linear.fit(X_train, y_train)\n",
    "\n",
    "print(\"Best parameters for SVC (linear) with GridSearchCV:\", gs_svc_linear.best_params_)\n",
    "\n",
    "print(\"GridSearchCV (SVC linear) model test score:\", gs_svc_linear.score(X_test, y_test))"
   ]
  },
  {
   "cell_type": "code",
   "execution_count": 55,
   "metadata": {
    "execution": {
     "iopub.execute_input": "2025-01-07T15:01:56.169105Z",
     "iopub.status.busy": "2025-01-07T15:01:56.169019Z",
     "iopub.status.idle": "2025-01-07T15:01:58.521185Z",
     "shell.execute_reply": "2025-01-07T15:01:58.520895Z"
    }
   },
   "outputs": [
    {
     "name": "stdout",
     "output_type": "stream",
     "text": [
      "Fitting 5 folds for each of 40 candidates, totalling 200 fits\n"
     ]
    },
    {
     "name": "stdout",
     "output_type": "stream",
     "text": [
      "Best parameters for SVC (RBF) with GridSearchCV: {'C': np.float64(4.281332398719396), 'gamma': 'scale', 'kernel': 'rbf'}\n",
      "GridSearchCV (SVC RBF) model test score: 0.7337662337662337\n"
     ]
    }
   ],
   "source": [
    "# SVC with RBF kernel and GridSearchCV\n",
    "\n",
    "# Setup grid hyperparameter search for SVC\n",
    "gs_svc_rbf = GridSearchCV(SVC(),\n",
    "                          param_grid=svc_grid_rbf,\n",
    "                          cv=5,\n",
    "                          verbose=True)\n",
    "\n",
    "# Fit grid hyperparameter search for SVC\n",
    "gs_svc_rbf.fit(X_train, y_train)\n",
    "\n",
    "print(\"Best parameters for SVC (RBF) with GridSearchCV:\", gs_svc_rbf.best_params_)\n",
    "\n",
    "print(\"GridSearchCV (SVC RBF) model test score:\", gs_svc_rbf.score(X_test, y_test))"
   ]
  },
  {
   "cell_type": "code",
   "execution_count": 37,
   "metadata": {
    "execution": {
     "iopub.execute_input": "2025-01-07T15:01:58.522490Z",
     "iopub.status.busy": "2025-01-07T15:01:58.522407Z",
     "iopub.status.idle": "2025-01-07T15:01:59.204813Z",
     "shell.execute_reply": "2025-01-07T15:01:59.204550Z"
    }
   },
   "outputs": [
    {
     "name": "stdout",
     "output_type": "stream",
     "text": [
      "Fitting 5 folds for each of 10 candidates, totalling 50 fits\n",
      "Best parameters for SVC (poly) with GridSearchCV: {'C': np.float64(10.0), 'degree': 2, 'gamma': 'scale', 'kernel': 'poly'}\n",
      "GridSearchCV (SVC poly) model test score: 0.7467532467532467\n"
     ]
    }
   ],
   "source": [
    "# SVC with poly kernel and GridSearchCV\n",
    "\n",
    "# Setup grid hyperparameter search for SVC\n",
    "gs_svc_poly = GridSearchCV(SVC(),\n",
    "                           param_grid=svc_grid_poly,\n",
    "                           cv=5,\n",
    "                           verbose=True,\n",
    "                           n_jobs=-1)\n",
    "\n",
    "# Fit grid hyperparameter search for SVC\n",
    "gs_svc_poly.fit(X_train, y_train)\n",
    "\n",
    "print(\"Best parameters for SVC (poly) with GridSearchCV:\", gs_svc_poly.best_params_)\n",
    "\n",
    "print(\"GridSearchCV (SVC poly) model test score:\", gs_svc_poly.score(X_test, y_test))"
   ]
  },
  {
   "cell_type": "code",
   "execution_count": 57,
   "metadata": {
    "execution": {
     "iopub.execute_input": "2025-01-07T15:01:59.206119Z",
     "iopub.status.busy": "2025-01-07T15:01:59.206016Z",
     "iopub.status.idle": "2025-01-07T15:01:59.411940Z",
     "shell.execute_reply": "2025-01-07T15:01:59.411672Z"
    }
   },
   "outputs": [
    {
     "name": "stdout",
     "output_type": "stream",
     "text": [
      "Fitting 5 folds for each of 10 candidates, totalling 50 fits\n"
     ]
    },
    {
     "name": "stdout",
     "output_type": "stream",
     "text": [
      "Best parameters for SVC (sigmoid) with GridSearchCV: {'C': np.float64(0.01), 'gamma': 'scale', 'kernel': 'sigmoid'}\n",
      "GridSearchCV (SVC sigmoid) model test score: 0.6493506493506493\n"
     ]
    }
   ],
   "source": [
    "# SVC with sigmoid kernel and GridSearchCV\n",
    "\n",
    "# Setup grid hyperparameter search for SVC\n",
    "gs_svc_sigmoid = GridSearchCV(SVC(),\n",
    "                              param_grid=svc_grid_sigmoid,\n",
    "                              cv=5,\n",
    "                              verbose=True)\n",
    "\n",
    "# Fit grid hyperparameter search for SVC\n",
    "gs_svc_sigmoid.fit(X_train, y_train)\n",
    "\n",
    "print(\"Best parameters for SVC (sigmoid) with GridSearchCV:\", gs_svc_sigmoid.best_params_)\n",
    "\n",
    "print(\"GridSearchCV (SVC sigmoid) model test score:\", gs_svc_sigmoid.score(X_test, y_test))"
   ]
  },
  {
   "cell_type": "code",
   "execution_count": 58,
   "metadata": {
    "execution": {
     "iopub.execute_input": "2025-01-07T15:01:59.413127Z",
     "iopub.status.busy": "2025-01-07T15:01:59.413027Z",
     "iopub.status.idle": "2025-01-07T15:02:50.828973Z",
     "shell.execute_reply": "2025-01-07T15:02:50.828648Z"
    }
   },
   "outputs": [
    {
     "name": "stdout",
     "output_type": "stream",
     "text": [
      "Fitting 5 folds for each of 240 candidates, totalling 1200 fits\n"
     ]
    },
    {
     "name": "stdout",
     "output_type": "stream",
     "text": [
      "Best parameters for ANN with GridSearchCV: {'activation': 'relu', 'alpha': np.float64(21.54434690031882), 'hidden_layer_sizes': (50, 50), 'learning_rate': 'adaptive', 'solver': 'adam'}\n",
      "GridSearchCV (ANN) model test score: 0.7077922077922078\n"
     ]
    }
   ],
   "source": [
    "# ANN with GridSearchCV\n",
    "\n",
    "# Setup grid hyperparameter search for ANN (MLPClassifier)\n",
    "gs_ann = GridSearchCV(MLPClassifier(max_iter=5000),\n",
    "                      param_grid=ann_grid,\n",
    "                      cv=5,\n",
    "                      verbose=True,\n",
    "                      n_jobs=-1)\n",
    "\n",
    "# Fit grid hyperparameter search for ANN\n",
    "gs_ann.fit(X_train, y_train)\n",
    "\n",
    "print(\"Best parameters for ANN with GridSearchCV:\", gs_ann.best_params_)\n",
    "\n",
    "print(\"GridSearchCV (ANN) model test score:\", gs_ann.score(X_test, y_test))"
   ]
  },
  {
   "cell_type": "code",
   "execution_count": 59,
   "metadata": {
    "execution": {
     "iopub.execute_input": "2025-01-07T15:02:50.830336Z",
     "iopub.status.busy": "2025-01-07T15:02:50.830226Z",
     "iopub.status.idle": "2025-01-07T15:02:50.887308Z",
     "shell.execute_reply": "2025-01-07T15:02:50.887006Z"
    }
   },
   "outputs": [
    {
     "name": "stdout",
     "output_type": "stream",
     "text": [
      "Fitting 5 folds for each of 10 candidates, totalling 50 fits\n",
      "Best parameters for Gaussian Naive Bayes with GridSearchCV: {'var_smoothing': np.float64(1e-05)}\n",
      "GridSearchCV (Gaussian Naive Bayes) model test score: 0.6883116883116883\n"
     ]
    }
   ],
   "source": [
    "# Naive Bayes (GaussianNB) with GridSearchCV\n",
    "\n",
    "# Setup grid hyperparameter search for Naive Bayes (GaussianNB)\n",
    "gs_nb_gaussian = GridSearchCV(GaussianNB(),\n",
    "                              param_grid=nb_gaussian_grid,\n",
    "                              cv=5,\n",
    "                              verbose=True)\n",
    "\n",
    "# Fit grid hyperparameter search for Naive Bayes (GaussianNB)\n",
    "gs_nb_gaussian.fit(X_train, y_train)\n",
    "\n",
    "print(\"Best parameters for Gaussian Naive Bayes with GridSearchCV:\", gs_nb_gaussian.best_params_)\n",
    "\n",
    "print(\"GridSearchCV (Gaussian Naive Bayes) model test score:\", gs_nb_gaussian.score(X_test, y_test))"
   ]
  },
  {
   "cell_type": "code",
   "execution_count": 60,
   "metadata": {
    "execution": {
     "iopub.execute_input": "2025-01-07T15:02:50.888569Z",
     "iopub.status.busy": "2025-01-07T15:02:50.888488Z",
     "iopub.status.idle": "2025-01-07T15:02:51.356029Z",
     "shell.execute_reply": "2025-01-07T15:02:51.355756Z"
    }
   },
   "outputs": [
    {
     "name": "stdout",
     "output_type": "stream",
     "text": [
      "Fitting 5 folds for each of 80 candidates, totalling 400 fits\n"
     ]
    },
    {
     "name": "stdout",
     "output_type": "stream",
     "text": [
      "Best parameters for Bernoulli Naive Bayes with GridSearchCV: {'alpha': np.float64(206.913808111479), 'binarize': 0.0}\n",
      "GridSearchCV (Bernoulli Naive Bayes) model test score: 0.6493506493506493\n"
     ]
    }
   ],
   "source": [
    "# Naive Bayes (BernoulliNB) with GridSearchCV\n",
    "\n",
    "# Setup grid hyperparameter search for Naive Bayes (BernoulliNB)\n",
    "gs_nb_bernoulli = GridSearchCV(BernoulliNB(),\n",
    "                               param_grid=nb_bernoulli_grid,\n",
    "                               cv=5,\n",
    "                               verbose=True)\n",
    "\n",
    "# Fit grid hyperparameter search for Naive Bayes (BernoulliNB)\n",
    "gs_nb_bernoulli.fit(X_train, y_train)\n",
    "\n",
    "print(\"Best parameters for Bernoulli Naive Bayes with GridSearchCV:\", gs_nb_bernoulli.best_params_)\n",
    "\n",
    "print(\"GridSearchCV (Bernoulli Naive Bayes) model test score:\", gs_nb_bernoulli.score(X_test, y_test))"
   ]
  },
  {
   "cell_type": "code",
   "execution_count": 61,
   "metadata": {
    "execution": {
     "iopub.execute_input": "2025-01-07T15:02:51.357253Z",
     "iopub.status.busy": "2025-01-07T15:02:51.357155Z",
     "iopub.status.idle": "2025-01-07T15:02:57.832087Z",
     "shell.execute_reply": "2025-01-07T15:02:57.831816Z"
    }
   },
   "outputs": [
    {
     "name": "stdout",
     "output_type": "stream",
     "text": [
      "Fitting 5 folds for each of 16 candidates, totalling 80 fits\n"
     ]
    },
    {
     "name": "stdout",
     "output_type": "stream",
     "text": [
      "Best parameters for VotingClassifier with GridSearchCV: {'flatten_transform': False, 'voting': 'hard', 'weights': [1, 2, 1, 1]}\n",
      "GridSearchCV (VotingClassifier) model test score: 0.7467532467532467\n"
     ]
    }
   ],
   "source": [
    "# VotingClassifier with GridSearchCV\n",
    "\n",
    "# Setup grid hyperparameter search for VotingClassifier\n",
    "gs_voting = GridSearchCV(VotingClassifier(estimators=[('log_reg', log_reg), ('rf', rf), \n",
    "                                                    #   ('svc', svc),\n",
    "                                                      ('naive_bayes', naive_bayes), ('knn', knn)], voting='soft'),\n",
    "                         param_grid=voting_grid,\n",
    "                         cv=5,\n",
    "                         verbose=True)\n",
    "\n",
    "# Fit grid hyperparameter search for VotingClassifier\n",
    "gs_voting.fit(X_train, y_train)\n",
    "\n",
    "print(\"Best parameters for VotingClassifier with GridSearchCV:\", gs_voting.best_params_)\n",
    "\n",
    "print(\"GridSearchCV (VotingClassifier) model test score:\", gs_voting.score(X_test, y_test))"
   ]
  },
  {
   "cell_type": "code",
   "execution_count": 62,
   "metadata": {
    "execution": {
     "iopub.execute_input": "2025-01-07T15:02:57.833433Z",
     "iopub.status.busy": "2025-01-07T15:02:57.833340Z",
     "iopub.status.idle": "2025-01-07T15:02:57.981195Z",
     "shell.execute_reply": "2025-01-07T15:02:57.980964Z"
    }
   },
   "outputs": [
    {
     "name": "stdout",
     "output_type": "stream",
     "text": [
      "                            Accuracy  Precision  Sensitivity (Recall)  \\\n",
      "KNN                        70.129870  68.885851             70.129870   \n",
      "Logistic Regression        71.428571  70.646423             71.428571   \n",
      "Random Forest              73.376623  72.558031             73.376623   \n",
      "Decision Tree              69.480519  68.471688             69.480519   \n",
      "SVC (Linear)               71.428571  70.646423             71.428571   \n",
      "SVC (RBF)                  73.376623  72.501412             73.376623   \n",
      "SVC (Poly)                 74.675325  73.965165             74.675325   \n",
      "SVC (Sigmoid)              64.935065  42.165627             64.935065   \n",
      "ANN                        70.779221  69.904898             70.779221   \n",
      "Naive Bayes (GaussianNB)   68.831169  69.400284             68.831169   \n",
      "Naive Bayes (BernoulliNB)  64.935065  42.165627             64.935065   \n",
      "VotingClassifier           74.675325  74.104996             74.675325   \n",
      "\n",
      "                           Classification Error  Specificity  F1 Measure  \n",
      "KNN                                   29.870130         50.0   68.882559  \n",
      "Logistic Regression                   28.571429         50.0   70.835165  \n",
      "Random Forest                         26.623377         50.0   72.561025  \n",
      "Decision Tree                         30.519481         50.0   65.384832  \n",
      "SVC (Linear)                          28.571429         50.0   70.835165  \n",
      "SVC (RBF)                             26.623377         50.0   72.158299  \n",
      "SVC (Poly)                            25.324675         50.0   73.516431  \n",
      "SVC (Sigmoid)                         35.064935         50.0   51.129972  \n",
      "ANN                                   29.220779         50.0   67.646891  \n",
      "Naive Bayes (GaussianNB)              31.168831         50.0   69.069706  \n",
      "Naive Bayes (BernoulliNB)             35.064935         50.0   51.129972  \n",
      "VotingClassifier                      25.324675         50.0   74.225932  \n"
     ]
    },
    {
     "name": "stderr",
     "output_type": "stream",
     "text": [
      "/opt/miniconda3/envs/data_mining/lib/python3.13/site-packages/sklearn/metrics/_classification.py:1565: UndefinedMetricWarning: Precision is ill-defined and being set to 0.0 in labels with no predicted samples. Use `zero_division` parameter to control this behavior.\n",
      "  _warn_prf(average, modifier, f\"{metric.capitalize()} is\", len(result))\n",
      "/opt/miniconda3/envs/data_mining/lib/python3.13/site-packages/sklearn/metrics/_classification.py:1565: UndefinedMetricWarning: Precision is ill-defined and being set to 0.0 in labels with no predicted samples. Use `zero_division` parameter to control this behavior.\n",
      "  _warn_prf(average, modifier, f\"{metric.capitalize()} is\", len(result))\n"
     ]
    },
    {
     "data": {
      "text/html": [
       "<style type=\"text/css\">\n",
       "</style>\n",
       "<table id=\"T_94fca\">\n",
       "  <thead>\n",
       "    <tr>\n",
       "      <th class=\"blank level0\" >&nbsp;</th>\n",
       "      <th id=\"T_94fca_level0_col0\" class=\"col_heading level0 col0\" >Accuracy</th>\n",
       "      <th id=\"T_94fca_level0_col1\" class=\"col_heading level0 col1\" >Precision</th>\n",
       "      <th id=\"T_94fca_level0_col2\" class=\"col_heading level0 col2\" >Sensitivity (Recall)</th>\n",
       "      <th id=\"T_94fca_level0_col3\" class=\"col_heading level0 col3\" >Classification Error</th>\n",
       "      <th id=\"T_94fca_level0_col4\" class=\"col_heading level0 col4\" >Specificity</th>\n",
       "      <th id=\"T_94fca_level0_col5\" class=\"col_heading level0 col5\" >F1 Measure</th>\n",
       "    </tr>\n",
       "  </thead>\n",
       "  <tbody>\n",
       "    <tr>\n",
       "      <th id=\"T_94fca_level0_row0\" class=\"row_heading level0 row0\" >KNN</th>\n",
       "      <td id=\"T_94fca_row0_col0\" class=\"data row0 col0\" >70.13%</td>\n",
       "      <td id=\"T_94fca_row0_col1\" class=\"data row0 col1\" >68.89%</td>\n",
       "      <td id=\"T_94fca_row0_col2\" class=\"data row0 col2\" >70.13%</td>\n",
       "      <td id=\"T_94fca_row0_col3\" class=\"data row0 col3\" >29.87%</td>\n",
       "      <td id=\"T_94fca_row0_col4\" class=\"data row0 col4\" >50.00%</td>\n",
       "      <td id=\"T_94fca_row0_col5\" class=\"data row0 col5\" >68.88%</td>\n",
       "    </tr>\n",
       "    <tr>\n",
       "      <th id=\"T_94fca_level0_row1\" class=\"row_heading level0 row1\" >Logistic Regression</th>\n",
       "      <td id=\"T_94fca_row1_col0\" class=\"data row1 col0\" >71.43%</td>\n",
       "      <td id=\"T_94fca_row1_col1\" class=\"data row1 col1\" >70.65%</td>\n",
       "      <td id=\"T_94fca_row1_col2\" class=\"data row1 col2\" >71.43%</td>\n",
       "      <td id=\"T_94fca_row1_col3\" class=\"data row1 col3\" >28.57%</td>\n",
       "      <td id=\"T_94fca_row1_col4\" class=\"data row1 col4\" >50.00%</td>\n",
       "      <td id=\"T_94fca_row1_col5\" class=\"data row1 col5\" >70.84%</td>\n",
       "    </tr>\n",
       "    <tr>\n",
       "      <th id=\"T_94fca_level0_row2\" class=\"row_heading level0 row2\" >Random Forest</th>\n",
       "      <td id=\"T_94fca_row2_col0\" class=\"data row2 col0\" >73.38%</td>\n",
       "      <td id=\"T_94fca_row2_col1\" class=\"data row2 col1\" >72.56%</td>\n",
       "      <td id=\"T_94fca_row2_col2\" class=\"data row2 col2\" >73.38%</td>\n",
       "      <td id=\"T_94fca_row2_col3\" class=\"data row2 col3\" >26.62%</td>\n",
       "      <td id=\"T_94fca_row2_col4\" class=\"data row2 col4\" >50.00%</td>\n",
       "      <td id=\"T_94fca_row2_col5\" class=\"data row2 col5\" >72.56%</td>\n",
       "    </tr>\n",
       "    <tr>\n",
       "      <th id=\"T_94fca_level0_row3\" class=\"row_heading level0 row3\" >Decision Tree</th>\n",
       "      <td id=\"T_94fca_row3_col0\" class=\"data row3 col0\" >69.48%</td>\n",
       "      <td id=\"T_94fca_row3_col1\" class=\"data row3 col1\" >68.47%</td>\n",
       "      <td id=\"T_94fca_row3_col2\" class=\"data row3 col2\" >69.48%</td>\n",
       "      <td id=\"T_94fca_row3_col3\" class=\"data row3 col3\" >30.52%</td>\n",
       "      <td id=\"T_94fca_row3_col4\" class=\"data row3 col4\" >50.00%</td>\n",
       "      <td id=\"T_94fca_row3_col5\" class=\"data row3 col5\" >65.38%</td>\n",
       "    </tr>\n",
       "    <tr>\n",
       "      <th id=\"T_94fca_level0_row4\" class=\"row_heading level0 row4\" >SVC (Linear)</th>\n",
       "      <td id=\"T_94fca_row4_col0\" class=\"data row4 col0\" >71.43%</td>\n",
       "      <td id=\"T_94fca_row4_col1\" class=\"data row4 col1\" >70.65%</td>\n",
       "      <td id=\"T_94fca_row4_col2\" class=\"data row4 col2\" >71.43%</td>\n",
       "      <td id=\"T_94fca_row4_col3\" class=\"data row4 col3\" >28.57%</td>\n",
       "      <td id=\"T_94fca_row4_col4\" class=\"data row4 col4\" >50.00%</td>\n",
       "      <td id=\"T_94fca_row4_col5\" class=\"data row4 col5\" >70.84%</td>\n",
       "    </tr>\n",
       "    <tr>\n",
       "      <th id=\"T_94fca_level0_row5\" class=\"row_heading level0 row5\" >SVC (RBF)</th>\n",
       "      <td id=\"T_94fca_row5_col0\" class=\"data row5 col0\" >73.38%</td>\n",
       "      <td id=\"T_94fca_row5_col1\" class=\"data row5 col1\" >72.50%</td>\n",
       "      <td id=\"T_94fca_row5_col2\" class=\"data row5 col2\" >73.38%</td>\n",
       "      <td id=\"T_94fca_row5_col3\" class=\"data row5 col3\" >26.62%</td>\n",
       "      <td id=\"T_94fca_row5_col4\" class=\"data row5 col4\" >50.00%</td>\n",
       "      <td id=\"T_94fca_row5_col5\" class=\"data row5 col5\" >72.16%</td>\n",
       "    </tr>\n",
       "    <tr>\n",
       "      <th id=\"T_94fca_level0_row6\" class=\"row_heading level0 row6\" >SVC (Poly)</th>\n",
       "      <td id=\"T_94fca_row6_col0\" class=\"data row6 col0\" >74.68%</td>\n",
       "      <td id=\"T_94fca_row6_col1\" class=\"data row6 col1\" >73.97%</td>\n",
       "      <td id=\"T_94fca_row6_col2\" class=\"data row6 col2\" >74.68%</td>\n",
       "      <td id=\"T_94fca_row6_col3\" class=\"data row6 col3\" >25.32%</td>\n",
       "      <td id=\"T_94fca_row6_col4\" class=\"data row6 col4\" >50.00%</td>\n",
       "      <td id=\"T_94fca_row6_col5\" class=\"data row6 col5\" >73.52%</td>\n",
       "    </tr>\n",
       "    <tr>\n",
       "      <th id=\"T_94fca_level0_row7\" class=\"row_heading level0 row7\" >SVC (Sigmoid)</th>\n",
       "      <td id=\"T_94fca_row7_col0\" class=\"data row7 col0\" >64.94%</td>\n",
       "      <td id=\"T_94fca_row7_col1\" class=\"data row7 col1\" >42.17%</td>\n",
       "      <td id=\"T_94fca_row7_col2\" class=\"data row7 col2\" >64.94%</td>\n",
       "      <td id=\"T_94fca_row7_col3\" class=\"data row7 col3\" >35.06%</td>\n",
       "      <td id=\"T_94fca_row7_col4\" class=\"data row7 col4\" >50.00%</td>\n",
       "      <td id=\"T_94fca_row7_col5\" class=\"data row7 col5\" >51.13%</td>\n",
       "    </tr>\n",
       "    <tr>\n",
       "      <th id=\"T_94fca_level0_row8\" class=\"row_heading level0 row8\" >ANN</th>\n",
       "      <td id=\"T_94fca_row8_col0\" class=\"data row8 col0\" >70.78%</td>\n",
       "      <td id=\"T_94fca_row8_col1\" class=\"data row8 col1\" >69.90%</td>\n",
       "      <td id=\"T_94fca_row8_col2\" class=\"data row8 col2\" >70.78%</td>\n",
       "      <td id=\"T_94fca_row8_col3\" class=\"data row8 col3\" >29.22%</td>\n",
       "      <td id=\"T_94fca_row8_col4\" class=\"data row8 col4\" >50.00%</td>\n",
       "      <td id=\"T_94fca_row8_col5\" class=\"data row8 col5\" >67.65%</td>\n",
       "    </tr>\n",
       "    <tr>\n",
       "      <th id=\"T_94fca_level0_row9\" class=\"row_heading level0 row9\" >Naive Bayes (GaussianNB)</th>\n",
       "      <td id=\"T_94fca_row9_col0\" class=\"data row9 col0\" >68.83%</td>\n",
       "      <td id=\"T_94fca_row9_col1\" class=\"data row9 col1\" >69.40%</td>\n",
       "      <td id=\"T_94fca_row9_col2\" class=\"data row9 col2\" >68.83%</td>\n",
       "      <td id=\"T_94fca_row9_col3\" class=\"data row9 col3\" >31.17%</td>\n",
       "      <td id=\"T_94fca_row9_col4\" class=\"data row9 col4\" >50.00%</td>\n",
       "      <td id=\"T_94fca_row9_col5\" class=\"data row9 col5\" >69.07%</td>\n",
       "    </tr>\n",
       "    <tr>\n",
       "      <th id=\"T_94fca_level0_row10\" class=\"row_heading level0 row10\" >Naive Bayes (BernoulliNB)</th>\n",
       "      <td id=\"T_94fca_row10_col0\" class=\"data row10 col0\" >64.94%</td>\n",
       "      <td id=\"T_94fca_row10_col1\" class=\"data row10 col1\" >42.17%</td>\n",
       "      <td id=\"T_94fca_row10_col2\" class=\"data row10 col2\" >64.94%</td>\n",
       "      <td id=\"T_94fca_row10_col3\" class=\"data row10 col3\" >35.06%</td>\n",
       "      <td id=\"T_94fca_row10_col4\" class=\"data row10 col4\" >50.00%</td>\n",
       "      <td id=\"T_94fca_row10_col5\" class=\"data row10 col5\" >51.13%</td>\n",
       "    </tr>\n",
       "    <tr>\n",
       "      <th id=\"T_94fca_level0_row11\" class=\"row_heading level0 row11\" >VotingClassifier</th>\n",
       "      <td id=\"T_94fca_row11_col0\" class=\"data row11 col0\" >74.68%</td>\n",
       "      <td id=\"T_94fca_row11_col1\" class=\"data row11 col1\" >74.10%</td>\n",
       "      <td id=\"T_94fca_row11_col2\" class=\"data row11 col2\" >74.68%</td>\n",
       "      <td id=\"T_94fca_row11_col3\" class=\"data row11 col3\" >25.32%</td>\n",
       "      <td id=\"T_94fca_row11_col4\" class=\"data row11 col4\" >50.00%</td>\n",
       "      <td id=\"T_94fca_row11_col5\" class=\"data row11 col5\" >74.23%</td>\n",
       "    </tr>\n",
       "  </tbody>\n",
       "</table>\n"
      ],
      "text/plain": [
       "<pandas.io.formats.style.Styler at 0x137898190>"
      ]
     },
     "execution_count": 62,
     "metadata": {},
     "output_type": "execute_result"
    }
   ],
   "source": [
    "# Define a function to calculate classification error\n",
    "def classification_error(y_true, y_pred):\n",
    "    return 1 - accuracy_score(y_true, y_pred)\n",
    "\n",
    "# Define a function to calculate specificity\n",
    "def specificity(y_true, y_pred):\n",
    "    cm = confusion_matrix(y_true, y_pred)\n",
    "    tn = cm.sum(axis=1) - cm.diagonal()  # True negatives for each class\n",
    "    fp = cm.sum(axis=0) - cm.diagonal()  # False positives for each class\n",
    "    specificity_per_class = tn / (tn + fp + 1e-10)  # Avoid division by zero\n",
    "    return specificity_per_class.mean()  # Average specificity across all classes\n",
    "\n",
    "tuned_model_scores = {\n",
    "     \"KNN\": {\n",
    "        \"Accuracy\": accuracy_score(y_test, gs_knn.predict(X_test)),\n",
    "        \"Precision\": precision_score(y_test, gs_knn.predict(X_test), average=\"weighted\"),\n",
    "        \"Sensitivity (Recall)\": recall_score(y_test, gs_knn.predict(X_test), average=\"weighted\"),\n",
    "        \"Classification Error\": classification_error(y_test, gs_knn.predict(X_test)),\n",
    "        \"Specificity\": specificity(y_test, gs_knn.predict(X_test)),\n",
    "        \"F1 Measure\": f1_score(y_test, gs_knn.predict(X_test), average=\"weighted\"),\n",
    "    },\n",
    "    \"Logistic Regression\": {\n",
    "        \"Accuracy\": accuracy_score(y_test, gs_log_reg.predict(X_test)),\n",
    "        \"Precision\": precision_score(y_test, gs_log_reg.predict(X_test), average=\"weighted\"),\n",
    "        \"Sensitivity (Recall)\": recall_score(y_test, gs_log_reg.predict(X_test), average=\"weighted\"),\n",
    "        \"Classification Error\": classification_error(y_test, gs_log_reg.predict(X_test)),\n",
    "        \"Specificity\": specificity(y_test, gs_log_reg.predict(X_test)),\n",
    "        \"F1 Measure\": f1_score(y_test, gs_log_reg.predict(X_test), average=\"weighted\"),\n",
    "    },\n",
    "    \"Random Forest\": {\n",
    "        \"Accuracy\": accuracy_score(y_test, rs_rf.predict(X_test)),\n",
    "        \"Precision\": precision_score(y_test, rs_rf.predict(X_test), average=\"weighted\"),\n",
    "        \"Sensitivity (Recall)\": recall_score(y_test, rs_rf.predict(X_test), average=\"weighted\"),\n",
    "        \"Classification Error\": classification_error(y_test, rs_rf.predict(X_test)),\n",
    "        \"Specificity\": specificity(y_test, rs_rf.predict(X_test)),\n",
    "        \"F1 Measure\": f1_score(y_test, rs_rf.predict(X_test), average=\"weighted\"),\n",
    "    },\n",
    "    \"Decision Tree\": {\n",
    "        \"Accuracy\": accuracy_score(y_test, rs_dt.predict(X_test)),\n",
    "        \"Precision\": precision_score(y_test, rs_dt.predict(X_test), average=\"weighted\"),\n",
    "        \"Sensitivity (Recall)\": recall_score(y_test, rs_dt.predict(X_test), average=\"weighted\"),\n",
    "        \"Classification Error\": classification_error(y_test, rs_dt.predict(X_test)),\n",
    "        \"Specificity\": specificity(y_test, rs_dt.predict(X_test)),\n",
    "        \"F1 Measure\": f1_score(y_test, rs_dt.predict(X_test), average=\"weighted\"),\n",
    "    },\n",
    "    \"SVC (Linear)\": {\n",
    "        \"Accuracy\": accuracy_score(y_test, gs_svc_linear.predict(X_test)),\n",
    "        \"Precision\": precision_score(y_test, gs_svc_linear.predict(X_test), average=\"weighted\"),\n",
    "        \"Sensitivity (Recall)\": recall_score(y_test, gs_svc_linear.predict(X_test), average=\"weighted\"),\n",
    "        \"Classification Error\": classification_error(y_test, gs_svc_linear.predict(X_test)),\n",
    "        \"Specificity\": specificity(y_test, gs_svc_linear.predict(X_test)),\n",
    "        \"F1 Measure\": f1_score(y_test, gs_svc_linear.predict(X_test), average=\"weighted\"),\n",
    "    },\n",
    "    \"SVC (RBF)\": {\n",
    "        \"Accuracy\": accuracy_score(y_test, gs_svc_rbf.predict(X_test)),\n",
    "        \"Precision\": precision_score(y_test, gs_svc_rbf.predict(X_test), average=\"weighted\"),\n",
    "        \"Sensitivity (Recall)\": recall_score(y_test, gs_svc_rbf.predict(X_test), average=\"weighted\"),\n",
    "        \"Classification Error\": classification_error(y_test, gs_svc_rbf.predict(X_test)),\n",
    "        \"Specificity\": specificity(y_test, gs_svc_rbf.predict(X_test)),\n",
    "        \"F1 Measure\": f1_score(y_test, gs_svc_rbf.predict(X_test), average=\"weighted\"),\n",
    "    },\n",
    "    \"SVC (Poly)\": {\n",
    "        \"Accuracy\": accuracy_score(y_test, gs_svc_poly.predict(X_test)),\n",
    "        \"Precision\": precision_score(y_test, gs_svc_poly.predict(X_test), average=\"weighted\"),\n",
    "        \"Sensitivity (Recall)\": recall_score(y_test, gs_svc_poly.predict(X_test), average=\"weighted\"),\n",
    "        \"Classification Error\": classification_error(y_test, gs_svc_poly.predict(X_test)),\n",
    "        \"Specificity\": specificity(y_test, gs_svc_poly.predict(X_test)),\n",
    "        \"F1 Measure\": f1_score(y_test, gs_svc_poly.predict(X_test), average=\"weighted\"),\n",
    "    },\n",
    "    \"SVC (Sigmoid)\": {\n",
    "        \"Accuracy\": accuracy_score(y_test, gs_svc_sigmoid.predict(X_test)),\n",
    "        \"Precision\": precision_score(y_test, gs_svc_sigmoid.predict(X_test), average=\"weighted\"),\n",
    "        \"Sensitivity (Recall)\": recall_score(y_test, gs_svc_sigmoid.predict(X_test), average=\"weighted\"),\n",
    "        \"Classification Error\": classification_error(y_test, gs_svc_sigmoid.predict(X_test)),\n",
    "        \"Specificity\": specificity(y_test, gs_svc_sigmoid.predict(X_test)),\n",
    "        \"F1 Measure\": f1_score(y_test, gs_svc_sigmoid.predict(X_test), average=\"weighted\"),\n",
    "    },\n",
    "    \"ANN\": {\n",
    "        \"Accuracy\": accuracy_score(y_test, gs_ann.predict(X_test)),\n",
    "        \"Precision\": precision_score(y_test, gs_ann.predict(X_test), average=\"weighted\"),\n",
    "        \"Sensitivity (Recall)\": recall_score(y_test, gs_ann.predict(X_test), average=\"weighted\"),\n",
    "        \"Classification Error\": classification_error(y_test, gs_ann.predict(X_test)),\n",
    "        \"Specificity\": specificity(y_test, gs_ann.predict(X_test)),\n",
    "        \"F1 Measure\": f1_score(y_test, gs_ann.predict(X_test), average=\"weighted\"),\n",
    "    },\n",
    "    \"Naive Bayes (GaussianNB)\": {\n",
    "        \"Accuracy\": accuracy_score(y_test, gs_nb_gaussian.predict(X_test)),\n",
    "        \"Precision\": precision_score(y_test, gs_nb_gaussian.predict(X_test), average=\"weighted\"),\n",
    "        \"Sensitivity (Recall)\": recall_score(y_test, gs_nb_gaussian.predict(X_test), average=\"weighted\"),\n",
    "        \"Classification Error\": classification_error(y_test, gs_nb_gaussian.predict(X_test)),\n",
    "        \"Specificity\": specificity(y_test, gs_nb_gaussian.predict(X_test)),\n",
    "        \"F1 Measure\": f1_score(y_test, gs_nb_gaussian.predict(X_test), average=\"weighted\"),\n",
    "    },\n",
    "    \"Naive Bayes (BernoulliNB)\": {\n",
    "        \"Accuracy\": accuracy_score(y_test, gs_nb_bernoulli.predict(X_test)),\n",
    "        \"Precision\": precision_score(y_test, gs_nb_bernoulli.predict(X_test), average=\"weighted\"),\n",
    "        \"Sensitivity (Recall)\": recall_score(y_test, gs_nb_bernoulli.predict(X_test), average=\"weighted\"),\n",
    "        \"Classification Error\": classification_error(y_test, gs_nb_bernoulli.predict(X_test)),\n",
    "        \"Specificity\": specificity(y_test, gs_nb_bernoulli.predict(X_test)),\n",
    "        \"F1 Measure\": f1_score(y_test, gs_nb_bernoulli.predict(X_test), average=\"weighted\"),\n",
    "    },\n",
    "    \"VotingClassifier\": {\n",
    "        \"Accuracy\": accuracy_score(y_test, gs_voting.predict(X_test)),\n",
    "        \"Precision\": precision_score(y_test, gs_voting.predict(X_test), average=\"weighted\"),\n",
    "        \"Sensitivity (Recall)\": recall_score(y_test, gs_voting.predict(X_test), average=\"weighted\"),\n",
    "        \"Classification Error\": classification_error(y_test, gs_voting.predict(X_test)),\n",
    "        \"Specificity\": specificity(y_test, gs_voting.predict(X_test)),\n",
    "        \"F1 Measure\": f1_score(y_test, gs_voting.predict(X_test), average=\"weighted\"),\n",
    "    }\n",
    "}\n",
    "\n",
    "# Convert results to a DataFrame and scale to percentages\n",
    "tuned_model_comparison = pd.DataFrame(tuned_model_scores).T * 100\n",
    "\n",
    "# Display the DataFrame\n",
    "print(tuned_model_comparison)\n",
    "\n",
    "# Optional: Pretty-print the table\n",
    "tuned_model_comparison.style.format({\n",
    "    \"Accuracy\": \"{:.2f}%\",\n",
    "    \"Precision\": \"{:.2f}%\",\n",
    "    \"Sensitivity (Recall)\": \"{:.2f}%\",\n",
    "    \"Classification Error\": \"{:.2f}%\",\n",
    "    \"Specificity\": \"{:.2f}%\",\n",
    "    \"F1 Measure\": \"{:.2f}%\"\n",
    "})"
   ]
  },
  {
   "cell_type": "markdown",
   "metadata": {},
   "source": [
    "### 5.4 Tuning models with Cross-validation"
   ]
  },
  {
   "cell_type": "code",
   "execution_count": 63,
   "metadata": {
    "execution": {
     "iopub.execute_input": "2025-01-07T15:02:57.982434Z",
     "iopub.status.busy": "2025-01-07T15:02:57.982334Z",
     "iopub.status.idle": "2025-01-07T15:03:02.050431Z",
     "shell.execute_reply": "2025-01-07T15:03:02.050147Z"
    }
   },
   "outputs": [
    {
     "name": "stderr",
     "output_type": "stream",
     "text": [
      "/opt/miniconda3/envs/data_mining/lib/python3.13/site-packages/sklearn/metrics/_classification.py:1565: UndefinedMetricWarning: Precision is ill-defined and being set to 0.0 in labels with no predicted samples. Use `zero_division` parameter to control this behavior.\n",
      "  _warn_prf(average, modifier, f\"{metric.capitalize()} is\", len(result))\n",
      "/opt/miniconda3/envs/data_mining/lib/python3.13/site-packages/sklearn/metrics/_classification.py:1565: UndefinedMetricWarning: Precision is ill-defined and being set to 0.0 in labels with no predicted samples. Use `zero_division` parameter to control this behavior.\n",
      "  _warn_prf(average, modifier, f\"{metric.capitalize()} is\", len(result))\n",
      "/opt/miniconda3/envs/data_mining/lib/python3.13/site-packages/sklearn/metrics/_classification.py:1565: UndefinedMetricWarning: Precision is ill-defined and being set to 0.0 in labels with no predicted samples. Use `zero_division` parameter to control this behavior.\n",
      "  _warn_prf(average, modifier, f\"{metric.capitalize()} is\", len(result))\n",
      "/opt/miniconda3/envs/data_mining/lib/python3.13/site-packages/sklearn/metrics/_classification.py:1565: UndefinedMetricWarning: Precision is ill-defined and being set to 0.0 in labels with no predicted samples. Use `zero_division` parameter to control this behavior.\n",
      "  _warn_prf(average, modifier, f\"{metric.capitalize()} is\", len(result))\n",
      "/opt/miniconda3/envs/data_mining/lib/python3.13/site-packages/sklearn/metrics/_classification.py:1565: UndefinedMetricWarning: Precision is ill-defined and being set to 0.0 in labels with no predicted samples. Use `zero_division` parameter to control this behavior.\n",
      "  _warn_prf(average, modifier, f\"{metric.capitalize()} is\", len(result))\n",
      "/opt/miniconda3/envs/data_mining/lib/python3.13/site-packages/sklearn/metrics/_classification.py:1565: UndefinedMetricWarning: Precision is ill-defined and being set to 0.0 in labels with no predicted samples. Use `zero_division` parameter to control this behavior.\n",
      "  _warn_prf(average, modifier, f\"{metric.capitalize()} is\", len(result))\n",
      "/opt/miniconda3/envs/data_mining/lib/python3.13/site-packages/sklearn/metrics/_classification.py:1565: UndefinedMetricWarning: Precision is ill-defined and being set to 0.0 in labels with no predicted samples. Use `zero_division` parameter to control this behavior.\n",
      "  _warn_prf(average, modifier, f\"{metric.capitalize()} is\", len(result))\n",
      "/opt/miniconda3/envs/data_mining/lib/python3.13/site-packages/sklearn/metrics/_classification.py:1565: UndefinedMetricWarning: Precision is ill-defined and being set to 0.0 in labels with no predicted samples. Use `zero_division` parameter to control this behavior.\n",
      "  _warn_prf(average, modifier, f\"{metric.capitalize()} is\", len(result))\n",
      "/opt/miniconda3/envs/data_mining/lib/python3.13/site-packages/sklearn/metrics/_classification.py:1565: UndefinedMetricWarning: Precision is ill-defined and being set to 0.0 in labels with no predicted samples. Use `zero_division` parameter to control this behavior.\n",
      "  _warn_prf(average, modifier, f\"{metric.capitalize()} is\", len(result))\n",
      "/opt/miniconda3/envs/data_mining/lib/python3.13/site-packages/sklearn/metrics/_classification.py:1565: UndefinedMetricWarning: Precision is ill-defined and being set to 0.0 in labels with no predicted samples. Use `zero_division` parameter to control this behavior.\n",
      "  _warn_prf(average, modifier, f\"{metric.capitalize()} is\", len(result))\n"
     ]
    },
    {
     "name": "stderr",
     "output_type": "stream",
     "text": [
      "/opt/miniconda3/envs/data_mining/lib/python3.13/site-packages/sklearn/metrics/_classification.py:1565: UndefinedMetricWarning: Precision is ill-defined and being set to 0.0 in labels with no predicted samples. Use `zero_division` parameter to control this behavior.\n",
      "  _warn_prf(average, modifier, f\"{metric.capitalize()} is\", len(result))\n",
      "/opt/miniconda3/envs/data_mining/lib/python3.13/site-packages/sklearn/metrics/_classification.py:1565: UndefinedMetricWarning: Precision is ill-defined and being set to 0.0 in labels with no predicted samples. Use `zero_division` parameter to control this behavior.\n",
      "  _warn_prf(average, modifier, f\"{metric.capitalize()} is\", len(result))\n",
      "/opt/miniconda3/envs/data_mining/lib/python3.13/site-packages/sklearn/metrics/_classification.py:1565: UndefinedMetricWarning: Precision is ill-defined and being set to 0.0 in labels with no predicted samples. Use `zero_division` parameter to control this behavior.\n",
      "  _warn_prf(average, modifier, f\"{metric.capitalize()} is\", len(result))\n",
      "/opt/miniconda3/envs/data_mining/lib/python3.13/site-packages/sklearn/metrics/_classification.py:1565: UndefinedMetricWarning: Precision is ill-defined and being set to 0.0 in labels with no predicted samples. Use `zero_division` parameter to control this behavior.\n",
      "  _warn_prf(average, modifier, f\"{metric.capitalize()} is\", len(result))\n",
      "/opt/miniconda3/envs/data_mining/lib/python3.13/site-packages/sklearn/metrics/_classification.py:1565: UndefinedMetricWarning: Precision is ill-defined and being set to 0.0 in labels with no predicted samples. Use `zero_division` parameter to control this behavior.\n",
      "  _warn_prf(average, modifier, f\"{metric.capitalize()} is\", len(result))\n",
      "/opt/miniconda3/envs/data_mining/lib/python3.13/site-packages/sklearn/metrics/_classification.py:1565: UndefinedMetricWarning: Precision is ill-defined and being set to 0.0 in labels with no predicted samples. Use `zero_division` parameter to control this behavior.\n",
      "  _warn_prf(average, modifier, f\"{metric.capitalize()} is\", len(result))\n",
      "/opt/miniconda3/envs/data_mining/lib/python3.13/site-packages/sklearn/metrics/_classification.py:1565: UndefinedMetricWarning: Precision is ill-defined and being set to 0.0 in labels with no predicted samples. Use `zero_division` parameter to control this behavior.\n",
      "  _warn_prf(average, modifier, f\"{metric.capitalize()} is\", len(result))\n",
      "/opt/miniconda3/envs/data_mining/lib/python3.13/site-packages/sklearn/metrics/_classification.py:1565: UndefinedMetricWarning: Precision is ill-defined and being set to 0.0 in labels with no predicted samples. Use `zero_division` parameter to control this behavior.\n",
      "  _warn_prf(average, modifier, f\"{metric.capitalize()} is\", len(result))\n",
      "/opt/miniconda3/envs/data_mining/lib/python3.13/site-packages/sklearn/metrics/_classification.py:1565: UndefinedMetricWarning: Precision is ill-defined and being set to 0.0 in labels with no predicted samples. Use `zero_division` parameter to control this behavior.\n",
      "  _warn_prf(average, modifier, f\"{metric.capitalize()} is\", len(result))\n",
      "/opt/miniconda3/envs/data_mining/lib/python3.13/site-packages/sklearn/metrics/_classification.py:1565: UndefinedMetricWarning: Precision is ill-defined and being set to 0.0 in labels with no predicted samples. Use `zero_division` parameter to control this behavior.\n",
      "  _warn_prf(average, modifier, f\"{metric.capitalize()} is\", len(result))\n"
     ]
    },
    {
     "data": {
      "text/html": [
       "<style type=\"text/css\">\n",
       "</style>\n",
       "<table id=\"T_8de36\">\n",
       "  <caption>Cross-Validation Results Summary</caption>\n",
       "  <thead>\n",
       "    <tr>\n",
       "      <th class=\"blank level0\" >&nbsp;</th>\n",
       "      <th id=\"T_8de36_level0_col0\" class=\"col_heading level0 col0\" >Model</th>\n",
       "      <th id=\"T_8de36_level0_col1\" class=\"col_heading level0 col1\" >Mean Accuracy (%)</th>\n",
       "      <th id=\"T_8de36_level0_col2\" class=\"col_heading level0 col2\" >Mean Precision (%)</th>\n",
       "      <th id=\"T_8de36_level0_col3\" class=\"col_heading level0 col3\" >Mean Recall (%)</th>\n",
       "    </tr>\n",
       "  </thead>\n",
       "  <tbody>\n",
       "    <tr>\n",
       "      <th id=\"T_8de36_level0_row0\" class=\"row_heading level0 row0\" >0</th>\n",
       "      <td id=\"T_8de36_row0_col0\" class=\"data row0 col0\" >KNN</td>\n",
       "      <td id=\"T_8de36_row0_col1\" class=\"data row0 col1\" >76.22%</td>\n",
       "      <td id=\"T_8de36_row0_col2\" class=\"data row0 col2\" >75.91%</td>\n",
       "      <td id=\"T_8de36_row0_col3\" class=\"data row0 col3\" >76.22%</td>\n",
       "    </tr>\n",
       "    <tr>\n",
       "      <th id=\"T_8de36_level0_row1\" class=\"row_heading level0 row1\" >1</th>\n",
       "      <td id=\"T_8de36_row1_col0\" class=\"data row1 col0\" >LogisticRegression</td>\n",
       "      <td id=\"T_8de36_row1_col1\" class=\"data row1 col1\" >77.86%</td>\n",
       "      <td id=\"T_8de36_row1_col2\" class=\"data row1 col2\" >77.71%</td>\n",
       "      <td id=\"T_8de36_row1_col3\" class=\"data row1 col3\" >77.86%</td>\n",
       "    </tr>\n",
       "    <tr>\n",
       "      <th id=\"T_8de36_level0_row2\" class=\"row_heading level0 row2\" >2</th>\n",
       "      <td id=\"T_8de36_row2_col0\" class=\"data row2 col0\" >RandomForest</td>\n",
       "      <td id=\"T_8de36_row2_col1\" class=\"data row2 col1\" >78.01%</td>\n",
       "      <td id=\"T_8de36_row2_col2\" class=\"data row2 col2\" >77.79%</td>\n",
       "      <td id=\"T_8de36_row2_col3\" class=\"data row2 col3\" >78.01%</td>\n",
       "    </tr>\n",
       "    <tr>\n",
       "      <th id=\"T_8de36_level0_row3\" class=\"row_heading level0 row3\" >3</th>\n",
       "      <td id=\"T_8de36_row3_col0\" class=\"data row3 col0\" >DecisionTree</td>\n",
       "      <td id=\"T_8de36_row3_col1\" class=\"data row3 col1\" >74.91%</td>\n",
       "      <td id=\"T_8de36_row3_col2\" class=\"data row3 col2\" >74.94%</td>\n",
       "      <td id=\"T_8de36_row3_col3\" class=\"data row3 col3\" >74.91%</td>\n",
       "    </tr>\n",
       "    <tr>\n",
       "      <th id=\"T_8de36_level0_row4\" class=\"row_heading level0 row4\" >4</th>\n",
       "      <td id=\"T_8de36_row4_col0\" class=\"data row4 col0\" >SVC_Linear</td>\n",
       "      <td id=\"T_8de36_row4_col1\" class=\"data row4 col1\" >78.34%</td>\n",
       "      <td id=\"T_8de36_row4_col2\" class=\"data row4 col2\" >78.23%</td>\n",
       "      <td id=\"T_8de36_row4_col3\" class=\"data row4 col3\" >78.34%</td>\n",
       "    </tr>\n",
       "    <tr>\n",
       "      <th id=\"T_8de36_level0_row5\" class=\"row_heading level0 row5\" >5</th>\n",
       "      <td id=\"T_8de36_row5_col0\" class=\"data row5 col0\" >SVC_RBF</td>\n",
       "      <td id=\"T_8de36_row5_col1\" class=\"data row5 col1\" >76.71%</td>\n",
       "      <td id=\"T_8de36_row5_col2\" class=\"data row5 col2\" >76.39%</td>\n",
       "      <td id=\"T_8de36_row5_col3\" class=\"data row5 col3\" >76.71%</td>\n",
       "    </tr>\n",
       "    <tr>\n",
       "      <th id=\"T_8de36_level0_row6\" class=\"row_heading level0 row6\" >6</th>\n",
       "      <td id=\"T_8de36_row6_col0\" class=\"data row6 col0\" >SVC_Poly</td>\n",
       "      <td id=\"T_8de36_row6_col1\" class=\"data row6 col1\" >77.20%</td>\n",
       "      <td id=\"T_8de36_row6_col2\" class=\"data row6 col2\" >77.44%</td>\n",
       "      <td id=\"T_8de36_row6_col3\" class=\"data row6 col3\" >77.20%</td>\n",
       "    </tr>\n",
       "    <tr>\n",
       "      <th id=\"T_8de36_level0_row7\" class=\"row_heading level0 row7\" >7</th>\n",
       "      <td id=\"T_8de36_row7_col0\" class=\"data row7 col0\" >SVC_Sigmoid</td>\n",
       "      <td id=\"T_8de36_row7_col1\" class=\"data row7 col1\" >65.15%</td>\n",
       "      <td id=\"T_8de36_row7_col2\" class=\"data row7 col2\" >42.45%</td>\n",
       "      <td id=\"T_8de36_row7_col3\" class=\"data row7 col3\" >65.15%</td>\n",
       "    </tr>\n",
       "    <tr>\n",
       "      <th id=\"T_8de36_level0_row8\" class=\"row_heading level0 row8\" >8</th>\n",
       "      <td id=\"T_8de36_row8_col0\" class=\"data row8 col0\" >ANN</td>\n",
       "      <td id=\"T_8de36_row8_col1\" class=\"data row8 col1\" >70.35%</td>\n",
       "      <td id=\"T_8de36_row8_col2\" class=\"data row8 col2\" >69.80%</td>\n",
       "      <td id=\"T_8de36_row8_col3\" class=\"data row8 col3\" >70.35%</td>\n",
       "    </tr>\n",
       "    <tr>\n",
       "      <th id=\"T_8de36_level0_row9\" class=\"row_heading level0 row9\" >9</th>\n",
       "      <td id=\"T_8de36_row9_col0\" class=\"data row9 col0\" >NaiveBayes_Gaussian</td>\n",
       "      <td id=\"T_8de36_row9_col1\" class=\"data row9 col1\" >76.71%</td>\n",
       "      <td id=\"T_8de36_row9_col2\" class=\"data row9 col2\" >76.61%</td>\n",
       "      <td id=\"T_8de36_row9_col3\" class=\"data row9 col3\" >76.71%</td>\n",
       "    </tr>\n",
       "    <tr>\n",
       "      <th id=\"T_8de36_level0_row10\" class=\"row_heading level0 row10\" >10</th>\n",
       "      <td id=\"T_8de36_row10_col0\" class=\"data row10 col0\" >NaiveBayes_Bernoulli</td>\n",
       "      <td id=\"T_8de36_row10_col1\" class=\"data row10 col1\" >65.15%</td>\n",
       "      <td id=\"T_8de36_row10_col2\" class=\"data row10 col2\" >42.45%</td>\n",
       "      <td id=\"T_8de36_row10_col3\" class=\"data row10 col3\" >65.15%</td>\n",
       "    </tr>\n",
       "    <tr>\n",
       "      <th id=\"T_8de36_level0_row11\" class=\"row_heading level0 row11\" >11</th>\n",
       "      <td id=\"T_8de36_row11_col0\" class=\"data row11 col0\" >VotingClassifier</td>\n",
       "      <td id=\"T_8de36_row11_col1\" class=\"data row11 col1\" >77.70%</td>\n",
       "      <td id=\"T_8de36_row11_col2\" class=\"data row11 col2\" >77.59%</td>\n",
       "      <td id=\"T_8de36_row11_col3\" class=\"data row11 col3\" >77.70%</td>\n",
       "    </tr>\n",
       "  </tbody>\n",
       "</table>\n"
      ],
      "text/plain": [
       "<pandas.io.formats.style.Styler at 0x137899310>"
      ]
     },
     "execution_count": 63,
     "metadata": {},
     "output_type": "execute_result"
    }
   ],
   "source": [
    "# List of models with the best hyperparameters (from RandomizedSearchCV or GridSearchCV)\n",
    "\n",
    "# Define the best models with their respective best parameters\n",
    "best_models = {\n",
    "    \"KNN\": KNeighborsClassifier(**rs_knn.best_params_),\n",
    "    \"LogisticRegression\": LogisticRegression(**rs_log_reg.best_params_),\n",
    "    \"RandomForest\": RandomForestClassifier(**rs_rf.best_params_),\n",
    "    \"DecisionTree\": DecisionTreeClassifier(**rs_dt.best_params_),\n",
    "    \"SVC_Linear\": SVC(**rs_svc_linear.best_params_),\n",
    "    \"SVC_RBF\": SVC(**rs_svc_rbf.best_params_),\n",
    "    \"SVC_Poly\": SVC(**rs_svc_poly.best_params_),\n",
    "    \"SVC_Sigmoid\": SVC(**rs_svc_sigmoid.best_params_),\n",
    "    \"ANN\": MLPClassifier(**rs_ann.best_params_),\n",
    "    \"NaiveBayes_Gaussian\": GaussianNB(**rs_nb_gaussian.best_params_),\n",
    "    \"NaiveBayes_Bernoulli\": BernoulliNB(**rs_nb_bernoulli.best_params_)\n",
    "}\n",
    "\n",
    "best_models[\"VotingClassifier\"] = VotingClassifier(\n",
    "    estimators=[\n",
    "        ('knn', best_models['KNN']),\n",
    "        ('log_reg', best_models['LogisticRegression']),\n",
    "        ('rf', best_models['RandomForest']),\n",
    "        ('naive_bayes', best_models['NaiveBayes_Gaussian'])\n",
    "    ],\n",
    "    **rs_voting.best_params_\n",
    ")\n",
    "\n",
    "# Define scoring metrics\n",
    "scoring_metrics = {\n",
    "    \"accuracy\": make_scorer(accuracy_score),\n",
    "    \"precision\": make_scorer(precision_score, average='weighted'),\n",
    "    \"recall\": make_scorer(recall_score, average='weighted')\n",
    "}\n",
    "\n",
    "# Cross-validation for each model and store results\n",
    "cv_results = {}\n",
    "for model_name, model in best_models.items():\n",
    "    scores = cross_validate(model, X_train, y_train, cv=10, scoring=scoring_metrics, verbose=True)\n",
    "    cv_results[model_name] = {\n",
    "        \"accuracy\": scores['test_accuracy'].mean() * 100,\n",
    "        \"precision\": scores['test_precision'].mean() * 100,\n",
    "        \"recall\": scores['test_recall'].mean() * 100\n",
    "    }\n",
    "\n",
    "# Create a summary DataFrame\n",
    "cv_results_summary = {\n",
    "    \"Model\": [],\n",
    "    \"Mean Accuracy (%)\": [],\n",
    "    \"Mean Precision (%)\": [],\n",
    "    \"Mean Recall (%)\": []\n",
    "}\n",
    "\n",
    "for model_name, metrics in cv_results.items():\n",
    "    cv_results_summary[\"Model\"].append(model_name)\n",
    "    cv_results_summary[\"Mean Accuracy (%)\"].append(metrics[\"accuracy\"])\n",
    "    cv_results_summary[\"Mean Precision (%)\"].append(metrics[\"precision\"])\n",
    "    cv_results_summary[\"Mean Recall (%)\"].append(metrics[\"recall\"])\n",
    "\n",
    "results_df = pd.DataFrame(cv_results_summary)\n",
    "\n",
    "# Style the DataFrame\n",
    "styled_table = results_df.style.format({\n",
    "    \"Mean Accuracy (%)\": \"{:.2f}%\",\n",
    "    \"Mean Precision (%)\": \"{:.2f}%\",\n",
    "    \"Mean Recall (%)\": \"{:.2f}%\"\n",
    "}).set_caption(\"Cross-Validation Results Summary\")\n",
    "\n",
    "styled_table"
   ]
  },
  {
   "cell_type": "markdown",
   "metadata": {},
   "source": [
    "# 6. Evaluating Model Performance"
   ]
  },
  {
   "cell_type": "code",
   "execution_count": 38,
   "metadata": {
    "execution": {
     "iopub.execute_input": "2025-01-07T15:03:02.051660Z",
     "iopub.status.busy": "2025-01-07T15:03:02.051581Z",
     "iopub.status.idle": "2025-01-07T15:03:02.053717Z",
     "shell.execute_reply": "2025-01-07T15:03:02.053465Z"
    }
   },
   "outputs": [],
   "source": [
    "# Make preidctions on test data\n",
    "y_preds = gs_svc_poly.predict(X_test)"
   ]
  },
  {
   "cell_type": "code",
   "execution_count": 39,
   "metadata": {
    "execution": {
     "iopub.execute_input": "2025-01-07T15:03:02.054802Z",
     "iopub.status.busy": "2025-01-07T15:03:02.054725Z",
     "iopub.status.idle": "2025-01-07T15:03:02.056917Z",
     "shell.execute_reply": "2025-01-07T15:03:02.056698Z"
    }
   },
   "outputs": [
    {
     "data": {
      "text/plain": [
       "array([1, 0, 0, 0, 0, 0, 0, 1, 0, 1, 0, 1, 0, 0, 0, 0, 1, 0, 1, 0, 0, 1,\n",
       "       0, 1, 0, 0, 1, 0, 0, 0, 0, 0, 0, 0, 1, 0, 0, 0, 1, 1, 0, 0, 0, 0,\n",
       "       0, 0, 0, 0, 0, 1, 0, 1, 0, 0, 0, 0, 1, 0, 1, 0, 1, 0, 0, 1, 0, 0,\n",
       "       1, 0, 0, 0, 0, 0, 0, 0, 0, 0, 0, 0, 0, 0, 0, 0, 0, 0, 0, 0, 1, 1,\n",
       "       0, 0, 1, 1, 0, 0, 0, 1, 0, 1, 1, 0, 0, 0, 0, 0, 1, 0, 1, 0, 1, 0,\n",
       "       1, 1, 0, 0, 0, 0, 0, 0, 1, 0, 0, 0, 0, 1, 0, 1, 1, 0, 0, 0, 0, 1,\n",
       "       0, 1, 1, 0, 0, 0, 0, 0, 0, 0, 0, 0, 0, 0, 0, 0, 0, 0, 0, 0, 1, 0])"
      ]
     },
     "execution_count": 39,
     "metadata": {},
     "output_type": "execute_result"
    }
   ],
   "source": [
    "y_preds"
   ]
  },
  {
   "cell_type": "code",
   "execution_count": 40,
   "metadata": {
    "execution": {
     "iopub.execute_input": "2025-01-07T15:03:02.057996Z",
     "iopub.status.busy": "2025-01-07T15:03:02.057923Z",
     "iopub.status.idle": "2025-01-07T15:03:02.059974Z",
     "shell.execute_reply": "2025-01-07T15:03:02.059734Z"
    }
   },
   "outputs": [
    {
     "data": {
      "text/plain": [
       "array([0, 0, 0, 1, 0, 0, 1, 1, 0, 0, 0, 1, 0, 0, 1, 1, 0, 0, 0, 0, 0, 1,\n",
       "       1, 1, 0, 0, 1, 0, 1, 0, 0, 0, 0, 0, 0, 1, 0, 0, 1, 0, 0, 0, 0, 1,\n",
       "       0, 1, 1, 0, 1, 1, 0, 1, 0, 0, 0, 0, 1, 0, 1, 0, 1, 0, 0, 1, 0, 0,\n",
       "       1, 0, 0, 1, 1, 0, 0, 1, 0, 1, 0, 1, 0, 0, 0, 0, 0, 0, 0, 0, 1, 1,\n",
       "       0, 0, 1, 1, 0, 1, 1, 1, 0, 0, 1, 0, 0, 0, 0, 0, 1, 0, 1, 0, 0, 0,\n",
       "       0, 1, 1, 1, 1, 0, 0, 0, 1, 0, 0, 1, 0, 0, 1, 1, 1, 0, 0, 0, 0, 0,\n",
       "       0, 1, 0, 0, 0, 0, 0, 0, 0, 1, 0, 0, 0, 1, 1, 1, 0, 0, 0, 0, 1, 0])"
      ]
     },
     "execution_count": 40,
     "metadata": {},
     "output_type": "execute_result"
    }
   ],
   "source": [
    "y_test"
   ]
  },
  {
   "cell_type": "markdown",
   "metadata": {},
   "source": [
    "### 6.1 ROC Curve and AUC Scores"
   ]
  },
  {
   "cell_type": "code",
   "execution_count": 72,
   "metadata": {
    "execution": {
     "iopub.execute_input": "2025-01-07T15:03:02.061052Z",
     "iopub.status.busy": "2025-01-07T15:03:02.060979Z",
     "iopub.status.idle": "2025-01-07T15:03:02.116651Z",
     "shell.execute_reply": "2025-01-07T15:03:02.116412Z"
    }
   },
   "outputs": [
    {
     "data": {
      "image/png": "[encoded data removed]",
      "text/plain": [
       "<Figure size 800x600 with 1 Axes>"
      ]
     },
     "metadata": {},
     "output_type": "display_data"
    }
   ],
   "source": [
    "# Use decision_function instead of predict_proba for SVM if probability=True is not set\n",
    "y_pred_prob = gs_svc_poly.decision_function(X_test)  # Use scores for ROC and AUC\n",
    "\n",
    "# Calculate AUC score\n",
    "auc_score = roc_auc_score(y_test, y_pred_prob)  # AUC using decision scores\n",
    "\n",
    "# Plot the ROC curve\n",
    "fig, ax = plt.subplots(figsize=(8, 6))\n",
    "RocCurveDisplay.from_estimator(\n",
    "    estimator=gs_svc_poly,\n",
    "    X=X_test,\n",
    "    y=y_test,\n",
    "    ax=ax,\n",
    "    name=\"SVM with Polynomial Kernel\"  # Update the name if needed\n",
    ")\n",
    "\n",
    "# Enhance plot appearance\n",
    "ax.set_title(f\"ROC Curve with AUC\")\n",
    "ax.set_xlabel(\"False Positive Rate\", fontsize=14)\n",
    "ax.set_ylabel(\"True Positive Rate\", fontsize=14)\n",
    "ax.grid(True, linestyle='--', alpha=0.8)\n",
    "plt.tight_layout()\n",
    "\n",
    "# Show plot\n",
    "plt.show()"
   ]
  },
  {
   "cell_type": "markdown",
   "metadata": {},
   "source": [
    "### 6.2 Creating a confusion matrix"
   ]
  },
  {
   "cell_type": "code",
   "execution_count": 44,
   "metadata": {
    "execution": {
     "iopub.execute_input": "2025-01-07T15:03:02.117838Z",
     "iopub.status.busy": "2025-01-07T15:03:02.117759Z",
     "iopub.status.idle": "2025-01-07T15:03:02.163874Z",
     "shell.execute_reply": "2025-01-07T15:03:02.163616Z"
    }
   },
   "outputs": [
    {
     "data": {
      "image/png": "[encoded data removed]",
      "text/plain": [
       "<Figure size 640x480 with 2 Axes>"
      ]
     },
     "metadata": {},
     "output_type": "display_data"
    }
   ],
   "source": [
    "# Plot confusion matrix\n",
    "cm = confusion_matrix(y_test, y_preds)\n",
    "disp = ConfusionMatrixDisplay(confusion_matrix=cm, display_labels=gs_svc_poly.classes_)\n",
    "disp.plot(cmap=\"Blues\", values_format=\"d\", xticks_rotation=45)\n",
    "plt.grid(False)\n",
    "plt.title(\"Confusion Matrix\")\n",
    "plt.show()\n"
   ]
  },
  {
   "cell_type": "markdown",
   "metadata": {},
   "source": [
    "### 6.3 Classification report"
   ]
  },
  {
   "cell_type": "code",
   "execution_count": 45,
   "metadata": {
    "execution": {
     "iopub.execute_input": "2025-01-07T15:03:02.165063Z",
     "iopub.status.busy": "2025-01-07T15:03:02.164981Z",
     "iopub.status.idle": "2025-01-07T15:03:02.171378Z",
     "shell.execute_reply": "2025-01-07T15:03:02.171139Z"
    }
   },
   "outputs": [
    {
     "name": "stdout",
     "output_type": "stream",
     "text": [
      "Classification Report:\n",
      "\n"
     ]
    },
    {
     "data": {
      "text/html": [
       "<style type=\"text/css\">\n",
       "</style>\n",
       "<table id=\"T_c5b2f\">\n",
       "  <thead>\n",
       "    <tr>\n",
       "      <th class=\"blank level0\" >&nbsp;</th>\n",
       "      <th id=\"T_c5b2f_level0_col0\" class=\"col_heading level0 col0\" >precision</th>\n",
       "      <th id=\"T_c5b2f_level0_col1\" class=\"col_heading level0 col1\" >recall</th>\n",
       "      <th id=\"T_c5b2f_level0_col2\" class=\"col_heading level0 col2\" >f1-score</th>\n",
       "      <th id=\"T_c5b2f_level0_col3\" class=\"col_heading level0 col3\" >support</th>\n",
       "    </tr>\n",
       "  </thead>\n",
       "  <tbody>\n",
       "    <tr>\n",
       "      <th id=\"T_c5b2f_level0_row0\" class=\"row_heading level0 row0\" >0</th>\n",
       "      <td id=\"T_c5b2f_row0_col0\" class=\"data row0 col0\" >0.765217</td>\n",
       "      <td id=\"T_c5b2f_row0_col1\" class=\"data row0 col1\" >0.880000</td>\n",
       "      <td id=\"T_c5b2f_row0_col2\" class=\"data row0 col2\" >0.818605</td>\n",
       "      <td id=\"T_c5b2f_row0_col3\" class=\"data row0 col3\" >100.000000</td>\n",
       "    </tr>\n",
       "    <tr>\n",
       "      <th id=\"T_c5b2f_level0_row1\" class=\"row_heading level0 row1\" >1</th>\n",
       "      <td id=\"T_c5b2f_row1_col0\" class=\"data row1 col0\" >0.692308</td>\n",
       "      <td id=\"T_c5b2f_row1_col1\" class=\"data row1 col1\" >0.500000</td>\n",
       "      <td id=\"T_c5b2f_row1_col2\" class=\"data row1 col2\" >0.580645</td>\n",
       "      <td id=\"T_c5b2f_row1_col3\" class=\"data row1 col3\" >54.000000</td>\n",
       "    </tr>\n",
       "    <tr>\n",
       "      <th id=\"T_c5b2f_level0_row2\" class=\"row_heading level0 row2\" >accuracy</th>\n",
       "      <td id=\"T_c5b2f_row2_col0\" class=\"data row2 col0\" >0.746753</td>\n",
       "      <td id=\"T_c5b2f_row2_col1\" class=\"data row2 col1\" >0.746753</td>\n",
       "      <td id=\"T_c5b2f_row2_col2\" class=\"data row2 col2\" >0.746753</td>\n",
       "      <td id=\"T_c5b2f_row2_col3\" class=\"data row2 col3\" >0.746753</td>\n",
       "    </tr>\n",
       "    <tr>\n",
       "      <th id=\"T_c5b2f_level0_row3\" class=\"row_heading level0 row3\" >macro avg</th>\n",
       "      <td id=\"T_c5b2f_row3_col0\" class=\"data row3 col0\" >0.728763</td>\n",
       "      <td id=\"T_c5b2f_row3_col1\" class=\"data row3 col1\" >0.690000</td>\n",
       "      <td id=\"T_c5b2f_row3_col2\" class=\"data row3 col2\" >0.699625</td>\n",
       "      <td id=\"T_c5b2f_row3_col3\" class=\"data row3 col3\" >154.000000</td>\n",
       "    </tr>\n",
       "    <tr>\n",
       "      <th id=\"T_c5b2f_level0_row4\" class=\"row_heading level0 row4\" >weighted avg</th>\n",
       "      <td id=\"T_c5b2f_row4_col0\" class=\"data row4 col0\" >0.739652</td>\n",
       "      <td id=\"T_c5b2f_row4_col1\" class=\"data row4 col1\" >0.746753</td>\n",
       "      <td id=\"T_c5b2f_row4_col2\" class=\"data row4 col2\" >0.735164</td>\n",
       "      <td id=\"T_c5b2f_row4_col3\" class=\"data row4 col3\" >154.000000</td>\n",
       "    </tr>\n",
       "  </tbody>\n",
       "</table>\n"
      ],
      "text/plain": [
       "<pandas.io.formats.style.Styler at 0x16682fa10>"
      ]
     },
     "metadata": {},
     "output_type": "display_data"
    }
   ],
   "source": [
    "print(\"Classification Report:\\n\")\n",
    "report = classification_report(y_test, y_preds, output_dict=True)\n",
    "report_df = pd.DataFrame(report).T\n",
    "display(report_df.style.format(subset=[\"precision\", \"recall\", \"f1-score\"]))"
   ]
  },
  {
   "cell_type": "markdown",
   "metadata": {},
   "source": [
    "### 6.4 Cross-validated metrics"
   ]
  },
  {
   "cell_type": "code",
   "execution_count": 46,
   "metadata": {
    "execution": {
     "iopub.execute_input": "2025-01-07T15:03:02.172529Z",
     "iopub.status.busy": "2025-01-07T15:03:02.172452Z",
     "iopub.status.idle": "2025-01-07T15:03:02.266009Z",
     "shell.execute_reply": "2025-01-07T15:03:02.265760Z"
    }
   },
   "outputs": [
    {
     "data": {
      "image/png": "[encoded data removed]",
      "text/plain": [
       "<Figure size 640x480 with 1 Axes>"
      ]
     },
     "metadata": {},
     "output_type": "display_data"
    }
   ],
   "source": [
    "\n",
    "# clf using the best hyperparameters from GridSearchCV\n",
    "clf = LogisticRegression(C=gs_svc_poly.best_params_['C'], solver=\"liblinear\")\n",
    "\n",
    "# Cross-validated metrics\n",
    "cv_metrics = {\n",
    "    \"Accuracy\": np.mean(cross_val_score(clf, X, y, cv=5, scoring=\"accuracy\")),\n",
    "    \"Precision\": np.mean(cross_val_score(clf, X, y, cv=5, scoring=\"precision\")),\n",
    "    \"Recall\": np.mean(cross_val_score(clf, X, y, cv=5, scoring=\"recall\")),\n",
    "    \"F1\": np.mean(cross_val_score(clf, X, y, cv=5, scoring=\"f1\")),\n",
    "}\n",
    "\n",
    "# Convert metrics to DataFrame\n",
    "cv_metrics_df = pd.DataFrame(cv_metrics, index=[\"Score\"]).T\n",
    "cv_metrics_df.columns = [\"Cross-Validated\"]\n",
    "\n",
    "# Plot metrics\n",
    "cv_metrics_df.plot(kind=\"bar\", legend=False)\n",
    "\n",
    "# Rotate x-axis labels\n",
    "plt.xticks(rotation=90, ha='center')\n",
    "\n",
    "# Set y-axis limits and format y-axis to percentage\n",
    "plt.ylim(0, 1)\n",
    "plt.gca().yaxis.set_major_formatter(FuncFormatter(lambda y, _: f'{y*100:.0f}%'))\n",
    "\n",
    "# Show plot\n",
    "plt.tight_layout()\n",
    "plt.show()"
   ]
  },
  {
   "cell_type": "markdown",
   "metadata": {},
   "source": [
    "# 7. Feature importance"
   ]
  },
  {
   "cell_type": "code",
   "execution_count": 71,
   "metadata": {
    "execution": {
     "iopub.execute_input": "2025-01-07T15:03:02.267246Z",
     "iopub.status.busy": "2025-01-07T15:03:02.267163Z",
     "iopub.status.idle": "2025-01-07T15:03:02.342535Z",
     "shell.execute_reply": "2025-01-07T15:03:02.342269Z"
    }
   },
   "outputs": [
    {
     "name": "stderr",
     "output_type": "stream",
     "text": [
      "/var/folders/ty/pzq_b8jn4k7bxn69m1pm52z00000gn/T/ipykernel_33041/1352098923.py:33: FutureWarning: \n",
      "\n",
      "Passing `palette` without assigning `hue` is deprecated and will be removed in v0.14.0. Assign the `y` variable to `hue` and set `legend=False` for the same effect.\n",
      "\n",
      "  sns.barplot(data=features_df, x=\"Importance\", y=\"Feature\", palette=\"viridis\")\n"
     ]
    },
    {
     "data": {
      "image/png": "[encoded data removed]",
      "text/plain": [
       "<Figure size 1000x600 with 1 Axes>"
      ]
     },
     "metadata": {},
     "output_type": "display_data"
    }
   ],
   "source": [
    "# Create a mapping dictionary for feature name display\n",
    "feature_name_mapping = {\n",
    "    'DiabetesPedigreeFunction': 'Diabetes\\nPedigree',\n",
    "    'BloodPressure': 'Blood\\nPressure',\n",
    "    'SkinThickness': 'Skin\\nThickness'\n",
    "}\n",
    "\n",
    "# Function to map feature names\n",
    "def map_feature_names(feature):\n",
    "    return feature_name_mapping.get(feature, feature)\n",
    "\n",
    "# Extract coefficients and match features to columns\n",
    "features_dict = dict(zip(df.columns, list(clf.coef_[0])))\n",
    "\n",
    "# Convert to DataFrame and sort by importance\n",
    "features_df = pd.DataFrame(features_dict.items(), columns=[\"Feature\", \"Importance\"])\n",
    "features_df = features_df.sort_values(by=\"Importance\", ascending=False)\n",
    "\n",
    "# Map the feature names to their display versions\n",
    "features_df['Feature'] = features_df['Feature'].map(lambda x: map_feature_names(x))\n",
    "\n",
    "# Visualize feature importance (sorted)\n",
    "plt.figure(figsize=(10, 6))\n",
    "ax = plt.gca()\n",
    "ax.spines['top'].set_color('black')\n",
    "ax.spines['right'].set_color('black')\n",
    "ax.spines['left'].set_color('black')\n",
    "ax.spines['bottom'].set_color('black')\n",
    "ax.spines['top'].set_linewidth(1.0)\n",
    "ax.spines['right'].set_linewidth(1.0)\n",
    "ax.spines['left'].set_linewidth(1.0)\n",
    "ax.spines['bottom'].set_linewidth(1.0)\n",
    "sns.barplot(data=features_df, x=\"Importance\", y=\"Feature\", palette=\"viridis\")\n",
    "plt.xlabel(\"Importance\", fontsize=18)\n",
    "plt.ylabel(\"\")\n",
    "plt.xticks(fontsize=18)\n",
    "plt.yticks(fontsize=18)\n",
    "plt.gca().set_facecolor('white')\n",
    "plt.ylabel(\"\")\n",
    "plt.tight_layout()\n",
    "plt.show()"
   ]
  },
  {
   "cell_type": "code",
   "execution_count": null,
   "metadata": {},
   "outputs": [],
   "source": []
  }
 ],
 "metadata": {
  "kernelspec": {
   "display_name": "data_mining",
   "language": "python",
   "name": "python3"
  },
  "language_info": {
   "codemirror_mode": {
    "name": "ipython",
    "version": 3
   },
   "file_extension": ".py",
   "mimetype": "text/x-python",
   "name": "python",
   "nbconvert_exporter": "python",
   "pygments_lexer": "ipython3",
   "version": "3.13.1"
  }
 },
 "nbformat": 4,
 "nbformat_minor": 2
}
